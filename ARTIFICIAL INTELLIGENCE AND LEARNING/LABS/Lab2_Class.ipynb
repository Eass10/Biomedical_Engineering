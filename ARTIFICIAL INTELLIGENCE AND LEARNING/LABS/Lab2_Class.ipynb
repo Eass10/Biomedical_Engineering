{
 "cells": [
  {
   "cell_type": "markdown",
   "metadata": {},
   "source": [
    "# Lab 2\n",
    "# Parametric regression\n",
    "# ---------------------------------------------------"
   ]
  },
  {
   "cell_type": "markdown",
   "metadata": {},
   "source": [
    "<h2>Table of Contents</h2>\n",
    "\n",
    "<div class=\"alert alert-block alert-info\" style=\"margin-top: 20px\">\n",
    "<ol>\n",
    "    <li> Introduction </li>\n",
    "    <li> Cross Validation </li>\n",
    "    <li> Simple Linear Regression </li>\n",
    "    <li> Multiple Linear Regression </li>\n",
    "    <li> Non-Linear Regression </li>\n",
    "    <li> Linear Regression with Regularization </li>\n",
    "    <li> Comparison of the results obtained with the different models </li>\n",
    "</ol>\n",
    "\n",
    "</div>\n",
    "\n",
    "<hr>\n"
   ]
  },
  {
   "cell_type": "markdown",
   "metadata": {},
   "source": [
    "## 1. Introduction\n",
    "\n",
    "Suppose you want to build a parametric regression model on a set of cases, where each case is described in terms of several variables. Without knowing anything else about the data set, give a reasoned justification:\n",
    "\n",
    "a) Explain in your own words what is the main difference between supervised and unsupervised learning methods.  Give an example of the application of each type of method. Describe briefly the input and output variables you would consider in each example.\n",
    "\n",
    "b) Explain in your own words the main difference between a linear and a non-linear model.\n",
    "\n",
    "c)  Explain the concept of overfitting and generalization. If you wish, you can support your answer with an outline or drawing. Explain in your own words how you could get the designed model to generalize well.\n"
   ]
  },
  {
   "cell_type": "markdown",
   "metadata": {},
   "source": [
    "For the development of this second lab, the database \"Pima Indian Diabetes\" already pre-processed will be analyzed, where the rows of the file correspond to the cases and the columns to the variables. Important, you should use the preprocessed dataset.\n",
    "\n",
    "For this practice, the data will be divided into two subsets: training and test. In addition, the validation scheme called k-fold cross validation will be considered."
   ]
  },
  {
   "cell_type": "markdown",
   "metadata": {},
   "source": [
    "#### Note that in this data, the goal is to predict, based on diagnostic measurements, whether a patient has diabetes. However, in this lab, we will deal with a regression task, this is, we will change the output"
   ]
  },
  {
   "cell_type": "code",
   "execution_count": 1,
   "metadata": {},
   "outputs": [],
   "source": [
    "from sklearn.model_selection import cross_val_score\n",
    "from sklearn import model_selection   \n",
    "from sklearn.model_selection import KFold, cross_val_score, train_test_split\n",
    "from sklearn import metrics\n",
    "import pandas as pd\n",
    "import numpy as np\n",
    "import seaborn as sns\n",
    "import matplotlib\n",
    "from matplotlib import pyplot as plt\n",
    "\n",
    "from sklearn import model_selection   \n",
    "from sklearn.linear_model import LinearRegression\n",
    "from sklearn.metrics import r2_score, mean_absolute_error, mean_squared_error"
   ]
  },
  {
   "cell_type": "markdown",
   "metadata": {},
   "source": [
    "## 2. Cross-validation\n",
    "\n",
    "For this practice, the validation scheme called k-fold cross validation will be considered. Remember that in this approach, the available cases are randomly divided into k subsets of the same size called \"folds\".\n",
    "\n",
    "**a) Indicate what a k-fold cross-validation scheme can be used for.**\n",
    "A k-fold cross-validation scheme is a technique used in machine learning and statistics to assess the performance and generalization ability of a predictive model. It is particularly useful for estimating how well a model will perform on unseen data. Here's what a k-fold cross-validation scheme can be used for:\n",
    "\n",
    "1. **Model Evaluation:** It helps in evaluating the performance of a machine learning model by providing multiple estimates of its accuracy or error metrics. This is important because a single train-test split might not be representative of the model's true performance.\n",
    "\n",
    "2. **Hyperparameter Tuning:** Cross-validation can be used to tune hyperparameters of a machine learning model. By running cross-validation with different hyperparameter settings, you can identify the values that lead to the best model performance.\n",
    "\n",
    "3. **Bias-Variance Trade-off:** It allows you to assess the bias and variance of a model. A model with high bias underfits the data, while a model with high variance overfits the data. Cross-validation helps in finding the right balance.\n",
    "\n",
    "4. **Model Selection:** When comparing multiple models, cross-validation helps in selecting the best-performing model. You can train and evaluate multiple models using the same cross-validation procedure and choose the one with the best performance.\n",
    "\n",
    "5. **Avoiding Overfitting:** Cross-validation helps in detecting overfitting. If a model performs well on the training data but poorly on the validation data, it's a sign of overfitting, and cross-validation can help identify this issue.\n",
    "\n",
    "The basic idea behind k-fold cross-validation is to divide the dataset into k equally sized \"folds\" or subsets. The model is trained on k-1 of these folds and tested on the remaining fold. This process is repeated k times, each time using a different fold as the test set. The results are then averaged or aggregated to provide a more robust estimate of the model's performance.\n",
    "\n",
    "Common values for k include 5, 10, or even higher numbers. The choice of k depends on the size of the dataset and the trade-off between computation time and the reliability of the performance estimate.\n",
    "\n",
    "**b) Justify reasonably which models will need to follow a cross-validation scheme.**\n",
    "Cross-validation is a valuable technique for assessing and training machine learning models, but not all models necessarily require it. The decision to use cross-validation should be based on various factors, including the complexity of the model, the amount of available data, and the specific goals of the modeling task. Here are some reasonable justifications for when to use cross-validation:\n",
    "\n",
    "1. **Limited Data:** Cross-validation is particularly important when you have a limited amount of data. With a small dataset, it's easy for a model to overfit (memorize the training data) or underfit (fail to capture patterns). Cross-validation helps mitigate this problem by repeatedly assessing the model's performance on different subsets of the data.\n",
    "\n",
    "2. **Complex Models:** When you're working with complex models, such as deep neural networks, support vector machines with non-linear kernels, or ensemble methods, there's a higher risk of overfitting. Cross-validation can help you understand how well these models generalize to unseen data and whether they need regularization or other adjustments.\n",
    "\n",
    "3. **Hyperparameter Tuning:** Cross-validation is crucial for hyperparameter tuning. Different combinations of hyperparameters can significantly impact a model's performance. By using cross-validation, you can systematically search for the best hyperparameters while ensuring that the chosen values generalize well to different data subsets.\n",
    "\n",
    "4. **Model Comparison:** If you're comparing multiple models or algorithms to determine which one performs the best for your specific problem, cross-validation is essential. It provides a fair and unbiased way to compare models, as it evaluates their performance across multiple data splits.\n",
    "\n",
    "5. **Assessing Model Stability:** Cross-validation can help assess the stability of a model's performance. If a model performs consistently well across different folds, it is more likely to be a robust and reliable choice.\n",
    "\n",
    "6. **Imbalanced Datasets:** When dealing with imbalanced datasets, where one class is significantly more prevalent than others, cross-validation can help ensure that the model performs well on minority classes by evaluating its performance on different subsets of data.\n",
    "\n",
    "7. **Detecting Data Issues:** Cross-validation can reveal potential data issues, such as data leakage, outliers, or data drift, as inconsistent performance across folds may indicate problems with the dataset or the modeling process.\n",
    "\n",
    "8. **Confidence in Results:** Cross-validation provides a more reliable estimate of a model's performance compared to a single train-test split. It can give you greater confidence that the reported performance metrics are representative of the model's true capabilities.\n",
    "\n",
    "In summary, while not all models strictly require cross-validation, it is a valuable tool in many scenarios, especially when dealing with limited data, complex models, or when conducting tasks like hyperparameter tuning and model comparison. It helps ensure that your machine learning models are robust, generalizable, and perform well on unseen data.\n",
    "\n",
    "**c) As discussed in the theoretical classes, it is common in health to have a different number of cases in each class (unbalanced classes). Taking into account the database of this practice, please explain in detail the figure of merit you would consider in order to analyze the results with different parametric schemes.**\n",
    "\n"
   ]
  },
  {
   "cell_type": "code",
   "execution_count": 2,
   "metadata": {},
   "outputs": [],
   "source": [
    "#Load data from csv and store it in a dataframe\n",
    "data = pd.read_csv(\"pima_indian_diabetes_preprocess.csv\") #We can change this database"
   ]
  },
  {
   "cell_type": "code",
   "execution_count": 3,
   "metadata": {},
   "outputs": [],
   "source": [
    "#Define the input and output data\n",
    "#Glucose is the dependent variable in this lab\n",
    "y = data['Glucose']\n",
    "X = data.drop('Glucose', axis=1)"
   ]
  },
  {
   "cell_type": "code",
   "execution_count": 4,
   "metadata": {},
   "outputs": [],
   "source": [
    "X_cols = X.columns"
   ]
  },
  {
   "cell_type": "code",
   "execution_count": 5,
   "metadata": {},
   "outputs": [
    {
     "data": {
      "text/html": [
       "<div>\n",
       "<style scoped>\n",
       "    .dataframe tbody tr th:only-of-type {\n",
       "        vertical-align: middle;\n",
       "    }\n",
       "\n",
       "    .dataframe tbody tr th {\n",
       "        vertical-align: top;\n",
       "    }\n",
       "\n",
       "    .dataframe thead th {\n",
       "        text-align: right;\n",
       "    }\n",
       "</style>\n",
       "<table border=\"1\" class=\"dataframe\">\n",
       "  <thead>\n",
       "    <tr style=\"text-align: right;\">\n",
       "      <th></th>\n",
       "      <th>Pregnancies</th>\n",
       "      <th>BloodPressure</th>\n",
       "      <th>SkinThickness</th>\n",
       "      <th>Insulin</th>\n",
       "      <th>BMI</th>\n",
       "      <th>DiabetesPedigreeFunction</th>\n",
       "      <th>Age</th>\n",
       "      <th>AgeCategory_Adult1</th>\n",
       "      <th>AgeCategory_Adult2</th>\n",
       "      <th>AgeCategory_Elderly</th>\n",
       "      <th>Outcome</th>\n",
       "    </tr>\n",
       "  </thead>\n",
       "  <tbody>\n",
       "    <tr>\n",
       "      <th>0</th>\n",
       "      <td>6</td>\n",
       "      <td>72.0</td>\n",
       "      <td>35.000000</td>\n",
       "      <td>79.799479</td>\n",
       "      <td>33.6</td>\n",
       "      <td>0.627</td>\n",
       "      <td>50</td>\n",
       "      <td>0</td>\n",
       "      <td>1</td>\n",
       "      <td>0</td>\n",
       "      <td>1</td>\n",
       "    </tr>\n",
       "    <tr>\n",
       "      <th>1</th>\n",
       "      <td>1</td>\n",
       "      <td>66.0</td>\n",
       "      <td>29.000000</td>\n",
       "      <td>79.799479</td>\n",
       "      <td>26.6</td>\n",
       "      <td>0.351</td>\n",
       "      <td>31</td>\n",
       "      <td>1</td>\n",
       "      <td>0</td>\n",
       "      <td>0</td>\n",
       "      <td>0</td>\n",
       "    </tr>\n",
       "    <tr>\n",
       "      <th>2</th>\n",
       "      <td>8</td>\n",
       "      <td>64.0</td>\n",
       "      <td>20.536458</td>\n",
       "      <td>79.799479</td>\n",
       "      <td>23.3</td>\n",
       "      <td>0.672</td>\n",
       "      <td>32</td>\n",
       "      <td>1</td>\n",
       "      <td>0</td>\n",
       "      <td>0</td>\n",
       "      <td>1</td>\n",
       "    </tr>\n",
       "    <tr>\n",
       "      <th>3</th>\n",
       "      <td>1</td>\n",
       "      <td>66.0</td>\n",
       "      <td>23.000000</td>\n",
       "      <td>94.000000</td>\n",
       "      <td>28.1</td>\n",
       "      <td>0.167</td>\n",
       "      <td>21</td>\n",
       "      <td>1</td>\n",
       "      <td>0</td>\n",
       "      <td>0</td>\n",
       "      <td>0</td>\n",
       "    </tr>\n",
       "    <tr>\n",
       "      <th>4</th>\n",
       "      <td>0</td>\n",
       "      <td>40.0</td>\n",
       "      <td>35.000000</td>\n",
       "      <td>168.000000</td>\n",
       "      <td>43.1</td>\n",
       "      <td>2.288</td>\n",
       "      <td>33</td>\n",
       "      <td>1</td>\n",
       "      <td>0</td>\n",
       "      <td>0</td>\n",
       "      <td>1</td>\n",
       "    </tr>\n",
       "  </tbody>\n",
       "</table>\n",
       "</div>"
      ],
      "text/plain": [
       "   Pregnancies  BloodPressure  SkinThickness     Insulin   BMI  \\\n",
       "0            6           72.0      35.000000   79.799479  33.6   \n",
       "1            1           66.0      29.000000   79.799479  26.6   \n",
       "2            8           64.0      20.536458   79.799479  23.3   \n",
       "3            1           66.0      23.000000   94.000000  28.1   \n",
       "4            0           40.0      35.000000  168.000000  43.1   \n",
       "\n",
       "   DiabetesPedigreeFunction  Age  AgeCategory_Adult1  AgeCategory_Adult2  \\\n",
       "0                     0.627   50                   0                   1   \n",
       "1                     0.351   31                   1                   0   \n",
       "2                     0.672   32                   1                   0   \n",
       "3                     0.167   21                   1                   0   \n",
       "4                     2.288   33                   1                   0   \n",
       "\n",
       "   AgeCategory_Elderly  Outcome  \n",
       "0                    0        1  \n",
       "1                    0        0  \n",
       "2                    0        1  \n",
       "3                    0        0  \n",
       "4                    0        1  "
      ]
     },
     "execution_count": 5,
     "metadata": {},
     "output_type": "execute_result"
    }
   ],
   "source": [
    "# Show the first rows of the input data\n",
    "X.head()"
   ]
  },
  {
   "cell_type": "code",
   "execution_count": 6,
   "metadata": {},
   "outputs": [
    {
     "data": {
      "text/plain": [
       "0    148.0\n",
       "1     85.0\n",
       "2    183.0\n",
       "3     89.0\n",
       "4    137.0\n",
       "Name: Glucose, dtype: float64"
      ]
     },
     "execution_count": 6,
     "metadata": {},
     "output_type": "execute_result"
    }
   ],
   "source": [
    "# Show the first rows of the output data\n",
    "y.head()"
   ]
  },
  {
   "cell_type": "code",
   "execution_count": 7,
   "metadata": {},
   "outputs": [
    {
     "name": "stdout",
     "output_type": "stream",
     "text": [
      "Tamaños de los subsets:\n",
      "(700, 11)\n",
      "(700,)\n",
      "(300, 11)\n",
      "(300,)\n"
     ]
    }
   ],
   "source": [
    "# Define the Train (70% of the samples) and Test sets (30% of the samples) - tip: train_test_split\n",
    "# Please, use the option random state to obtain always the same results\n",
    "# For more details, check: https://numpy.org/doc/1.16/reference/generated/numpy.random.RandomState.html\n",
    "\n",
    "X_train, X_test, y_train, y_test = train_test_split(X, y, test_size=0.3, random_state=20)\n",
    "\n",
    "print('Tamaños de los subsets:')\n",
    "print(X_train.shape)\n",
    "print(y_train.shape)\n",
    "print(X_test.shape)\n",
    "print(y_test.shape)"
   ]
  },
  {
   "cell_type": "code",
   "execution_count": 8,
   "metadata": {
    "scrolled": true
   },
   "outputs": [
    {
     "data": {
      "text/html": [
       "<div>\n",
       "<style scoped>\n",
       "    .dataframe tbody tr th:only-of-type {\n",
       "        vertical-align: middle;\n",
       "    }\n",
       "\n",
       "    .dataframe tbody tr th {\n",
       "        vertical-align: top;\n",
       "    }\n",
       "\n",
       "    .dataframe thead th {\n",
       "        text-align: right;\n",
       "    }\n",
       "</style>\n",
       "<table border=\"1\" class=\"dataframe\">\n",
       "  <thead>\n",
       "    <tr style=\"text-align: right;\">\n",
       "      <th></th>\n",
       "      <th>Pregnancies</th>\n",
       "      <th>BloodPressure</th>\n",
       "      <th>SkinThickness</th>\n",
       "      <th>Insulin</th>\n",
       "      <th>BMI</th>\n",
       "      <th>DiabetesPedigreeFunction</th>\n",
       "      <th>Age</th>\n",
       "      <th>AgeCategory_Adult1</th>\n",
       "      <th>AgeCategory_Adult2</th>\n",
       "      <th>AgeCategory_Elderly</th>\n",
       "      <th>Outcome</th>\n",
       "    </tr>\n",
       "  </thead>\n",
       "  <tbody>\n",
       "    <tr>\n",
       "      <th>140</th>\n",
       "      <td>3</td>\n",
       "      <td>78.0</td>\n",
       "      <td>20.536458</td>\n",
       "      <td>79.799479</td>\n",
       "      <td>21.1</td>\n",
       "      <td>0.268</td>\n",
       "      <td>55</td>\n",
       "      <td>0</td>\n",
       "      <td>1</td>\n",
       "      <td>0</td>\n",
       "      <td>0</td>\n",
       "    </tr>\n",
       "    <tr>\n",
       "      <th>409</th>\n",
       "      <td>1</td>\n",
       "      <td>68.0</td>\n",
       "      <td>49.000000</td>\n",
       "      <td>579.000000</td>\n",
       "      <td>42.4</td>\n",
       "      <td>0.702</td>\n",
       "      <td>28</td>\n",
       "      <td>1</td>\n",
       "      <td>0</td>\n",
       "      <td>0</td>\n",
       "      <td>1</td>\n",
       "    </tr>\n",
       "    <tr>\n",
       "      <th>63</th>\n",
       "      <td>2</td>\n",
       "      <td>58.0</td>\n",
       "      <td>34.000000</td>\n",
       "      <td>128.000000</td>\n",
       "      <td>25.4</td>\n",
       "      <td>0.699</td>\n",
       "      <td>24</td>\n",
       "      <td>1</td>\n",
       "      <td>0</td>\n",
       "      <td>0</td>\n",
       "      <td>0</td>\n",
       "    </tr>\n",
       "    <tr>\n",
       "      <th>178</th>\n",
       "      <td>5</td>\n",
       "      <td>78.0</td>\n",
       "      <td>20.536458</td>\n",
       "      <td>79.799479</td>\n",
       "      <td>45.0</td>\n",
       "      <td>0.190</td>\n",
       "      <td>47</td>\n",
       "      <td>0</td>\n",
       "      <td>1</td>\n",
       "      <td>0</td>\n",
       "      <td>0</td>\n",
       "    </tr>\n",
       "    <tr>\n",
       "      <th>732</th>\n",
       "      <td>2</td>\n",
       "      <td>88.0</td>\n",
       "      <td>37.000000</td>\n",
       "      <td>120.000000</td>\n",
       "      <td>44.5</td>\n",
       "      <td>0.646</td>\n",
       "      <td>24</td>\n",
       "      <td>1</td>\n",
       "      <td>0</td>\n",
       "      <td>0</td>\n",
       "      <td>1</td>\n",
       "    </tr>\n",
       "  </tbody>\n",
       "</table>\n",
       "</div>"
      ],
      "text/plain": [
       "     Pregnancies  BloodPressure  SkinThickness     Insulin   BMI  \\\n",
       "140            3           78.0      20.536458   79.799479  21.1   \n",
       "409            1           68.0      49.000000  579.000000  42.4   \n",
       "63             2           58.0      34.000000  128.000000  25.4   \n",
       "178            5           78.0      20.536458   79.799479  45.0   \n",
       "732            2           88.0      37.000000  120.000000  44.5   \n",
       "\n",
       "     DiabetesPedigreeFunction  Age  AgeCategory_Adult1  AgeCategory_Adult2  \\\n",
       "140                     0.268   55                   0                   1   \n",
       "409                     0.702   28                   1                   0   \n",
       "63                      0.699   24                   1                   0   \n",
       "178                     0.190   47                   0                   1   \n",
       "732                     0.646   24                   1                   0   \n",
       "\n",
       "     AgeCategory_Elderly  Outcome  \n",
       "140                    0        0  \n",
       "409                    0        1  \n",
       "63                     0        0  \n",
       "178                    0        0  \n",
       "732                    0        1  "
      ]
     },
     "execution_count": 8,
     "metadata": {},
     "output_type": "execute_result"
    }
   ],
   "source": [
    "# Show the first rows of X_train\n",
    "X_train.head()"
   ]
  },
  {
   "cell_type": "code",
   "execution_count": 9,
   "metadata": {
    "scrolled": true
   },
   "outputs": [
    {
     "data": {
      "text/html": [
       "<div>\n",
       "<style scoped>\n",
       "    .dataframe tbody tr th:only-of-type {\n",
       "        vertical-align: middle;\n",
       "    }\n",
       "\n",
       "    .dataframe tbody tr th {\n",
       "        vertical-align: top;\n",
       "    }\n",
       "\n",
       "    .dataframe thead th {\n",
       "        text-align: right;\n",
       "    }\n",
       "</style>\n",
       "<table border=\"1\" class=\"dataframe\">\n",
       "  <thead>\n",
       "    <tr style=\"text-align: right;\">\n",
       "      <th></th>\n",
       "      <th>Pregnancies</th>\n",
       "      <th>BloodPressure</th>\n",
       "      <th>SkinThickness</th>\n",
       "      <th>Insulin</th>\n",
       "      <th>BMI</th>\n",
       "      <th>DiabetesPedigreeFunction</th>\n",
       "      <th>Age</th>\n",
       "      <th>AgeCategory_Adult1</th>\n",
       "      <th>AgeCategory_Adult2</th>\n",
       "      <th>AgeCategory_Elderly</th>\n",
       "      <th>Outcome</th>\n",
       "    </tr>\n",
       "  </thead>\n",
       "  <tbody>\n",
       "    <tr>\n",
       "      <th>890</th>\n",
       "      <td>2</td>\n",
       "      <td>69.669838</td>\n",
       "      <td>35.000000</td>\n",
       "      <td>163.615557</td>\n",
       "      <td>33.149524</td>\n",
       "      <td>0.450356</td>\n",
       "      <td>22</td>\n",
       "      <td>1</td>\n",
       "      <td>0</td>\n",
       "      <td>0</td>\n",
       "      <td>1</td>\n",
       "    </tr>\n",
       "    <tr>\n",
       "      <th>694</th>\n",
       "      <td>2</td>\n",
       "      <td>60.000000</td>\n",
       "      <td>20.536458</td>\n",
       "      <td>79.799479</td>\n",
       "      <td>23.500000</td>\n",
       "      <td>0.191000</td>\n",
       "      <td>25</td>\n",
       "      <td>1</td>\n",
       "      <td>0</td>\n",
       "      <td>0</td>\n",
       "      <td>0</td>\n",
       "    </tr>\n",
       "    <tr>\n",
       "      <th>798</th>\n",
       "      <td>4</td>\n",
       "      <td>75.611207</td>\n",
       "      <td>26.892002</td>\n",
       "      <td>206.719205</td>\n",
       "      <td>43.368884</td>\n",
       "      <td>1.024475</td>\n",
       "      <td>52</td>\n",
       "      <td>0</td>\n",
       "      <td>0</td>\n",
       "      <td>0</td>\n",
       "      <td>1</td>\n",
       "    </tr>\n",
       "    <tr>\n",
       "      <th>147</th>\n",
       "      <td>2</td>\n",
       "      <td>64.000000</td>\n",
       "      <td>35.000000</td>\n",
       "      <td>119.000000</td>\n",
       "      <td>30.500000</td>\n",
       "      <td>1.400000</td>\n",
       "      <td>34</td>\n",
       "      <td>1</td>\n",
       "      <td>0</td>\n",
       "      <td>0</td>\n",
       "      <td>0</td>\n",
       "    </tr>\n",
       "    <tr>\n",
       "      <th>858</th>\n",
       "      <td>8</td>\n",
       "      <td>84.896023</td>\n",
       "      <td>15.575666</td>\n",
       "      <td>79.799479</td>\n",
       "      <td>31.029376</td>\n",
       "      <td>1.121292</td>\n",
       "      <td>48</td>\n",
       "      <td>0</td>\n",
       "      <td>1</td>\n",
       "      <td>0</td>\n",
       "      <td>1</td>\n",
       "    </tr>\n",
       "  </tbody>\n",
       "</table>\n",
       "</div>"
      ],
      "text/plain": [
       "     Pregnancies  BloodPressure  SkinThickness     Insulin        BMI  \\\n",
       "890            2      69.669838      35.000000  163.615557  33.149524   \n",
       "694            2      60.000000      20.536458   79.799479  23.500000   \n",
       "798            4      75.611207      26.892002  206.719205  43.368884   \n",
       "147            2      64.000000      35.000000  119.000000  30.500000   \n",
       "858            8      84.896023      15.575666   79.799479  31.029376   \n",
       "\n",
       "     DiabetesPedigreeFunction  Age  AgeCategory_Adult1  AgeCategory_Adult2  \\\n",
       "890                  0.450356   22                   1                   0   \n",
       "694                  0.191000   25                   1                   0   \n",
       "798                  1.024475   52                   0                   0   \n",
       "147                  1.400000   34                   1                   0   \n",
       "858                  1.121292   48                   0                   1   \n",
       "\n",
       "     AgeCategory_Elderly  Outcome  \n",
       "890                    0        1  \n",
       "694                    0        0  \n",
       "798                    0        1  \n",
       "147                    0        0  \n",
       "858                    0        1  "
      ]
     },
     "execution_count": 9,
     "metadata": {},
     "output_type": "execute_result"
    }
   ],
   "source": [
    "# Show the first rows of X_test\n",
    "X_test.head()"
   ]
  },
  {
   "cell_type": "markdown",
   "metadata": {},
   "source": [
    "#### Define variables for the following figure of merits:  R^2, MAE, MSE and RMSE"
   ]
  },
  {
   "cell_type": "code",
   "execution_count": 10,
   "metadata": {},
   "outputs": [],
   "source": [
    "# Below you can find some examples:\n",
    "r2_results = []\n",
    "mae_results = []\n",
    "mse_results = []\n",
    "rmse_results = []"
   ]
  },
  {
   "cell_type": "markdown",
   "metadata": {},
   "source": [
    "## 3. Simple Linear Regression\n",
    "\n",
    "Linear regression allows us to establish the relationship between the input and the output. This technique is used when the relationship between the variables is linear. \n",
    "\n",
    "Indicate:\n",
    "\n",
    "a) What is the output (dependent) variable that you could consider to address a linear regression problem?\n",
    "\n",
    "b) Indicate whether the performance obtained in the test set change after normalizing the variables.\n",
    "\n"
   ]
  },
  {
   "cell_type": "code",
   "execution_count": 17,
   "metadata": {},
   "outputs": [],
   "source": [
    "# Build a simple linear regression model and show the prediction results in the test sets based on R2, MAE, MSE and RMS\n",
    "\n",
    "def simple_linear_reg(X_train, X_test, feature):\n",
    "    \n",
    "    # Create and fit the linear regression model\n",
    "    model = LinearRegression()\n",
    "    model.fit(np.array(X_train[feature]).reshape(-1,1), y_train)\n",
    "\n",
    "    # Show the coefficient (slope)\n",
    "    coef = model.coef_\n",
    "    \n",
    "    # Show the intercept\n",
    "    inte = model.intercept_\n",
    "\n",
    "    # Predict using the test set\n",
    "    y_pred = model.predict(np.array(X_test[feature]).reshape(-1,1))\n",
    "    \n",
    "    return coef, inte"
   ]
  },
  {
   "cell_type": "code",
   "execution_count": 11,
   "metadata": {},
   "outputs": [
    {
     "name": "stdout",
     "output_type": "stream",
     "text": [
      "Intercept: 102.18290547430928\n",
      "Coefficient (Slope): 0.6788563560609726\n",
      "R-squared (R²): 0.08343594133640131\n",
      "Mean Absolute Error (MAE): 25.161877475207124\n",
      "Mean Squared Error (MSE): 966.4093223206851\n",
      "Root Mean Squared Error (RMSE): 31.08712470333474\n"
     ]
    }
   ],
   "source": [
    "# Simple linear regression - Tip: LinearRegression()\n",
    "# Train the model using the training set, consider the feature 'Age' as the input and the output\n",
    "\n",
    "# Create and fit the linear regression model\n",
    "model = LinearRegression()\n",
    "model.fit(np.array(X_train['Age']).reshape(-1,1), y_train)\n",
    "\n",
    "# Show the intercept\n",
    "intercept = model.intercept_\n",
    "print(\"Intercept:\", intercept)\n",
    "\n",
    "# Show the coefficient (slope)\n",
    "coefficients = model.coef_\n",
    "print(\"Coefficient (Slope):\", coefficients[0])\n",
    "\n",
    "# Predict using the test set\n",
    "y_pred = model.predict(np.array(X_test['Age']).reshape(-1,1))\n",
    "\n",
    "# Compute R-squared (R²)\n",
    "r2 = r2_score(y_test, y_pred)\n",
    "r2_results.append(r2)\n",
    "print(\"R-squared (R²):\", r2)\n",
    "\n",
    "# Compute Mean Absolute Error (MAE)\n",
    "mae = mean_absolute_error(y_test, y_pred)\n",
    "mae_results.append(mae)\n",
    "print(\"Mean Absolute Error (MAE):\", mae)\n",
    "\n",
    "# Compute Mean Squared Error (MSE)\n",
    "mse = mean_squared_error(y_test, y_pred)\n",
    "mse_results.append(mse)\n",
    "print(\"Mean Squared Error (MSE):\", mse)\n",
    "\n",
    "# Compute Root Mean Squared Error (RMSE)\n",
    "rmse = np.sqrt(mse)\n",
    "rmse_results.append(rmse)\n",
    "print(\"Root Mean Squared Error (RMSE):\", rmse)"
   ]
  },
  {
   "cell_type": "code",
   "execution_count": 12,
   "metadata": {},
   "outputs": [
    {
     "data": {
      "image/png": "[encoded data removed]",
      "text/plain": [
       "<Figure size 432x288 with 1 Axes>"
      ]
     },
     "metadata": {
      "needs_background": "light"
     },
     "output_type": "display_data"
    }
   ],
   "source": [
    "# Plot the samples and the predict\n",
    "plt.scatter(X_test['Age'],y_test,color='g')\n",
    "plt.plot(X_test['Age'], y_pred,color='r')\n",
    "plt.xlabel('Age')\n",
    "plt.ylabel(\"Glucose\")\n",
    "plt.show()"
   ]
  },
  {
   "cell_type": "code",
   "execution_count": 13,
   "metadata": {},
   "outputs": [
    {
     "name": "stdout",
     "output_type": "stream",
     "text": [
      "\n",
      "---Sin normalizar---\n",
      "Primeras 10 filas y 5 columnas de cada subset:\n",
      "     Pregnancies  BloodPressure  SkinThickness     Insulin        BMI  \\\n",
      "140            3      78.000000      20.536458   79.799479  21.100000   \n",
      "409            1      68.000000      49.000000  579.000000  42.400000   \n",
      "63             2      58.000000      34.000000  128.000000  25.400000   \n",
      "178            5      78.000000      20.536458   79.799479  45.000000   \n",
      "732            2      88.000000      37.000000  120.000000  44.500000   \n",
      "..           ...            ...            ...         ...        ...   \n",
      "924            0      69.105469      20.536458   79.799479  43.763962   \n",
      "223            7      60.000000      33.000000  190.000000  28.800000   \n",
      "271            2      62.000000      32.000000   56.000000  25.200000   \n",
      "474            4      64.000000      20.536458   79.799479  28.900000   \n",
      "355            9      88.000000      20.536458   79.799479  30.400000   \n",
      "\n",
      "     DiabetesPedigreeFunction  Age  AgeCategory_Adult1  AgeCategory_Adult2  \\\n",
      "140                  0.268000   55                   0                   1   \n",
      "409                  0.702000   28                   1                   0   \n",
      "63                   0.699000   24                   1                   0   \n",
      "178                  0.190000   47                   0                   1   \n",
      "732                  0.646000   24                   1                   0   \n",
      "..                        ...  ...                 ...                 ...   \n",
      "924                  0.473026   28                   1                   0   \n",
      "223                  0.687000   61                   0                   1   \n",
      "271                  0.128000   21                   1                   0   \n",
      "474                  0.126000   24                   1                   0   \n",
      "355                  0.302000   49                   0                   1   \n",
      "\n",
      "     AgeCategory_Elderly  Outcome  \n",
      "140                    0        0  \n",
      "409                    0        1  \n",
      "63                     0        0  \n",
      "178                    0        0  \n",
      "732                    0        1  \n",
      "..                   ...      ...  \n",
      "924                    0        1  \n",
      "223                    0        0  \n",
      "271                    0        0  \n",
      "474                    0        0  \n",
      "355                    0        1  \n",
      "\n",
      "[700 rows x 11 columns]\n",
      "     Pregnancies  BloodPressure  SkinThickness     Insulin        BMI  \\\n",
      "890            2      69.669838      35.000000  163.615557  33.149524   \n",
      "694            2      60.000000      20.536458   79.799479  23.500000   \n",
      "798            4      75.611207      26.892002  206.719205  43.368884   \n",
      "147            2      64.000000      35.000000  119.000000  30.500000   \n",
      "858            8      84.896023      15.575666   79.799479  31.029376   \n",
      "..           ...            ...            ...         ...        ...   \n",
      "257            2      68.000000      22.000000   79.799479  28.700000   \n",
      "591            2      78.000000      50.000000  140.000000  39.400000   \n",
      "377            1      60.000000      37.000000   75.000000  37.200000   \n",
      "938            6      75.875024      31.283665   90.300101  40.812517   \n",
      "57             0      88.000000      60.000000  110.000000  46.800000   \n",
      "\n",
      "     DiabetesPedigreeFunction  Age  AgeCategory_Adult1  AgeCategory_Adult2  \\\n",
      "890                  0.450356   22                   1                   0   \n",
      "694                  0.191000   25                   1                   0   \n",
      "798                  1.024475   52                   0                   0   \n",
      "147                  1.400000   34                   1                   0   \n",
      "858                  1.121292   48                   0                   1   \n",
      "..                        ...  ...                 ...                 ...   \n",
      "257                  0.092000   25                   1                   0   \n",
      "591                  0.175000   24                   1                   0   \n",
      "377                  0.509000   22                   1                   0   \n",
      "938                  0.834882   32                   0                   0   \n",
      "57                   0.962000   31                   1                   0   \n",
      "\n",
      "     AgeCategory_Elderly  Outcome  \n",
      "890                    0        1  \n",
      "694                    0        0  \n",
      "798                    0        1  \n",
      "147                    0        0  \n",
      "858                    0        1  \n",
      "..                   ...      ...  \n",
      "257                    0        0  \n",
      "591                    0        0  \n",
      "377                    0        0  \n",
      "938                    0        1  \n",
      "57                     0        0  \n",
      "\n",
      "[300 rows x 11 columns]\n",
      "\n",
      "---Normalizar---\n",
      "Primeras 10 filas y 5 columnas de cada subset:\n",
      "[[-0.32500623  0.43296156 -0.69269864 ...  1.79356279 -0.12635334\n",
      "  -1.02605357]\n",
      " [-0.92056739 -0.41764058  2.45825871 ... -0.55754948 -0.12635334\n",
      "   0.97460798]\n",
      " [-0.62278681 -1.26824272  0.7977359  ... -0.55754948 -0.12635334\n",
      "  -1.02605357]\n",
      " ...\n",
      " [-0.62278681 -0.92800187  0.57633286 ... -0.55754948 -0.12635334\n",
      "  -1.02605357]\n",
      " [-0.02722565 -0.75788144 -0.69269864 ... -0.55754948 -0.12635334\n",
      "  -1.02605357]\n",
      " [ 1.46167725  1.28356371 -0.69269864 ...  1.79356279 -0.12635334\n",
      "   0.97460798]]\n",
      "[[-0.62278681 -0.27560384  0.90843742 ... -0.55754948 -0.12635334\n",
      "   0.97460798]\n",
      " [-0.62278681 -1.09812229 -0.69269864 ... -0.55754948 -0.12635334\n",
      "  -1.02605357]\n",
      " [-0.02722565  0.22977029  0.01086969 ... -0.55754948 -0.12635334\n",
      "   0.97460798]\n",
      " ...\n",
      " [-0.92056739 -1.09812229  1.12984046 ... -0.55754948 -0.12635334\n",
      "  -1.02605357]\n",
      " [ 0.56833551  0.25221064  0.49703352 ... -0.55754948 -0.12635334\n",
      "   0.97460798]\n",
      " [-1.21834797  1.28356371  3.67597544 ... -0.55754948 -0.12635334\n",
      "  -1.02605357]]\n"
     ]
    }
   ],
   "source": [
    "# Normalize using StandardScaler() - Important, note that you have two sets train and test\n",
    "from sklearn.preprocessing import StandardScaler\n",
    "\n",
    "print('\\n---Sin normalizar---')\n",
    "print('Primeras 10 filas y 5 columnas de cada subset:')\n",
    "print(X_train)\n",
    "\n",
    "print(X_test)\n",
    "\n",
    "# Normalizamos la data\n",
    "scaler = StandardScaler()\n",
    "X_train = scaler.fit_transform(X_train)\n",
    "X_test = scaler.transform(X_test)\n",
    "\n",
    "print('\\n---Normalizar---')\n",
    "print('Primeras 10 filas y 5 columnas de cada subset:')\n",
    "print(X_train)\n",
    "print(X_test)"
   ]
  },
  {
   "cell_type": "code",
   "execution_count": 14,
   "metadata": {},
   "outputs": [],
   "source": [
    "X_train = pd.DataFrame(X_train)\n",
    "X_train.columns = X_cols"
   ]
  },
  {
   "cell_type": "code",
   "execution_count": 15,
   "metadata": {},
   "outputs": [],
   "source": [
    "X_test = pd.DataFrame(X_test)\n",
    "X_test.columns = X_cols"
   ]
  },
  {
   "cell_type": "code",
   "execution_count": 16,
   "metadata": {},
   "outputs": [
    {
     "name": "stdout",
     "output_type": "stream",
     "text": [
      "Intercept: 125.43082628501448\n",
      "Coefficient (Slope): 7.810925950444334\n",
      "R-squared (R²): 0.08343594133640131\n",
      "Mean Absolute Error (MAE): 25.161877475207124\n",
      "Mean Squared Error (MSE): 966.4093223206851\n",
      "Root Mean Squared Error (RMSE): 31.08712470333474\n"
     ]
    }
   ],
   "source": [
    "# Build a simple linear regression model and show the prediction results in the test sets based on R2, MAE, MSE and RMSE\n",
    "# Create and fit the linear regression model\n",
    "model = LinearRegression()\n",
    "model.fit(np.array(X_train['Age']).reshape(-1,1), y_train)\n",
    "\n",
    "# Show the intercept\n",
    "intercept = model.intercept_\n",
    "print(\"Intercept:\", intercept)\n",
    "\n",
    "# Show the coefficient (slope)\n",
    "coefficients = model.coef_\n",
    "print(\"Coefficient (Slope):\", coefficients[0])\n",
    "\n",
    "# Predict using the test set\n",
    "y_pred = model.predict(np.array(X_test['Age']).reshape(-1,1))\n",
    "\n",
    "# Compute R-squared (R²)\n",
    "r2 = r2_score(y_test, y_pred)\n",
    "r2_results.append(r2)\n",
    "print(\"R-squared (R²):\", r2)\n",
    "\n",
    "# Compute Mean Absolute Error (MAE)\n",
    "mae = mean_absolute_error(y_test, y_pred)\n",
    "mae_results.append(mae)\n",
    "print(\"Mean Absolute Error (MAE):\", mae)\n",
    "\n",
    "# Compute Mean Squared Error (MSE)\n",
    "mse = mean_squared_error(y_test, y_pred)\n",
    "mse_results.append(mse)\n",
    "print(\"Mean Squared Error (MSE):\", mse)\n",
    "\n",
    "# Compute Root Mean Squared Error (RMSE)\n",
    "rmse = np.sqrt(mse)\n",
    "rmse_results.append(rmse)\n",
    "print(\"Root Mean Squared Error (RMSE):\", rmse)"
   ]
  },
  {
   "cell_type": "markdown",
   "metadata": {},
   "source": [
    "## 4. Multiple Linear Regresion\n",
    "\n",
    "In this section we will analyze:\n",
    "\n",
    "a) How the value of the estimators, the correlation coefficient and the figure of merit change when we change the number of explanatory variables.\n",
    "\n",
    "b) The most relevant feautures. Explain in detail the process you have followed and justify which features are most relevant in this database.\n",
    "\n",
    "Note: you may have to repeat this section with a different number of variables in order to draw valid conclusions."
   ]
  },
  {
   "cell_type": "code",
   "execution_count": 22,
   "metadata": {},
   "outputs": [],
   "source": [
    "def multiple_linear_reg(X_train, X_test):\n",
    "    \n",
    "    # Create and fit the linear regression model\n",
    "    model = LinearRegression()\n",
    "    model.fit(X_train, y_train)\n",
    "\n",
    "    # Show the coefficient (slope)\n",
    "    coef = model.coef_\n",
    "    \n",
    "    # Show the intercept\n",
    "    inte = model.intercept_\n",
    "\n",
    "    # Predict using the test set\n",
    "    y_pred = model.predict(X_test)\n",
    "    \n",
    "    return coef, inte, y_pred"
   ]
  },
  {
   "cell_type": "code",
   "execution_count": 17,
   "metadata": {},
   "outputs": [],
   "source": [
    "# Build a simple linear regression model and show the prediction results in the test sets based on R2, MAE, MSE and RMS\n",
    "\n",
    "def simple_linear_reg(X_train, X_test, feature):\n",
    "    \n",
    "    # Create and fit the linear regression model\n",
    "    model = LinearRegression()\n",
    "    model.fit(np.array(X_train[feature]).reshape(-1,1), y_train)\n",
    "\n",
    "    # Show the coefficient (slope)\n",
    "    coef = model.coef_\n",
    "    \n",
    "    # Show the intercept\n",
    "    inte = model.intercept_\n",
    "\n",
    "    # Predict using the test set\n",
    "    y_pred = model.predict(np.array(X_test[feature]).reshape(-1,1))\n",
    "    \n",
    "    return coef, inte"
   ]
  },
  {
   "cell_type": "code",
   "execution_count": 18,
   "metadata": {},
   "outputs": [],
   "source": [
    "coef_list = []\n",
    "inte_list = []\n",
    "\n",
    "for col in X_cols:\n",
    "    coef, inte = simple_linear_reg(X_train, X_test, col)\n",
    "    coef_list.append(coef[0])\n",
    "    inte_list.append(inte)"
   ]
  },
  {
   "cell_type": "code",
   "execution_count": 19,
   "metadata": {},
   "outputs": [
    {
     "data": {
      "image/png": "[encoded data removed]",
      "text/plain": [
       "<Figure size 720x432 with 1 Axes>"
      ]
     },
     "metadata": {
      "needs_background": "light"
     },
     "output_type": "display_data"
    }
   ],
   "source": [
    "# Show and plot the values of the coefficients. Comment the results\n",
    "import numpy as np\n",
    "import matplotlib.pyplot as plt\n",
    "\n",
    "# Create a bar plot or scatter plot\n",
    "plt.figure(figsize=(10, 6))  # Optional: Adjust the figure size\n",
    "\n",
    "# Bar plot\n",
    "plt.bar(X_cols, coef_list, color='b', alpha=0.7)\n",
    "plt.xlabel('Features')\n",
    "plt.ylabel('Coefficients')\n",
    "plt.title('Coefficients of Features')\n",
    "plt.xticks(rotation=45)  # Optional: Rotate feature names for better readability\n",
    "plt.grid(axis='y', linestyle='--', alpha=0.5)  # Optional: Add a grid\n",
    "\n",
    "# Scatter plot (alternative)\n",
    "plt.scatter(X_cols, coef_list, color='b', s=100)\n",
    "plt.xlabel('Features')\n",
    "plt.ylabel('Coefficients')\n",
    "plt.title('Coefficients of Features')\n",
    "\n",
    "plt.tight_layout()\n",
    "plt.show()"
   ]
  },
  {
   "cell_type": "code",
   "execution_count": null,
   "metadata": {},
   "outputs": [],
   "source": [
    "print(coef_list)"
   ]
  },
  {
   "cell_type": "markdown",
   "metadata": {},
   "source": [
    "You can explore results when: (1) normalizing data; (2) discarding some features based on their coefficients; (3) using other approaches such stats"
   ]
  },
  {
   "cell_type": "code",
   "execution_count": null,
   "metadata": {},
   "outputs": [],
   "source": []
  },
  {
   "cell_type": "markdown",
   "metadata": {},
   "source": [
    "### Use stastsmodels and compare the results"
   ]
  },
  {
   "cell_type": "code",
   "execution_count": 20,
   "metadata": {},
   "outputs": [],
   "source": [
    "\n",
    "def linear_reg(X_train, X_test, feature):\n",
    "    \n",
    "    # Create and fit the linear regression model\n",
    "    model = LinearRegression()\n",
    "    model.fit(np.array(X_train[feature]).reshape(-1,1), y_train)\n",
    "\n",
    "    # Show the coefficient (slope)\n",
    "    coef = model.coef_\n",
    "    \n",
    "    # Show the intercept\n",
    "    inte = model.intercept_\n",
    "\n",
    "    # Predict using the test set\n",
    "    y_pred = model.predict(np.array(X_test[feature]).reshape(-1,1))\n",
    "    \n",
    "    return coef, inte"
   ]
  },
  {
   "cell_type": "code",
   "execution_count": 21,
   "metadata": {},
   "outputs": [],
   "source": [
    "# Tips:\n",
    "# import statsmodels.api as sm\n",
    "# mod = sm.OLS()\n",
    "# res = mod.fit()\n",
    "# print(res.summary())"
   ]
  },
  {
   "cell_type": "markdown",
   "metadata": {},
   "source": [
    "## 5. Non-linear regression\n",
    "\n",
    "\n",
    "Many of the relationships between variables we study are non-linear. As we have seen in theory, we can highlight the functions logarithmic, inverse, quadratic, cubic, power, exponential, etc.\n",
    "\n",
    "a) Include which non-linear functions best fit the available data.\n",
    "\n",
    "b) Indicate whether the performance obtained in the test set changes after normalizing the variables.\n"
   ]
  },
  {
   "cell_type": "code",
   "execution_count": 23,
   "metadata": {},
   "outputs": [
    {
     "name": "stdout",
     "output_type": "stream",
     "text": [
      "X_train new shape (700, 11)\n",
      "X_test new shape (300, 11)\n",
      "R-squared (R²): 0.37589799662662604\n",
      "Mean Absolute Error (MAE): 20.382019992285215\n",
      "Mean Squared Error (MSE): 658.042379512953\n",
      "Root Mean Squared Error (RMSE): 25.652336726172784\n"
     ]
    }
   ],
   "source": [
    "# Non-linear regression with a defined degree\n",
    "# TIPS:\n",
    "from sklearn.preprocessing import PolynomialFeatures\n",
    "\n",
    "#  (1) poly_reg = PolynomialFeatures(degree=4) # We can change the degree\n",
    "poly_reg = PolynomialFeatures(degree=4)\n",
    "X_train_4 = poly_reg.fit_transform(X_train)\n",
    "X_test_4 = poly_reg.transform(X_test)\n",
    "\n",
    "#  (2) Use fit_transform and transform and then LinearRegression(). Define coefficients, intercept and y_pred\n",
    "coef, inter, y_pred = multiple_linear_reg(X_train, X_test)\n",
    "\n",
    "#  (3) Print the shape of the transformed features\n",
    "print('X_train new shape', X_train.shape)\n",
    "print('X_test new shape', X_test.shape)\n",
    "\n",
    "# Compute R-squared (R²)\n",
    "r2 = r2_score(y_test, y_pred)\n",
    "r2_results.append(r2)\n",
    "print(\"R-squared (R²):\", r2)\n",
    "\n",
    "# Compute Mean Absolute Error (MAE)\n",
    "mae = mean_absolute_error(y_test, y_pred)\n",
    "mae_results.append(mae)\n",
    "print(\"Mean Absolute Error (MAE):\", mae)\n",
    "\n",
    "# Compute Mean Squared Error (MSE)\n",
    "mse = mean_squared_error(y_test, y_pred)\n",
    "mse_results.append(mse)\n",
    "print(\"Mean Squared Error (MSE):\", mse)\n",
    "\n",
    "# Compute Root Mean Squared Error (RMSE)\n",
    "rmse = np.sqrt(mse)\n",
    "rmse_results.append(rmse)\n",
    "print(\"Root Mean Squared Error (RMSE):\", rmse)"
   ]
  },
  {
   "cell_type": "code",
   "execution_count": 22,
   "metadata": {},
   "outputs": [],
   "source": [
    "def multiple_linear_reg(X_train, X_test):\n",
    "    \n",
    "    # Create and fit the linear regression model\n",
    "    model = LinearRegression()\n",
    "    model.fit(X_train, y_train)\n",
    "\n",
    "    # Show the coefficient (slope)\n",
    "    coef = model.coef_\n",
    "    \n",
    "    # Show the intercept\n",
    "    inte = model.intercept_\n",
    "\n",
    "    # Predict using the test set\n",
    "    y_pred = model.predict(X_test)\n",
    "    \n",
    "    return coef, inte, y_pred"
   ]
  },
  {
   "cell_type": "code",
   "execution_count": 24,
   "metadata": {},
   "outputs": [
    {
     "name": "stdout",
     "output_type": "stream",
     "text": [
      "Degree: 1 R²: 0.3418208221484021\n",
      "Degree: 2 R²: -3.994989389209932e+22\n",
      "Degree: 3 R²: -4.1265184307447176e+22\n",
      "Degree: 4 R²: -38083.35691895964\n",
      "Degree: 5 R²: -4055.9136237073812\n"
     ]
    },
    {
     "data": {
      "image/png": "[encoded data removed]",
      "text/plain": [
       "<Figure size 720x360 with 1 Axes>"
      ]
     },
     "metadata": {
      "needs_background": "light"
     },
     "output_type": "display_data"
    }
   ],
   "source": [
    "# Use cross validation for finding the degree, train and predict with the best degree. Compute R2, MAE, MSE, RMSE.\n",
    "# IMPORTANT:  plot the train and the validations curve and analyze them.\n",
    "from sklearn.model_selection import cross_val_score, train_test_split\n",
    "from sklearn.metrics import r2_score, mean_absolute_error, mean_squared_error\n",
    "from sklearn.pipeline import make_pipeline\n",
    "\n",
    "# Define a list of degrees to test\n",
    "degrees = [1, 2, 3, 4, 5]\n",
    "cvr2_scores = []\n",
    "for degree in degrees:\n",
    "    # Create polynomial features\n",
    "    poly_reg = PolynomialFeatures(degree=degree)\n",
    "    X_train_poly = poly_reg.fit_transform(X_train)\n",
    "    X_test_poly = poly_reg.transform(X_test)\n",
    "\n",
    "    # Create a linear regression model\n",
    "    model = LinearRegression()\n",
    "\n",
    "    # Perform cross-validation to find the best model\n",
    "    cv_r2 = np.mean(cross_val_score(model, X_train_poly, y_train, scoring='r2', cv=3))\n",
    "    cvr2_scores.append(cv_r2)\n",
    "    print('Degree:', degree, 'R²:', cv_r2)\n",
    "    \n",
    "# Plotting the training and validation curves for R2\n",
    "plt.figure(figsize=(10, 5))\n",
    "plt.plot(degrees, cvr2_scores, marker='o', label='R2 Score')\n",
    "plt.xlabel('Polynomial Degree')\n",
    "plt.ylabel('R2 Score')\n",
    "plt.title('Training and Validation Curves')\n",
    "plt.legend()\n",
    "plt.grid(True)\n",
    "plt.show()"
   ]
  },
  {
   "cell_type": "code",
   "execution_count": 25,
   "metadata": {},
   "outputs": [
    {
     "name": "stdout",
     "output_type": "stream",
     "text": [
      "Best Degree: 1\n",
      "Best R2 Score: 0.3418208221484021\n"
     ]
    }
   ],
   "source": [
    "# Best degree through cross validation\n",
    "best_degree = degrees[np.argmax(cvr2_scores)]\n",
    "best_model = make_pipeline(PolynomialFeatures(degree=best_degree), LinearRegression())\n",
    "\n",
    "print(\"Best Degree:\", best_degree)\n",
    "print(\"Best R2 Score:\", max(cvr2_scores))"
   ]
  },
  {
   "cell_type": "code",
   "execution_count": 26,
   "metadata": {},
   "outputs": [
    {
     "data": {
      "image/png": "[encoded data removed]",
      "text/plain": [
       "<Figure size 432x288 with 1 Axes>"
      ]
     },
     "metadata": {
      "needs_background": "light"
     },
     "output_type": "display_data"
    }
   ],
   "source": [
    "from sklearn.model_selection import validation_curve\n",
    "from sklearn.pipeline import make_pipeline\n",
    "\n",
    "degrees = np.arange(2, 5)\n",
    "\n",
    "model = make_pipeline(PolynomialFeatures(), LinearRegression())\n",
    "\n",
    "# The parameter to vary is the \"degrees\" on the pipeline step\n",
    "# \"polynomialfeatures\"\n",
    "train_scores, validation_scores = validation_curve(\n",
    "                 model, X_train, y_train,\n",
    "                 param_name='polynomialfeatures__degree',\n",
    "                 param_range=degrees)\n",
    "\n",
    "# Plot the mean train error and validation error across folds\n",
    "plt.figure(figsize=(6, 4))\n",
    "plt.plot(degrees, validation_scores.mean(axis=1), lw=2,\n",
    "         label='Validation', marker='o')\n",
    "plt.plot(degrees, train_scores.mean(axis=1), lw=2, label='Train',marker='*')\n",
    "plt.legend(loc='best')\n",
    "plt.xlabel('Degree')\n",
    "plt.ylabel('Score')\n",
    "plt.title('Validation curve')\n",
    "plt.tight_layout()"
   ]
  },
  {
   "cell_type": "markdown",
   "metadata": {},
   "source": [
    "## 6. Linear regression with regularization"
   ]
  },
  {
   "cell_type": "markdown",
   "metadata": {},
   "source": [
    "a) Indicate whether the performance obtained in the test set changes when changing the regularization considered.\n",
    "\n",
    "b) Justify which features are more relevant for these models"
   ]
  },
  {
   "cell_type": "code",
   "execution_count": 27,
   "metadata": {},
   "outputs": [],
   "source": [
    "from sklearn.model_selection import GridSearchCV\n",
    "from sklearn.linear_model import Ridge"
   ]
  },
  {
   "cell_type": "code",
   "execution_count": 28,
   "metadata": {},
   "outputs": [
    {
     "name": "stdout",
     "output_type": "stream",
     "text": [
      "Best Alpha: 20\n",
      "R-squared (R²): 0.37729844863875495\n",
      "Mean Absolute Error (MAE): 20.379558601447723\n",
      "Mean Squared Error (MSE): 656.5657670850583\n",
      "Root Mean Squared Error (RMSE): 25.623539316126067\n"
     ]
    }
   ],
   "source": [
    "# Use a Ridge Regression\n",
    "\n",
    "ridge = Ridge()\n",
    "\n",
    "# Values for alpha\n",
    "parameters = {\"alpha\":[1e-15, 1e-10, 1e-8, 1e-4, 1e-3, 1e-2, 1, 5, 10, 20,30]}\n",
    "\n",
    "# Use grid search for ridge regression and then train and predict and provide R2, MAE, MSE, RMSE values\n",
    "\n",
    "# Use GridSearchCV to find the best alpha\n",
    "grid_search = GridSearchCV(ridge, parameters, scoring='r2', cv=5)\n",
    "grid_search.fit(X_train, y_train)\n",
    "\n",
    "# Get the best alpha value\n",
    "best_alpha = grid_search.best_params_['alpha']\n",
    "print(\"Best Alpha:\", best_alpha)\n",
    "\n",
    "# Train the Ridge model with the best alpha\n",
    "ridge = Ridge(alpha=best_alpha)\n",
    "ridge.fit(X_train, y_train)\n",
    "y_pred = ridge.predict(X_test)\n",
    "\n",
    "# Compute R-squared (R²)\n",
    "r2 = r2_score(y_test, y_pred)\n",
    "r2_results.append(r2)\n",
    "print(\"R-squared (R²):\", r2)\n",
    "\n",
    "# Compute Mean Absolute Error (MAE)\n",
    "mae = mean_absolute_error(y_test, y_pred)\n",
    "mae_results.append(mae)\n",
    "print(\"Mean Absolute Error (MAE):\", mae)\n",
    "\n",
    "# Compute Mean Squared Error (MSE)\n",
    "mse = mean_squared_error(y_test, y_pred)\n",
    "mse_results.append(mse)\n",
    "print(\"Mean Squared Error (MSE):\", mse)\n",
    "\n",
    "# Compute Root Mean Squared Error (RMSE)\n",
    "rmse = np.sqrt(mse)\n",
    "rmse_results.append(rmse)\n",
    "print(\"Root Mean Squared Error (RMSE):\", rmse)"
   ]
  },
  {
   "cell_type": "code",
   "execution_count": null,
   "metadata": {},
   "outputs": [],
   "source": [
    "# Use cross validation for finding the degree, train and predict with the best degree. Compute R2, MAE, MSE, RMSE.\n",
    "# IMPORTANT:  plot the train and the validations curve and analyze them.\n",
    "from sklearn.model_selection import cross_val_score, train_test_split\n",
    "from sklearn.metrics import r2_score, mean_absolute_error, mean_squared_error\n",
    "from sklearn.pipeline import make_pipeline\n",
    "\n",
    "# Define a list of degrees to test\n",
    "degrees = [1, 2, 3, 4, 5]\n",
    "r2_scores = []\n",
    "for degree in degrees:\n",
    "    print('\\n', degree)\n",
    "    # Create polynomial features\n",
    "    poly_reg = PolynomialFeatures(degree=degree)\n",
    "    X_train_poly = poly_reg.fit_transform(X_train)\n",
    "    X_test_poly = poly_reg.transform(X_test)\n",
    "\n",
    "    # Create a linear regression model\n",
    "    model = LinearRegression()\n",
    "\n",
    "    # Perform cross-validation to find the best model\n",
    "    cv_r2 = np.mean(cross_val_score(model, X_train_poly, y_train, scoring='r2', cv=3))\n",
    "    print(cv_r2)"
   ]
  },
  {
   "cell_type": "code",
   "execution_count": 27,
   "metadata": {},
   "outputs": [
    {
     "name": "stdout",
     "output_type": "stream",
     "text": [
      "\n",
      " 1\n",
      "\n",
      " 2\n",
      "\n",
      " 3\n",
      "\n",
      " 4\n",
      "\n",
      " 5\n"
     ]
    }
   ],
   "source": [
    "# Use cross validation for finding the degree, train and predict with the best degree. Compute R2, MAE, MSE, RMSE.\n",
    "# IMPORTANT:  plot the train and the validations curve and analyze them.\n",
    "from sklearn.model_selection import cross_val_score, train_test_split\n",
    "from sklearn.metrics import r2_score, mean_absolute_error, mean_squared_error\n",
    "from sklearn.pipeline import make_pipeline\n",
    "\n",
    "# Define a list of degrees to test\n",
    "degrees = [1, 2, 3, 4, 5]\n",
    "cvr2_scores = []\n",
    "for degree in degrees:\n",
    "    # Create polynomial features\n",
    "    poly_reg = PolynomialFeatures(degree=degree)\n",
    "    X_train_poly = poly_reg.fit_transform(X_train)\n",
    "    X_test_poly = poly_reg.transform(X_test)\n",
    "\n",
    "    # Create a linear regression model\n",
    "    model = LinearRegression()\n",
    "\n",
    "    # Perform cross-validation to find the best model\n",
    "    cv_r2 = np.mean(cross_val_score(model, X_train_poly, y_train, scoring='r2', cv=3))\n",
    "    cvr2_scores.append(cv_r2)\n",
    "    \n",
    "# Plotting the training and validation curves for R2\n",
    "plt.figure(figsize=(10, 5))\n",
    "plt.plot(degrees, r2_scores, marker='o', label='R2 Score')\n",
    "plt.xlabel('Polynomial Degree')\n",
    "plt.ylabel('R2 Score')\n",
    "plt.title('Training and Validation Curves')\n",
    "plt.legend()\n",
    "plt.grid(True)\n",
    "plt.show()"
   ]
  },
  {
   "cell_type": "markdown",
   "metadata": {},
   "source": [
    "Which is the best value of the regularization parameter?"
   ]
  },
  {
   "cell_type": "code",
   "execution_count": 1,
   "metadata": {},
   "outputs": [
    {
     "ename": "NameError",
     "evalue": "name 'X_train' is not defined",
     "output_type": "error",
     "traceback": [
      "\u001b[1;31m---------------------------------------------------------------------------\u001b[0m",
      "\u001b[1;31mNameError\u001b[0m                                 Traceback (most recent call last)",
      "\u001b[1;32m<ipython-input-1-661ff3a37500>\u001b[0m in \u001b[0;36m<module>\u001b[1;34m\u001b[0m\n\u001b[0;32m      9\u001b[0m \u001b[1;31m# Use GridSearchCV to find the best alpha\u001b[0m\u001b[1;33m\u001b[0m\u001b[1;33m\u001b[0m\u001b[1;33m\u001b[0m\u001b[0m\n\u001b[0;32m     10\u001b[0m \u001b[0mgrid_search\u001b[0m \u001b[1;33m=\u001b[0m \u001b[0mGridSearchCV\u001b[0m\u001b[1;33m(\u001b[0m\u001b[0mlasso_regression\u001b[0m\u001b[1;33m,\u001b[0m \u001b[0mparameters\u001b[0m\u001b[1;33m,\u001b[0m \u001b[0mscoring\u001b[0m\u001b[1;33m=\u001b[0m\u001b[1;34m'neg_mean_squared_error'\u001b[0m\u001b[1;33m,\u001b[0m \u001b[0mcv\u001b[0m\u001b[1;33m=\u001b[0m\u001b[1;36m5\u001b[0m\u001b[1;33m)\u001b[0m\u001b[1;33m\u001b[0m\u001b[1;33m\u001b[0m\u001b[0m\n\u001b[1;32m---> 11\u001b[1;33m \u001b[0mgrid_search\u001b[0m\u001b[1;33m.\u001b[0m\u001b[0mfit\u001b[0m\u001b[1;33m(\u001b[0m\u001b[0mX_train\u001b[0m\u001b[1;33m,\u001b[0m \u001b[0my_train\u001b[0m\u001b[1;33m)\u001b[0m\u001b[1;33m\u001b[0m\u001b[1;33m\u001b[0m\u001b[0m\n\u001b[0m\u001b[0;32m     12\u001b[0m \u001b[1;33m\u001b[0m\u001b[0m\n\u001b[0;32m     13\u001b[0m \u001b[1;31m# Get the best alpha value\u001b[0m\u001b[1;33m\u001b[0m\u001b[1;33m\u001b[0m\u001b[1;33m\u001b[0m\u001b[0m\n",
      "\u001b[1;31mNameError\u001b[0m: name 'X_train' is not defined"
     ]
    }
   ],
   "source": [
    "# Use a Lasso Regression\n",
    "from sklearn.model_selection import GridSearchCV\n",
    "from sklearn.linear_model import Lasso\n",
    "lasso_regression = Lasso()\n",
    "\n",
    "# Values for alpha\n",
    "parameters = {\"alpha\":[1e-4, 1e-2, 1, 5, 10, 20]}\n",
    "\n",
    "# Use GridSearchCV to find the best alpha\n",
    "grid_search = GridSearchCV(lasso_regression, parameters, scoring='neg_mean_squared_error', cv=5)\n",
    "grid_search.fit(X_train, y_train)\n",
    "\n",
    "# Get the best alpha value\n",
    "best_alpha = grid_search.best_params_['alpha']\n",
    "print(\"Best Alpha:\", best_alpha)\n",
    "\n",
    "# Train the Lasso model with the best alpha\n",
    "lasso_regression = Lasso(alpha=best_alpha)\n",
    "lasso_regression.fit(X_train, y_train)\n",
    "y_pred = lasso_regression.predict(X_test)\n",
    "\n",
    "# Compute R-squared (R²)\n",
    "r2 = r2_score(y_test, y_pred)\n",
    "r2_results.append(r2)\n",
    "print(\"R-squared (R²):\", r2)\n",
    "\n",
    "# Compute Mean Absolute Error (MAE)\n",
    "mae = mean_absolute_error(y_test, y_pred)\n",
    "mae_results.append(mae)\n",
    "print(\"Mean Absolute Error (MAE):\", mae)\n",
    "\n",
    "# Compute Mean Squared Error (MSE)\n",
    "mse = mean_squared_error(y_test, y_pred)\n",
    "mse_results.append(mse)\n",
    "print(\"Mean Squared Error (MSE):\", mse)\n",
    "\n",
    "# Compute Root Mean Squared Error (RMSE)\n",
    "rmse = np.sqrt(mse)\n",
    "rmse_results.append(rmse)\n",
    "print(\"Root Mean Squared Error (RMSE):\", rmse)"
   ]
  },
  {
   "cell_type": "code",
   "execution_count": null,
   "metadata": {},
   "outputs": [],
   "source": []
  },
  {
   "cell_type": "markdown",
   "metadata": {},
   "source": [
    "Which is the best value of the regularization parameter?"
   ]
  },
  {
   "cell_type": "markdown",
   "metadata": {},
   "source": [
    "## 7. Comparison of the results obtained with the different models\n"
   ]
  },
  {
   "cell_type": "markdown",
   "metadata": {},
   "source": [
    "Provide in a table the performance measures  obtained both in the validation and test set  by the different models designed.\n",
    "\n",
    "In view of the results obtained, please answer, if possible, the following questions:\n",
    "\n",
    "a) Justify whether the fact of normalizing the feature's values influence the results obtained.\n",
    "\n",
    "b) Reasonably justify whether you would use a linear or non-linear parametric scheme. Indicate and justify the scheme that provides the best performance in the set of tests.\n",
    "\n",
    "c) Indicate and justifiy which are the most relevant feautures as well as the procedure to identify them.\n",
    "\n",
    "d) Indicate and justify  whether the fact of making a single partition of the cases in the training and test sets can influence the results obtained. Starting from the original data, make a new partition of the cases in the training and test sets. Select one of the analyzed models (indicate the chosen models) and obtain again the figures of merti. Comment the obtained results. "
   ]
  },
  {
   "cell_type": "code",
   "execution_count": 32,
   "metadata": {},
   "outputs": [],
   "source": [
    "# Tips, you should provide a table similar as the one provided here\n",
    "\n",
    "results = pd.DataFrame()\n",
    "\n",
    "results[\"R2 in the test set\"] = r2_results\n",
    "results[\"MAE in the test set\"] = mae_results\n",
    "results[\"MSE in the test set\"] = mse_results\n",
    "results[\"RMSE in the test set\"] = rmse_results\n",
    "\n",
    "#results\n",
    "results[\"Models\"] = [\"Linear Regression (LR) \", \"LR Normalized\", \"Non-LR Normalized\", \"Rigde\", \"Lasso\"]\n",
    "results.set_index(\"Models\", inplace = True)\n"
   ]
  },
  {
   "cell_type": "code",
   "execution_count": 33,
   "metadata": {},
   "outputs": [
    {
     "data": {
      "text/html": [
       "<div>\n",
       "<style scoped>\n",
       "    .dataframe tbody tr th:only-of-type {\n",
       "        vertical-align: middle;\n",
       "    }\n",
       "\n",
       "    .dataframe tbody tr th {\n",
       "        vertical-align: top;\n",
       "    }\n",
       "\n",
       "    .dataframe thead th {\n",
       "        text-align: right;\n",
       "    }\n",
       "</style>\n",
       "<table border=\"1\" class=\"dataframe\">\n",
       "  <thead>\n",
       "    <tr style=\"text-align: right;\">\n",
       "      <th></th>\n",
       "      <th>R2 in the test set</th>\n",
       "      <th>MAE in the test set</th>\n",
       "      <th>MSE in the test set</th>\n",
       "      <th>RMSE in the test set</th>\n",
       "    </tr>\n",
       "    <tr>\n",
       "      <th>Models</th>\n",
       "      <th></th>\n",
       "      <th></th>\n",
       "      <th></th>\n",
       "      <th></th>\n",
       "    </tr>\n",
       "  </thead>\n",
       "  <tbody>\n",
       "    <tr>\n",
       "      <th>Linear Regression (LR)</th>\n",
       "      <td>0.083436</td>\n",
       "      <td>25.161877</td>\n",
       "      <td>966.409322</td>\n",
       "      <td>31.087125</td>\n",
       "    </tr>\n",
       "    <tr>\n",
       "      <th>LR Normalized</th>\n",
       "      <td>0.083436</td>\n",
       "      <td>25.161877</td>\n",
       "      <td>966.409322</td>\n",
       "      <td>31.087125</td>\n",
       "    </tr>\n",
       "    <tr>\n",
       "      <th>Non-LR Normalized</th>\n",
       "      <td>0.375898</td>\n",
       "      <td>20.382020</td>\n",
       "      <td>658.042380</td>\n",
       "      <td>25.652337</td>\n",
       "    </tr>\n",
       "    <tr>\n",
       "      <th>Rigde</th>\n",
       "      <td>0.377298</td>\n",
       "      <td>20.379559</td>\n",
       "      <td>656.565767</td>\n",
       "      <td>25.623539</td>\n",
       "    </tr>\n",
       "    <tr>\n",
       "      <th>Lasso</th>\n",
       "      <td>0.384853</td>\n",
       "      <td>20.360950</td>\n",
       "      <td>648.600232</td>\n",
       "      <td>25.467631</td>\n",
       "    </tr>\n",
       "  </tbody>\n",
       "</table>\n",
       "</div>"
      ],
      "text/plain": [
       "                         R2 in the test set  MAE in the test set  \\\n",
       "Models                                                             \n",
       "Linear Regression (LR)             0.083436            25.161877   \n",
       "LR Normalized                      0.083436            25.161877   \n",
       "Non-LR Normalized                  0.375898            20.382020   \n",
       "Rigde                              0.377298            20.379559   \n",
       "Lasso                              0.384853            20.360950   \n",
       "\n",
       "                         MSE in the test set  RMSE in the test set  \n",
       "Models                                                              \n",
       "Linear Regression (LR)            966.409322             31.087125  \n",
       "LR Normalized                     966.409322             31.087125  \n",
       "Non-LR Normalized                 658.042380             25.652337  \n",
       "Rigde                             656.565767             25.623539  \n",
       "Lasso                             648.600232             25.467631  "
      ]
     },
     "execution_count": 33,
     "metadata": {},
     "output_type": "execute_result"
    }
   ],
   "source": [
    "results"
   ]
  },
  {
   "cell_type": "code",
   "execution_count": null,
   "metadata": {},
   "outputs": [],
   "source": []
  },
  {
   "cell_type": "code",
   "execution_count": 31,
   "metadata": {},
   "outputs": [
    {
     "data": {
      "text/plain": [
       "[0.08343594133640131,\n",
       " 0.08343594133640131,\n",
       " 0.37589799662662604,\n",
       " 0.37729844863875495,\n",
       " 0.38485313921102915]"
      ]
     },
     "execution_count": 31,
     "metadata": {},
     "output_type": "execute_result"
    }
   ],
   "source": [
    "r2_results"
   ]
  },
  {
   "cell_type": "code",
   "execution_count": null,
   "metadata": {},
   "outputs": [],
   "source": []
  }
 ],
 "metadata": {
  "kernelspec": {
   "display_name": "Python 3",
   "language": "python",
   "name": "python3"
  },
  "language_info": {
   "codemirror_mode": {
    "name": "ipython",
    "version": 3
   },
   "file_extension": ".py",
   "mimetype": "text/x-python",
   "name": "python",
   "nbconvert_exporter": "python",
   "pygments_lexer": "ipython3",
   "version": "3.8.8"
  }
 },
 "nbformat": 4,
 "nbformat_minor": 2
}
