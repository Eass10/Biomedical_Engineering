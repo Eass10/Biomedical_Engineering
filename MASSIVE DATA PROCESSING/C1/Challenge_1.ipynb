{
 "cells": [
  {
   "cell_type": "markdown",
   "metadata": {
    "nteract": {
     "transient": {
      "deleting": false
     }
    }
   },
   "source": [
    "# Challenge 1: Distributed Computing on Cloud\n",
    "- Enrique Almazán Sánchez\n",
    "- Victor Miguel Álvarez Camarero\n",
    "- Javier Villoldo Fernández\n",
    "\n",
    "Distributed computing on cloud has revolutionized the way we handle large-scale data processing tasks, offering unparalleled scalability and efficiency. In this practice, we delve into the realm of Azure cloud computing, leveraging its robust infrastructure to tackle tasks related to genomic data analysis. Our primary focus is on processing a Variant Call Format (VCF) file with parquet, a common format for storing large datasets efficiently. By harnessing the power of distributed computing, we aim to analyze vast genomic datasets swiftly and accurately. \n",
    "\n",
    "One of the key objectives is to identify the most common variants associated with a particular disease, such as Parkinson's disease. Additionally, we explore the  integration of regression analysis and machine learning algorithms to glean insights and patterns from the data, further enhancing our understanding of genetic factors underlying diseases. Through this practice, we embark on a journey to unlock the potential of cloud-based distributed computing for genomic research and medical insights.\n",
    "\n",
    "## Imports\r\n"
   ]
  },
  {
   "cell_type": "code",
   "execution_count": 16,
   "metadata": {
    "collapsed": false,
    "jupyter": {
     "outputs_hidden": false,
     "source_hidden": false
    },
    "nteract": {
     "transient": {
      "deleting": false
     }
    }
   },
   "outputs": [
    {
     "data": {
      "application/vnd.livy.statement-meta+json": {
       "execution_finish_time": "2024-04-18T22:46:39.6441767Z",
       "execution_start_time": "2024-04-18T22:46:39.5034237Z",
       "livy_statement_state": "available",
       "parent_msg_id": "f4a66b21-3102-4bb6-84f0-24fbb15392c1",
       "queued_time": "2024-04-18T22:46:39.3969913Z",
       "session_id": "2",
       "session_start_time": null,
       "spark_jobs": null,
       "spark_pool": "enrique",
       "state": "finished",
       "statement_id": 17
      },
      "text/plain": [
       "StatementMeta(enrique, 2, 17, Finished, Available)"
      ]
     },
     "metadata": {},
     "output_type": "display_data"
    }
   ],
   "source": [
    "from pyspark.sql import SparkSession\r\n",
    "from pyspark.sql.functions import split, col, udf, desc, count, expr, when, array_contains\r\n",
    "from pyspark.sql.types import StringType"
   ]
  },
  {
   "cell_type": "markdown",
   "metadata": {
    "nteract": {
     "transient": {
      "deleting": false
     }
    }
   },
   "source": [
    "## 1. Download the data\n",
    "\n",
    "In the initial phase of our analysis, we embark on acquiring the necessary data for our genomic research endeavors. Leveraging the capabilities of Azure Synapse Analytics, we access the dataset residing in the cloud storage container 'blob1' within the Azure Data Lake Storage Gen2 account named 'massivelabpractices'. Using the Azure Blob FileSystem (ABFSS) protocol, we retrieve the dataset effortlessly through the specified path as a DataFrame. \n",
    "\n",
    "This Parquet-compressed file encapsulates the genomic data in a structured and efficient manner, facilitating seamless data ingestion and processing within our Spark environment. With this crucial step, we lay the foundation for our subsequent analyses, paving the way for insightful discoveries and advancements in genomic research within the Azure Synapse Analytics ecosystem."
   ]
  },
  {
   "cell_type": "code",
   "execution_count": 17,
   "metadata": {},
   "outputs": [
    {
     "data": {
      "application/vnd.livy.statement-meta+json": {
       "execution_finish_time": "2024-04-18T22:46:41.3624039Z",
       "execution_start_time": "2024-04-18T22:46:40.8522466Z",
       "livy_statement_state": "available",
       "parent_msg_id": "2aa41b2d-5dea-4c94-8079-5cb51c0b9a25",
       "queued_time": "2024-04-18T22:46:40.7306229Z",
       "session_id": "2",
       "session_start_time": null,
       "spark_jobs": null,
       "spark_pool": "enrique",
       "state": "finished",
       "statement_id": 18
      },
      "text/plain": [
       "StatementMeta(enrique, 2, 18, Finished, Available)"
      ]
     },
     "metadata": {},
     "output_type": "display_data"
    }
   ],
   "source": [
    "df = spark.read.parquet('abfss://blob1@massivelabpractices.dfs.core.windows.net/part-00000-bf776855-7d75-4bbf-9448-deabb543dd3a-c000.snappy.parquet')"
   ]
  },
  {
   "cell_type": "markdown",
   "metadata": {
    "nteract": {
     "transient": {
      "deleting": false
     }
    }
   },
   "source": [
    "## 2. Information about the data\n",
    "\n",
    "The data's structure, types, and metadata is also examined. The data types, as well as the dataframe it self are displayed to visually grasp its contents. Furthermore, we conduct a count to quantify the dataset's instances, providing insights into the abundance of genomic codes. This analysis lays the groundwork for deeper exploration and understanding of the genomic data."
   ]
  },
  {
   "cell_type": "code",
   "execution_count": 18,
   "metadata": {
    "collapsed": false,
    "jupyter": {
     "outputs_hidden": false,
     "source_hidden": false
    },
    "nteract": {
     "transient": {
      "deleting": false
     }
    }
   },
   "outputs": [
    {
     "data": {
      "application/vnd.livy.statement-meta+json": {
       "execution_finish_time": "2024-04-18T22:46:41.6286484Z",
       "execution_start_time": "2024-04-18T22:46:41.4826696Z",
       "livy_statement_state": "available",
       "parent_msg_id": "51df6fec-9f2e-4122-968a-86249a98dcdc",
       "queued_time": "2024-04-18T22:46:40.7319467Z",
       "session_id": "2",
       "session_start_time": null,
       "spark_jobs": null,
       "spark_pool": "enrique",
       "state": "finished",
       "statement_id": 19
      },
      "text/plain": [
       "StatementMeta(enrique, 2, 19, Finished, Available)"
      ]
     },
     "metadata": {},
     "output_type": "display_data"
    },
    {
     "data": {
      "text/plain": [
       "[('CHROM', 'string'),\n",
       " ('POS', 'string'),\n",
       " ('ID', 'string'),\n",
       " ('REF', 'string'),\n",
       " ('ALT', 'string'),\n",
       " ('QUAL', 'string'),\n",
       " ('FILTER', 'string'),\n",
       " ('INFO', 'string')]"
      ]
     },
     "execution_count": 39,
     "metadata": {},
     "output_type": "execute_result"
    }
   ],
   "source": [
    "# Data types of each column\n",
    "df.dtypes"
   ]
  },
  {
   "cell_type": "code",
   "execution_count": 19,
   "metadata": {
    "collapsed": false,
    "jupyter": {
     "outputs_hidden": false,
     "source_hidden": false
    },
    "nteract": {
     "transient": {
      "deleting": false
     }
    }
   },
   "outputs": [
    {
     "data": {
      "application/vnd.livy.statement-meta+json": {
       "execution_finish_time": "2024-04-18T22:46:45.6839783Z",
       "execution_start_time": "2024-04-18T22:46:41.7409818Z",
       "livy_statement_state": "available",
       "parent_msg_id": "dbf0ea17-2a28-4fc6-a364-f2a1a1bd649a",
       "queued_time": "2024-04-18T22:46:40.7655072Z",
       "session_id": "2",
       "session_start_time": null,
       "spark_jobs": null,
       "spark_pool": "enrique",
       "state": "finished",
       "statement_id": 20
      },
      "text/plain": [
       "StatementMeta(enrique, 2, 20, Finished, Available)"
      ]
     },
     "metadata": {},
     "output_type": "display_data"
    },
    {
     "data": {
      "application/vnd.synapse.widget-view+json": {
       "widget_id": "ea8b0e9b-7f2c-46d2-b894-b49e7848d7ae",
       "widget_type": "Synapse.DataFrame"
      },
      "text/plain": [
       "SynapseWidget(Synapse.DataFrame, ea8b0e9b-7f2c-46d2-b894-b49e7848d7ae)"
      ]
     },
     "metadata": {},
     "output_type": "display_data"
    }
   ],
   "source": [
    "# Dataframe structure\n",
    "display(df)"
   ]
  },
  {
   "cell_type": "code",
   "execution_count": 20,
   "metadata": {
    "collapsed": false,
    "jupyter": {
     "outputs_hidden": false,
     "source_hidden": false
    },
    "nteract": {
     "transient": {
      "deleting": false
     }
    }
   },
   "outputs": [
    {
     "data": {
      "application/vnd.livy.statement-meta+json": {
       "execution_finish_time": "2024-04-18T22:46:54.3952477Z",
       "execution_start_time": "2024-04-18T22:46:45.7938643Z",
       "livy_statement_state": "available",
       "parent_msg_id": "e286f635-b939-4775-8742-1cc36c8fc85f",
       "queued_time": "2024-04-18T22:46:40.7663301Z",
       "session_id": "2",
       "session_start_time": null,
       "spark_jobs": null,
       "spark_pool": "enrique",
       "state": "finished",
       "statement_id": 21
      },
      "text/plain": [
       "StatementMeta(enrique, 2, 21, Finished, Available)"
      ]
     },
     "metadata": {},
     "output_type": "display_data"
    },
    {
     "data": {
      "text/plain": [
       "1168603000"
      ]
     },
     "execution_count": 43,
     "metadata": {},
     "output_type": "execute_result"
    }
   ],
   "source": [
    "# Genetic code count\n",
    "df.count()"
   ]
  },
  {
   "cell_type": "markdown",
   "metadata": {
    "nteract": {
     "transient": {
      "deleting": false
     }
    }
   },
   "source": [
    "## 3. Preprocessing of the data\n",
    "\n",
    "In this section, we preprocess the data from the INFO column of the VCF file to extract variant information related to the specified disease, Parkinson. The INFO column contains semi-structured metadata about each variant, including the CLNDN field, which holds variant-related description, including its name. To facilitate analysis, we define a user-defined function (UDFs) in PySpark, serving as essential preprocessing steps to extract meaningful variant information for subsequent analysis.\n",
    "\n",
    "The `extract_field` function, isolates the CLNDN field from the INFO column. It parses each INFO entry, searching for the CLNDN field and extracting its corresponding valulysis."
   ]
  },
  {
   "cell_type": "code",
   "execution_count": 21,
   "metadata": {
    "collapsed": false,
    "jupyter": {
     "outputs_hidden": false,
     "source_hidden": false
    },
    "nteract": {
     "transient": {
      "deleting": false
     }
    }
   },
   "outputs": [
    {
     "data": {
      "application/vnd.livy.statement-meta+json": {
       "execution_finish_time": "2024-04-18T22:46:54.6603354Z",
       "execution_start_time": "2024-04-18T22:46:54.5057813Z",
       "livy_statement_state": "available",
       "parent_msg_id": "83c706de-8963-44a1-b7c6-4851fe7cea03",
       "queued_time": "2024-04-18T22:46:42.038069Z",
       "session_id": "2",
       "session_start_time": null,
       "spark_jobs": null,
       "spark_pool": "enrique",
       "state": "finished",
       "statement_id": 22
      },
      "text/plain": [
       "StatementMeta(enrique, 2, 22, Finished, Available)"
      ]
     },
     "metadata": {},
     "output_type": "display_data"
    }
   ],
   "source": [
    "# Define a UDF to extract the value of the interest field\n",
    "@udf(StringType())\n",
    "def extract_field(info):\n",
    "    \"\"\"\n",
    "    Extracts the value of the CLNDN field from the INFO column.\n",
    "\n",
    "    Args:\n",
    "        info (str): The value of the INFO column.\n",
    "\n",
    "    Output:\n",
    "        str: The value of the CLNDN field.\n",
    "    \"\"\"\n",
    "\n",
    "    # The specific field to focus on is defined\n",
    "    field = \"CLNDN\"\n",
    "\n",
    "    # The field inside the 'INFO' column are split\n",
    "    fields = info.split(';')\n",
    "\n",
    "    # Iterating over each of the fields inside the 'INFO' column\n",
    "    for f in fields:\n",
    "\n",
    "        # If the CLNDN field is found then it is returned\n",
    "        if field in f:\n",
    "            return f.split('=')[1]"
   ]
  },
  {
   "cell_type": "markdown",
   "metadata": {},
   "source": [
    "### STEP 1: Dataset filtering\n",
    "\n",
    "Filtering the DataFrame to only include rows where the value in the \"INFO\" column contains the string \"parkinson\". It uses the `filter` function along with the `contains` method applied to the \"INFO\" column. The `contains` method checks if the specified substring \"parkinson\" is present in each value of the \"INFO\" column. The resulting DataFrame will contain only those rows where the \"INFO\" column meets this condition."
   ]
  },
  {
   "cell_type": "code",
   "execution_count": 22,
   "metadata": {
    "collapsed": false,
    "jupyter": {
     "outputs_hidden": false,
     "source_hidden": false
    },
    "nteract": {
     "transient": {
      "deleting": false
     }
    }
   },
   "outputs": [
    {
     "data": {
      "application/vnd.livy.statement-meta+json": {
       "execution_finish_time": "2024-04-18T22:47:43.3201212Z",
       "execution_start_time": "2024-04-18T22:47:43.1709969Z",
       "livy_statement_state": "available",
       "parent_msg_id": "22ec3aba-6a50-4a6a-9b4c-8c187995ea4d",
       "queued_time": "2024-04-18T22:47:43.0442864Z",
       "session_id": "2",
       "session_start_time": null,
       "spark_jobs": null,
       "spark_pool": "enrique",
       "state": "finished",
       "statement_id": 23
      },
      "text/plain": [
       "StatementMeta(enrique, 2, 23, Finished, Available)"
      ]
     },
     "metadata": {},
     "output_type": "display_data"
    }
   ],
   "source": [
    "# Dataset filtering, obtaining those rows that contain parkinson in the 'INFO' column\n",
    "d_df = df.filter(col(\"INFO\").contains(\"parkinson\"))"
   ]
  },
  {
   "cell_type": "markdown",
   "metadata": {},
   "source": [
    "### STEP 2: Adding CLNDN column\n",
    "\n",
    "Creating a new column called \"CLNDN\" in the DataFram which vaalue  are obtained by applying th extract_fieldd function to the \"INFO\" columf. The extract_fiel  function extracts a specific field (\"CLNDN\") from the information contained in the \"INFO\" colum.."
   ]
  },
  {
   "cell_type": "code",
   "execution_count": 23,
   "metadata": {
    "collapsed": false,
    "jupyter": {
     "outputs_hidden": false,
     "source_hidden": false
    },
    "nteract": {
     "transient": {
      "deleting": false
     }
    }
   },
   "outputs": [
    {
     "data": {
      "application/vnd.livy.statement-meta+json": {
       "execution_finish_time": "2024-04-18T22:47:44.621948Z",
       "execution_start_time": "2024-04-18T22:47:44.4668664Z",
       "livy_statement_state": "available",
       "parent_msg_id": "0446c393-f32d-4db8-88fa-df42f5c9a7b1",
       "queued_time": "2024-04-18T22:47:44.3705692Z",
       "session_id": "2",
       "session_start_time": null,
       "spark_jobs": null,
       "spark_pool": "enrique",
       "state": "finished",
       "statement_id": 24
      },
      "text/plain": [
       "StatementMeta(enrique, 2, 24, Finished, Available)"
      ]
     },
     "metadata": {},
     "output_type": "display_data"
    }
   ],
   "source": [
    "# Adding a new column, with the CLNDN information stored in the 'INFO' column\n",
    "d_df = d_df.withColumn(\"CLNDN\", extract_field(d_df[\"INFO\"]))"
   ]
  },
  {
   "cell_type": "markdown",
   "metadata": {},
   "source": [
    "### STEP 3: Showing some information about the new DataFrame\n",
    "\n",
    "Different information of the new DataFrame can be shown, such as the count of variants, its names or even displaying it."
   ]
  },
  {
   "cell_type": "code",
   "execution_count": 24,
   "metadata": {
    "collapsed": false,
    "jupyter": {
     "outputs_hidden": false,
     "source_hidden": false
    },
    "nteract": {
     "transient": {
      "deleting": false
     }
    }
   },
   "outputs": [
    {
     "data": {
      "application/vnd.livy.statement-meta+json": {
       "execution_finish_time": "2024-04-18T22:52:56.5012747Z",
       "execution_start_time": "2024-04-18T22:47:45.6237831Z",
       "livy_statement_state": "available",
       "parent_msg_id": "591d1b40-5b13-4a20-bc7d-29c9963cb735",
       "queued_time": "2024-04-18T22:47:45.5254652Z",
       "session_id": "2",
       "session_start_time": null,
       "spark_jobs": null,
       "spark_pool": "enrique",
       "state": "finished",
       "statement_id": 25
      },
      "text/plain": [
       "StatementMeta(enrique, 2, 25, Finished, Available)"
      ]
     },
     "metadata": {},
     "output_type": "display_data"
    },
    {
     "data": {
      "application/vnd.synapse.widget-view+json": {
       "widget_id": "e0064f0b-d31c-4f9a-b3f7-7699c1aad683",
       "widget_type": "Synapse.DataFrame"
      },
      "text/plain": [
       "SynapseWidget(Synapse.DataFrame, e0064f0b-d31c-4f9a-b3f7-7699c1aad683)"
      ]
     },
     "metadata": {},
     "output_type": "display_data"
    }
   ],
   "source": [
    "# The new dataset can be displayed\n",
    "display(d_df)"
   ]
  },
  {
   "cell_type": "code",
   "execution_count": 25,
   "metadata": {
    "collapsed": false,
    "jupyter": {
     "outputs_hidden": false,
     "source_hidden": false
    },
    "nteract": {
     "transient": {
      "deleting": false
     }
    }
   },
   "outputs": [
    {
     "data": {
      "application/vnd.livy.statement-meta+json": {
       "execution_finish_time": "2024-04-18T22:56:11.5596573Z",
       "execution_start_time": "2024-04-18T22:52:56.6149729Z",
       "livy_statement_state": "available",
       "parent_msg_id": "bdc68896-b06a-4572-9db4-b6a7de1342fc",
       "queued_time": "2024-04-18T22:47:45.5267695Z",
       "session_id": "2",
       "session_start_time": null,
       "spark_jobs": null,
       "spark_pool": "enrique",
       "state": "finished",
       "statement_id": 26
      },
      "text/plain": [
       "StatementMeta(enrique, 2, 26, Finished, Available)"
      ]
     },
     "metadata": {},
     "output_type": "display_data"
    },
    {
     "data": {
      "text/plain": [
       "35"
      ]
     },
     "execution_count": 53,
     "metadata": {},
     "output_type": "execute_result"
    }
   ],
   "source": [
    "# The new dataset can be counted\n",
    "d_df.count()"
   ]
  },
  {
   "cell_type": "markdown",
   "metadata": {},
   "source": [
    "## 4. Top 10 variants\n",
    "\n",
    "Finally, the 10 most common variants associated with Parkinson's disease from the extracted variant names is identified. \n",
    "\n",
    "### STEP 1: Grouping by variants through the IDs\n",
    "\n",
    "Group the instances based on the variants through the column 'ID'. Also their frequencies are computed."
   ]
  },
  {
   "cell_type": "code",
   "execution_count": 26,
   "metadata": {
    "collapsed": false,
    "jupyter": {
     "outputs_hidden": false,
     "source_hidden": false
    },
    "nteract": {
     "transient": {
      "deleting": false
     }
    }
   },
   "outputs": [
    {
     "data": {
      "application/vnd.livy.statement-meta+json": {
       "execution_finish_time": "2024-04-18T22:56:11.8226813Z",
       "execution_start_time": "2024-04-18T22:56:11.6770042Z",
       "livy_statement_state": "available",
       "parent_msg_id": "e026647d-6cdb-4288-bcbd-2ad43a6d7a22",
       "queued_time": "2024-04-18T22:47:48.065017Z",
       "session_id": "2",
       "session_start_time": null,
       "spark_jobs": null,
       "spark_pool": "enrique",
       "state": "finished",
       "statement_id": 27
      },
      "text/plain": [
       "StatementMeta(enrique, 2, 27, Finished, Available)"
      ]
     },
     "metadata": {},
     "output_type": "display_data"
    }
   ],
   "source": [
    "# Group by variants and compute its frequency.\n",
    "value_counts = d_df.groupBy(\"id\").agg(count(\"id\").alias(\"frequency\"))"
   ]
  },
  {
   "cell_type": "code",
   "execution_count": 27,
   "metadata": {
    "collapsed": false,
    "jupyter": {
     "outputs_hidden": false,
     "source_hidden": false
    },
    "nteract": {
     "transient": {
      "deleting": false
     }
    },
    "scrolled": true
   },
   "outputs": [
    {
     "data": {
      "application/vnd.livy.statement-meta+json": {
       "execution_finish_time": "2024-04-18T23:00:07.0310422Z",
       "execution_start_time": "2024-04-18T22:56:11.9321776Z",
       "livy_statement_state": "available",
       "parent_msg_id": "64961b7e-75e8-4f07-a290-ff6be0072129",
       "queued_time": "2024-04-18T22:47:50.4788047Z",
       "session_id": "2",
       "session_start_time": null,
       "spark_jobs": null,
       "spark_pool": "enrique",
       "state": "finished",
       "statement_id": 28
      },
      "text/plain": [
       "StatementMeta(enrique, 2, 28, Finished, Available)"
      ]
     },
     "metadata": {},
     "output_type": "display_data"
    },
    {
     "name": "stdout",
     "output_type": "stream",
     "text": [
      "+------------+---------+\n",
      "|          id|frequency|\n",
      "+------------+---------+\n",
      "|  rs63750756|        3|\n",
      "| rs377402921|        3|\n",
      "|  rs63751392|        3|\n",
      "|  rs63751273|        3|\n",
      "|  rs63750424|        3|\n",
      "|rs1553122918|        1|\n",
      "|rs2105608859|        1|\n",
      "|rs2105613409|        1|\n",
      "|rs2105604954|        1|\n",
      "| rs774629025|        1|\n",
      "|rs2105605124|        1|\n",
      "|   rs8042919|        1|\n",
      "| rs753306031|        1|\n",
      "| rs909275553|        1|\n",
      "| rs766432479|        1|\n",
      "| rs397518480|        1|\n",
      "| rs142013283|        1|\n",
      "|rs2033909793|        1|\n",
      "| rs368024152|        1|\n",
      "|rs1060499594|        1|\n",
      "+------------+---------+\n",
      "only showing top 20 rows\n",
      "\n"
     ]
    }
   ],
   "source": [
    "# Show each different variant and their frequency\n",
    "value_counts.show()"
   ]
  },
  {
   "cell_type": "markdown",
   "metadata": {},
   "source": [
    "### STEP 2: Sorting variants\n",
    "\n",
    "Sort the variants based on their frequencies in descending order and select the top three variants. "
   ]
  },
  {
   "cell_type": "code",
   "execution_count": 28,
   "metadata": {},
   "outputs": [
    {
     "data": {
      "application/vnd.livy.statement-meta+json": {
       "execution_finish_time": "2024-04-18T23:00:07.2981358Z",
       "execution_start_time": "2024-04-18T23:00:07.1561448Z",
       "livy_statement_state": "available",
       "parent_msg_id": "b502d2da-50cf-47dc-aa28-bb252e66767b",
       "queued_time": "2024-04-18T22:47:51.7907678Z",
       "session_id": "2",
       "session_start_time": null,
       "spark_jobs": null,
       "spark_pool": "enrique",
       "state": "finished",
       "statement_id": 29
      },
      "text/plain": [
       "StatementMeta(enrique, 2, 29, Finished, Available)"
      ]
     },
     "metadata": {},
     "output_type": "display_data"
    }
   ],
   "source": [
    "# Descendent order with respect variant frequency\n",
    "sorted_counts = value_counts.orderBy(desc(\"frequency\"))"
   ]
  },
  {
   "cell_type": "markdown",
   "metadata": {},
   "source": [
    "### STEP 3: Obtaining the top 10 variants"
   ]
  },
  {
   "cell_type": "code",
   "execution_count": 29,
   "metadata": {
    "collapsed": false,
    "jupyter": {
     "outputs_hidden": false,
     "source_hidden": false
    },
    "nteract": {
     "transient": {
      "deleting": false
     }
    }
   },
   "outputs": [
    {
     "data": {
      "application/vnd.livy.statement-meta+json": {
       "execution_finish_time": "2024-04-18T23:00:07.5439201Z",
       "execution_start_time": "2024-04-18T23:00:07.400146Z",
       "livy_statement_state": "available",
       "parent_msg_id": "379e7eef-6012-4e97-bdbe-4376d51bb5a9",
       "queued_time": "2024-04-18T22:47:54.3895223Z",
       "session_id": "2",
       "session_start_time": null,
       "spark_jobs": null,
       "spark_pool": "enrique",
       "state": "finished",
       "statement_id": 30
      },
      "text/plain": [
       "StatementMeta(enrique, 2, 30, Finished, Available)"
      ]
     },
     "metadata": {},
     "output_type": "display_data"
    }
   ],
   "source": [
    "# Limit to the 10 most repetitive variants\r\n",
    "top_10_variants = sorted_counts.limit(10)"
   ]
  },
  {
   "cell_type": "code",
   "execution_count": 30,
   "metadata": {
    "collapsed": false,
    "jupyter": {
     "outputs_hidden": false,
     "source_hidden": false
    },
    "nteract": {
     "transient": {
      "deleting": false
     }
    }
   },
   "outputs": [
    {
     "data": {
      "application/vnd.livy.statement-meta+json": {
       "execution_finish_time": "2024-04-18T23:04:02.4455513Z",
       "execution_start_time": "2024-04-18T23:00:07.6540998Z",
       "livy_statement_state": "available",
       "parent_msg_id": "49397cc0-f8b9-4e33-9038-6404bca0d03b",
       "queued_time": "2024-04-18T22:47:54.3904925Z",
       "session_id": "2",
       "session_start_time": null,
       "spark_jobs": null,
       "spark_pool": "enrique",
       "state": "finished",
       "statement_id": 31
      },
      "text/plain": [
       "StatementMeta(enrique, 2, 31, Finished, Available)"
      ]
     },
     "metadata": {},
     "output_type": "display_data"
    },
    {
     "data": {
      "application/vnd.synapse.widget-view+json": {
       "widget_id": "566fb5df-7438-4d3d-929e-4914dad82cec",
       "widget_type": "Synapse.DataFrame"
      },
      "text/plain": [
       "SynapseWidget(Synapse.DataFrame, 566fb5df-7438-4d3d-929e-4914dad82cec)"
      ]
     },
     "metadata": {},
     "output_type": "display_data"
    }
   ],
   "source": [
    "# Displaying those 10 variants allows to show a graph that represents the frequency of the top 3 variants.\n",
    "display(top_10_variants)"
   ]
  }
 ],
 "metadata": {
  "description": null,
  "kernel_info": {
   "name": "synapse_pyspark"
  },
  "kernelspec": {
   "display_name": "Python 3 (ipykernel)",
   "language": "python",
   "name": "python3"
  },
  "language_info": {
   "codemirror_mode": {
    "name": "ipython",
    "version": 3
   },
   "file_extension": ".py",
   "mimetype": "text/x-python",
   "name": "python",
   "nbconvert_exporter": "python",
   "pygments_lexer": "ipython3",
   "version": "3.11.7"
  },
  "save_output": true,
  "synapse_widget": {
   "state": {
    "566fb5df-7438-4d3d-929e-4914dad82cec": {
     "persist_state": {
      "view": {
       "chartOptions": {
        "aggregationType": "sum",
        "categoryFieldKeys": [
         "0"
        ],
        "chartType": "bar",
        "isStacked": false,
        "seriesFieldKeys": [
         "1"
        ]
       },
       "tableOptions": {},
       "type": "details"
      }
     },
     "sync_state": {
      "isSummary": false,
      "language": "scala",
      "table": {
       "rows": [
        {
         "0": "rs63750756",
         "1": "3"
        },
        {
         "0": "rs377402921",
         "1": "3"
        },
        {
         "0": "rs63751392",
         "1": "3"
        },
        {
         "0": "rs63751273",
         "1": "3"
        },
        {
         "0": "rs63750424",
         "1": "3"
        },
        {
         "0": "rs8042919",
         "1": "1"
        },
        {
         "0": "rs753306031",
         "1": "1"
        },
        {
         "0": "rs909275553",
         "1": "1"
        },
        {
         "0": "rs766432479",
         "1": "1"
        },
        {
         "0": "rs397518480",
         "1": "1"
        }
       ],
       "schema": [
        {
         "key": "0",
         "name": "id",
         "type": "string"
        },
        {
         "key": "1",
         "name": "frequency",
         "type": "bigint"
        }
       ],
       "truncated": false
      }
     },
     "type": "Synapse.DataFrame"
    },
    "e0064f0b-d31c-4f9a-b3f7-7699c1aad683": {
     "persist_state": {
      "view": {
       "chartOptions": {
        "aggregationType": "count",
        "categoryFieldKeys": [
         "0"
        ],
        "chartType": "bar",
        "isStacked": false,
        "seriesFieldKeys": [
         "0"
        ]
       },
       "tableOptions": {},
       "type": "details"
      }
     },
     "sync_state": {
      "isSummary": false,
      "language": "scala",
      "table": {
       "rows": [
        {
         "0": "NC_000001.11",
         "1": "7965366",
         "2": "rs1553122918",
         "3": "C",
         "4": "T",
         "5": ".",
         "6": ".",
         "7": "RS=1553122918;dbSNPBuildID=152;SSR=0;GENEINFO=PARK7:11315;VC=SNV;NSN;CLNVI=.,;CLNORIGIN=.,1;CLNSIG=.,5;CLNDISDB=.,Office_of_Rare_Diseases:9239/MONDO:MONDO:0007104/MedGen:C0543859/OMIM:105500;CLNDN=.,Amyotrophic_lateral_sclerosis-parkinsonism-dementia_complex;CLNREVSTAT=.,single;CLNACC=.,RCV001095538.1;CLNHGVS=NC_000001.11:g.7965366=,NC_000001.11:g.7965366C>T",
         "8": ".,Amyotrophic_lateral_sclerosis-parkinsonism-dementia_complex"
        },
        {
         "0": "NC_000002.12",
         "1": "156328442",
         "2": "rs2105604954",
         "3": "C",
         "4": "T",
         "5": ".",
         "6": ".",
         "7": "RS=2105604954;SSR=0;GENEINFO=NR4A2:4929;VC=SNV;NSM;CLNVI=.,OMIM:601828.0007;CLNORIGIN=.,1;CLNSIG=.,5;CLNDISDB=.,MedGen:CN315592/OMIM:619911;CLNDN=.,Intellectual_developmental_disorder_with_language_impairment_and_early-onset_DOPA-responsive_dystonia-parkinsonism;CLNREVSTAT=.,no_criteria;CLNACC=.,RCV002260905.1;CLNHGVS=NC_000002.12:g.156328442=,NC_000002.12:g.156328442C>T",
         "8": ".,Intellectual_developmental_disorder_with_language_impairment_and_early-onset_DOPA-responsive_dystonia-parkinsonism"
        },
        {
         "0": "NC_000002.12",
         "1": "156328484",
         "2": "rs2105605124",
         "3": "C",
         "4": "T",
         "5": ".",
         "6": ".",
         "7": "RS=2105605124;SSR=0;GENEINFO=NR4A2:4929;VC=SNV;NSM;CLNVI=.,OMIM:601828.0005;CLNORIGIN=.,1;CLNSIG=.,5;CLNDISDB=.,MedGen:CN315592/OMIM:619911;CLNDN=.,Intellectual_developmental_disorder_with_language_impairment_and_early-onset_DOPA-responsive_dystonia-parkinsonism;CLNREVSTAT=.,no_criteria;CLNACC=.,RCV002260904.1;CLNHGVS=NC_000002.12:g.156328484=,NC_000002.12:g.156328484C>T",
         "8": ".,Intellectual_developmental_disorder_with_language_impairment_and_early-onset_DOPA-responsive_dystonia-parkinsonism"
        },
        {
         "0": "NC_000002.12",
         "1": "156329348",
         "2": "rs2105608859",
         "3": "C",
         "4": "T",
         "5": ".",
         "6": ".",
         "7": "RS=2105608859;SSR=0;GENEINFO=NR4A2:4929;VC=SNV;NSM;CLNVI=.,OMIM:601828.0004;CLNORIGIN=.,1;CLNSIG=.,5;CLNDISDB=.,MedGen:CN315592/OMIM:619911;CLNDN=.,Intellectual_developmental_disorder_with_language_impairment_and_early-onset_DOPA-responsive_dystonia-parkinsonism;CLNREVSTAT=.,no_criteria;CLNACC=.,RCV002260903.1;CLNHGVS=NC_000002.12:g.156329348=,NC_000002.12:g.156329348C>T",
         "8": ".,Intellectual_developmental_disorder_with_language_impairment_and_early-onset_DOPA-responsive_dystonia-parkinsonism"
        },
        {
         "0": "NC_000002.12",
         "1": "156329860",
         "2": "rs2105613409",
         "3": "C",
         "4": "CT",
         "5": ".",
         "6": ".",
         "7": "RS=2105613409;SSR=0;GENEINFO=NR4A2:4929;VC=INDEL;NSF;CLNVI=.,OMIM:601828.0003;CLNORIGIN=.,1;CLNSIG=.,0|5;CLNDISDB=.,MedGen:CN517202|MedGen:CN315592/OMIM:619911;CLNDN=.,not_provided|Intellectual_developmental_disorder_with_language_impairment_and_early-onset_DOPA-responsive_dystonia-parkinsonism;CLNREVSTAT=.,single|no_criteria;CLNACC=.,RCV001768603.1|RCV002260708.1;CLNHGVS=NC_000002.12:g.156329861=,NC_000002.12:g.156329861dup",
         "8": ".,not_provided|Intellectual_developmental_disorder_with_language_impairment_and_early-onset_DOPA-responsive_dystonia-parkinsonism"
        },
        {
         "0": "NC_000002.12",
         "1": "156329861",
         "2": "rs774629025",
         "3": "T",
         "4": "TG",
         "5": ".",
         "6": ".",
         "7": "RS=774629025;dbSNPBuildID=144;SSR=0;GENEINFO=NR4A2:4929;VC=INDEL;NSF;GNO;FREQ=ExAC:0.9997,0.0003139|dbGaP_PopFreq:0.9999,5.084e-05;CLNVI=.,OMIM:601828.0006;CLNORIGIN=.,1|4;CLNSIG=.,5|5|5|5;CLNDISDB=.,MeSH:D030342/MedGen:C0950123|MONDO:MONDO:0700092/MeSH:D065886/MedGen:C1535926|MedGen:CN315592/OMIM:619911|MedGen:CN517202;CLNDN=.,Inborn_genetic_diseases|Neurodevelopmental_disorder|Intellectual_developmental_disorder_with_language_impairment_and_early-onset_DOPA-responsive_dystonia-parkinsonism|not_provided;CLNREVSTAT=.,single|single|no_criteria|single;CLNACC=.,RCV001266179.1|RCV001724280.2|RCV002260695.1|RCV002275338.1;CLNHGVS=NC_000002.12:g.156329862_156329868=,NC_000002.12:g.156329868dup",
         "8": ".,Inborn_genetic_diseases|Neurodevelopmental_disorder|Intellectual_developmental_disorder_with_language_impairment_and_early-onset_DOPA-responsive_dystonia-parkinsonism|not_provided"
        },
        {
         "0": "NC_000015.10",
         "1": "50574943",
         "2": "rs909275553",
         "3": "T",
         "4": "C",
         "5": ".",
         "6": ".",
         "7": "RS=909275553;dbSNPBuildID=151;SSR=0;GENEINFO=TRPM7:54822;VC=SNV;NSM;R3;GNO;FREQ=GnomAD:1,1.426e-05|TOPMED:1,7.556e-06|dbGaP_PopFreq:1,0;CLNVI=.,;CLNORIGIN=.,1;CLNSIG=.,0;CLNDISDB=.,Office_of_Rare_Diseases:9239/MONDO:MONDO:0007104/MedGen:C0543859/OMIM:105500;CLNDN=.,Amyotrophic_lateral_sclerosis-parkinsonism-dementia_complex;CLNREVSTAT=.,single;CLNACC=.,RCV002244210.2;CLNHGVS=NC_000015.10:g.50574943=,NC_000015.10:g.50574943T>C",
         "8": ".,Amyotrophic_lateral_sclerosis-parkinsonism-dementia_complex"
        },
        {
         "0": "NC_000015.10",
         "1": "50586433",
         "2": "rs8042919",
         "3": "G",
         "4": "A,T",
         "5": ".",
         "6": ".",
         "7": "RS=8042919;dbSNPBuildID=116;SSR=0;GENEINFO=TRPM7:54822;VC=SNV;PUB;NSM;R3;GNO;FREQ=1000Genomes:0.9285,0.07152,.|ALSPAC:0.891,0.109,.|Daghestan:0.917,0.08304,.|Estonian:0.923,0.07701,.|ExAC:0.913,0.08703,.|FINRISK:0.9572,0.04276,.|GENOME_DK:0.875,0.125,.|GnomAD:0.928,0.07196,.|GnomAD_exomes:0.9153,0.08471,.|GoNL:0.8908,0.1092,.|HapMap:0.9383,0.06168,.|KOREAN:0.9162,0.08385,.|Korea1K:0.9121,0.08788,.|MGP:0.8989,0.1011,.|NorthernSweden:0.95,0.05,.|PAGE_STUDY:0.9383,0.06166,.|PRJEB37584:0.9356,0.06439,.|Qatari:0.9444,0.05556,.|SGDP_PRJ:0.4717,0.5283,.|Siberian:0.5,0.5,.|TOMMO:0.7919,0.2081,.|TWINSUK:0.8951,0.1049,.|Vietnamese:0.9153,0.08469,.|dbGaP_PopFreq:0.9025,0.0975,0;COMMON;CLNVI=.,OMIM:605692.0001|UniProtKB:Q96QT4#VAR_019967,.;CLNORIGIN=.,1,.;CLNSIG=.,9|0|2,.;CLNDISDB=.,.|Office_of_Rare_Diseases:11901/MONDO:MONDO:0017593/MedGen:C3468114/Orphanet:300605|MedGen:CN517202,.;CLNDN=.,Amyotrophic_lateral_sclerosis-parkinsonism/dementia_complex_1\\x2c_susceptibility_to|Juvenile_amyotrophic_lateral_sclerosis|not_provided,.;CLNREVSTAT=.,no_criteria|single|single,.;CLNACC=.,RCV000005076.4|RCV001095429.1|RCV001723538.1,.;CLNHGVS=NC_000015.10:g.50586433=,NC_000015.10:g.50586433G>A,NC_000015.10:g.50586433G>T",
         "8": ".,Amyotrophic_lateral_sclerosis-parkinsonism/dementia_complex_1\\x2c_susceptibility_to|Juvenile_amyotrophic_lateral_sclerosis|not_provided,."
        },
        {
         "0": "NC_000015.10",
         "1": "50611232",
         "2": "rs753306031",
         "3": "T",
         "4": "C,G",
         "5": ".",
         "6": ".",
         "7": "RS=753306031;dbSNPBuildID=144;SSR=0;GENEINFO=TRPM7:54822;VC=SNV;NSM;GNO;FREQ=ExAC:1,.,1.661e-05|GnomAD_exomes:1,.,1.203e-05|TOPMED:1,.,1.511e-05|dbGaP_PopFreq:0.9999,.,5.645e-05;CLNVI=.,.,;CLNORIGIN=.,.,0;CLNSIG=.,.,0;CLNDISDB=.,.,Office_of_Rare_Diseases:9239/MONDO:MONDO:0007104/MedGen:C0543859/OMIM:105500;CLNDN=.,.,Amyotrophic_lateral_sclerosis-parkinsonism-dementia_complex;CLNREVSTAT=.,.,single;CLNACC=.,.,RCV001330971.1;CLNHGVS=NC_000015.10:g.50611232=,NC_000015.10:g.50611232T>C,NC_000015.10:g.50611232T>G",
         "8": ".,.,Amyotrophic_lateral_sclerosis-parkinsonism-dementia_complex"
        },
        {
         "0": "NC_000017.11",
         "1": "45983694",
         "2": "rs377402921",
         "3": "C",
         "4": "A,G,T",
         "5": ".",
         "6": ".",
         "7": "RS=377402921;dbSNPBuildID=138;SSR=0;GENEINFO=MAPT:4137;VC=SNV;NSM;INT;GNO;FREQ=GnomAD_exomes:1,.,.,4.777e-05|GoESP:0.9999,.,.,7.689e-05|dbGaP_PopFreq:0.9999,0,0,0.0001123;CLNVI=.,.,,;CLNORIGIN=.,.,1,0|1;CLNSIG=.,.,3,0|0;CLNDISDB=.,.,MedGen:CN517202,MedGen:CN517202|Office_of_Rare_Diseases:8436/Office_of_Rare_Diseases:7392/MONDO:MONDO:0017276/MedGen:C0338451/Orphanet:282/OMIM:600274/Human_Phenotype_Ontology:HP:0002145/MONDO:MONDO:0008199/MedGen:C3160718/OMIM:168600/MONDO:MONDO:0009839/MedGen:C1850077/Orphanet:240085/Orphanet:683/Orphanet:99750/OMIM:260540/MONDO:MONDO:0008243/MedGen:C0236642/Orphanet:282/OMIM:172700/MedGen:C4551862;CLNDN=.,.,not_provided,not_provided|Frontotemporal_dementia/Parkinson_disease\\x2c_late-onset/Pick_disease/Progressive_supranuclear_ophthalmoplegia/Progressive_supranuclear_palsy-parkinsonism_syndrome;CLNREVSTAT=.,.,single,single|single;CLNACC=.,.,RCV000910085.3,RCV000493800.2|RCV000764133.2;CLNHGVS=NC_000017.11:g.45983694=,NC_000017.11:g.45983694C>A,NC_000017.11:g.45983694C>G,NC_000017.11:g.45983694C>T",
         "8": ".,.,not_provided,not_provided|Frontotemporal_dementia/Parkinson_disease\\x2c_late-onset/Pick_disease/Progressive_supranuclear_ophthalmoplegia/Progressive_supranuclear_palsy-parkinsonism_syndrome"
        },
        {
         "0": "NC_000017.11",
         "1": "46010324",
         "2": "rs63750756",
         "3": "T",
         "4": "G",
         "5": ".",
         "6": ".",
         "7": "RS=63750756;dbSNPBuildID=136;SSR=0;GENEINFO=MAPT:4137;VC=SNV;PUB;NSM;INT;GNO;FREQ=PAGE_STUDY:1,0|dbGaP_PopFreq:1,0;CLNVI=.,OMIM:157140.0009|UniProtKB:P10636#VAR_010346;CLNORIGIN=.,0|1|1073741824;CLNSIG=.,5|1|5;CLNDISDB=.,Office_of_Rare_Diseases:8436/MONDO:MONDO:0017276/MedGen:C0338451/Orphanet:282/OMIM:600274/Human_Phenotype_Ontology:HP:0002145|MedGen:CN517202|Office_of_Rare_Diseases:8436/Office_of_Rare_Diseases:7392/MONDO:MONDO:0017276/MedGen:C0338451/Orphanet:282/OMIM:600274/Human_Phenotype_Ontology:HP:0002145/MONDO:MONDO:0008199/MedGen:C3160718/OMIM:168600/MONDO:MONDO:0009839/MedGen:C1850077/Orphanet:240085/Orphanet:683/Orphanet:99750/OMIM:260540/MONDO:MONDO:0008243/MedGen:C0236642/Orphanet:282/OMIM:172700/MedGen:C4551862;CLNDN=.,Frontotemporal_dementia|not_provided|Frontotemporal_dementia/Parkinson_disease\\x2c_late-onset/Pick_disease/Progressive_supranuclear_ophthalmoplegia/Progressive_supranuclear_palsy-parkinsonism_syndrome;CLNREVSTAT=.,single|no_assertion|single;CLNACC=.,RCV000015322.28|RCV000084521.2|RCV000763404.2;CLNHGVS=NC_000017.11:g.46010324=,NC_000017.11:g.46010324T>G",
         "8": ".,Frontotemporal_dementia|not_provided|Frontotemporal_dementia/Parkinson_disease\\x2c_late-onset/Pick_disease/Progressive_supranuclear_ophthalmoplegia/Progressive_supranuclear_palsy-parkinsonism_syndrome"
        },
        {
         "0": "NC_000017.11",
         "1": "46010370",
         "2": "rs63751392",
         "3": "GATA",
         "4": "G",
         "5": ".",
         "6": ".",
         "7": "RS=63751392;dbSNPBuildID=136;SSR=0;GENEINFO=MAPT:4137;VC=INDEL;PUB;INT;CLNVI=.,OMIM:157140.0021;CLNORIGIN=.,1|1073741825;CLNSIG=.,5|9|5;CLNDISDB=.,MONDO:MONDO:0009839/MedGen:C1850077/Orphanet:240085/Orphanet:683/Orphanet:99750/OMIM:260540|MONDO:MONDO:0008199/MedGen:C3160718/OMIM:168600|MedGen:CN517202;CLNDN=.,Progressive_supranuclear_palsy-parkinsonism_syndrome|Parkinson_disease\\x2c_late-onset|not_provided;CLNREVSTAT=.,no_criteria|no_criteria|single;CLNACC=.,RCV000015334.27|RCV000015335.4|RCV000084581.7;CLNHGVS=NC_000017.11:g.46010371_46010376=,NC_000017.11:g.46010371ATA[1]",
         "8": ".,Progressive_supranuclear_palsy-parkinsonism_syndrome|Parkinson_disease\\x2c_late-onset|not_provided"
        },
        {
         "0": "NC_000017.11",
         "1": "46010389",
         "2": "rs63751273",
         "3": "C",
         "4": "T",
         "5": ".",
         "6": ".",
         "7": "RS=63751273;dbSNPBuildID=136;SSR=0;GENEINFO=MAPT:4137;VC=SNV;PUB;NSM;INT;GNO;FREQ=PAGE_STUDY:1,0|dbGaP_PopFreq:1,0;CLNVI=.,OMIM:157140.0001|UniProtKB:P10636#VAR_010348;CLNORIGIN=.,0|1|1073741825;CLNSIG=.,5|5|5|5;CLNDISDB=.,Office_of_Rare_Diseases:8436/MONDO:MONDO:0017276/MedGen:C0338451/Orphanet:282/OMIM:600274/Human_Phenotype_Ontology:HP:0002145|MedGen:C4551862|MedGen:CN517202|Office_of_Rare_Diseases:8436/Office_of_Rare_Diseases:7392/MONDO:MONDO:0017276/MedGen:C0338451/Orphanet:282/OMIM:600274/Human_Phenotype_Ontology:HP:0002145/MONDO:MONDO:0008199/MedGen:C3160718/OMIM:168600/MONDO:MONDO:0009839/MedGen:C1850077/Orphanet:240085/Orphanet:683/Orphanet:99750/OMIM:260540/MONDO:MONDO:0008243/MedGen:C0236642/Orphanet:282/OMIM:172700/MedGen:C4551862;CLNDN=.,Frontotemporal_dementia|Progressive_supranuclear_ophthalmoplegia|not_provided|Frontotemporal_dementia/Parkinson_disease\\x2c_late-onset/Pick_disease/Progressive_supranuclear_ophthalmoplegia/Progressive_supranuclear_palsy-parkinsonism_syndrome;CLNREVSTAT=.,mult|no_criteria|mult|single;CLNACC=.,RCV000015313.35|RCV000015314.28|RCV000084527.8|RCV000763405.2;CLNHGVS=NC_000017.11:g.46010389=,NC_000017.11:g.46010389C>T",
         "8": ".,Frontotemporal_dementia|Progressive_supranuclear_ophthalmoplegia|not_provided|Frontotemporal_dementia/Parkinson_disease\\x2c_late-onset/Pick_disease/Progressive_supranuclear_ophthalmoplegia/Progressive_supranuclear_palsy-parkinsonism_syndrome"
        },
        {
         "0": "NC_000017.11",
         "1": "46024061",
         "2": "rs63750424",
         "3": "C",
         "4": "T",
         "5": ".",
         "6": ".",
         "7": "RS=63750424;dbSNPBuildID=132;SSR=0;GENEINFO=MAPT:4137;VC=SNV;PUB;NSM;INT;GNO;FREQ=ExAC:1,8.268e-06|GnomAD_exomes:1,1.592e-05|PAGE_STUDY:1,0|dbGaP_PopFreq:0.9998,0.0001816;CLNVI=.,OMIM:157140.0003|UniProtKB:P10636#VAR_010353;CLNORIGIN=.,0|1|1073741825;CLNSIG=.,5|5|5;CLNDISDB=.,Office_of_Rare_Diseases:8436/MONDO:MONDO:0017276/MedGen:C0338451/Orphanet:282/OMIM:600274/Human_Phenotype_Ontology:HP:0002145|MedGen:CN517202|Office_of_Rare_Diseases:8436/Office_of_Rare_Diseases:7392/MONDO:MONDO:0017276/MedGen:C0338451/Orphanet:282/OMIM:600274/Human_Phenotype_Ontology:HP:0002145/MONDO:MONDO:0008199/MedGen:C3160718/OMIM:168600/MONDO:MONDO:0009839/MedGen:C1850077/Orphanet:240085/Orphanet:683/Orphanet:99750/OMIM:260540/MONDO:MONDO:0008243/MedGen:C0236642/Orphanet:282/OMIM:172700/MedGen:C4551862;CLNDN=.,Frontotemporal_dementia|not_provided|Frontotemporal_dementia/Parkinson_disease\\x2c_late-onset/Pick_disease/Progressive_supranuclear_ophthalmoplegia/Progressive_supranuclear_palsy-parkinsonism_syndrome;CLNREVSTAT=.,single|mult|single;CLNACC=.,RCV000015316.31|RCV000084554.12|RCV000763406.2;CLNHGVS=NC_000017.11:g.46024061=,NC_000017.11:g.46024061C>T",
         "8": ".,Frontotemporal_dementia|not_provided|Frontotemporal_dementia/Parkinson_disease\\x2c_late-onset/Pick_disease/Progressive_supranuclear_ophthalmoplegia/Progressive_supranuclear_palsy-parkinsonism_syndrome"
        },
        {
         "0": "NC_000017.11",
         "1": "75778652",
         "2": "rs766432479",
         "3": "G",
         "4": "A,T",
         "5": ".",
         "6": ".",
         "7": "RS=766432479;dbSNPBuildID=144;SSR=0;GENEINFO=H3-3B:3021;VC=SNV;SYN;GNO;FREQ=ExAC:1,8.237e-06,.|GnomAD:1,7.13e-06,.|GnomAD_exomes:1,7.953e-06,.|dbGaP_PopFreq:1,0,0;CLNVI=.,.,Broad_Institute_Rare_Disease_Group\\x2c_Broad_Institute:3dc2862f-8ca4-4c5e-8ace-5cf1db667dd7;CLNORIGIN=.,.,1;CLNSIG=.,.,0;CLNDISDB=.,.,MONDO:MONDO:0017636/MedGen:C4545231;CLNDN=.,.,Hemiparkinsonism-hemiatrophy_syndrome;CLNREVSTAT=.,.,single;CLNACC=.,.,RCV001267715.1;CLNHGVS=NC_000017.11:g.75778652=,NC_000017.11:g.75778652G>A,NC_000017.11:g.75778652G>T",
         "8": ".,.,Hemiparkinsonism-hemiatrophy_syndrome"
        },
        {
         "0": "NC_000023.11",
         "1": "40597293",
         "2": "rs397518480",
         "3": "C",
         "4": "T",
         "5": ".",
         "6": ".",
         "7": "RS=397518480;dbSNPBuildID=138;SSR=0;GENEINFO=ATP6AP2:10159;VC=SNV;PUB;SYN;CLNVI=.,OMIM:300556.0002;CLNORIGIN=.,1;CLNSIG=.,5;CLNDISDB=.,MONDO:MONDO:0010482/MedGen:C3806722/Orphanet:363654/OMIM:300911;CLNDN=.,X-linked_parkinsonism-spasticity_syndrome;CLNREVSTAT=.,no_criteria;CLNACC=.,RCV000074407.14;CLNHGVS=NC_000023.11:g.40597293=,NC_000023.11:g.40597293C>T",
         "8": ".,X-linked_parkinsonism-spasticity_syndrome"
        },
        {
         "0": "NC_000023.11",
         "1": "40597620",
         "2": "rs142013283",
         "3": "G",
         "4": "A",
         "5": ".",
         "6": ".",
         "7": "RS=142013283;dbSNPBuildID=134;SSR=0;GENEINFO=ATP6AP2:10159;VC=SNV;NSM;GNO;FREQ=1000Genomes:0.9994,0.0006243|ExAC:1,4.56e-05|GnomAD:0.9999,0.0001056|GnomAD_exomes:1,2.181e-05|GoESP:0.9999,9.467e-05|TOPMED:0.9997,0.00034|dbGaP_PopFreq:1,0;CLNVI=.,;CLNORIGIN=.,1;CLNSIG=.,0|0|3;CLNDISDB=.,MONDO:MONDO:0010319/MedGen:C1845543/OMIM:300423|MONDO:MONDO:0010319/MedGen:C1845543/OMIM:300423/MONDO:MONDO:0010482/MedGen:C3806722/Orphanet:363654/OMIM:300911|MedGen:CN517202;CLNDN=.,Syndromic_X-linked_intellectual_disability_Hedera_type|Syndromic_X-linked_intellectual_disability_Hedera_type/X-linked_parkinsonism-spasticity_syndrome|not_provided;CLNREVSTAT=.,single|single|single;CLNACC=.,RCV000640918.6|RCV000767901.2|RCV001704969.2;CLNHGVS=NC_000023.11:g.40597620=,NC_000023.11:g.40597620G>A",
         "8": ".,Syndromic_X-linked_intellectual_disability_Hedera_type|Syndromic_X-linked_intellectual_disability_Hedera_type/X-linked_parkinsonism-spasticity_syndrome|not_provided"
        },
        {
         "0": "NC_000023.11",
         "1": "71367616",
         "2": "rs368024152",
         "3": "G",
         "4": "A",
         "5": ".",
         "6": ".",
         "7": "RS=368024152;dbSNPBuildID=138;SSR=0;GENEINFO=TAF1:6872;VC=SNV;INT;R5;GNO;FREQ=1000Genomes:0.9998,0.0002081|ALSPAC:0.9997,0.0003461|ExAC:0.9999,8.309e-05|GnomAD:0.9999,0.000135|GnomAD_exomes:0.9999,7.655e-05|GoESP:0.9997,0.000284|TOPMED:0.9999,0.0001322|TWINSUK:0.9992,0.0008091|dbGaP_PopFreq:0.9997,0.0002545;CLNVI=.,;CLNORIGIN=.,0;CLNSIG=.,1;CLNDISDB=.,GeneReviews:NBK1489/Office_of_Rare_Diseases:10533/MONDO:MONDO:0010747/MedGen:C1839130/Orphanet:53351/OMIM:314250;CLNDN=.,X-linked_dystonia-parkinsonism;CLNREVSTAT=.,no_assertion;CLNACC=.,RCV001825222.1;CLNHGVS=NC_000023.11:g.71367616=,NC_000023.11:g.71367616G>A",
         "8": ".,X-linked_dystonia-parkinsonism"
        },
        {
         "0": "NC_000023.11",
         "1": "71381856",
         "2": "rs2033909793",
         "3": "A",
         "4": "T",
         "5": ".",
         "6": ".",
         "7": "RS=2033909793;SSR=0;GENEINFO=TAF1:6872;VC=SNV;NSM;R5;CLNVI=.,;CLNORIGIN=.,0;CLNSIG=.,0;CLNDISDB=.,GeneReviews:NBK1489/Office_of_Rare_Diseases:10533/MONDO:MONDO:0010747/MedGen:C1839130/Orphanet:53351/OMIM:314250;CLNDN=.,X-linked_dystonia-parkinsonism;CLNREVSTAT=.,single;CLNACC=.,RCV001329290.1;CLNHGVS=NC_000023.11:g.71381856=,NC_000023.11:g.71381856A>T",
         "8": ".,X-linked_dystonia-parkinsonism"
        },
        {
         "0": "NC_000023.11",
         "1": "71421351",
         "2": "rs1060499594",
         "3": "A",
         "4": "C,T",
         "5": ".",
         "6": ".",
         "7": "RS=1060499594;dbSNPBuildID=150;SSR=0;GENEINFO=TAF1:6872;VC=SNV;NSM;U3;R3;R5;GNO;FREQ=GnomAD:1,.,1.984e-05|dbGaP_PopFreq:1,0,0;CLNVI=.,,.;CLNORIGIN=.,16,.;CLNSIG=.,0,.;CLNDISDB=.,GeneReviews:NBK1489/Office_of_Rare_Diseases:10533/MONDO:MONDO:0010747/MedGen:C1839130/Orphanet:53351/OMIM:314250,.;CLNDN=.,X-linked_dystonia-parkinsonism,.;CLNREVSTAT=.,no_criteria,.;CLNACC=.,RCV000477788.1,.;CLNHGVS=NC_000023.11:g.71421351=,NC_000023.11:g.71421351A>C,NC_000023.11:g.71421351A>T",
         "8": ".,X-linked_dystonia-parkinsonism,."
        },
        {
         "0": "NC_000023.11",
         "1": "71529785",
         "2": "rs397509359",
         "3": "C",
         "4": "A,T",
         "5": ".",
         "6": ".",
         "7": "RS=397509359;dbSNPBuildID=136;SSR=0;GENEINFO=TAF1:6872;VC=SNV;PUB;R3;GNO;FREQ=dbGaP_PopFreq:1,0,0;CLNVI=.,.,;CLNORIGIN=.,.,1073741824;CLNSIG=.,.,5;CLNDISDB=.,.,GeneReviews:NBK1489/Office_of_Rare_Diseases:10533/MONDO:MONDO:0010747/MedGen:C1839130/Orphanet:53351/OMIM:314250;CLNDN=.,.,X-linked_dystonia-parkinsonism;CLNREVSTAT=.,.,no_criteria;CLNACC=.,.,RCV000020067.2;CLNHGVS=NC_000023.11:g.71529785=,NC_000023.11:g.71529785C>A,NC_000023.11:g.71529785C>T",
         "8": ".,.,X-linked_dystonia-parkinsonism"
        },
        {
         "0": "NC_000023.11",
         "1": "154536002",
         "2": "rs1050828",
         "3": "C",
         "4": "T",
         "5": ".",
         "6": ".",
         "7": "RS=1050828;dbSNPBuildID=86;SSR=0;GENEINFO=G6PD:2539;VC=SNV;PUB;NSM;GNO;FREQ=1000Genomes:0.9611,0.03892|ALSPAC:1,0|Daghestan:0.9982,0.001767|ExAC:0.9885,0.01151|GnomAD:0.9638,0.03616|GnomAD_exomes:0.9909,0.009061|HapMap:0.9095,0.09049|PRJEB36033:1,0|Qatari:0.9815,0.01852|SGDP_PRJ:0.25,0.75|TOPMED:0.9616,0.03837|TWINSUK:0.9997,0.0002697|dbGaP_PopFreq:0.994,0.006029;COMMON;CLNVI=.,ARUP_Laboratories\\x2c_Molecular_Genetics_and_Genomics\\x2cARUP_Laboratories:100386|GenomeConnect_-_Invitae_Patient_Insights_Network:nvtapin_pin_17297_605|HGMD:CM880029|OMIM:305900.0002|OMIM:305900.0054|PharmGKB_Clinical_Annotation:981352141;CLNORIGIN=.,0|1|17;CLNSIG=.,5|255|16|12|5|0|5|5|5|4;CLNDISDB=.,MONDO:MONDO:0005775/MedGen:C2939465|.|MONDO:MONDO:0010480/MedGen:C2720289/Orphanet:466026/OMIM:300908|MedGen:CN517202|MONDO:MONDO:0005775/MedGen:C2939465|MONDO:MONDO:0010482/MedGen:C3806722/Orphanet:363654/OMIM:300911|MedGen:CN169374|MONDO:MONDO:0005775/MedGen:C2939465/MONDO:MONDO:0010480/MedGen:C2720289/Orphanet:466026/OMIM:300908|MeSH:D030342/MedGen:C0950123|.;CLNDN=.,G6PD_deficiency|G6PD_ASAHI|Anemia\\x2c_nonspherocytic_hemolytic\\x2c_due_to_G6PD_deficiency|not_provided|G6PD_deficiency|X-linked_parkinsonism-spasticity_syndrome|not_specified|Anemia\\x2c_nonspherocytic_hemolytic\\x2c_due_to_G6PD_deficiency/G6PD_deficiency|Inborn_genetic_diseases|See_cases;CLNREVSTAT=.,no_criteria|no_criteria|mult|conf|single|no_criteria|single|single|single|single;CLNACC=.,RCV000011075.16|RCV000011157.3|RCV000079404.22|RCV000224469.24|RCV000606259.4|RCV000761431.2|RCV000999820.5|RCV001095679.2|RCV001267358.2|RCV002251936.2;CLNHGVS=NC_000023.11:g.154536002=,NC_000023.11:g.154536002C>T",
         "8": ".,G6PD_deficiency|G6PD_ASAHI|Anemia\\x2c_nonspherocytic_hemolytic\\x2c_due_to_G6PD_deficiency|not_provided|G6PD_deficiency|X-linked_parkinsonism-spasticity_syndrome|not_specified|Anemia\\x2c_nonspherocytic_hemolytic\\x2c_due_to_G6PD_deficiency/G6PD_deficiency|Inborn_genetic_diseases|See_cases"
        },
        {
         "0": "NC_000023.11",
         "1": "155260871",
         "2": "rs864309527",
         "3": "C",
         "4": "T",
         "5": ".",
         "6": ".",
         "7": "RS=864309527;dbSNPBuildID=146;SSR=0;GENEINFO=RAB39B:116442;VC=SNV;PUB;NSM;CLNVI=.,OMIM:300774.0004;CLNORIGIN=.,1;CLNSIG=.,5|5;CLNDISDB=.,MedGen:CN234611|Office_of_Rare_Diseases:3203/MONDO:MONDO:0010709/MedGen:C0796195/OMIM:311510;CLNDN=.,Parkinson_disease\\x2c_X-linked_dominant|Early-onset_parkinsonism-intellectual_disability_syndrome;CLNREVSTAT=.,single|no_criteria;CLNACC=.,RCV000202604.1|RCV000207511.4;CLNHGVS=NC_000023.11:g.155260871=,NC_000023.11:g.155260871C>T",
         "8": ".,Parkinson_disease\\x2c_X-linked_dominant|Early-onset_parkinsonism-intellectual_disability_syndrome"
        },
        {
         "0": "NC_000023.11",
         "1": "155260942",
         "2": "rs587777874",
         "3": "G",
         "4": "T",
         "5": ".",
         "6": ".",
         "7": "RS=587777874;dbSNPBuildID=142;SSR=0;GENEINFO=RAB39B:116442;VC=SNV;PUB;NSM;CLNVI=.,OMIM:300774.0003|UniProtKB:Q96DA2#VAR_073264;CLNORIGIN=.,1;CLNSIG=.,5|5;CLNDISDB=.,MedGen:CN517202|Office_of_Rare_Diseases:3203/MONDO:MONDO:0010709/MedGen:C0796195/OMIM:311510;CLNDN=.,not_provided|Early-onset_parkinsonism-intellectual_disability_syndrome;CLNREVSTAT=.,single|no_criteria;CLNACC=.,RCV000144685.1|RCV000150034.4;CLNHGVS=NC_000023.11:g.155260942=,NC_000023.11:g.155260942G>T",
         "8": ".,not_provided|Early-onset_parkinsonism-intellectual_disability_syndrome"
        },
        {
         "0": "NC_000023.11",
         "1": "155261059",
         "2": "rs1557314226",
         "3": "G",
         "4": "A",
         "5": ".",
         "6": ".",
         "7": "RS=1557314226;dbSNPBuildID=152;SSR=0;GENEINFO=RAB39B:116442;VC=SNV;NSM;GNO;FREQ=GnomAD_exomes:1,5.458e-06;CLNVI=.,;CLNORIGIN=.,0|8;CLNSIG=.,0|0;CLNDISDB=.,MedGen:CN517202|Office_of_Rare_Diseases:3203/MONDO:MONDO:0010289/MedGen:C1846038/Orphanet:777/OMIM:300271/MONDO:MONDO:0010709/MedGen:C0796195/OMIM:311510;CLNDN=.,not_provided|Early-onset_parkinsonism-intellectual_disability_syndrome/Intellectual_disability\\x2c_X-linked_72;CLNREVSTAT=.,single|single;CLNACC=.,RCV001289161.1|RCV001839039.1;CLNHGVS=NC_000023.11:g.155261059=,NC_000023.11:g.155261059G>A",
         "8": ".,not_provided|Early-onset_parkinsonism-intellectual_disability_syndrome/Intellectual_disability\\x2c_X-linked_72"
        },
        {
         "0": "NT_167251.2",
         "1": "764558",
         "2": "rs63750424",
         "3": "G",
         "4": "A",
         "5": ".",
         "6": ".",
         "7": "RS=63750424;dbSNPBuildID=132;SSR=0;GENEINFO=MAPT:4137;VC=SNV;PUB;NSM;INT;GNO;FREQ=ExAC:1,8.268e-06|GnomAD_exomes:1,1.592e-05|PAGE_STUDY:1,0|dbGaP_PopFreq:0.9998,0.0001816;CLNVI=.,OMIM:157140.0003|UniProtKB:P10636#VAR_010353;CLNORIGIN=.,0|1|1073741825;CLNSIG=.,5|5|5;CLNDISDB=.,Office_of_Rare_Diseases:8436/MONDO:MONDO:0017276/MedGen:C0338451/Orphanet:282/OMIM:600274/Human_Phenotype_Ontology:HP:0002145|MedGen:CN517202|Office_of_Rare_Diseases:8436/Office_of_Rare_Diseases:7392/MONDO:MONDO:0017276/MedGen:C0338451/Orphanet:282/OMIM:600274/Human_Phenotype_Ontology:HP:0002145/MONDO:MONDO:0008199/MedGen:C3160718/OMIM:168600/MONDO:MONDO:0009839/MedGen:C1850077/Orphanet:240085/Orphanet:683/Orphanet:99750/OMIM:260540/MONDO:MONDO:0008243/MedGen:C0236642/Orphanet:282/OMIM:172700/MedGen:C4551862;CLNDN=.,Frontotemporal_dementia|not_provided|Frontotemporal_dementia/Parkinson_disease\\x2c_late-onset/Pick_disease/Progressive_supranuclear_ophthalmoplegia/Progressive_supranuclear_palsy-parkinsonism_syndrome;CLNREVSTAT=.,single|mult|single;CLNACC=.,RCV000015316.31|RCV000084554.12|RCV000763406.2;CLNHGVS=NT_167251.2:g.764558=,NT_167251.2:g.764558G>A",
         "8": ".,Frontotemporal_dementia|not_provided|Frontotemporal_dementia/Parkinson_disease\\x2c_late-onset/Pick_disease/Progressive_supranuclear_ophthalmoplegia/Progressive_supranuclear_palsy-parkinsonism_syndrome"
        },
        {
         "0": "NT_167251.2",
         "1": "778246",
         "2": "rs63751273",
         "3": "G",
         "4": "A",
         "5": ".",
         "6": ".",
         "7": "RS=63751273;dbSNPBuildID=136;SSR=0;GENEINFO=MAPT:4137;VC=SNV;PUB;NSM;INT;GNO;FREQ=PAGE_STUDY:1,0|dbGaP_PopFreq:1,0;CLNVI=.,OMIM:157140.0001|UniProtKB:P10636#VAR_010348;CLNORIGIN=.,0|1|1073741825;CLNSIG=.,5|5|5|5;CLNDISDB=.,Office_of_Rare_Diseases:8436/MONDO:MONDO:0017276/MedGen:C0338451/Orphanet:282/OMIM:600274/Human_Phenotype_Ontology:HP:0002145|MedGen:C4551862|MedGen:CN517202|Office_of_Rare_Diseases:8436/Office_of_Rare_Diseases:7392/MONDO:MONDO:0017276/MedGen:C0338451/Orphanet:282/OMIM:600274/Human_Phenotype_Ontology:HP:0002145/MONDO:MONDO:0008199/MedGen:C3160718/OMIM:168600/MONDO:MONDO:0009839/MedGen:C1850077/Orphanet:240085/Orphanet:683/Orphanet:99750/OMIM:260540/MONDO:MONDO:0008243/MedGen:C0236642/Orphanet:282/OMIM:172700/MedGen:C4551862;CLNDN=.,Frontotemporal_dementia|Progressive_supranuclear_ophthalmoplegia|not_provided|Frontotemporal_dementia/Parkinson_disease\\x2c_late-onset/Pick_disease/Progressive_supranuclear_ophthalmoplegia/Progressive_supranuclear_palsy-parkinsonism_syndrome;CLNREVSTAT=.,mult|no_criteria|mult|single;CLNACC=.,RCV000015313.35|RCV000015314.28|RCV000084527.8|RCV000763405.2;CLNHGVS=NT_167251.2:g.778246=,NT_167251.2:g.778246G>A",
         "8": ".,Frontotemporal_dementia|Progressive_supranuclear_ophthalmoplegia|not_provided|Frontotemporal_dementia/Parkinson_disease\\x2c_late-onset/Pick_disease/Progressive_supranuclear_ophthalmoplegia/Progressive_supranuclear_palsy-parkinsonism_syndrome"
        },
        {
         "0": "NT_167251.2",
         "1": "778258",
         "2": "rs63751392",
         "3": "ATAT",
         "4": "A",
         "5": ".",
         "6": ".",
         "7": "RS=63751392;dbSNPBuildID=136;SSR=0;GENEINFO=MAPT:4137;VC=INDEL;PUB;INT;CLNVI=.,OMIM:157140.0021;CLNORIGIN=.,1|1073741825;CLNSIG=.,5|9|5;CLNDISDB=.,MONDO:MONDO:0009839/MedGen:C1850077/Orphanet:240085/Orphanet:683/Orphanet:99750/OMIM:260540|MONDO:MONDO:0008199/MedGen:C3160718/OMIM:168600|MedGen:CN517202;CLNDN=.,Progressive_supranuclear_palsy-parkinsonism_syndrome|Parkinson_disease\\x2c_late-onset|not_provided;CLNREVSTAT=.,no_criteria|no_criteria|single;CLNACC=.,RCV000015334.27|RCV000015335.4|RCV000084581.7;CLNHGVS=NT_167251.2:g.778259_778264=,NT_167251.2:g.778259TAT[1]",
         "8": ".,Progressive_supranuclear_palsy-parkinsonism_syndrome|Parkinson_disease\\x2c_late-onset|not_provided"
        },
        {
         "0": "NT_167251.2",
         "1": "778311",
         "2": "rs63750756",
         "3": "A",
         "4": "C",
         "5": ".",
         "6": ".",
         "7": "RS=63750756;dbSNPBuildID=136;SSR=0;GENEINFO=MAPT:4137;VC=SNV;PUB;NSM;INT;GNO;FREQ=PAGE_STUDY:1,0|dbGaP_PopFreq:1,0;CLNVI=.,OMIM:157140.0009|UniProtKB:P10636#VAR_010346;CLNORIGIN=.,0|1|1073741824;CLNSIG=.,5|1|5;CLNDISDB=.,Office_of_Rare_Diseases:8436/MONDO:MONDO:0017276/MedGen:C0338451/Orphanet:282/OMIM:600274/Human_Phenotype_Ontology:HP:0002145|MedGen:CN517202|Office_of_Rare_Diseases:8436/Office_of_Rare_Diseases:7392/MONDO:MONDO:0017276/MedGen:C0338451/Orphanet:282/OMIM:600274/Human_Phenotype_Ontology:HP:0002145/MONDO:MONDO:0008199/MedGen:C3160718/OMIM:168600/MONDO:MONDO:0009839/MedGen:C1850077/Orphanet:240085/Orphanet:683/Orphanet:99750/OMIM:260540/MONDO:MONDO:0008243/MedGen:C0236642/Orphanet:282/OMIM:172700/MedGen:C4551862;CLNDN=.,Frontotemporal_dementia|not_provided|Frontotemporal_dementia/Parkinson_disease\\x2c_late-onset/Pick_disease/Progressive_supranuclear_ophthalmoplegia/Progressive_supranuclear_palsy-parkinsonism_syndrome;CLNREVSTAT=.,single|no_assertion|single;CLNACC=.,RCV000015322.28|RCV000084521.2|RCV000763404.2;CLNHGVS=NT_167251.2:g.778311=,NT_167251.2:g.778311A>C",
         "8": ".,Frontotemporal_dementia|not_provided|Frontotemporal_dementia/Parkinson_disease\\x2c_late-onset/Pick_disease/Progressive_supranuclear_ophthalmoplegia/Progressive_supranuclear_palsy-parkinsonism_syndrome"
        },
        {
         "0": "NT_167251.2",
         "1": "804724",
         "2": "rs377402921",
         "3": "G",
         "4": "T,C,A",
         "5": ".",
         "6": ".",
         "7": "RS=377402921;dbSNPBuildID=138;SSR=0;GENEINFO=MAPT:4137;VC=SNV;NSM;INT;GNO;FREQ=GnomAD_exomes:1,.,.,4.777e-05|GoESP:0.9999,.,.,7.689e-05|dbGaP_PopFreq:0.9999,0,0,0.0001123;CLNVI=.,.,,;CLNORIGIN=.,.,1,0|1;CLNSIG=.,.,3,0|0;CLNDISDB=.,.,MedGen:CN517202,MedGen:CN517202|Office_of_Rare_Diseases:8436/Office_of_Rare_Diseases:7392/MONDO:MONDO:0017276/MedGen:C0338451/Orphanet:282/OMIM:600274/Human_Phenotype_Ontology:HP:0002145/MONDO:MONDO:0008199/MedGen:C3160718/OMIM:168600/MONDO:MONDO:0009839/MedGen:C1850077/Orphanet:240085/Orphanet:683/Orphanet:99750/OMIM:260540/MONDO:MONDO:0008243/MedGen:C0236642/Orphanet:282/OMIM:172700/MedGen:C4551862;CLNDN=.,.,not_provided,not_provided|Frontotemporal_dementia/Parkinson_disease\\x2c_late-onset/Pick_disease/Progressive_supranuclear_ophthalmoplegia/Progressive_supranuclear_palsy-parkinsonism_syndrome;CLNREVSTAT=.,.,single,single|single;CLNACC=.,.,RCV000910085.3,RCV000493800.2|RCV000764133.2;CLNHGVS=NT_167251.2:g.804724=,NT_167251.2:g.804724G>T,NT_167251.2:g.804724G>C,NT_167251.2:g.804724G>A",
         "8": ".,.,not_provided,not_provided|Frontotemporal_dementia/Parkinson_disease\\x2c_late-onset/Pick_disease/Progressive_supranuclear_ophthalmoplegia/Progressive_supranuclear_palsy-parkinsonism_syndrome"
        },
        {
         "0": "NT_187663.1",
         "1": "685813",
         "2": "rs377402921",
         "3": "C",
         "4": "A,G,T",
         "5": ".",
         "6": ".",
         "7": "RS=377402921;dbSNPBuildID=138;SSR=0;GENEINFO=MAPT:4137;VC=SNV;NSM;INT;GNO;FREQ=GnomAD_exomes:1,.,.,4.777e-05|GoESP:0.9999,.,.,7.689e-05|dbGaP_PopFreq:0.9999,0,0,0.0001123;CLNVI=.,.,,;CLNORIGIN=.,.,1,0|1;CLNSIG=.,.,3,0|0;CLNDISDB=.,.,MedGen:CN517202,MedGen:CN517202|Office_of_Rare_Diseases:8436/Office_of_Rare_Diseases:7392/MONDO:MONDO:0017276/MedGen:C0338451/Orphanet:282/OMIM:600274/Human_Phenotype_Ontology:HP:0002145/MONDO:MONDO:0008199/MedGen:C3160718/OMIM:168600/MONDO:MONDO:0009839/MedGen:C1850077/Orphanet:240085/Orphanet:683/Orphanet:99750/OMIM:260540/MONDO:MONDO:0008243/MedGen:C0236642/Orphanet:282/OMIM:172700/MedGen:C4551862;CLNDN=.,.,not_provided,not_provided|Frontotemporal_dementia/Parkinson_disease\\x2c_late-onset/Pick_disease/Progressive_supranuclear_ophthalmoplegia/Progressive_supranuclear_palsy-parkinsonism_syndrome;CLNREVSTAT=.,.,single,single|single;CLNACC=.,.,RCV000910085.3,RCV000493800.2|RCV000764133.2;CLNHGVS=NT_187663.1:g.685813=,NT_187663.1:g.685813C>A,NT_187663.1:g.685813C>G,NT_187663.1:g.685813C>T",
         "8": ".,.,not_provided,not_provided|Frontotemporal_dementia/Parkinson_disease\\x2c_late-onset/Pick_disease/Progressive_supranuclear_ophthalmoplegia/Progressive_supranuclear_palsy-parkinsonism_syndrome"
        },
        {
         "0": "NT_187663.1",
         "1": "712443",
         "2": "rs63750756",
         "3": "T",
         "4": "G",
         "5": ".",
         "6": ".",
         "7": "RS=63750756;dbSNPBuildID=136;SSR=0;GENEINFO=MAPT:4137;VC=SNV;PUB;NSM;INT;GNO;FREQ=PAGE_STUDY:1,0|dbGaP_PopFreq:1,0;CLNVI=.,OMIM:157140.0009|UniProtKB:P10636#VAR_010346;CLNORIGIN=.,0|1|1073741824;CLNSIG=.,5|1|5;CLNDISDB=.,Office_of_Rare_Diseases:8436/MONDO:MONDO:0017276/MedGen:C0338451/Orphanet:282/OMIM:600274/Human_Phenotype_Ontology:HP:0002145|MedGen:CN517202|Office_of_Rare_Diseases:8436/Office_of_Rare_Diseases:7392/MONDO:MONDO:0017276/MedGen:C0338451/Orphanet:282/OMIM:600274/Human_Phenotype_Ontology:HP:0002145/MONDO:MONDO:0008199/MedGen:C3160718/OMIM:168600/MONDO:MONDO:0009839/MedGen:C1850077/Orphanet:240085/Orphanet:683/Orphanet:99750/OMIM:260540/MONDO:MONDO:0008243/MedGen:C0236642/Orphanet:282/OMIM:172700/MedGen:C4551862;CLNDN=.,Frontotemporal_dementia|not_provided|Frontotemporal_dementia/Parkinson_disease\\x2c_late-onset/Pick_disease/Progressive_supranuclear_ophthalmoplegia/Progressive_supranuclear_palsy-parkinsonism_syndrome;CLNREVSTAT=.,single|no_assertion|single;CLNACC=.,RCV000015322.28|RCV000084521.2|RCV000763404.2;CLNHGVS=NT_187663.1:g.712443=,NT_187663.1:g.712443T>G",
         "8": ".,Frontotemporal_dementia|not_provided|Frontotemporal_dementia/Parkinson_disease\\x2c_late-onset/Pick_disease/Progressive_supranuclear_ophthalmoplegia/Progressive_supranuclear_palsy-parkinsonism_syndrome"
        },
        {
         "0": "NT_187663.1",
         "1": "712489",
         "2": "rs63751392",
         "3": "GATA",
         "4": "G",
         "5": ".",
         "6": ".",
         "7": "RS=63751392;dbSNPBuildID=136;SSR=0;GENEINFO=MAPT:4137;VC=INDEL;PUB;INT;CLNVI=.,OMIM:157140.0021;CLNORIGIN=.,1|1073741825;CLNSIG=.,5|9|5;CLNDISDB=.,MONDO:MONDO:0009839/MedGen:C1850077/Orphanet:240085/Orphanet:683/Orphanet:99750/OMIM:260540|MONDO:MONDO:0008199/MedGen:C3160718/OMIM:168600|MedGen:CN517202;CLNDN=.,Progressive_supranuclear_palsy-parkinsonism_syndrome|Parkinson_disease\\x2c_late-onset|not_provided;CLNREVSTAT=.,no_criteria|no_criteria|single;CLNACC=.,RCV000015334.27|RCV000015335.4|RCV000084581.7;CLNHGVS=NT_187663.1:g.712490_712495=,NT_187663.1:g.712490ATA[1]",
         "8": ".,Progressive_supranuclear_palsy-parkinsonism_syndrome|Parkinson_disease\\x2c_late-onset|not_provided"
        },
        {
         "0": "NT_187663.1",
         "1": "712508",
         "2": "rs63751273",
         "3": "C",
         "4": "T",
         "5": ".",
         "6": ".",
         "7": "RS=63751273;dbSNPBuildID=136;SSR=0;GENEINFO=MAPT:4137;VC=SNV;PUB;NSM;INT;GNO;FREQ=PAGE_STUDY:1,0|dbGaP_PopFreq:1,0;CLNVI=.,OMIM:157140.0001|UniProtKB:P10636#VAR_010348;CLNORIGIN=.,0|1|1073741825;CLNSIG=.,5|5|5|5;CLNDISDB=.,Office_of_Rare_Diseases:8436/MONDO:MONDO:0017276/MedGen:C0338451/Orphanet:282/OMIM:600274/Human_Phenotype_Ontology:HP:0002145|MedGen:C4551862|MedGen:CN517202|Office_of_Rare_Diseases:8436/Office_of_Rare_Diseases:7392/MONDO:MONDO:0017276/MedGen:C0338451/Orphanet:282/OMIM:600274/Human_Phenotype_Ontology:HP:0002145/MONDO:MONDO:0008199/MedGen:C3160718/OMIM:168600/MONDO:MONDO:0009839/MedGen:C1850077/Orphanet:240085/Orphanet:683/Orphanet:99750/OMIM:260540/MONDO:MONDO:0008243/MedGen:C0236642/Orphanet:282/OMIM:172700/MedGen:C4551862;CLNDN=.,Frontotemporal_dementia|Progressive_supranuclear_ophthalmoplegia|not_provided|Frontotemporal_dementia/Parkinson_disease\\x2c_late-onset/Pick_disease/Progressive_supranuclear_ophthalmoplegia/Progressive_supranuclear_palsy-parkinsonism_syndrome;CLNREVSTAT=.,mult|no_criteria|mult|single;CLNACC=.,RCV000015313.35|RCV000015314.28|RCV000084527.8|RCV000763405.2;CLNHGVS=NT_187663.1:g.712508=,NT_187663.1:g.712508C>T",
         "8": ".,Frontotemporal_dementia|Progressive_supranuclear_ophthalmoplegia|not_provided|Frontotemporal_dementia/Parkinson_disease\\x2c_late-onset/Pick_disease/Progressive_supranuclear_ophthalmoplegia/Progressive_supranuclear_palsy-parkinsonism_syndrome"
        },
        {
         "0": "NT_187663.1",
         "1": "726173",
         "2": "rs63750424",
         "3": "C",
         "4": "T",
         "5": ".",
         "6": ".",
         "7": "RS=63750424;dbSNPBuildID=132;SSR=0;GENEINFO=MAPT:4137;VC=SNV;PUB;NSM;INT;GNO;FREQ=ExAC:1,8.268e-06|GnomAD_exomes:1,1.592e-05|PAGE_STUDY:1,0|dbGaP_PopFreq:0.9998,0.0001816;CLNVI=.,OMIM:157140.0003|UniProtKB:P10636#VAR_010353;CLNORIGIN=.,0|1|1073741825;CLNSIG=.,5|5|5;CLNDISDB=.,Office_of_Rare_Diseases:8436/MONDO:MONDO:0017276/MedGen:C0338451/Orphanet:282/OMIM:600274/Human_Phenotype_Ontology:HP:0002145|MedGen:CN517202|Office_of_Rare_Diseases:8436/Office_of_Rare_Diseases:7392/MONDO:MONDO:0017276/MedGen:C0338451/Orphanet:282/OMIM:600274/Human_Phenotype_Ontology:HP:0002145/MONDO:MONDO:0008199/MedGen:C3160718/OMIM:168600/MONDO:MONDO:0009839/MedGen:C1850077/Orphanet:240085/Orphanet:683/Orphanet:99750/OMIM:260540/MONDO:MONDO:0008243/MedGen:C0236642/Orphanet:282/OMIM:172700/MedGen:C4551862;CLNDN=.,Frontotemporal_dementia|not_provided|Frontotemporal_dementia/Parkinson_disease\\x2c_late-onset/Pick_disease/Progressive_supranuclear_ophthalmoplegia/Progressive_supranuclear_palsy-parkinsonism_syndrome;CLNREVSTAT=.,single|mult|single;CLNACC=.,RCV000015316.31|RCV000084554.12|RCV000763406.2;CLNHGVS=NT_187663.1:g.726173=,NT_187663.1:g.726173C>T",
         "8": ".,Frontotemporal_dementia|not_provided|Frontotemporal_dementia/Parkinson_disease\\x2c_late-onset/Pick_disease/Progressive_supranuclear_ophthalmoplegia/Progressive_supranuclear_palsy-parkinsonism_syndrome"
        }
       ],
       "schema": [
        {
         "key": "0",
         "name": "CHROM",
         "type": "string"
        },
        {
         "key": "1",
         "name": "POS",
         "type": "string"
        },
        {
         "key": "2",
         "name": "ID",
         "type": "string"
        },
        {
         "key": "3",
         "name": "REF",
         "type": "string"
        },
        {
         "key": "4",
         "name": "ALT",
         "type": "string"
        },
        {
         "key": "5",
         "name": "QUAL",
         "type": "string"
        },
        {
         "key": "6",
         "name": "FILTER",
         "type": "string"
        },
        {
         "key": "7",
         "name": "INFO",
         "type": "string"
        },
        {
         "key": "8",
         "name": "CLNDN",
         "type": "string"
        }
       ],
       "truncated": false
      }
     },
     "type": "Synapse.DataFrame"
    },
    "ea8b0e9b-7f2c-46d2-b894-b49e7848d7ae": {
     "persist_state": {
      "view": {
       "chartOptions": {
        "aggregationType": "count",
        "categoryFieldKeys": [
         "0"
        ],
        "chartType": "bar",
        "isStacked": false,
        "seriesFieldKeys": [
         "0"
        ]
       },
       "tableOptions": {},
       "type": "details"
      }
     },
     "sync_state": {
      "isSummary": false,
      "language": "scala",
      "table": {
       "rows": [
        {
         "0": "NC_000001.11",
         "1": "10001",
         "2": "rs1570391677",
         "3": "T",
         "4": "A,C",
         "5": ".",
         "6": ".",
         "7": "RS=1570391677;dbSNPBuildID=154;SSR=0;PSEUDOGENEINFO=DDX11L1:100287102;VC=SNV;R5;GNO;FREQ=KOREAN:0.9891,0.0109,.|SGDP_PRJ:0,1,.|dbGaP_PopFreq:1,.,0;COMMON"
        },
        {
         "0": "NC_000001.11",
         "1": "10002",
         "2": "rs1570391692",
         "3": "A",
         "4": "C",
         "5": ".",
         "6": ".",
         "7": "RS=1570391692;dbSNPBuildID=154;SSR=0;PSEUDOGENEINFO=DDX11L1:100287102;VC=SNV;R5;GNO;FREQ=KOREAN:0.9944,0.005597"
        },
        {
         "0": "NC_000001.11",
         "1": "10003",
         "2": "rs1570391694",
         "3": "A",
         "4": "C",
         "5": ".",
         "6": ".",
         "7": "RS=1570391694;dbSNPBuildID=154;SSR=0;PSEUDOGENEINFO=DDX11L1:100287102;VC=SNV;R5;GNO;FREQ=KOREAN:0.9902,0.009763"
        },
        {
         "0": "NC_000001.11",
         "1": "10007",
         "2": "rs1639538116",
         "3": "T",
         "4": "C,G",
         "5": ".",
         "6": ".",
         "7": "RS=1639538116;SSR=0;PSEUDOGENEINFO=DDX11L1:100287102;VC=SNV;R5;GNO;FREQ=dbGaP_PopFreq:1,0,0"
        },
        {
         "0": "NC_000001.11",
         "1": "10008",
         "2": "rs1570391698",
         "3": "A",
         "4": "C,G,T",
         "5": ".",
         "6": ".",
         "7": "RS=1570391698;dbSNPBuildID=154;SSR=0;PSEUDOGENEINFO=DDX11L1:100287102;VC=SNV;R5;GNO;FREQ=KOREAN:0.9969,.,0.003086,.|dbGaP_PopFreq:1,0,.,0"
        },
        {
         "0": "NC_000001.11",
         "1": "10009",
         "2": "rs1570391702",
         "3": "A",
         "4": "C,G",
         "5": ".",
         "6": ".",
         "7": "RS=1570391702;dbSNPBuildID=154;SSR=0;PSEUDOGENEINFO=DDX11L1:100287102;VC=SNV;R5;GNO;FREQ=KOREAN:0.9911,.,0.008916|dbGaP_PopFreq:1,0,0"
        },
        {
         "0": "NC_000001.11",
         "1": "10013",
         "2": "rs1639538192",
         "3": "T",
         "4": "C,G",
         "5": ".",
         "6": ".",
         "7": "RS=1639538192;SSR=0;PSEUDOGENEINFO=DDX11L1:100287102;VC=SNV;R5;GNO;FREQ=dbGaP_PopFreq:1,0,0"
        },
        {
         "0": "NC_000001.11",
         "1": "10013",
         "2": "rs1639538231",
         "3": "TA",
         "4": "T",
         "5": ".",
         "6": ".",
         "7": "RS=1639538231;SSR=0;PSEUDOGENEINFO=DDX11L1:100287102;VC=INDEL;R5;GNO;FREQ=dbGaP_PopFreq:1,0"
        },
        {
         "0": "NC_000001.11",
         "1": "10014",
         "2": "rs1639538207",
         "3": "A",
         "4": "C,G,T",
         "5": ".",
         "6": ".",
         "7": "RS=1639538207;SSR=0;PSEUDOGENEINFO=DDX11L1:100287102;VC=SNV;R5;GNO;FREQ=dbGaP_PopFreq:1,0,0,0"
        },
        {
         "0": "NC_000001.11",
         "1": "10015",
         "2": "rs1570391706",
         "3": "A",
         "4": "C,G,T",
         "5": ".",
         "6": ".",
         "7": "RS=1570391706;dbSNPBuildID=154;SSR=0;PSEUDOGENEINFO=DDX11L1:100287102;VC=SNV;R5;GNO;FREQ=KOREAN:0.9942,.,0.005826,.|dbGaP_PopFreq:1,0,0,0"
        },
        {
         "0": "NC_000001.11",
         "1": "10016",
         "2": "rs1639541071",
         "3": "C",
         "4": "T",
         "5": ".",
         "6": ".",
         "7": "RS=1639541071;SSR=0;PSEUDOGENEINFO=DDX11L1:100287102;VC=SNV;R5;GNO;FREQ=dbGaP_PopFreq:1,0"
        },
        {
         "0": "NC_000001.11",
         "1": "10019",
         "2": "rs775809821",
         "3": "TA",
         "4": "T",
         "5": ".",
         "6": ".",
         "7": "RS=775809821;dbSNPBuildID=144;SSR=0;PSEUDOGENEINFO=DDX11L1:100287102;VC=INDEL;R5"
        },
        {
         "0": "NC_000001.11",
         "1": "10020",
         "2": "rs1570391708",
         "3": "A",
         "4": "C,G,T",
         "5": ".",
         "6": ".",
         "7": "RS=1570391708;dbSNPBuildID=154;SSR=0;PSEUDOGENEINFO=DDX11L1:100287102;VC=SNV;R5;GNO;FREQ=KOREAN:0.9973,0.002742,.,.|dbGaP_PopFreq:1,0,0,0"
        },
        {
         "0": "NC_000001.11",
         "1": "10021",
         "2": "rs1570391710",
         "3": "A",
         "4": "C,G",
         "5": ".",
         "6": ".",
         "7": "RS=1570391710;dbSNPBuildID=154;SSR=0;PSEUDOGENEINFO=DDX11L1:100287102;VC=SNV;R5;GNO;FREQ=KOREAN:0.9942,.,0.005826|dbGaP_PopFreq:1,0,0"
        },
        {
         "0": "NC_000001.11",
         "1": "10022",
         "2": "rs1639541672",
         "3": "C",
         "4": "A,G",
         "5": ".",
         "6": ".",
         "7": "RS=1639541672;SSR=0;PSEUDOGENEINFO=DDX11L1:100287102;VC=SNV;R5;GNO;FREQ=dbGaP_PopFreq:1,0,0"
        },
        {
         "0": "NC_000001.11",
         "1": "10023",
         "2": "rs1639541720",
         "3": "C",
         "4": "T",
         "5": ".",
         "6": ".",
         "7": "RS=1639541720;SSR=0;PSEUDOGENEINFO=DDX11L1:100287102;VC=SNV;R5;GNO;FREQ=dbGaP_PopFreq:1,0"
        },
        {
         "0": "NC_000001.11",
         "1": "10024",
         "2": "rs1639541758",
         "3": "C",
         "4": "CT",
         "5": ".",
         "6": ".",
         "7": "RS=1639541758;SSR=0;PSEUDOGENEINFO=DDX11L1:100287102;VC=INDEL;R5;GNO;FREQ=dbGaP_PopFreq:1,0"
        },
        {
         "0": "NC_000001.11",
         "1": "10025",
         "2": "rs1639541744",
         "3": "T",
         "4": "A",
         "5": ".",
         "6": ".",
         "7": "RS=1639541744;SSR=0;PSEUDOGENEINFO=DDX11L1:100287102;VC=SNV;R5;GNO;FREQ=dbGaP_PopFreq:1,0"
        },
        {
         "0": "NC_000001.11",
         "1": "10026",
         "2": "rs1570391712",
         "3": "A",
         "4": "C,T",
         "5": ".",
         "6": ".",
         "7": "RS=1570391712;dbSNPBuildID=154;SSR=0;PSEUDOGENEINFO=DDX11L1:100287102;VC=SNV;R5;GNO;FREQ=KOREAN:0.9976,0.002399,.|dbGaP_PopFreq:1,0,0"
        },
        {
         "0": "NC_000001.11",
         "1": "10027",
         "2": "rs1570391716",
         "3": "A",
         "4": "C,G,T",
         "5": ".",
         "6": ".",
         "7": "RS=1570391716;dbSNPBuildID=154;SSR=0;PSEUDOGENEINFO=DDX11L1:100287102;VC=SNV;R5;GNO;FREQ=KOREAN:0.9942,0.001371,0.004455,.|dbGaP_PopFreq:1,0,0,0"
        },
        {
         "0": "NC_000001.11",
         "1": "10028",
         "2": "rs1639542057",
         "3": "C",
         "4": "G,T",
         "5": ".",
         "6": ".",
         "7": "RS=1639542057;SSR=0;PSEUDOGENEINFO=DDX11L1:100287102;VC=SNV;R5;GNO;FREQ=dbGaP_PopFreq:1,0,0"
        },
        {
         "0": "NC_000001.11",
         "1": "10029",
         "2": "rs1639542078",
         "3": "C",
         "4": "G,T",
         "5": ".",
         "6": ".",
         "7": "RS=1639542078;SSR=0;PSEUDOGENEINFO=DDX11L1:100287102;VC=SNV;R5;GNO;FREQ=dbGaP_PopFreq:1,0,0"
        },
        {
         "0": "NC_000001.11",
         "1": "10031",
         "2": "rs1639542312",
         "3": "T",
         "4": "C,G",
         "5": ".",
         "6": ".",
         "7": "RS=1639542312;SSR=0;PSEUDOGENEINFO=DDX11L1:100287102;VC=SNV;R5;GNO;FREQ=dbGaP_PopFreq:1,0,0"
        },
        {
         "0": "NC_000001.11",
         "1": "10031",
         "2": "rs1639542364",
         "3": "TA",
         "4": "T",
         "5": ".",
         "6": ".",
         "7": "RS=1639542364;SSR=0;PSEUDOGENEINFO=DDX11L1:100287102;VC=INDEL;R5;GNO;FREQ=dbGaP_PopFreq:1,0"
        },
        {
         "0": "NC_000001.11",
         "1": "10032",
         "2": "rs1570391720",
         "3": "A",
         "4": "C,G,T",
         "5": ".",
         "6": ".",
         "7": "RS=1570391720;dbSNPBuildID=154;SSR=0;PSEUDOGENEINFO=DDX11L1:100287102;VC=SNV;R5;GNO;FREQ=KOREAN:0.9966,0.003427,.,.|dbGaP_PopFreq:1,0,0,0"
        },
        {
         "0": "NC_000001.11",
         "1": "10033",
         "2": "rs1570391722",
         "3": "A",
         "4": "C,G",
         "5": ".",
         "6": ".",
         "7": "RS=1570391722;dbSNPBuildID=154;SSR=0;PSEUDOGENEINFO=DDX11L1:100287102;VC=SNV;R5;GNO;FREQ=KOREAN:0.9949,.,0.005141|dbGaP_PopFreq:1,0,0"
        },
        {
         "0": "NC_000001.11",
         "1": "10036",
         "2": "rs1639542429",
         "3": "CT",
         "4": "C",
         "5": ".",
         "6": ".",
         "7": "RS=1639542429;SSR=0;PSEUDOGENEINFO=DDX11L1:100287102;VC=DEL;R5;GNO;FREQ=dbGaP_PopFreq:1,0"
        },
        {
         "0": "NC_000001.11",
         "1": "10037",
         "2": "rs1639542418",
         "3": "T",
         "4": "C",
         "5": ".",
         "6": ".",
         "7": "RS=1639542418;SSR=0;PSEUDOGENEINFO=DDX11L1:100287102;VC=SNV;R5;GNO;FREQ=dbGaP_PopFreq:1,0"
        },
        {
         "0": "NC_000001.11",
         "1": "10038",
         "2": "rs1639542451",
         "3": "A",
         "4": "C,T",
         "5": ".",
         "6": ".",
         "7": "RS=1639542451;SSR=0;PSEUDOGENEINFO=DDX11L1:100287102;VC=SNV;R5;GNO;FREQ=dbGaP_PopFreq:1,0,0"
        },
        {
         "0": "NC_000001.11",
         "1": "10039",
         "2": "rs978760828",
         "3": "A",
         "4": "C,G",
         "5": ".",
         "6": ".",
         "7": "RS=978760828;dbSNPBuildID=150;SSR=0;PSEUDOGENEINFO=DDX11L1:100287102;VC=SNV;R5;GNO;FREQ=Siberian:0.5,0.5,.|dbGaP_PopFreq:1,0,0"
        },
        {
         "0": "NC_000001.11",
         "1": "10039",
         "2": "rs1639542564",
         "3": "A",
         "4": "AC",
         "5": ".",
         "6": ".",
         "7": "RS=1639542564;SSR=0;PSEUDOGENEINFO=DDX11L1:100287102;VC=INDEL;R5;GNO;FREQ=dbGaP_PopFreq:1,0"
        },
        {
         "0": "NC_000001.11",
         "1": "10040",
         "2": "rs1639542499",
         "3": "C",
         "4": "G",
         "5": ".",
         "6": ".",
         "7": "RS=1639542499;SSR=0;PSEUDOGENEINFO=DDX11L1:100287102;VC=SNV;R5;GNO;FREQ=dbGaP_PopFreq:1,0"
        },
        {
         "0": "NC_000001.11",
         "1": "10041",
         "2": "rs1639543024",
         "3": "C",
         "4": "T",
         "5": ".",
         "6": ".",
         "7": "RS=1639543024;SSR=0;PSEUDOGENEINFO=DDX11L1:100287102;VC=SNV;R5;GNO;FREQ=dbGaP_PopFreq:1,0"
        },
        {
         "0": "NC_000001.11",
         "1": "10042",
         "2": "rs1639543135",
         "3": "C",
         "4": "CT",
         "5": ".",
         "6": ".",
         "7": "RS=1639543135;SSR=0;PSEUDOGENEINFO=DDX11L1:100287102;VC=INDEL;R5;GNO;FREQ=dbGaP_PopFreq:1,0"
        },
        {
         "0": "NC_000001.11",
         "1": "10043",
         "2": "rs1008829651",
         "3": "T",
         "4": "A",
         "5": ".",
         "6": ".",
         "7": "RS=1008829651;dbSNPBuildID=150;SSR=0;PSEUDOGENEINFO=DDX11L1:100287102;VC=SNV;R5;GNO;FREQ=Siberian:0.5,0.5"
        },
        {
         "0": "NC_000001.11",
         "1": "10044",
         "2": "rs1639543152",
         "3": "A",
         "4": "C,G,T",
         "5": ".",
         "6": ".",
         "7": "RS=1639543152;SSR=0;PSEUDOGENEINFO=DDX11L1:100287102;VC=SNV;R5;GNO;FREQ=dbGaP_PopFreq:1,0,0,0"
        },
        {
         "0": "NC_000001.11",
         "1": "10045",
         "2": "rs1570391729",
         "3": "A",
         "4": "C,G",
         "5": ".",
         "6": ".",
         "7": "RS=1570391729;dbSNPBuildID=154;SSR=0;PSEUDOGENEINFO=DDX11L1:100287102;VC=SNV;R5;GNO;FREQ=KOREAN:0.9897,0.005822,0.004452|dbGaP_PopFreq:1,0,0"
        },
        {
         "0": "NC_000001.11",
         "1": "10045",
         "2": "rs1639543279",
         "3": "A",
         "4": "AC",
         "5": ".",
         "6": ".",
         "7": "RS=1639543279;SSR=0;PSEUDOGENEINFO=DDX11L1:100287102;VC=INDEL;R5;GNO;FREQ=dbGaP_PopFreq:1,0"
        },
        {
         "0": "NC_000001.11",
         "1": "10047",
         "2": "rs1639543364",
         "3": "C",
         "4": "T",
         "5": ".",
         "6": ".",
         "7": "RS=1639543364;SSR=0;PSEUDOGENEINFO=DDX11L1:100287102;VC=SNV;R5;GNO;FREQ=dbGaP_PopFreq:1,0"
        },
        {
         "0": "NC_000001.11",
         "1": "10049",
         "2": "rs1639543533",
         "3": "T",
         "4": "C",
         "5": ".",
         "6": ".",
         "7": "RS=1639543533;SSR=0;PSEUDOGENEINFO=DDX11L1:100287102;VC=SNV;R5;GNO;FREQ=dbGaP_PopFreq:1,0"
        },
        {
         "0": "NC_000001.11",
         "1": "10049",
         "2": "rs1639543682",
         "3": "TA",
         "4": "T",
         "5": ".",
         "6": ".",
         "7": "RS=1639543682;SSR=0;PSEUDOGENEINFO=DDX11L1:100287102;VC=INDEL;R5;GNO;FREQ=dbGaP_PopFreq:1,0"
        },
        {
         "0": "NC_000001.11",
         "1": "10050",
         "2": "rs1639543555",
         "3": "A",
         "4": "C,G,T",
         "5": ".",
         "6": ".",
         "7": "RS=1639543555;SSR=0;PSEUDOGENEINFO=DDX11L1:100287102;VC=SNV;R5;GNO;FREQ=dbGaP_PopFreq:1,0,0,0"
        },
        {
         "0": "NC_000001.11",
         "1": "10051",
         "2": "rs1052373574",
         "3": "A",
         "4": "C,G",
         "5": ".",
         "6": ".",
         "7": "RS=1052373574;dbSNPBuildID=150;SSR=0;PSEUDOGENEINFO=DDX11L1:100287102;VC=SNV;R5;GNO;FREQ=KOREAN:0.9945,0.005479,.|Siberian:0.5,.,0.5|dbGaP_PopFreq:1,0,0"
        },
        {
         "0": "NC_000001.11",
         "1": "10051",
         "2": "rs1326880612",
         "3": "A",
         "4": "AC",
         "5": ".",
         "6": ".",
         "7": "RS=1326880612;SSR=0;PSEUDOGENEINFO=DDX11L1:100287102;VC=INDEL;R5;GNO;FREQ=dbGaP_PopFreq:1,0"
        },
        {
         "0": "NC_000001.11",
         "1": "10053",
         "2": "rs1639543753",
         "3": "C",
         "4": "G",
         "5": ".",
         "6": ".",
         "7": "RS=1639543753;SSR=0;PSEUDOGENEINFO=DDX11L1:100287102;VC=SNV;R5;GNO;FREQ=dbGaP_PopFreq:1,0"
        },
        {
         "0": "NC_000001.11",
         "1": "10054",
         "2": "rs1639543798",
         "3": "C",
         "4": "CT",
         "5": ".",
         "6": ".",
         "7": "RS=1639543798;SSR=0;PSEUDOGENEINFO=DDX11L1:100287102;VC=INDEL;R5;GNO;FREQ=dbGaP_PopFreq:1,0"
        },
        {
         "0": "NC_000001.11",
         "1": "10054",
         "2": "rs1639543820",
         "3": "CT",
         "4": "C",
         "5": ".",
         "6": ".",
         "7": "RS=1639543820;SSR=0;PSEUDOGENEINFO=DDX11L1:100287102;VC=DEL;R5;GNO;FREQ=dbGaP_PopFreq:1,0"
        },
        {
         "0": "NC_000001.11",
         "1": "10055",
         "2": "rs768019142",
         "3": "TA",
         "4": "T,TAA",
         "5": ".",
         "6": ".",
         "7": "RS=768019142;dbSNPBuildID=144;SSR=0;PSEUDOGENEINFO=DDX11L1:100287102;VC=INDEL;R5;GNO;FREQ=dbGaP_PopFreq:1,0,."
        },
        {
         "0": "NC_000001.11",
         "1": "10055",
         "2": "rs892501864",
         "3": "T",
         "4": "A,C",
         "5": ".",
         "6": ".",
         "7": "RS=892501864;dbSNPBuildID=150;SSR=0;PSEUDOGENEINFO=DDX11L1:100287102;VC=SNV;R5;GNO;FREQ=Siberian:0.5,0.5,.|dbGaP_PopFreq:1,.,0"
        },
        {
         "0": "NC_000001.11",
         "1": "10056",
         "2": "rs1570391738",
         "3": "A",
         "4": "C,G",
         "5": ".",
         "6": ".",
         "7": "RS=1570391738;dbSNPBuildID=154;SSR=0;PSEUDOGENEINFO=DDX11L1:100287102;VC=SNV;R5;GNO;FREQ=KOREAN:0.9945,0.005479,.|dbGaP_PopFreq:1,0,0"
        },
        {
         "0": "NC_000001.11",
         "1": "10057",
         "2": "rs1570391741",
         "3": "A",
         "4": "C,G",
         "5": ".",
         "6": ".",
         "7": "RS=1570391741;dbSNPBuildID=154;SSR=0;PSEUDOGENEINFO=DDX11L1:100287102;VC=SNV;R5;GNO;FREQ=KOREAN:0.9935,0.006507,.|SGDP_PRJ:0.5,.,0.5|dbGaP_PopFreq:1,0,0"
        },
        {
         "0": "NC_000001.11",
         "1": "10057",
         "2": "rs1639544026",
         "3": "A",
         "4": "AC",
         "5": ".",
         "6": ".",
         "7": "RS=1639544026;SSR=0;PSEUDOGENEINFO=DDX11L1:100287102;VC=INDEL;R5;GNO;FREQ=dbGaP_PopFreq:1,0"
        },
        {
         "0": "NC_000001.11",
         "1": "10059",
         "2": "rs1570391745",
         "3": "C",
         "4": "G",
         "5": ".",
         "6": ".",
         "7": "RS=1570391745;dbSNPBuildID=154;SSR=0;PSEUDOGENEINFO=DDX11L1:100287102;VC=SNV;R5;GNO;FREQ=KOREAN:0.9997,0.0003425|dbGaP_PopFreq:1,0"
        },
        {
         "0": "NC_000001.11",
         "1": "10060",
         "2": "rs1639544146",
         "3": "C",
         "4": "CT",
         "5": ".",
         "6": ".",
         "7": "RS=1639544146;SSR=0;PSEUDOGENEINFO=DDX11L1:100287102;VC=INDEL;R5;GNO;FREQ=dbGaP_PopFreq:1,0"
        },
        {
         "0": "NC_000001.11",
         "1": "10060",
         "2": "rs1639544159",
         "3": "CT",
         "4": "C",
         "5": ".",
         "6": ".",
         "7": "RS=1639544159;SSR=0;PSEUDOGENEINFO=DDX11L1:100287102;VC=DEL;R5;GNO;FREQ=dbGaP_PopFreq:1,0"
        },
        {
         "0": "NC_000001.11",
         "1": "10063",
         "2": "rs1010989343",
         "3": "A",
         "4": "C,G",
         "5": ".",
         "6": ".",
         "7": "RS=1010989343;dbSNPBuildID=150;SSR=0;PSEUDOGENEINFO=DDX11L1:100287102;VC=SNV;R5;GNO;FREQ=KOREAN:0.9928,0.004112,0.003084|Siberian:0.5,0.5,.|dbGaP_PopFreq:1,.,0"
        },
        {
         "0": "NC_000001.11",
         "1": "10067",
         "2": "rs1489251879",
         "3": "T",
         "4": "TAACCCTAACCCTAACCCTAACCCTAACCCTAACCCTAACCC",
         "5": ".",
         "6": ".",
         "7": "RS=1489251879;dbSNPBuildID=151;SSR=0;PSEUDOGENEINFO=DDX11L1:100287102;VC=INDEL;R5;GNO;FREQ=GnomAD:1,1.789e-05|TOMMO:0.9999,0.0001082"
        },
        {
         "0": "NC_000001.11",
         "1": "10067",
         "2": "rs1639545042",
         "3": "T",
         "4": "C",
         "5": ".",
         "6": ".",
         "7": "RS=1639545042;SSR=0;PSEUDOGENEINFO=DDX11L1:100287102;VC=SNV;R5;GNO;FREQ=dbGaP_PopFreq:1,0"
        },
        {
         "0": "NC_000001.11",
         "1": "10067",
         "2": "rs1639545104",
         "3": "TA",
         "4": "T",
         "5": ".",
         "6": ".",
         "7": "RS=1639545104;SSR=0;PSEUDOGENEINFO=DDX11L1:100287102;VC=INDEL;R5;GNO;FREQ=dbGaP_PopFreq:1,0"
        },
        {
         "0": "NC_000001.11",
         "1": "10068",
         "2": "rs1639545079",
         "3": "A",
         "4": "T",
         "5": ".",
         "6": ".",
         "7": "RS=1639545079;SSR=0;PSEUDOGENEINFO=DDX11L1:100287102;VC=SNV;R5;GNO;FREQ=dbGaP_PopFreq:1,0"
        },
        {
         "0": "NC_000001.11",
         "1": "10069",
         "2": "rs1570391755",
         "3": "A",
         "4": "C,G",
         "5": ".",
         "6": ".",
         "7": "RS=1570391755;dbSNPBuildID=154;SSR=0;PSEUDOGENEINFO=DDX11L1:100287102;VC=SNV;R5;GNO;FREQ=KOREAN:0.9966,.,0.003425|dbGaP_PopFreq:1,0,0"
        },
        {
         "0": "NC_000001.11",
         "1": "10069",
         "2": "rs1639545200",
         "3": "A",
         "4": "AC",
         "5": ".",
         "6": ".",
         "7": "RS=1639545200;SSR=0;PSEUDOGENEINFO=DDX11L1:100287102;VC=INDEL;R5;GNO;FREQ=dbGaP_PopFreq:1,0"
        },
        {
         "0": "NC_000001.11",
         "1": "10070",
         "2": "rs1639545182",
         "3": "C",
         "4": "G",
         "5": ".",
         "6": ".",
         "7": "RS=1639545182;SSR=0;PSEUDOGENEINFO=DDX11L1:100287102;VC=SNV;R5;GNO;FREQ=dbGaP_PopFreq:1,0"
        },
        {
         "0": "NC_000001.11",
         "1": "10071",
         "2": "rs1639545215",
         "3": "C",
         "4": "T",
         "5": ".",
         "6": ".",
         "7": "RS=1639545215;SSR=0;PSEUDOGENEINFO=DDX11L1:100287102;VC=SNV;R5;GNO;FREQ=dbGaP_PopFreq:1,0"
        },
        {
         "0": "NC_000001.11",
         "1": "10072",
         "2": "rs1639545236",
         "3": "C",
         "4": "CT",
         "5": ".",
         "6": ".",
         "7": "RS=1639545236;SSR=0;PSEUDOGENEINFO=DDX11L1:100287102;VC=INDEL;R5;GNO;FREQ=dbGaP_PopFreq:1,0"
        },
        {
         "0": "NC_000001.11",
         "1": "10074",
         "2": "rs1639545252",
         "3": "A",
         "4": "C",
         "5": ".",
         "6": ".",
         "7": "RS=1639545252;SSR=0;PSEUDOGENEINFO=DDX11L1:100287102;VC=SNV;R5;GNO;FREQ=dbGaP_PopFreq:1,0"
        },
        {
         "0": "NC_000001.11",
         "1": "10075",
         "2": "rs1570391757",
         "3": "A",
         "4": "G",
         "5": ".",
         "6": ".",
         "7": "RS=1570391757;dbSNPBuildID=154;SSR=0;PSEUDOGENEINFO=DDX11L1:100287102;VC=SNV;R5;GNO;FREQ=KOREAN:0.9979,0.002055"
        },
        {
         "0": "NC_000001.11",
         "1": "10077",
         "2": "rs1022805358",
         "3": "C",
         "4": "G,T",
         "5": ".",
         "6": ".",
         "7": "RS=1022805358;dbSNPBuildID=150;SSR=0;PSEUDOGENEINFO=DDX11L1:100287102;VC=SNV;R5;GNO;FREQ=Siberian:0.5,0.5,.|dbGaP_PopFreq:1,.,0"
        },
        {
         "0": "NC_000001.11",
         "1": "10079",
         "2": "rs1639545320",
         "3": "T",
         "4": "C",
         "5": ".",
         "6": ".",
         "7": "RS=1639545320;SSR=0;PSEUDOGENEINFO=DDX11L1:100287102;VC=SNV;R5;GNO;FREQ=dbGaP_PopFreq:1,0"
        },
        {
         "0": "NC_000001.11",
         "1": "10081",
         "2": "rs1570391762",
         "3": "A",
         "4": "C,G",
         "5": ".",
         "6": ".",
         "7": "RS=1570391762;dbSNPBuildID=154;SSR=0;PSEUDOGENEINFO=DDX11L1:100287102;VC=SNV;R5;GNO;FREQ=KOREAN:0.999,.,0.001027|dbGaP_PopFreq:1,0,."
        },
        {
         "0": "NC_000001.11",
         "1": "10086",
         "2": "rs1570391767",
         "3": "A",
         "4": "C",
         "5": ".",
         "6": ".",
         "7": "RS=1570391767;dbSNPBuildID=154;SSR=0;PSEUDOGENEINFO=DDX11L1:100287102;VC=SNV;R5;GNO;FREQ=KOREAN:0.9993,0.0006849"
        },
        {
         "0": "NC_000001.11",
         "1": "10087",
         "2": "rs1639545755",
         "3": "A",
         "4": "AC",
         "5": ".",
         "6": ".",
         "7": "RS=1639545755;SSR=0;PSEUDOGENEINFO=DDX11L1:100287102;VC=INDEL;R5;GNO;FREQ=dbGaP_PopFreq:1,0"
        },
        {
         "0": "NC_000001.11",
         "1": "10092",
         "2": "rs1570391770",
         "3": "A",
         "4": "C",
         "5": ".",
         "6": ".",
         "7": "RS=1570391770;dbSNPBuildID=154;SSR=0;PSEUDOGENEINFO=DDX11L1:100287102;VC=SNV;R5;GNO;FREQ=KOREAN:0.9993,0.0006849"
        },
        {
         "0": "NC_000001.11",
         "1": "10099",
         "2": "rs1570391772",
         "3": "A",
         "4": "C,G",
         "5": ".",
         "6": ".",
         "7": "RS=1570391772;dbSNPBuildID=154;SSR=0;PSEUDOGENEINFO=DDX11L1:100287102;VC=SNV;R5;GNO;FREQ=KOREAN:0.999,0.001027,.|dbGaP_PopFreq:1,.,0"
        },
        {
         "0": "NC_000001.11",
         "1": "10099",
         "2": "rs1639545857",
         "3": "AC",
         "4": "A",
         "5": ".",
         "6": ".",
         "7": "RS=1639545857;SSR=0;PSEUDOGENEINFO=DDX11L1:100287102;VC=INDEL;R5;GNO;FREQ=dbGaP_PopFreq:1,0"
        },
        {
         "0": "NC_000001.11",
         "1": "10100",
         "2": "rs1639545829",
         "3": "C",
         "4": "G",
         "5": ".",
         "6": ".",
         "7": "RS=1639545829;SSR=0;PSEUDOGENEINFO=DDX11L1:100287102;VC=SNV;R5;GNO;FREQ=dbGaP_PopFreq:1,0"
        },
        {
         "0": "NC_000001.11",
         "1": "10103",
         "2": "rs1639545881",
         "3": "T",
         "4": "A,C",
         "5": ".",
         "6": ".",
         "7": "RS=1639545881;SSR=0;PSEUDOGENEINFO=DDX11L1:100287102;VC=SNV;R5;GNO;FREQ=dbGaP_PopFreq:1,0,0"
        },
        {
         "0": "NC_000001.11",
         "1": "10105",
         "2": "rs1570391775",
         "3": "A",
         "4": "C",
         "5": ".",
         "6": ".",
         "7": "RS=1570391775;dbSNPBuildID=154;SSR=0;PSEUDOGENEINFO=DDX11L1:100287102;VC=SNV;R5;GNO;FREQ=KOREAN:0.9767,0.02329|SGDP_PRJ:0.5,0.5|dbGaP_PopFreq:1,0"
        },
        {
         "0": "NC_000001.11",
         "1": "10105",
         "2": "rs1639545943",
         "3": "A",
         "4": "AC",
         "5": ".",
         "6": ".",
         "7": "RS=1639545943;SSR=0;PSEUDOGENEINFO=DDX11L1:100287102;VC=INDEL;R5;GNO;FREQ=dbGaP_PopFreq:0.9999,8.43e-05"
        },
        {
         "0": "NC_000001.11",
         "1": "10106",
         "2": "rs1639545966",
         "3": "C",
         "4": "CT",
         "5": ".",
         "6": ".",
         "7": "RS=1639545966;SSR=0;PSEUDOGENEINFO=DDX11L1:100287102;VC=INS;R5;GNO;FREQ=dbGaP_PopFreq:1,0"
        },
        {
         "0": "NC_000001.11",
         "1": "10106",
         "2": "rs1639545986",
         "3": "CCCAA",
         "4": "C",
         "5": ".",
         "6": ".",
         "7": "RS=1639545986;SSR=0;PSEUDOGENEINFO=DDX11L1:100287102;VC=INDEL;R5;GNO;FREQ=dbGaP_PopFreq:1,0"
        },
        {
         "0": "NC_000001.11",
         "1": "10108",
         "2": "rs62651026",
         "3": "C",
         "4": "T",
         "5": ".",
         "6": ".",
         "7": "RS=62651026;dbSNPBuildID=129;SSR=0;PSEUDOGENEINFO=DDX11L1:100287102;VC=SNV;R5;GNO;FREQ=dbGaP_PopFreq:1,0"
        },
        {
         "0": "NC_000001.11",
         "1": "10108",
         "2": "rs1322538365",
         "3": "C",
         "4": "CT",
         "5": ".",
         "6": ".",
         "7": "RS=1322538365;SSR=0;PSEUDOGENEINFO=DDX11L1:100287102;VC=INS;R5;GNO;FREQ=dbGaP_PopFreq:1,0"
        },
        {
         "0": "NC_000001.11",
         "1": "10108",
         "2": "rs1377973775",
         "3": "CAACCCT",
         "4": "C",
         "5": ".",
         "6": ".",
         "7": "RS=1377973775;dbSNPBuildID=151;SSR=0;PSEUDOGENEINFO=DDX11L1:100287102;VC=INDEL;R5;GNO;FREQ=TOMMO:0.9999,5.661e-05"
        },
        {
         "0": "NC_000001.11",
         "1": "10108",
         "2": "rs1639546068",
         "3": "C",
         "4": "CA",
         "5": ".",
         "6": ".",
         "7": "RS=1639546068;SSR=0;PSEUDOGENEINFO=DDX11L1:100287102;VC=INDEL;R5;GNO;FREQ=dbGaP_PopFreq:1,0"
        },
        {
         "0": "NC_000001.11",
         "1": "10109",
         "2": "rs376007522",
         "3": "A",
         "4": "T",
         "5": ".",
         "6": ".",
         "7": "RS=376007522;dbSNPBuildID=138;SSR=0;PSEUDOGENEINFO=DDX11L1:100287102;VC=SNV;R5;GNO;FREQ=Qatari:0.5093,0.4907|SGDP_PRJ:0.5,0.5|dbGaP_PopFreq:1,0"
        },
        {
         "0": "NC_000001.11",
         "1": "10109",
         "2": "rs1462685959",
         "3": "AACCCT",
         "4": "A",
         "5": ".",
         "6": ".",
         "7": "RS=1462685959;dbSNPBuildID=151;SSR=0;PSEUDOGENEINFO=DDX11L1:100287102;VC=INDEL;R5;GNO;FREQ=GnomAD:0.9213,0.07873|TOMMO:0.9993,0.0007182"
        },
        {
         "0": "NC_000001.11",
         "1": "10111",
         "2": "rs1639546129",
         "3": "C",
         "4": "A",
         "5": ".",
         "6": ".",
         "7": "RS=1639546129;dbSNPBuildID=156;SSR=0;PSEUDOGENEINFO=DDX11L1:100287102;VC=SNV;R5;GNO;FREQ=TOMMO:0.9998,0.0002319|dbGaP_PopFreq:1,0"
        },
        {
         "0": "NC_000001.11",
         "1": "10114",
         "2": "rs1570391787",
         "3": "T",
         "4": "C",
         "5": ".",
         "6": ".",
         "7": "RS=1570391787;dbSNPBuildID=154;SSR=0;PSEUDOGENEINFO=DDX11L1:100287102;VC=SNV;R5;GNO;FREQ=GnomAD:0.9998,0.0002332|KOREAN:0.9918,0.008219|TOMMO:0.9995,0.0004666|dbGaP_PopFreq:1,0"
        },
        {
         "0": "NC_000001.11",
         "1": "10114",
         "2": "rs1570391788",
         "3": "TA",
         "4": "T",
         "5": ".",
         "6": ".",
         "7": "RS=1570391788;dbSNPBuildID=154;SSR=0;PSEUDOGENEINFO=DDX11L1:100287102;VC=INDEL;R5;GNO;FREQ=Korea1K:0.9994,0.0005643|TOMMO:0.9998,0.000175"
        },
        {
         "0": "NC_000001.11",
         "1": "10115",
         "2": "rs1639546167",
         "3": "A",
         "4": "T",
         "5": ".",
         "6": ".",
         "7": "RS=1639546167;SSR=0;PSEUDOGENEINFO=DDX11L1:100287102;VC=SNV;R5;GNO;FREQ=dbGaP_PopFreq:1,0"
        },
        {
         "0": "NC_000001.11",
         "1": "10116",
         "2": "rs1639546233",
         "3": "AC",
         "4": "A",
         "5": ".",
         "6": ".",
         "7": "RS=1639546233;dbSNPBuildID=155;SSR=0;PSEUDOGENEINFO=DDX11L1:100287102;VC=INDEL;R5;GNO;FREQ=GnomAD:1,1.249e-05"
        },
        {
         "0": "NC_000001.11",
         "1": "10116",
         "2": "rs1639546252",
         "3": "ACCCTAACCCTAACCCTAACCCTAACCCTAAC",
         "4": "A",
         "5": ".",
         "6": ".",
         "7": "RS=1639546252;dbSNPBuildID=155;SSR=0;PSEUDOGENEINFO=DDX11L1:100287102;VC=INDEL;R5;GNO;FREQ=TOMMO:0.9999,6.444e-05"
        },
        {
         "0": "NC_000001.11",
         "1": "10116",
         "2": "rs2100298979",
         "3": "A",
         "4": "G",
         "5": ".",
         "6": ".",
         "7": "RS=2100298979;dbSNPBuildID=156;SSR=0;PSEUDOGENEINFO=DDX11L1:100287102;VC=SNV;R5;GNO;FREQ=TOMMO:0.9999,5.644e-05"
        },
        {
         "0": "NC_000001.11",
         "1": "10117",
         "2": "rs1639546198",
         "3": "C",
         "4": "A",
         "5": ".",
         "6": ".",
         "7": "RS=1639546198;dbSNPBuildID=156;SSR=0;PSEUDOGENEINFO=DDX11L1:100287102;VC=SNV;R5;GNO;FREQ=TOMMO:0.9998,0.00017|dbGaP_PopFreq:1,0"
        },
        {
         "0": "NC_000001.11",
         "1": "10119",
         "2": "rs1156821933",
         "3": "CT",
         "4": "C",
         "5": ".",
         "6": ".",
         "7": "RS=1156821933;dbSNPBuildID=151;SSR=0;PSEUDOGENEINFO=DDX11L1:100287102;VC=DEL;R5;GNO;FREQ=GnomAD:1,2.261e-05|TOMMO:0.9998,0.0002238"
        },
        {
         "0": "NC_000001.11",
         "1": "10120",
         "2": "rs1390810297",
         "3": "T",
         "4": "A,C",
         "5": ".",
         "6": ".",
         "7": "RS=1390810297;dbSNPBuildID=151;SSR=0;PSEUDOGENEINFO=DDX11L1:100287102;VC=SNV;R5;GNO;FREQ=dbGaP_PopFreq:1,0,0"
        },
        {
         "0": "NC_000001.11",
         "1": "10120",
         "2": "rs1639546342",
         "3": "TA",
         "4": "T",
         "5": ".",
         "6": ".",
         "7": "RS=1639546342;dbSNPBuildID=155;SSR=0;PSEUDOGENEINFO=DDX11L1:100287102;VC=INDEL;R5;GNO;FREQ=GnomAD:1,3.025e-05|TOMMO:0.9999,0.0001146"
        },
        {
         "0": "NC_000001.11",
         "1": "10121",
         "2": "rs1639546322",
         "3": "A",
         "4": "T",
         "5": ".",
         "6": ".",
         "7": "RS=1639546322;dbSNPBuildID=156;SSR=0;PSEUDOGENEINFO=DDX11L1:100287102;VC=SNV;R5;GNO;FREQ=TOMMO:0.9999,5.665e-05|dbGaP_PopFreq:1,0"
        },
        {
         "0": "NC_000001.11",
         "1": "10122",
         "2": "rs1199085795",
         "3": "A",
         "4": "AC",
         "5": ".",
         "6": ".",
         "7": "RS=1199085795;SSR=0;PSEUDOGENEINFO=DDX11L1:100287102;VC=INDEL;R5;GNO;FREQ=dbGaP_PopFreq:1,0"
        },
        {
         "0": "NC_000001.11",
         "1": "10122",
         "2": "rs2100298988",
         "3": "A",
         "4": "G",
         "5": ".",
         "6": ".",
         "7": "RS=2100298988;dbSNPBuildID=156;SSR=0;PSEUDOGENEINFO=DDX11L1:100287102;VC=SNV;R5;GNO;FREQ=TOMMO:0.9999,5.59e-05"
        },
        {
         "0": "NC_000001.11",
         "1": "10123",
         "2": "rs1639546360",
         "3": "C",
         "4": "A",
         "5": ".",
         "6": ".",
         "7": "RS=1639546360;SSR=0;PSEUDOGENEINFO=DDX11L1:100287102;VC=SNV;R5;GNO;FREQ=dbGaP_PopFreq:1,0"
        },
        {
         "0": "NC_000001.11",
         "1": "10123",
         "2": "rs1639546401",
         "3": "CCCTAA",
         "4": "C",
         "5": ".",
         "6": ".",
         "7": "RS=1639546401;dbSNPBuildID=155;SSR=0;PSEUDOGENEINFO=DDX11L1:100287102;VC=INDEL;R5;GNO;FREQ=GnomAD:1,2.683e-05"
        },
        {
         "0": "NC_000001.11",
         "1": "10125",
         "2": "rs2100298995",
         "3": "CT",
         "4": "C",
         "5": ".",
         "6": ".",
         "7": "RS=2100298995;dbSNPBuildID=156;SSR=0;PSEUDOGENEINFO=DDX11L1:100287102;VC=DEL;R5;GNO;FREQ=TOMMO:0.9998,0.0002223"
        },
        {
         "0": "NC_000001.11",
         "1": "10126",
         "2": "rs1639546424",
         "3": "T",
         "4": "A,C",
         "5": ".",
         "6": ".",
         "7": "RS=1639546424;SSR=0;PSEUDOGENEINFO=DDX11L1:100287102;VC=SNV;R5;GNO;FREQ=dbGaP_PopFreq:1,0,0"
        },
        {
         "0": "NC_000001.11",
         "1": "10126",
         "2": "rs1639546460",
         "3": "TAACCCTAACCCTAACCCTAACCCCTAACCCTAACCCTAACCCTAACCCTAACCTAACCCTAACCCTAACCCTAACCCTAACCCTAACCCTAACCCTAACCCTAACCCCTAACCCTAACCCTAAACCCTA",
         "4": "T",
         "5": ".",
         "6": ".",
         "7": "RS=1639546460;SSR=0;PSEUDOGENEINFO=DDX11L1:100287102;VC=INDEL;R5;GNO;FREQ=GnomAD:1,2.434e-05"
        },
        {
         "0": "NC_000001.11",
         "1": "10127",
         "2": "rs1639546443",
         "3": "A",
         "4": "C,T",
         "5": ".",
         "6": ".",
         "7": "RS=1639546443;SSR=0;PSEUDOGENEINFO=DDX11L1:100287102;VC=SNV;R5;GNO;FREQ=dbGaP_PopFreq:1,0,0"
        },
        {
         "0": "NC_000001.11",
         "1": "10128",
         "2": "rs796688738",
         "3": "AC",
         "4": "A,ACC",
         "5": ".",
         "6": ".",
         "7": "RS=796688738;dbSNPBuildID=146;SSR=0;PSEUDOGENEINFO=DDX11L1:100287102;VC=INDEL;R5;GNO;FREQ=GnomAD:1,2.279e-05,.|dbGaP_PopFreq:1,.,0"
        },
        {
         "0": "NC_000001.11",
         "1": "10128",
         "2": "rs1457723673",
         "3": "ACCCTAACCCTAACCCTAAC",
         "4": "A",
         "5": ".",
         "6": ".",
         "7": "RS=1457723673;dbSNPBuildID=151;SSR=0;PSEUDOGENEINFO=DDX11L1:100287102;VC=INDEL;R5;GNO;FREQ=GnomAD:1,1.139e-05|Korea1K:0.9989,0.001111|TOMMO:0.9999,5.638e-05|dbGaP_PopFreq:0.9998,0.000224"
        },
        {
         "0": "NC_000001.11",
         "1": "10128",
         "2": "rs2100299000",
         "3": "A",
         "4": "C,G",
         "5": ".",
         "6": ".",
         "7": "RS=2100299000;dbSNPBuildID=156;SSR=0;PSEUDOGENEINFO=DDX11L1:100287102;VC=SNV;R5;GNO"
        },
        {
         "0": "NC_000001.11",
         "1": "10129",
         "2": "rs1639546480",
         "3": "C",
         "4": "A",
         "5": ".",
         "6": ".",
         "7": "RS=1639546480;SSR=0;PSEUDOGENEINFO=DDX11L1:100287102;VC=SNV;R5;GNO;FREQ=dbGaP_PopFreq:1,0"
        },
        {
         "0": "NC_000001.11",
         "1": "10129",
         "2": "rs1639546602",
         "3": "CCCTAA",
         "4": "C",
         "5": ".",
         "6": ".",
         "7": "RS=1639546602;dbSNPBuildID=155;SSR=0;PSEUDOGENEINFO=DDX11L1:100287102;VC=INDEL;R5;GNO;FREQ=GnomAD:1,1.353e-05"
        },
        {
         "0": "NC_000001.11",
         "1": "10131",
         "2": "rs1289482855",
         "3": "CT",
         "4": "C",
         "5": ".",
         "6": ".",
         "7": "RS=1289482855;dbSNPBuildID=151;SSR=0;PSEUDOGENEINFO=DDX11L1:100287102;VC=DEL;R5;GNO;FREQ=TOMMO:0.9997,0.0002753"
        },
        {
         "0": "NC_000001.11",
         "1": "10132",
         "2": "rs1390118706",
         "3": "TAACCC",
         "4": "T",
         "5": ".",
         "6": ".",
         "7": "RS=1390118706;dbSNPBuildID=151;SSR=0;PSEUDOGENEINFO=DDX11L1:100287102;VC=DEL;R5;GNO;FREQ=GnomAD:1,2.708e-05"
        },
        {
         "0": "NC_000001.11",
         "1": "10132",
         "2": "rs1436069773",
         "3": "T",
         "4": "A,C,G",
         "5": ".",
         "6": ".",
         "7": "RS=1436069773;dbSNPBuildID=154;SSR=0;PSEUDOGENEINFO=DDX11L1:100287102;VC=SNV;R5;GNO;FREQ=GnomAD:0.9998,.,0.0002437,.|KOREAN:0.9976,.,0.002397,.|dbGaP_PopFreq:1,.,0,0"
        },
        {
         "0": "NC_000001.11",
         "1": "10132",
         "2": "rs2100299017",
         "3": "TA",
         "4": "T",
         "5": ".",
         "6": ".",
         "7": "RS=2100299017;dbSNPBuildID=156;SSR=0;PSEUDOGENEINFO=DDX11L1:100287102;VC=INDEL;R5;GNO;FREQ=TOMMO:0.9999,5.665e-05"
        },
        {
         "0": "NC_000001.11",
         "1": "10133",
         "2": "rs1639546712",
         "3": "A",
         "4": "T",
         "5": ".",
         "6": ".",
         "7": "RS=1639546712;SSR=0;PSEUDOGENEINFO=DDX11L1:100287102;VC=SNV;R5;GNO;FREQ=dbGaP_PopFreq:1,0"
        },
        {
         "0": "NC_000001.11",
         "1": "10134",
         "2": "rs1385251551",
         "3": "ACCCTAACCCTAAC",
         "4": "A",
         "5": ".",
         "6": ".",
         "7": "RS=1385251551;dbSNPBuildID=151;SSR=0;PSEUDOGENEINFO=DDX11L1:100287102;VC=INDEL;R5;GNO;FREQ=GnomAD:0.9999,6.929e-05|Korea1K:0.9994,0.0005556|TOMMO:0.9999,5.546e-05"
        },
        {
         "0": "NC_000001.11",
         "1": "10134",
         "2": "rs1639546758",
         "3": "A",
         "4": "C,G",
         "5": ".",
         "6": ".",
         "7": "RS=1639546758;dbSNPBuildID=155;SSR=0;PSEUDOGENEINFO=DDX11L1:100287102;VC=SNV;R5;GNO;FREQ=GnomAD:1,.,1.155e-05"
        },
        {
         "0": "NC_000001.11",
         "1": "10134",
         "2": "rs1639546812",
         "3": "ACCCT",
         "4": "A",
         "5": ".",
         "6": ".",
         "7": "RS=1639546812;dbSNPBuildID=155;SSR=0;PSEUDOGENEINFO=DDX11L1:100287102;VC=DEL;R5"
        },
        {
         "0": "NC_000001.11",
         "1": "10135",
         "2": "rs1303755152",
         "3": "CCCTAA",
         "4": "C",
         "5": ".",
         "6": ".",
         "7": "RS=1303755152;dbSNPBuildID=151;SSR=0;PSEUDOGENEINFO=DDX11L1:100287102;VC=INDEL;R5;GNO;FREQ=TOMMO:0.9999,5.556e-05"
        },
        {
         "0": "NC_000001.11",
         "1": "10135",
         "2": "rs1639546787",
         "3": "C",
         "4": "A",
         "5": ".",
         "6": ".",
         "7": "RS=1639546787;SSR=0;PSEUDOGENEINFO=DDX11L1:100287102;VC=SNV;R5;GNO;FREQ=dbGaP_PopFreq:1,0"
        },
        {
         "0": "NC_000001.11",
         "1": "10137",
         "2": "rs1346539515",
         "3": "C",
         "4": "G",
         "5": ".",
         "6": ".",
         "7": "RS=1346539515;dbSNPBuildID=151;SSR=0;PSEUDOGENEINFO=DDX11L1:100287102;VC=SNV;R5"
        },
        {
         "0": "NC_000001.11",
         "1": "10137",
         "2": "rs1639546953",
         "3": "CTAACCCTAACCCCT",
         "4": "C",
         "5": ".",
         "6": ".",
         "7": "RS=1639546953;dbSNPBuildID=155;SSR=0;PSEUDOGENEINFO=DDX11L1:100287102;VC=DEL;R5;GNO;FREQ=GnomAD:0.9999,5.309e-05|TOMMO:0.9998,0.0001648"
        },
        {
         "0": "NC_000001.11",
         "1": "10137",
         "2": "rs2100299037",
         "3": "C",
         "4": "CT",
         "5": ".",
         "6": ".",
         "7": "RS=2100299037;dbSNPBuildID=156;SSR=0;PSEUDOGENEINFO=DDX11L1:100287102;VC=INDEL;R5;GNO;FREQ=TOMMO:0.9999,5.493e-05"
        },
        {
         "0": "NC_000001.11",
         "1": "10137",
         "2": "rs2100299039",
         "3": "CT",
         "4": "C",
         "5": ".",
         "6": ".",
         "7": "RS=2100299039;dbSNPBuildID=156;SSR=0;PSEUDOGENEINFO=DDX11L1:100287102;VC=DEL;R5;GNO;FREQ=TOMMO:0.9997,0.0002746"
        },
        {
         "0": "NC_000001.11",
         "1": "10138",
         "2": "rs1228214171",
         "3": "T",
         "4": "A,C,G",
         "5": ".",
         "6": ".",
         "7": "RS=1228214171;dbSNPBuildID=151;SSR=0;PSEUDOGENEINFO=DDX11L1:100287102;VC=SNV;R5;GNO;FREQ=GnomAD:0.9998,.,0.0001896,.|dbGaP_PopFreq:1,0,0,0"
        },
        {
         "0": "NC_000001.11",
         "1": "10138",
         "2": "rs1639547029",
         "3": "TA",
         "4": "T,TAA",
         "5": ".",
         "6": ".",
         "7": "RS=1639547029;dbSNPBuildID=155;SSR=0;PSEUDOGENEINFO=DDX11L1:100287102;VC=INDEL;R5;GNO;FREQ=TOMMO:0.9999,0.0001134,."
        },
        {
         "0": "NC_000001.11",
         "1": "10138",
         "2": "rs1639547072",
         "3": "TAACCC",
         "4": "T",
         "5": ".",
         "6": ".",
         "7": "RS=1639547072;dbSNPBuildID=155;SSR=0;PSEUDOGENEINFO=DDX11L1:100287102;VC=DEL;R5;GNO;FREQ=GnomAD:1,3.791e-05"
        },
        {
         "0": "NC_000001.11",
         "1": "10138",
         "2": "rs2100299043",
         "3": "T",
         "4": "TG",
         "5": ".",
         "6": ".",
         "7": "RS=2100299043;dbSNPBuildID=156;SSR=0;PSEUDOGENEINFO=DDX11L1:100287102;VC=INS;R5;GNO;FREQ=TOMMO:0.9999,5.671e-05"
        },
        {
         "0": "NC_000001.11",
         "1": "10139",
         "2": "rs368469931",
         "3": "A",
         "4": "C,T",
         "5": ".",
         "6": ".",
         "7": "RS=368469931;dbSNPBuildID=138;SSR=0;PSEUDOGENEINFO=DDX11L1:100287102;VC=SNV;R5;GNO;FREQ=GnomAD:1,.,1.762e-05|dbGaP_PopFreq:1,0,0"
        },
        {
         "0": "NC_000001.11",
         "1": "10140",
         "2": "rs1557426741",
         "3": "ACCCTAAC",
         "4": "A",
         "5": ".",
         "6": ".",
         "7": "RS=1557426741;dbSNPBuildID=154;SSR=0;PSEUDOGENEINFO=DDX11L1:100287102;VC=INDEL;R5;GNO;FREQ=GnomAD:0.9993,0.0006934|Korea1K:0.9983,0.001674|TOMMO:0.9986,0.00135"
        },
        {
         "0": "NC_000001.11",
         "1": "10140",
         "2": "rs1570391811",
         "3": "A",
         "4": "C,G,T",
         "5": ".",
         "6": ".",
         "7": "RS=1570391811;dbSNPBuildID=154;SSR=0;PSEUDOGENEINFO=DDX11L1:100287102;VC=SNV;R5;GNO;FREQ=KOREAN:0.9979,0.002053,.,."
        },
        {
         "0": "NC_000001.11",
         "1": "10140",
         "2": "rs2100299056",
         "3": "A",
         "4": "AC",
         "5": ".",
         "6": ".",
         "7": "RS=2100299056;dbSNPBuildID=156;SSR=0;PSEUDOGENEINFO=DDX11L1:100287102;VC=INDEL;R5;GNO;FREQ=TOMMO:0.9999,5.626e-05"
        },
        {
         "0": "NC_000001.11",
         "1": "10141",
         "2": "rs1639547121",
         "3": "C",
         "4": "A,G",
         "5": ".",
         "6": ".",
         "7": "RS=1639547121;dbSNPBuildID=155;SSR=0;PSEUDOGENEINFO=DDX11L1:100287102;VC=SNV;R5;GNO;FREQ=GnomAD:1,.,2.03e-05|TOMMO:0.9999,5.703e-05,.|dbGaP_PopFreq:1,0,."
        },
        {
         "0": "NC_000001.11",
         "1": "10142",
         "2": "rs2100299059",
         "3": "C",
         "4": "T",
         "5": ".",
         "6": ".",
         "7": "RS=2100299059;dbSNPBuildID=156;SSR=0;PSEUDOGENEINFO=DDX11L1:100287102;VC=SNV;R5;GNO;FREQ=TOMMO:0.9999,5.63e-05"
        },
        {
         "0": "NC_000001.11",
         "1": "10143",
         "2": "rs1639547206",
         "3": "C",
         "4": "CT",
         "5": ".",
         "6": ".",
         "7": "RS=1639547206;dbSNPBuildID=155;SSR=0;PSEUDOGENEINFO=DDX11L1:100287102;VC=INDEL;R5;GNO;FREQ=GnomAD:1,1.304e-05|TOMMO:0.9999,5.649e-05"
        },
        {
         "0": "NC_000001.11",
         "1": "10143",
         "2": "rs1639547215",
         "3": "CT",
         "4": "C",
         "5": ".",
         "6": ".",
         "7": "RS=1639547215;dbSNPBuildID=155;SSR=0;PSEUDOGENEINFO=DDX11L1:100287102;VC=DEL;R5;GNO;FREQ=GnomAD:0.9999,7.826e-05"
        },
        {
         "0": "NC_000001.11",
         "1": "10143",
         "2": "rs1639547228",
         "3": "CTAACCCCT",
         "4": "C",
         "5": ".",
         "6": ".",
         "7": "RS=1639547228;dbSNPBuildID=155;SSR=0;PSEUDOGENEINFO=DDX11L1:100287102;VC=DEL;R5;GNO;FREQ=GnomAD:0.9999,0.0001435|TOMMO:0.9999,0.000113"
        },
        {
         "0": "NC_000001.11",
         "1": "10143",
         "2": "rs2100299060",
         "3": "C",
         "4": "T",
         "5": ".",
         "6": ".",
         "7": "RS=2100299060;dbSNPBuildID=156;SSR=0;PSEUDOGENEINFO=DDX11L1:100287102;VC=SNV;R5;GNO;FREQ=TOMMO:0.9999,5.649e-05"
        },
        {
         "0": "NC_000001.11",
         "1": "10144",
         "2": "rs144773400",
         "3": "TA",
         "4": "T",
         "5": ".",
         "6": ".",
         "7": "RS=144773400;dbSNPBuildID=134;SSR=0;PSEUDOGENEINFO=DDX11L1:100287102;VC=INDEL;R5;GNO;FREQ=GnomAD:0.9988,0.001249|TOMMO:0.9996,0.000362|dbGaP_PopFreq:1,0"
        },
        {
         "0": "NC_000001.11",
         "1": "10144",
         "2": "rs1570391815",
         "3": "T",
         "4": "A,C,G",
         "5": ".",
         "6": ".",
         "7": "RS=1570391815;dbSNPBuildID=154;SSR=0;PSEUDOGENEINFO=DDX11L1:100287102;VC=SNV;R5;GNO;FREQ=GnomAD:0.9982,.,0.001752,.|KOREAN:0.9846,.,0.0154,.|dbGaP_PopFreq:0.9996,0,0.0004215,0"
        },
        {
         "0": "NC_000001.11",
         "1": "10144",
         "2": "rs1639547327",
         "3": "TAACCCC",
         "4": "T",
         "5": ".",
         "6": ".",
         "7": "RS=1639547327;dbSNPBuildID=155;SSR=0;PSEUDOGENEINFO=DDX11L1:100287102;VC=DEL;R5;GNO;FREQ=GnomAD:0.9999,0.0001246"
        },
        {
         "0": "NC_000001.11",
         "1": "10144",
         "2": "rs1639547347",
         "3": "TAACCCCTAACCCTAACCC",
         "4": "T",
         "5": ".",
         "6": ".",
         "7": "RS=1639547347;dbSNPBuildID=155;SSR=0;PSEUDOGENEINFO=DDX11L1:100287102;VC=DEL;R5;GNO;FREQ=GnomAD:0.9999,0.0001246"
        },
        {
         "0": "NC_000001.11",
         "1": "10144",
         "2": "rs2100299083",
         "3": "TAACCC",
         "4": "T",
         "5": ".",
         "6": ".",
         "7": "RS=2100299083;dbSNPBuildID=156;SSR=0;PSEUDOGENEINFO=DDX11L1:100287102;VC=DEL;R5;GNO;FREQ=TOMMO:0.9999,6.033e-05"
        },
        {
         "0": "NC_000001.11",
         "1": "10145",
         "2": "rs1557426742",
         "3": "A",
         "4": "C,G,T",
         "5": ".",
         "6": ".",
         "7": "RS=1557426742;dbSNPBuildID=154;SSR=0;PSEUDOGENEINFO=DDX11L1:100287102;VC=SNV;R5;GNO;FREQ=KOREAN:0.9952,.,.,0.004791|TOMMO:0.9999,6.112e-05,.,.|dbGaP_PopFreq:1,0,.,0"
        },
        {
         "0": "NC_000001.11",
         "1": "10145",
         "2": "rs1639547378",
         "3": "A",
         "4": "AGCCCT",
         "5": ".",
         "6": ".",
         "7": "RS=1639547378;dbSNPBuildID=155;SSR=0;PSEUDOGENEINFO=DDX11L1:100287102;VC=INS;R5;GNO;FREQ=GnomAD:0.9999,6.09e-05"
        },
        {
         "0": "NC_000001.11",
         "1": "10145",
         "2": "rs1639547419",
         "3": "AAC",
         "4": "A",
         "5": ".",
         "6": ".",
         "7": "RS=1639547419;dbSNPBuildID=155;SSR=0;PSEUDOGENEINFO=DDX11L1:100287102;VC=DEL;R5;GNO;FREQ=GnomAD:0.9994,0.0006098|TOMMO:0.9996,0.0003667|dbGaP_PopFreq:1,0"
        },
        {
         "0": "NC_000001.11",
         "1": "10145",
         "2": "rs1639547440",
         "3": "AACCCCTAACCCTAACCCTAACCCTAACCCTAACCTAACCCTAACCCTAACCCTAACCCTAACCCTAACCCTAACCCTAACCCTAACCCCTAACCCTAACCCTAAACCCTAAACCCTAACCCTAACCCTAACCCTAACCCTAACCCCAACCCCAACCCCAACCCCAACCCCAACCCCAACCCTAACCCCTAACCCTAACCCTAACCCT",
         "4": "A",
         "5": ".",
         "6": ".",
         "7": "RS=1639547440;SSR=0;PSEUDOGENEINFO=DDX11L1:100287102;VC=INDEL;R5;GNO;FREQ=GnomAD:0.9999,6.09e-05"
        },
        {
         "0": "NC_000001.11",
         "1": "10145",
         "2": "rs2100299092",
         "3": "A",
         "4": "AACTCTC",
         "5": ".",
         "6": ".",
         "7": "RS=2100299092;dbSNPBuildID=156;SSR=0;PSEUDOGENEINFO=DDX11L1:100287102;VC=INDEL;R5;GNO;FREQ=TOMMO:0.9999,0.0001222"
        },
        {
         "0": "NC_000001.11",
         "1": "10146",
         "2": "rs779258992",
         "3": "ACC",
         "4": "A,AC",
         "5": ".",
         "6": ".",
         "7": "RS=779258992;dbSNPBuildID=144;SSR=0;PSEUDOGENEINFO=DDX11L1:100287102;VC=INDEL;R5;GNO;FREQ=Korea1K:0.9281,.,0.07186|TOMMO:0.8456,.,0.1544|dbGaP_PopFreq:0.8889,.,0.1111;COMMON"
        },
        {
         "0": "NC_000001.11",
         "1": "10146",
         "2": "rs1639547399",
         "3": "A",
         "4": "C",
         "5": ".",
         "6": ".",
         "7": "RS=1639547399;SSR=0;PSEUDOGENEINFO=DDX11L1:100287102;VC=SNV;R5;GNO;FREQ=dbGaP_PopFreq:1,0"
        },
        {
         "0": "NC_000001.11",
         "1": "10146",
         "2": "rs1639547528",
         "3": "ACCCCT",
         "4": "A",
         "5": ".",
         "6": ".",
         "7": "RS=1639547528;dbSNPBuildID=155;SSR=0;PSEUDOGENEINFO=DDX11L1:100287102;VC=DEL;R5;GNO;FREQ=GnomAD:0.9999,6.522e-05|TOMMO:0.9998,0.0001905"
        },
        {
         "0": "NC_000001.11",
         "1": "10147",
         "2": "rs1292226269",
         "3": "C",
         "4": "A,G,T",
         "5": ".",
         "6": ".",
         "7": "RS=1292226269;dbSNPBuildID=151;SSR=0;PSEUDOGENEINFO=DDX11L1:100287102;VC=SNV;R5;GNO;FREQ=TOMMO:0.9992,0.0007705,.,.|dbGaP_PopFreq:1,0,0,0"
        },
        {
         "0": "NC_000001.11",
         "1": "10147",
         "2": "rs1557426745",
         "3": "C",
         "4": "CCCTAA",
         "5": ".",
         "6": ".",
         "7": "RS=1557426745;dbSNPBuildID=155;SSR=0;PSEUDOGENEINFO=DDX11L1:100287102;VC=INDEL;R5;GNO;FREQ=GnomAD:0.9909,0.009132"
        },
        {
         "0": "NC_000001.11",
         "1": "10147",
         "2": "rs1639547550",
         "3": "C",
         "4": "CAA",
         "5": ".",
         "6": ".",
         "7": "RS=1639547550;dbSNPBuildID=155;SSR=0;PSEUDOGENEINFO=DDX11L1:100287102;VC=INS;R5;GNO;FREQ=GnomAD:0.9977,0.002283|TOMMO:0.9998,0.0001541"
        },
        {
         "0": "NC_000001.11",
         "1": "10148",
         "2": "rs1639547574",
         "3": "C",
         "4": "G",
         "5": ".",
         "6": ".",
         "7": "RS=1639547574;dbSNPBuildID=155;SSR=0;PSEUDOGENEINFO=DDX11L1:100287102;VC=SNV;R5;GNO;FREQ=GnomAD:0.9987,0.001302"
        },
        {
         "0": "NC_000001.11",
         "1": "10148",
         "2": "rs1639547637",
         "3": "C",
         "4": "CCTAA",
         "5": ".",
         "6": ".",
         "7": "RS=1639547637;dbSNPBuildID=155;SSR=0;PSEUDOGENEINFO=DDX11L1:100287102;VC=INDEL;R5;GNO;FREQ=GnomAD:0.9935,0.006494|TOMMO:0.9999,0.0001313"
        },
        {
         "0": "NC_000001.11",
         "1": "10148",
         "2": "rs2100299112",
         "3": "CCCTA",
         "4": "C",
         "5": ".",
         "6": ".",
         "7": "RS=2100299112;dbSNPBuildID=156;SSR=0;PSEUDOGENEINFO=DDX11L1:100287102;VC=DEL;R5;GNO;FREQ=TOMMO:0.9999,6.565e-05"
        },
        {
         "0": "NC_000001.11",
         "1": "10149",
         "2": "rs1286868604",
         "3": "CCT",
         "4": "C",
         "5": ".",
         "6": ".",
         "7": "RS=1286868604;dbSNPBuildID=151;SSR=0;PSEUDOGENEINFO=DDX11L1:100287102;VC=DEL;R5;GNO;FREQ=GnomAD:0.9973,0.002692|Korea1K:0.9988,0.001199|TOMMO:0.999,0.001032|dbGaP_PopFreq:1,0"
        },
        {
         "0": "NC_000001.11",
         "1": "10149",
         "2": "rs1639547618",
         "3": "C",
         "4": "A",
         "5": ".",
         "6": ".",
         "7": "RS=1639547618;dbSNPBuildID=155;SSR=0;PSEUDOGENEINFO=DDX11L1:100287102;VC=SNV;R5;GNO;FREQ=GnomAD:0.9999,6.257e-05"
        },
        {
         "0": "NC_000001.11",
         "1": "10149",
         "2": "rs1639547663",
         "3": "C",
         "4": "CT,CTAGGT",
         "5": ".",
         "6": ".",
         "7": "RS=1639547663;dbSNPBuildID=156;SSR=0;PSEUDOGENEINFO=DDX11L1:100287102;VC=INS;R5;GNO;FREQ=TOMMO:0.9998,0.0001935,.|dbGaP_PopFreq:1,.,0"
        },
        {
         "0": "NC_000001.11",
         "1": "10150",
         "2": "rs371194064",
         "3": "C",
         "4": "A,G,T",
         "5": ".",
         "6": ".",
         "7": "RS=371194064;dbSNPBuildID=138;SSR=0;PSEUDOGENEINFO=DDX11L1:100287102;VC=SNV;R5;GNO;FREQ=GnomAD:0.9921,.,.,0.007892|KOREAN:0.9405,.,.,0.05955|Qatari:0.8241,.,.,0.1759|TOMMO:0.9991,.,.,0.0008557|dbGaP_PopFreq:1,0,0,0"
        },
        {
         "0": "NC_000001.11",
         "1": "10150",
         "2": "rs1639547779",
         "3": "CT",
         "4": "C",
         "5": ".",
         "6": ".",
         "7": "RS=1639547779;dbSNPBuildID=155;SSR=0;PSEUDOGENEINFO=DDX11L1:100287102;VC=DEL;R5;GNO;FREQ=GnomAD:0.9621,0.03786|TOMMO:0.9989,0.001141|dbGaP_PopFreq:1,0"
        },
        {
         "0": "NC_000001.11",
         "1": "10151",
         "2": "rs1557426747",
         "3": "TA",
         "4": "T,TAA",
         "5": ".",
         "6": ".",
         "7": "RS=1557426747;dbSNPBuildID=155;SSR=0;PSEUDOGENEINFO=DDX11L1:100287102;VC=INDEL;R5;GNO;FREQ=GnomAD:0.9923,0.00774,.|TOMMO:0.9997,0.0002864,.|dbGaP_PopFreq:1,0,0"
        },
        {
         "0": "NC_000001.11",
         "1": "10151",
         "2": "rs1570391830",
         "3": "T",
         "4": "A,C,G",
         "5": ".",
         "6": ".",
         "7": "RS=1570391830;dbSNPBuildID=154;SSR=0;PSEUDOGENEINFO=DDX11L1:100287102;VC=SNV;R5;GNO;FREQ=KOREAN:0.9928,0.007187,.,.|dbGaP_PopFreq:1,0,0,0"
        },
        {
         "0": "NC_000001.11",
         "1": "10152",
         "2": "rs1639547803",
         "3": "A",
         "4": "C,G,T",
         "5": ".",
         "6": ".",
         "7": "RS=1639547803;dbSNPBuildID=155;SSR=0;PSEUDOGENEINFO=DDX11L1:100287102;VC=SNV;R5;GNO;FREQ=GnomAD:0.9999,.,0.0001283,.|TOMMO:0.9999,0.0001248,.,.|dbGaP_PopFreq:1,0,.,."
        },
        {
         "0": "NC_000001.11",
         "1": "10153",
         "2": "rs1331781659",
         "3": "A",
         "4": "C,G,T",
         "5": ".",
         "6": ".",
         "7": "RS=1331781659;dbSNPBuildID=151;SSR=0;PSEUDOGENEINFO=DDX11L1:100287102;VC=SNV;R5;GNO;FREQ=GnomAD:0.9972,0.002796,.,.|KOREAN:0.9959,0.004107,.,.|Korea1K:0.9992,0.0008026,.,.|TOMMO:0.9995,.,0.0004936,.|dbGaP_PopFreq:1,0,.,."
        },
        {
         "0": "NC_000001.11",
         "1": "10153",
         "2": "rs1639547929",
         "3": "AC",
         "4": "A,ACC",
         "5": ".",
         "6": ".",
         "7": "RS=1639547929;dbSNPBuildID=155;SSR=0;PSEUDOGENEINFO=DDX11L1:100287102;VC=INDEL;R5;GNO;FREQ=GnomAD:0.9997,0.0002784,.|TOMMO:0.9999,.,0.00013|dbGaP_PopFreq:1,.,0"
        },
        {
         "0": "NC_000001.11",
         "1": "10154",
         "2": "rs1240389757",
         "3": "CCCTAA",
         "4": "C",
         "5": ".",
         "6": ".",
         "7": "RS=1240389757;dbSNPBuildID=151;SSR=0;PSEUDOGENEINFO=DDX11L1:100287102;VC=INDEL;R5;GNO;FREQ=GnomAD:0.9997,0.0003057"
        },
        {
         "0": "NC_000001.11",
         "1": "10154",
         "2": "rs1639547903",
         "3": "C",
         "4": "A,T",
         "5": ".",
         "6": ".",
         "7": "RS=1639547903;dbSNPBuildID=155;SSR=0;PSEUDOGENEINFO=DDX11L1:100287102;VC=SNV;R5;GNO;FREQ=GnomAD:1,3.821e-05,.|TOMMO:0.9998,.,0.0001843"
        },
        {
         "0": "NC_000001.11",
         "1": "10154",
         "2": "rs1639547995",
         "3": "CCCTAACCCTAACCCTAACCCTAA",
         "4": "C",
         "5": ".",
         "6": ".",
         "7": "RS=1639547995;dbSNPBuildID=155;SSR=0;PSEUDOGENEINFO=DDX11L1:100287102;VC=INDEL;R5;GNO;FREQ=GnomAD:0.9999,7.641e-05"
        },
        {
         "0": "NC_000001.11",
         "1": "10155",
         "2": "rs1264289758",
         "3": "CCTAACCCTAACCCTAACCCTAA",
         "4": "C",
         "5": ".",
         "6": ".",
         "7": "RS=1264289758;dbSNPBuildID=151;SSR=0;PSEUDOGENEINFO=DDX11L1:100287102;VC=INDEL;R5;GNO;FREQ=GnomAD:0.9999,0.0001168|TOMMO:0.9998,0.0002443"
        },
        {
         "0": "NC_000001.11",
         "1": "10155",
         "2": "rs1639547955",
         "3": "C",
         "4": "T",
         "5": ".",
         "6": ".",
         "7": "RS=1639547955;SSR=0;PSEUDOGENEINFO=DDX11L1:100287102;VC=SNV;R5;GNO;FREQ=dbGaP_PopFreq:1,0"
        },
        {
         "0": "NC_000001.11",
         "1": "10156",
         "2": "rs1487252449",
         "3": "CTAACCCTAACCCTAACCCTAACCT",
         "4": "C",
         "5": ".",
         "6": ".",
         "7": "RS=1487252449;dbSNPBuildID=151;SSR=0;PSEUDOGENEINFO=DDX11L1:100287102;VC=DEL;R5;GNO;FREQ=GnomAD:0.999,0.0009933|TOMMO:0.9994,0.0005589"
        },
        {
         "0": "NC_000001.11",
         "1": "10156",
         "2": "rs1570391840",
         "3": "C",
         "4": "A,G,T",
         "5": ".",
         "6": ".",
         "7": "RS=1570391840;dbSNPBuildID=154;SSR=0;PSEUDOGENEINFO=DDX11L1:100287102;VC=SNV;R5;GNO;FREQ=KOREAN:0.9986,.,.,0.001369|TOMMO:0.9999,0.0001242,.,.|dbGaP_PopFreq:1,.,0,0"
        },
        {
         "0": "NC_000001.11",
         "1": "10156",
         "2": "rs1639548104",
         "3": "C",
         "4": "CT",
         "5": ".",
         "6": ".",
         "7": "RS=1639548104;SSR=0;PSEUDOGENEINFO=DDX11L1:100287102;VC=INDEL;R5;GNO;FREQ=dbGaP_PopFreq:1,0"
        },
        {
         "0": "NC_000001.11",
         "1": "10157",
         "2": "rs1570391843",
         "3": "T",
         "4": "A,C,G",
         "5": ".",
         "6": ".",
         "7": "RS=1570391843;dbSNPBuildID=154;SSR=0;PSEUDOGENEINFO=DDX11L1:100287102;VC=SNV;R5;GNO;FREQ=KOREAN:0.9908,.,0.00924,.|dbGaP_PopFreq:1,0,0,0"
        },
        {
         "0": "NC_000001.11",
         "1": "10157",
         "2": "rs1639548183",
         "3": "TAACCCTAACCCTAACCCTAACCTAACCCTAACCCTAACCCTAACCCTAACCCTAACCCTAACCCTAACCCTAACCCCTAACCCTAACCCTAAACCCTA",
         "4": "T",
         "5": ".",
         "6": ".",
         "7": "RS=1639548183;SSR=0;PSEUDOGENEINFO=DDX11L1:100287102;VC=INDEL;R5;GNO;FREQ=GnomAD:0.9998,0.0001881"
        },
        {
         "0": "NC_000001.11",
         "1": "10158",
         "2": "rs1639548148",
         "3": "A",
         "4": "C,G,T",
         "5": ".",
         "6": ".",
         "7": "RS=1639548148;dbSNPBuildID=155;SSR=0;PSEUDOGENEINFO=DDX11L1:100287102;VC=SNV;R5;GNO;FREQ=TOMMO:0.9999,0.000114,.,.|dbGaP_PopFreq:1,0,.,0"
        },
        {
         "0": "NC_000001.11",
         "1": "10159",
         "2": "rs1211258708",
         "3": "A",
         "4": "C,G",
         "5": ".",
         "6": ".",
         "7": "RS=1211258708;dbSNPBuildID=151;SSR=0;PSEUDOGENEINFO=DDX11L1:100287102;VC=SNV;R5;GNO;FREQ=KOREAN:0.9986,.,0.001369|Korea1K:0.9994,0.0006281,.|TOMMO:0.9995,0.0004581,.|dbGaP_PopFreq:1,0,."
        },
        {
         "0": "NC_000001.11",
         "1": "10159",
         "2": "rs1639548271",
         "3": "A",
         "4": "AC",
         "5": ".",
         "6": ".",
         "7": "RS=1639548271;SSR=0;PSEUDOGENEINFO=DDX11L1:100287102;VC=INDEL;R5;GNO;FREQ=dbGaP_PopFreq:1,0"
        },
        {
         "0": "NC_000001.11",
         "1": "10160",
         "2": "rs1269202771",
         "3": "C",
         "4": "A,G",
         "5": ".",
         "6": ".",
         "7": "RS=1269202771;dbSNPBuildID=151;SSR=0;PSEUDOGENEINFO=DDX11L1:100287102;VC=SNV;R5;GNO;FREQ=TOMMO:0.9999,.,0.0001189|dbGaP_PopFreq:1,.,0"
        },
        {
         "0": "NC_000001.11",
         "1": "10160",
         "2": "rs1639548285",
         "3": "CCCTAA",
         "4": "C",
         "5": ".",
         "6": ".",
         "7": "RS=1639548285;dbSNPBuildID=155;SSR=0;PSEUDOGENEINFO=DDX11L1:100287102;VC=INDEL;R5;GNO;FREQ=TOMMO:0.9999,0.0001117"
        },
        {
         "0": "NC_000001.11",
         "1": "10160",
         "2": "rs1639548302",
         "3": "CCCTAACCCTAACCCTAACCTAA",
         "4": "C",
         "5": ".",
         "6": ".",
         "7": "RS=1639548302;dbSNPBuildID=155;SSR=0;PSEUDOGENEINFO=DDX11L1:100287102;VC=INDEL;R5;GNO;FREQ=GnomAD:1,2.797e-05"
        },
        {
         "0": "NC_000001.11",
         "1": "10160",
         "2": "rs1639548324",
         "3": "CCCTAACCCTAACCCTAA",
         "4": "C",
         "5": ".",
         "6": ".",
         "7": "RS=1639548324;dbSNPBuildID=155;SSR=0;PSEUDOGENEINFO=DDX11L1:100287102;VC=INDEL;R5;GNO;FREQ=GnomAD:1,2.797e-05"
        },
        {
         "0": "NC_000001.11",
         "1": "10162",
         "2": "rs1482594023",
         "3": "CTAACCCTAACCCTAACCT",
         "4": "C",
         "5": ".",
         "6": ".",
         "7": "RS=1482594023;dbSNPBuildID=151;SSR=0;PSEUDOGENEINFO=DDX11L1:100287102;VC=DEL;R5;GNO;FREQ=GnomAD:0.9989,0.001125|TOMMO:0.9993,0.0007126|dbGaP_PopFreq:0.9998,0.0002269"
        },
        {
         "0": "NC_000001.11",
         "1": "10162",
         "2": "rs1639548342",
         "3": "C",
         "4": "T",
         "5": ".",
         "6": ".",
         "7": "RS=1639548342;SSR=0;PSEUDOGENEINFO=DDX11L1:100287102;VC=SNV;R5;GNO;FREQ=dbGaP_PopFreq:1,0"
        },
        {
         "0": "NC_000001.11",
         "1": "10163",
         "2": "rs1179689498",
         "3": "T",
         "4": "A,C,G",
         "5": ".",
         "6": ".",
         "7": "RS=1179689498;dbSNPBuildID=151;SSR=0;PSEUDOGENEINFO=DDX11L1:100287102;VC=SNV;R5;GNO;FREQ=KOREAN:0.9932,.,0.006845,.|Korea1K:1,.,.,0|TOMMO:0.9998,.,.,0.0002389|dbGaP_PopFreq:1,0,0,0"
        },
        {
         "0": "NC_000001.11",
         "1": "10164",
         "2": "rs1413947121",
         "3": "A",
         "4": "C,G,T",
         "5": ".",
         "6": ".",
         "7": "RS=1413947121;dbSNPBuildID=151;SSR=0;PSEUDOGENEINFO=DDX11L1:100287102;VC=SNV;R5;GNO;FREQ=GnomAD:1,.,4.564e-05,.|TOMMO:0.9996,.,0.000356,.|dbGaP_PopFreq:1,0,0,0"
        },
        {
         "0": "NC_000001.11",
         "1": "10165",
         "2": "rs796884232",
         "3": "A",
         "4": "AC",
         "5": ".",
         "6": ".",
         "7": "RS=796884232;dbSNPBuildID=146;SSR=0;PSEUDOGENEINFO=DDX11L1:100287102;VC=INDEL;R5;GNO;FREQ=GnomAD:0.9999,6.096e-05|dbGaP_PopFreq:1,0"
        },
        {
         "0": "NC_000001.11",
         "1": "10165",
         "2": "rs1639548442",
         "3": "A",
         "4": "C,G",
         "5": ".",
         "6": ".",
         "7": "RS=1639548442;dbSNPBuildID=155;SSR=0;PSEUDOGENEINFO=DDX11L1:100287102;VC=SNV;R5;GNO;FREQ=GnomAD:0.9998,0.0002439,.|TOMMO:0.9995,0.0004907,.|dbGaP_PopFreq:1,.,0"
        },
        {
         "0": "NC_000001.11",
         "1": "10166",
         "2": "rs1419534173",
         "3": "C",
         "4": "G",
         "5": ".",
         "6": ".",
         "7": "RS=1419534173;dbSNPBuildID=151;SSR=0;PSEUDOGENEINFO=DDX11L1:100287102;VC=SNV;R5"
        },
        {
         "0": "NC_000001.11",
         "1": "10167",
         "2": "rs1164014856",
         "3": "CCTAACCCTAA",
         "4": "C",
         "5": ".",
         "6": ".",
         "7": "RS=1164014856;dbSNPBuildID=151;SSR=0;PSEUDOGENEINFO=DDX11L1:100287102;VC=INDEL;R5;GNO;FREQ=GnomAD:0.9998,0.0001772|TOMMO:0.9995,0.0004544|dbGaP_PopFreq:0.9782,0.02175"
        },
        {
         "0": "NC_000001.11",
         "1": "10168",
         "2": "rs1367957502",
         "3": "CTAACCCTAACCT",
         "4": "C",
         "5": ".",
         "6": ".",
         "7": "RS=1367957502;dbSNPBuildID=151;SSR=0;PSEUDOGENEINFO=DDX11L1:100287102;VC=DEL;R5;GNO;FREQ=GnomAD:0.9989,0.00115|TOMMO:0.9994,0.0006397"
        },
        {
         "0": "NC_000001.11",
         "1": "10168",
         "2": "rs1639548506",
         "3": "C",
         "4": "T",
         "5": ".",
         "6": ".",
         "7": "RS=1639548506;SSR=0;PSEUDOGENEINFO=DDX11L1:100287102;VC=SNV;R5;GNO;FREQ=dbGaP_PopFreq:1,0"
        },
        {
         "0": "NC_000001.11",
         "1": "10169",
         "2": "rs1456517851",
         "3": "T",
         "4": "A,C,G",
         "5": ".",
         "6": ".",
         "7": "RS=1456517851;dbSNPBuildID=151;SSR=0;PSEUDOGENEINFO=DDX11L1:100287102;VC=SNV;R5;GNO;FREQ=Korea1K:1,.,.,0|TOMMO:0.9997,.,.,0.0003439|dbGaP_PopFreq:1,0,0,0"
        },
        {
         "0": "NC_000001.11",
         "1": "10169",
         "2": "rs1639548643",
         "3": "TAACCCTAACCTA",
         "4": "T",
         "5": ".",
         "6": ".",
         "7": "RS=1639548643;dbSNPBuildID=155;SSR=0;PSEUDOGENEINFO=DDX11L1:100287102;VC=INDEL;R5;GNO;FREQ=GnomAD:0.9999,0.000129"
        },
        {
         "0": "NC_000001.11",
         "1": "10170",
         "2": "rs1639548617",
         "3": "A",
         "4": "C,G",
         "5": ".",
         "6": ".",
         "7": "RS=1639548617;dbSNPBuildID=155;SSR=0;PSEUDOGENEINFO=DDX11L1:100287102;VC=SNV;R5;GNO;FREQ=TOMMO:0.9997,0.0003449,.|dbGaP_PopFreq:1,0,0"
        },
        {
         "0": "NC_000001.11",
         "1": "10170",
         "2": "rs1639548687",
         "3": "AACCCT",
         "4": "A",
         "5": ".",
         "6": ".",
         "7": "RS=1639548687;SSR=0;PSEUDOGENEINFO=DDX11L1:100287102;VC=INDEL;R5;GNO;FREQ=dbGaP_PopFreq:1,0"
        },
        {
         "0": "NC_000001.11",
         "1": "10171",
         "2": "rs1295478283",
         "3": "A",
         "4": "C,G",
         "5": ".",
         "6": ".",
         "7": "RS=1295478283;dbSNPBuildID=151;SSR=0;PSEUDOGENEINFO=DDX11L1:100287102;VC=SNV;R5;GNO;FREQ=GnomAD:0.9997,0.0002974,.|TOMMO:0.9991,0.0009029,.|dbGaP_PopFreq:1,0,0"
        },
        {
         "0": "NC_000001.11",
         "1": "10171",
         "2": "rs1639548735",
         "3": "AC",
         "4": "A,ACC",
         "5": ".",
         "6": ".",
         "7": "RS=1639548735;SSR=0;PSEUDOGENEINFO=DDX11L1:100287102;VC=INDEL;R5;GNO;FREQ=dbGaP_PopFreq:1,0,0"
        },
        {
         "0": "NC_000001.11",
         "1": "10172",
         "2": "rs1366371903",
         "3": "CCCTAA",
         "4": "C",
         "5": ".",
         "6": ".",
         "7": "RS=1366371903;dbSNPBuildID=151;SSR=0;PSEUDOGENEINFO=DDX11L1:100287102;VC=INDEL;R5;GNO;FREQ=GnomAD:0.9918,0.008239|Korea1K:0.9913,0.008671|TOMMO:0.9966,0.003366"
        },
        {
         "0": "NC_000001.11",
         "1": "10172",
         "2": "rs1639548715",
         "3": "C",
         "4": "A,G",
         "5": ".",
         "6": ".",
         "7": "RS=1639548715;dbSNPBuildID=155;SSR=0;PSEUDOGENEINFO=DDX11L1:100287102;VC=SNV;R5;GNO;FREQ=TOMMO:0.9999,6.352e-05,.|dbGaP_PopFreq:1,.,0"
        },
        {
         "0": "NC_000001.11",
         "1": "10173",
         "2": "rs1409475383",
         "3": "CCTAA",
         "4": "C",
         "5": ".",
         "6": ".",
         "7": "RS=1409475383;dbSNPBuildID=151;SSR=0;PSEUDOGENEINFO=DDX11L1:100287102;VC=INDEL;R5;GNO;FREQ=GnomAD:0.9996,0.0004385|Korea1K:0.9988,0.001238|TOMMO:0.9991,0.000851|dbGaP_PopFreq:0.9989,0.001096"
        },
        {
         "0": "NC_000001.11",
         "1": "10173",
         "2": "rs1639548755",
         "3": "C",
         "4": "T",
         "5": ".",
         "6": ".",
         "7": "RS=1639548755;SSR=0;PSEUDOGENEINFO=DDX11L1:100287102;VC=SNV;R5;GNO;FREQ=dbGaP_PopFreq:1,0"
        },
        {
         "0": "NC_000001.11",
         "1": "10174",
         "2": "rs1306484214",
         "3": "CTAACCT",
         "4": "C",
         "5": ".",
         "6": ".",
         "7": "RS=1306484214;dbSNPBuildID=151;SSR=0;PSEUDOGENEINFO=DDX11L1:100287102;VC=DEL;R5;GNO;FREQ=GnomAD:0.9988,0.001218|TOMMO:0.9999,0.0001433"
        },
        {
         "0": "NC_000001.11",
         "1": "10174",
         "2": "rs1639548796",
         "3": "C",
         "4": "G,T",
         "5": ".",
         "6": ".",
         "7": "RS=1639548796;dbSNPBuildID=155;SSR=0;PSEUDOGENEINFO=DDX11L1:100287102;VC=SNV;R5;GNO;FREQ=GnomAD:0.9999,.,6.763e-05|TOMMO:0.9999,7.167e-05,.|dbGaP_PopFreq:1,.,0"
        },
        {
         "0": "NC_000001.11",
         "1": "10174",
         "2": "rs1639548868",
         "3": "CTAA",
         "4": "C",
         "5": ".",
         "6": ".",
         "7": "RS=1639548868;dbSNPBuildID=155;SSR=0;PSEUDOGENEINFO=DDX11L1:100287102;VC=DEL;R5;GNO;FREQ=GnomAD:1,0|TOMMO:0.9999,0.0001433|dbGaP_PopFreq:1,0"
        },
        {
         "0": "NC_000001.11",
         "1": "10175",
         "2": "rs1557426757",
         "3": "TAACC",
         "4": "T",
         "5": ".",
         "6": ".",
         "7": "RS=1557426757;dbSNPBuildID=155;SSR=0;PSEUDOGENEINFO=DDX11L1:100287102;VC=DEL;R5;GNO;FREQ=GnomAD:0.9925,0.007547|dbGaP_PopFreq:1,0"
        },
        {
         "0": "NC_000001.11",
         "1": "10175",
         "2": "rs1639548838",
         "3": "T",
         "4": "A,C,G",
         "5": ".",
         "6": ".",
         "7": "RS=1639548838;dbSNPBuildID=155;SSR=0;PSEUDOGENEINFO=DDX11L1:100287102;VC=SNV;R5;GNO;FREQ=TOMMO:0.9985,0.001504,.,.|dbGaP_PopFreq:1,0,0,0"
        },
        {
         "0": "NC_000001.11",
         "1": "10175",
         "2": "rs1639548930",
         "3": "T",
         "4": "TA",
         "5": ".",
         "6": ".",
         "7": "RS=1639548930;SSR=0;PSEUDOGENEINFO=DDX11L1:100287102;VC=INDEL;R5;GNO;FREQ=dbGaP_PopFreq:1,0"
        },
        {
         "0": "NC_000001.11",
         "1": "10175",
         "2": "rs1639548951",
         "3": "TAAC",
         "4": "T",
         "5": ".",
         "6": ".",
         "7": "RS=1639548951;SSR=0;PSEUDOGENEINFO=DDX11L1:100287102;VC=DEL;R5;GNO;FREQ=dbGaP_PopFreq:1,0"
        },
        {
         "0": "NC_000001.11",
         "1": "10175",
         "2": "rs1639549000",
         "3": "TAACCTAACCCTAACCCTAACCC",
         "4": "T",
         "5": ".",
         "6": ".",
         "7": "RS=1639549000;dbSNPBuildID=155;SSR=0;PSEUDOGENEINFO=DDX11L1:100287102;VC=DEL;R5;GNO;FREQ=GnomAD:0.9991,0.0009328"
        },
        {
         "0": "NC_000001.11",
         "1": "10176",
         "2": "rs1352725202",
         "3": "AACCT",
         "4": "A",
         "5": ".",
         "6": ".",
         "7": "RS=1352725202;dbSNPBuildID=151;SSR=0;PSEUDOGENEINFO=DDX11L1:100287102;VC=INDEL;R5;GNO;FREQ=dbGaP_PopFreq:1,0"
        },
        {
         "0": "NC_000001.11",
         "1": "10176",
         "2": "rs1639548910",
         "3": "A",
         "4": "C,G",
         "5": ".",
         "6": ".",
         "7": "RS=1639548910;dbSNPBuildID=156;SSR=0;PSEUDOGENEINFO=DDX11L1:100287102;VC=SNV;R5;GNO;FREQ=TOMMO:0.9998,.,0.0001509|dbGaP_PopFreq:1,0,."
        },
        {
         "0": "NC_000001.11",
         "1": "10177",
         "2": "rs201752861",
         "3": "A",
         "4": "C,G,T",
         "5": ".",
         "6": ".",
         "7": "RS=201752861;dbSNPBuildID=137;SSR=0;PSEUDOGENEINFO=DDX11L1:100287102;VC=SNV;R5;GNO;FREQ=Korea1K:0.9512,0.04878,.,.|SGDP_PRJ:0.5,0.5,.,.|TOMMO:0.9926,0.007405,.,.|dbGaP_PopFreq:1,0,0,0"
        },
        {
         "0": "NC_000001.11",
         "1": "10177",
         "2": "rs367896724",
         "3": "A",
         "4": "AC,ACC",
         "5": ".",
         "6": ".",
         "7": "RS=367896724;dbSNPBuildID=138;SSR=0;PSEUDOGENEINFO=DDX11L1:100287102;VC=INDEL;R5;GNO;FREQ=1000Genomes:0.5747,0.4253,.|TOMMO:0.9994,0.0005821,.|dbGaP_PopFreq:1,0,0;COMMON"
        },
        {
         "0": "NC_000001.11",
         "1": "10177",
         "2": "rs1639549095",
         "3": "A",
         "4": "AAC",
         "5": ".",
         "6": ".",
         "7": "RS=1639549095;SSR=0;PSEUDOGENEINFO=DDX11L1:100287102;VC=INS;R5;GNO;FREQ=dbGaP_PopFreq:1,0"
        },
        {
         "0": "NC_000001.11",
         "1": "10177",
         "2": "rs1639549142",
         "3": "ACCT",
         "4": "A",
         "5": ".",
         "6": ".",
         "7": "RS=1639549142;SSR=0;PSEUDOGENEINFO=DDX11L1:100287102;VC=DEL;R5;GNO;FREQ=dbGaP_PopFreq:1,0"
        },
        {
         "0": "NC_000001.11",
         "1": "10178",
         "2": "rs1557426763",
         "3": "CCTAA",
         "4": "C",
         "5": ".",
         "6": ".",
         "7": "RS=1557426763;dbSNPBuildID=155;SSR=0;PSEUDOGENEINFO=DDX11L1:100287102;VC=INDEL;R5;GNO;FREQ=GnomAD:0.6471,0.3529|TOMMO:0.9996,0.0004445|dbGaP_PopFreq:1,0"
        },
        {
         "0": "NC_000001.11",
         "1": "10178",
         "2": "rs1639549155",
         "3": "C",
         "4": "CG,CT",
         "5": ".",
         "6": ".",
         "7": "RS=1639549155;SSR=0;PSEUDOGENEINFO=DDX11L1:100287102;VC=INS;R5;GNO;FREQ=dbGaP_PopFreq:1,0,0"
        },
        {
         "0": "NC_000001.11",
         "1": "10178",
         "2": "rs1639549207",
         "3": "C",
         "4": "CCCTAGGT",
         "5": ".",
         "6": ".",
         "7": "RS=1639549207;SSR=0;PSEUDOGENEINFO=DDX11L1:100287102;VC=INDEL;R5;GNO;FREQ=dbGaP_PopFreq:1,0"
        },
        {
         "0": "NC_000001.11",
         "1": "10178",
         "2": "rs1639549221",
         "3": "CCT",
         "4": "C",
         "5": ".",
         "6": ".",
         "7": "RS=1639549221;dbSNPBuildID=155;SSR=0;PSEUDOGENEINFO=DDX11L1:100287102;VC=DEL;R5;GNO;FREQ=GnomAD:1,0|TOMMO:0.9999,0.0001482|dbGaP_PopFreq:1,0"
        },
        {
         "0": "NC_000001.11",
         "1": "10179",
         "2": "rs1312716213",
         "3": "CTAA",
         "4": "C",
         "5": ".",
         "6": ".",
         "7": "RS=1312716213;dbSNPBuildID=151;SSR=0;PSEUDOGENEINFO=DDX11L1:100287102;VC=DEL;R5;GNO;FREQ=GnomAD:0.9932,0.006803|dbGaP_PopFreq:1,0"
        },
        {
         "0": "NC_000001.11",
         "1": "10179",
         "2": "rs1639549183",
         "3": "C",
         "4": "G",
         "5": ".",
         "6": ".",
         "7": "RS=1639549183;dbSNPBuildID=155;SSR=0;PSEUDOGENEINFO=DDX11L1:100287102;VC=SNV;R5;GNO;FREQ=GnomAD:0.9983,0.001701"
        },
        {
         "0": "NC_000001.11",
         "1": "10179",
         "2": "rs1639549276",
         "3": "C",
         "4": "CA,CCT,CCTA,CG",
         "5": ".",
         "6": ".",
         "7": "RS=1639549276;dbSNPBuildID=155;SSR=0;PSEUDOGENEINFO=DDX11L1:100287102;VC=INS;R5;GNO;FREQ=GnomAD:0.9983,.,0.001701,.,.|TOMMO:0.9999,.,.,0.0001496,.|dbGaP_PopFreq:1,0,0,.,0"
        },
        {
         "0": "NC_000001.11",
         "1": "10179",
         "2": "rs1639549361",
         "3": "CTA",
         "4": "C",
         "5": ".",
         "6": ".",
         "7": "RS=1639549361;SSR=0;PSEUDOGENEINFO=DDX11L1:100287102;VC=DEL;R5;GNO;FREQ=dbGaP_PopFreq:1,0"
        },
        {
         "0": "NC_000001.11",
         "1": "10180",
         "2": "rs201694901",
         "3": "T",
         "4": "A,C,G",
         "5": ".",
         "6": ".",
         "7": "RS=201694901;dbSNPBuildID=137;SSR=0;PSEUDOGENEINFO=DDX11L1:100287102;VC=SNV;R5;GNO;FREQ=GnomAD:0.5,.,0.5,.|SGDP_PRJ:0.5,.,0.5,.|TOMMO:0.9965,.,0.003452,.|dbGaP_PopFreq:1,0,0,0"
        },
        {
         "0": "NC_000001.11",
         "1": "10180",
         "2": "rs1639549402",
         "3": "T",
         "4": "TC",
         "5": ".",
         "6": ".",
         "7": "RS=1639549402;SSR=0;PSEUDOGENEINFO=DDX11L1:100287102;VC=INS;R5;GNO;FREQ=dbGaP_PopFreq:1,0"
        },
        {
         "0": "NC_000001.11",
         "1": "10181",
         "2": "rs1246412344",
         "3": "A",
         "4": "C,G,T",
         "5": ".",
         "6": ".",
         "7": "RS=1246412344;dbSNPBuildID=151;SSR=0;PSEUDOGENEINFO=DDX11L1:100287102;VC=SNV;R5;GNO;FREQ=GnomAD:0.8918,.,.,0.1082|KOREAN:0.9921,.,.,0.007877|TOMMO:0.9985,.,.,0.001511|dbGaP_PopFreq:1,0,0,0"
        },
        {
         "0": "NC_000001.11",
         "1": "10182",
         "2": "rs1408718600",
         "3": "A",
         "4": "C,G",
         "5": ".",
         "6": ".",
         "7": "RS=1408718600;dbSNPBuildID=154;SSR=0;PSEUDOGENEINFO=DDX11L1:100287102;VC=SNV;R5;GNO;FREQ=KOREAN:0.9942,0.005822,.|dbGaP_PopFreq:1,0,0"
        },
        {
         "0": "NC_000001.11",
         "1": "10182",
         "2": "rs1639549514",
         "3": "A",
         "4": "AC",
         "5": ".",
         "6": ".",
         "7": "RS=1639549514;SSR=0;PSEUDOGENEINFO=DDX11L1:100287102;VC=INDEL;R5;GNO;FREQ=dbGaP_PopFreq:1,0"
        },
        {
         "0": "NC_000001.11",
         "1": "10183",
         "2": "rs1639549482",
         "3": "C",
         "4": "A,G",
         "5": ".",
         "6": ".",
         "7": "RS=1639549482;dbSNPBuildID=155;SSR=0;PSEUDOGENEINFO=DDX11L1:100287102;VC=SNV;R5;GNO;FREQ=GnomAD:0.9998,0.0001756,.|TOMMO:0.9998,0.0002456,.|dbGaP_PopFreq:1,0,0"
        },
        {
         "0": "NC_000001.11",
         "1": "10184",
         "2": "rs1557426769",
         "3": "CCT",
         "4": "C",
         "5": ".",
         "6": ".",
         "7": "RS=1557426769;dbSNPBuildID=155;SSR=0;PSEUDOGENEINFO=DDX11L1:100287102;VC=DEL;R5;GNO;FREQ=GnomAD:0.9998,0.000168"
        },
        {
         "0": "NC_000001.11",
         "1": "10185",
         "2": "rs1291899786",
         "3": "C",
         "4": "G,T",
         "5": ".",
         "6": ".",
         "7": "RS=1291899786;dbSNPBuildID=151;SSR=0;PSEUDOGENEINFO=DDX11L1:100287102;VC=SNV;R5;GNO;FREQ=GnomAD:0.9999,.,5.218e-05|dbGaP_PopFreq:1,0,0"
        },
        {
         "0": "NC_000001.11",
         "1": "10186",
         "2": "rs1340974825",
         "3": "T",
         "4": "A,C,G",
         "5": ".",
         "6": ".",
         "7": "RS=1340974825;dbSNPBuildID=151;SSR=0;PSEUDOGENEINFO=DDX11L1:100287102;VC=SNV;R5;GNO;FREQ=KOREAN:0.9928,.,0.007192,.|TOMMO:0.9997,.,0.0002705,.|dbGaP_PopFreq:1,0,0,0"
        },
        {
         "0": "NC_000001.11",
         "1": "10186",
         "2": "rs1639549744",
         "3": "TA",
         "4": "T",
         "5": ".",
         "6": ".",
         "7": "RS=1639549744;SSR=0;PSEUDOGENEINFO=DDX11L1:100287102;VC=INDEL;R5;GNO;FREQ=dbGaP_PopFreq:1,0"
        },
        {
         "0": "NC_000001.11",
         "1": "10187",
         "2": "rs1639549710",
         "3": "A",
         "4": "C,G,T",
         "5": ".",
         "6": ".",
         "7": "RS=1639549710;dbSNPBuildID=156;SSR=0;PSEUDOGENEINFO=DDX11L1:100287102;VC=SNV;R5;GNO;FREQ=TOMMO:0.9999,.,.,5.73e-05|dbGaP_PopFreq:1,0,0,0"
        },
        {
         "0": "NC_000001.11",
         "1": "10188",
         "2": "rs1327557000",
         "3": "A",
         "4": "C,G",
         "5": ".",
         "6": ".",
         "7": "RS=1327557000;dbSNPBuildID=154;SSR=0;PSEUDOGENEINFO=DDX11L1:100287102;VC=SNV;R5;GNO;FREQ=GnomAD:0.9999,7.976e-05,.|KOREAN:0.9959,0.004107,.|TOMMO:0.9997,0.0002568,.|dbGaP_PopFreq:1,0,0"
        },
        {
         "0": "NC_000001.11",
         "1": "10188",
         "2": "rs1639549832",
         "3": "A",
         "4": "AC",
         "5": ".",
         "6": ".",
         "7": "RS=1639549832;SSR=0;PSEUDOGENEINFO=DDX11L1:100287102;VC=INDEL;R5;GNO;FREQ=dbGaP_PopFreq:1,0"
        },
        {
         "0": "NC_000001.11",
         "1": "10190",
         "2": "rs1639549852",
         "3": "C",
         "4": "A",
         "5": ".",
         "6": ".",
         "7": "RS=1639549852;dbSNPBuildID=155;SSR=0;PSEUDOGENEINFO=DDX11L1:100287102;VC=SNV;R5"
        },
        {
         "0": "NC_000001.11",
         "1": "10191",
         "2": "rs1639549885",
         "3": "C",
         "4": "T",
         "5": ".",
         "6": ".",
         "7": "RS=1639549885;dbSNPBuildID=155;SSR=0;PSEUDOGENEINFO=DDX11L1:100287102;VC=SNV;R5;GNO;FREQ=GnomAD:1,2.485e-05"
        },
        {
         "0": "NC_000001.11",
         "1": "10192",
         "2": "rs1202596292",
         "3": "T",
         "4": "C,G",
         "5": ".",
         "6": ".",
         "7": "RS=1202596292;dbSNPBuildID=151;SSR=0;PSEUDOGENEINFO=DDX11L1:100287102;VC=SNV;R5;GNO;FREQ=KOREAN:0.9969,0.00308,.|TOMMO:0.9999,0.0001113,.|dbGaP_PopFreq:1,0,."
        },
        {
         "0": "NC_000001.11",
         "1": "10193",
         "2": "rs1639549948",
         "3": "A",
         "4": "C,G,T",
         "5": ".",
         "6": ".",
         "7": "RS=1639549948;dbSNPBuildID=155;SSR=0;PSEUDOGENEINFO=DDX11L1:100287102;VC=SNV;R5;GNO;FREQ=GnomAD:1,.,.,4.083e-05|TOMMO:0.9999,.,0.0001099,.|dbGaP_PopFreq:1,0,.,0"
        },
        {
         "0": "NC_000001.11",
         "1": "10194",
         "2": "rs1349987279",
         "3": "A",
         "4": "AC",
         "5": ".",
         "6": ".",
         "7": "RS=1349987279;SSR=0;PSEUDOGENEINFO=DDX11L1:100287102;VC=INDEL;R5;GNO;FREQ=dbGaP_PopFreq:0.9976,0.00236"
        },
        {
         "0": "NC_000001.11",
         "1": "10194",
         "2": "rs1570391903",
         "3": "A",
         "4": "C,G",
         "5": ".",
         "6": ".",
         "7": "RS=1570391903;dbSNPBuildID=154;SSR=0;PSEUDOGENEINFO=DDX11L1:100287102;VC=SNV;R5;GNO;FREQ=GnomAD:0.9999,.,5.451e-05|KOREAN:0.9949,0.005133,.|TOMMO:0.9999,0.0001176,.|dbGaP_PopFreq:1,0,0"
        },
        {
         "0": "NC_000001.11",
         "1": "10195",
         "2": "rs1639550031",
         "3": "C",
         "4": "G",
         "5": ".",
         "6": ".",
         "7": "RS=1639550031;SSR=0;PSEUDOGENEINFO=DDX11L1:100287102;VC=SNV;R5;GNO;FREQ=dbGaP_PopFreq:1,0"
        },
        {
         "0": "NC_000001.11",
         "1": "10198",
         "2": "rs1253636590",
         "3": "T",
         "4": "A,C,G",
         "5": ".",
         "6": ".",
         "7": "RS=1253636590;dbSNPBuildID=151;SSR=0;PSEUDOGENEINFO=DDX11L1:100287102;VC=SNV;R5;GNO;FREQ=GnomAD:0.9998,.,0.0002365,.|dbGaP_PopFreq:1,.,0,0"
        },
        {
         "0": "NC_000001.11",
         "1": "10198",
         "2": "rs1639550146",
         "3": "TA",
         "4": "T,TAA",
         "5": ".",
         "6": ".",
         "7": "RS=1639550146;SSR=0;PSEUDOGENEINFO=DDX11L1:100287102;VC=INDEL;R5;GNO;FREQ=dbGaP_PopFreq:1,0,0"
        },
        {
         "0": "NC_000001.11",
         "1": "10198",
         "2": "rs1639550170",
         "3": "TAACCCTAACCCTAACCCTAACCCTAACCCTAACCCCTAACCCTAACCCTAAACCCTA",
         "4": "T",
         "5": ".",
         "6": ".",
         "7": "RS=1639550170;SSR=0;PSEUDOGENEINFO=DDX11L1:100287102;VC=INDEL;R5;GNO;FREQ=GnomAD:0.9999,9.456e-05"
        },
        {
         "0": "NC_000001.11",
         "1": "10199",
         "2": "rs905327004",
         "3": "A",
         "4": "C,T",
         "5": ".",
         "6": ".",
         "7": "RS=905327004;dbSNPBuildID=150;SSR=0;PSEUDOGENEINFO=DDX11L1:100287102;VC=SNV;R5;GNO;FREQ=Siberian:0.5,.,0.5|TOMMO:0.9997,.,0.0003325|dbGaP_PopFreq:1,0,0"
        },
        {
         "0": "NC_000001.11",
         "1": "10200",
         "2": "rs1406296769",
         "3": "A",
         "4": "C,G",
         "5": ".",
         "6": ".",
         "7": "RS=1406296769;dbSNPBuildID=154;SSR=0;PSEUDOGENEINFO=DDX11L1:100287102;VC=SNV;R5;GNO;FREQ=KOREAN:0.9986,.,0.00137|TOMMO:0.9998,.,0.0001606|dbGaP_PopFreq:1,0,0"
        },
        {
         "0": "NC_000001.11",
         "1": "10200",
         "2": "rs1639550252",
         "3": "A",
         "4": "AC",
         "5": ".",
         "6": ".",
         "7": "RS=1639550252;SSR=0;PSEUDOGENEINFO=DDX11L1:100287102;VC=INDEL;R5;GNO;FREQ=dbGaP_PopFreq:1,0"
        },
        {
         "0": "NC_000001.11",
         "1": "10201",
         "2": "rs1570391919",
         "3": "CCCTAA",
         "4": "C",
         "5": ".",
         "6": ".",
         "7": "RS=1570391919;dbSNPBuildID=154;SSR=0;PSEUDOGENEINFO=DDX11L1:100287102;VC=INDEL;R5;GNO;FREQ=Korea1K:0.9988,0.001152|dbGaP_PopFreq:1,0"
        },
        {
         "0": "NC_000001.11",
         "1": "10201",
         "2": "rs1639550232",
         "3": "C",
         "4": "G",
         "5": ".",
         "6": ".",
         "7": "RS=1639550232;SSR=0;PSEUDOGENEINFO=DDX11L1:100287102;VC=SNV;R5;GNO;FREQ=dbGaP_PopFreq:1,0"
        },
        {
         "0": "NC_000001.11",
         "1": "10202",
         "2": "rs1639550284",
         "3": "C",
         "4": "G",
         "5": ".",
         "6": ".",
         "7": "RS=1639550284;dbSNPBuildID=155;SSR=0;PSEUDOGENEINFO=DDX11L1:100287102;VC=SNV;R5;GNO;FREQ=GnomAD:1,1.45e-05|TOMMO:0.9999,5.297e-05"
        },
        {
         "0": "NC_000001.11",
         "1": "10203",
         "2": "rs1639550333",
         "3": "C",
         "4": "CCT",
         "5": ".",
         "6": ".",
         "7": "RS=1639550333;SSR=0;PSEUDOGENEINFO=DDX11L1:100287102;VC=INS;R5;GNO;FREQ=dbGaP_PopFreq:1,0"
        },
        {
         "0": "NC_000001.11",
         "1": "10204",
         "2": "rs1570391920",
         "3": "T",
         "4": "A,C,G",
         "5": ".",
         "6": ".",
         "7": "RS=1570391920;dbSNPBuildID=154;SSR=0;PSEUDOGENEINFO=DDX11L1:100287102;VC=SNV;R5;GNO;FREQ=KOREAN:0.9983,.,0.001712,.|TOMMO:0.9999,.,0.0001069,.|dbGaP_PopFreq:1,0,0,0"
        },
        {
         "0": "NC_000001.11",
         "1": "10204",
         "2": "rs1639550457",
         "3": "TA",
         "4": "T",
         "5": ".",
         "6": ".",
         "7": "RS=1639550457;SSR=0;PSEUDOGENEINFO=DDX11L1:100287102;VC=INDEL;R5;GNO;FREQ=dbGaP_PopFreq:1,0"
        },
        {
         "0": "NC_000001.11",
         "1": "10205",
         "2": "rs1639550404",
         "3": "A",
         "4": "C,T",
         "5": ".",
         "6": ".",
         "7": "RS=1639550404;dbSNPBuildID=155;SSR=0;PSEUDOGENEINFO=DDX11L1:100287102;VC=SNV;R5;GNO;FREQ=TOMMO:0.9999,.,0.0001061|dbGaP_PopFreq:1,0,0"
        },
        {
         "0": "NC_000001.11",
         "1": "10206",
         "2": "rs1570391922",
         "3": "A",
         "4": "C,G",
         "5": ".",
         "6": ".",
         "7": "RS=1570391922;dbSNPBuildID=154;SSR=0;PSEUDOGENEINFO=DDX11L1:100287102;VC=SNV;R5;GNO;FREQ=KOREAN:0.9997,.,0.0003422|TOMMO:0.9998,.,0.0001588|dbGaP_PopFreq:1,0,."
        },
        {
         "0": "NC_000001.11",
         "1": "10206",
         "2": "rs1639550563",
         "3": "A",
         "4": "AC",
         "5": ".",
         "6": ".",
         "7": "RS=1639550563;SSR=0;PSEUDOGENEINFO=DDX11L1:100287102;VC=INDEL;R5;GNO;FREQ=dbGaP_PopFreq:1,0"
        },
        {
         "0": "NC_000001.11",
         "1": "10207",
         "2": "rs1639550536",
         "3": "C",
         "4": "A",
         "5": ".",
         "6": ".",
         "7": "RS=1639550536;SSR=0;PSEUDOGENEINFO=DDX11L1:100287102;VC=SNV;R5;GNO;FREQ=dbGaP_PopFreq:1,0"
        },
        {
         "0": "NC_000001.11",
         "1": "10208",
         "2": "rs2100299380",
         "3": "C",
         "4": "G",
         "5": ".",
         "6": ".",
         "7": "RS=2100299380;dbSNPBuildID=156;SSR=0;PSEUDOGENEINFO=DDX11L1:100287102;VC=SNV;R5;GNO;FREQ=TOMMO:0.9999,5.233e-05"
        },
        {
         "0": "NC_000001.11",
         "1": "10209",
         "2": "rs1639550623",
         "3": "CT",
         "4": "C",
         "5": ".",
         "6": ".",
         "7": "RS=1639550623;dbSNPBuildID=155;SSR=0;PSEUDOGENEINFO=DDX11L1:100287102;VC=DEL;R5;GNO;FREQ=TOMMO:0.9999,5.226e-05"
        },
        {
         "0": "NC_000001.11",
         "1": "10210",
         "2": "rs1480871199",
         "3": "T",
         "4": "A,C,G",
         "5": ".",
         "6": ".",
         "7": "RS=1480871199;dbSNPBuildID=151;SSR=0;PSEUDOGENEINFO=DDX11L1:100287102;VC=SNV;R5;GNO;FREQ=GnomAD:1,.,.,2.967e-05|TOMMO:0.9999,0.0001055,.,.|dbGaP_PopFreq:1,.,0,0"
        },
        {
         "0": "NC_000001.11",
         "1": "10210",
         "2": "rs2100299392",
         "3": "TA",
         "4": "T",
         "5": ".",
         "6": ".",
         "7": "RS=2100299392;dbSNPBuildID=156;SSR=0;PSEUDOGENEINFO=DDX11L1:100287102;VC=INDEL;R5;GNO;FREQ=1000Genomes:0.9984,0.001562"
        },
        {
         "0": "NC_000001.11",
         "1": "10211",
         "2": "rs1639550660",
         "3": "A",
         "4": "C,T",
         "5": ".",
         "6": ".",
         "7": "RS=1639550660;dbSNPBuildID=155;SSR=0;PSEUDOGENEINFO=DDX11L1:100287102;VC=SNV;R5;GNO;FREQ=TOMMO:0.9999,.,0.0001049|dbGaP_PopFreq:1,0,0"
        },
        {
         "0": "NC_000001.11",
         "1": "10212",
         "2": "rs1300874514",
         "3": "AC",
         "4": "A,ACC",
         "5": ".",
         "6": ".",
         "7": "RS=1300874514;dbSNPBuildID=155;SSR=0;PSEUDOGENEINFO=DDX11L1:100287102;VC=INDEL;R5;GNO;FREQ=GnomAD:1,2.813e-05,.|dbGaP_PopFreq:0.9874,.,0.01265;COMMON"
        },
        {
         "0": "NC_000001.11",
         "1": "10212",
         "2": "rs1570391925",
         "3": "A",
         "4": "C,G",
         "5": ".",
         "6": ".",
         "7": "RS=1570391925;dbSNPBuildID=154;SSR=0;PSEUDOGENEINFO=DDX11L1:100287102;VC=SNV;R5;GNO;FREQ=KOREAN:0.999,.,0.001027|TOMMO:0.9998,.,0.0001575|dbGaP_PopFreq:1,0,0"
        },
        {
         "0": "NC_000001.11",
         "1": "10213",
         "2": "rs1181208913",
         "3": "CCCTAACCCTAA",
         "4": "C",
         "5": ".",
         "6": ".",
         "7": "RS=1181208913;dbSNPBuildID=151;SSR=0;PSEUDOGENEINFO=DDX11L1:100287102;VC=INDEL;R5;GNO;FREQ=TOMMO:0.9995,0.0005222"
        },
        {
         "0": "NC_000001.11",
         "1": "10213",
         "2": "rs1639550749",
         "3": "C",
         "4": "A,G",
         "5": ".",
         "6": ".",
         "7": "RS=1639550749;SSR=0;PSEUDOGENEINFO=DDX11L1:100287102;VC=SNV;R5;GNO;FREQ=dbGaP_PopFreq:1,0,0"
        },
        {
         "0": "NC_000001.11",
         "1": "10213",
         "2": "rs1639550814",
         "3": "C",
         "4": "CG",
         "5": ".",
         "6": ".",
         "7": "RS=1639550814;SSR=0;PSEUDOGENEINFO=DDX11L1:100287102;VC=INS;R5;GNO;FREQ=dbGaP_PopFreq:1,0"
        },
        {
         "0": "NC_000001.11",
         "1": "10215",
         "2": "rs1639550842",
         "3": "C",
         "4": "G",
         "5": ".",
         "6": ".",
         "7": "RS=1639550842;SSR=0;PSEUDOGENEINFO=DDX11L1:100287102;VC=SNV;R5;GNO;FREQ=dbGaP_PopFreq:1,0"
        },
        {
         "0": "NC_000001.11",
         "1": "10215",
         "2": "rs1639550880",
         "3": "C",
         "4": "CT",
         "5": ".",
         "6": ".",
         "7": "RS=1639550880;SSR=0;PSEUDOGENEINFO=DDX11L1:100287102;VC=INDEL;R5;GNO;FREQ=dbGaP_PopFreq:1,0"
        },
        {
         "0": "NC_000001.11",
         "1": "10216",
         "2": "rs1570391932",
         "3": "T",
         "4": "C,G",
         "5": ".",
         "6": ".",
         "7": "RS=1570391932;dbSNPBuildID=154;SSR=0;PSEUDOGENEINFO=DDX11L1:100287102;VC=SNV;R5;GNO;FREQ=KOREAN:0.9952,0.004795,.|dbGaP_PopFreq:1,0,0"
        },
        {
         "0": "NC_000001.11",
         "1": "10216",
         "2": "rs1639550920",
         "3": "TA",
         "4": "T",
         "5": ".",
         "6": ".",
         "7": "RS=1639550920;SSR=0;PSEUDOGENEINFO=DDX11L1:100287102;VC=INDEL;R5;GNO;FREQ=GnomAD:1,3.259e-05"
        },
        {
         "0": "NC_000001.11",
         "1": "10217",
         "2": "rs1254048420",
         "3": "A",
         "4": "G,T",
         "5": ".",
         "6": ".",
         "7": "RS=1254048420;dbSNPBuildID=151;SSR=0;PSEUDOGENEINFO=DDX11L1:100287102;VC=SNV;R5;GNO;FREQ=GnomAD:1,.,4.078e-05|dbGaP_PopFreq:1,0,."
        },
        {
         "0": "NC_000001.11",
         "1": "10217",
         "2": "rs1639550971",
         "3": "AACCCT",
         "4": "A",
         "5": ".",
         "6": ".",
         "7": "RS=1639550971;dbSNPBuildID=155;SSR=0;PSEUDOGENEINFO=DDX11L1:100287102;VC=INDEL;R5;GNO;FREQ=GnomAD:1,2.039e-05|TOMMO:0.9999,0.0001045"
        },
        {
         "0": "NC_000001.11",
         "1": "10218",
         "2": "rs1570391936",
         "3": "A",
         "4": "C,G",
         "5": ".",
         "6": ".",
         "7": "RS=1570391936;dbSNPBuildID=154;SSR=0;PSEUDOGENEINFO=DDX11L1:100287102;VC=SNV;R5;GNO;FREQ=KOREAN:0.9979,0.002055,."
        },
        {
         "0": "NC_000001.11",
         "1": "10218",
         "2": "rs1639551019",
         "3": "A",
         "4": "AC",
         "5": ".",
         "6": ".",
         "7": "RS=1639551019;SSR=0;PSEUDOGENEINFO=DDX11L1:100287102;VC=INDEL;R5;GNO;FREQ=dbGaP_PopFreq:1,0"
        },
        {
         "0": "NC_000001.11",
         "1": "10219",
         "2": "rs1639550996",
         "3": "C",
         "4": "A",
         "5": ".",
         "6": ".",
         "7": "RS=1639550996;SSR=0;PSEUDOGENEINFO=DDX11L1:100287102;VC=SNV;R5;GNO;FREQ=dbGaP_PopFreq:1,0"
        },
        {
         "0": "NC_000001.11",
         "1": "10220",
         "2": "rs1639551038",
         "3": "C",
         "4": "A",
         "5": ".",
         "6": ".",
         "7": "RS=1639551038;SSR=0;PSEUDOGENEINFO=DDX11L1:100287102;VC=SNV;R5;GNO;FREQ=dbGaP_PopFreq:1,0"
        },
        {
         "0": "NC_000001.11",
         "1": "10221",
         "2": "rs1344556692",
         "3": "C",
         "4": "CT",
         "5": ".",
         "6": ".",
         "7": "RS=1344556692;SSR=0;PSEUDOGENEINFO=DDX11L1:100287102;VC=INDEL;R5;GNO;FREQ=dbGaP_PopFreq:1,0"
        },
        {
         "0": "NC_000001.11",
         "1": "10221",
         "2": "rs1639551085",
         "3": "CT",
         "4": "C",
         "5": ".",
         "6": ".",
         "7": "RS=1639551085;SSR=0;PSEUDOGENEINFO=DDX11L1:100287102;VC=DEL;R5;GNO;FREQ=dbGaP_PopFreq:1,0"
        },
        {
         "0": "NC_000001.11",
         "1": "10222",
         "2": "rs1425505601",
         "3": "T",
         "4": "A,C,G",
         "5": ".",
         "6": ".",
         "7": "RS=1425505601;dbSNPBuildID=151;SSR=0;PSEUDOGENEINFO=DDX11L1:100287102;VC=SNV;R5;GNO;FREQ=GnomAD:1,.,.,4.002e-05|dbGaP_PopFreq:1,0,0,0"
        },
        {
         "0": "NC_000001.11",
         "1": "10222",
         "2": "rs1639551108",
         "3": "TA",
         "4": "T,TAA",
         "5": ".",
         "6": ".",
         "7": "RS=1639551108;SSR=0;PSEUDOGENEINFO=DDX11L1:100287102;VC=INDEL;R5;GNO;FREQ=dbGaP_PopFreq:1,0,0"
        },
        {
         "0": "NC_000001.11",
         "1": "10222",
         "2": "rs1639551129",
         "3": "TAACCCTAACCCCTAACCCTAACCCTAAACCCTA",
         "4": "T",
         "5": ".",
         "6": ".",
         "7": "RS=1639551129;dbSNPBuildID=155;SSR=0;PSEUDOGENEINFO=DDX11L1:100287102;VC=INDEL;R5;GNO;FREQ=GnomAD:0.9999,8.003e-05"
        },
        {
         "0": "NC_000001.11",
         "1": "10223",
         "2": "rs2100299438",
         "3": "A",
         "4": "T",
         "5": ".",
         "6": ".",
         "7": "RS=2100299438;dbSNPBuildID=156;SSR=0;PSEUDOGENEINFO=DDX11L1:100287102;VC=SNV;R5;GNO;FREQ=TOMMO:0.9999,0.0001049"
        },
        {
         "0": "NC_000001.11",
         "1": "10223",
         "2": "rs2100299447",
         "3": "AACCCTAAC",
         "4": "A",
         "5": ".",
         "6": ".",
         "7": "RS=2100299447;dbSNPBuildID=156;SSR=0;PSEUDOGENEINFO=DDX11L1:100287102;VC=DEL;R5;GNO;FREQ=TOMMO:0.9999,0.0001049"
        },
        {
         "0": "NC_000001.11",
         "1": "10224",
         "2": "rs1165500808",
         "3": "AC",
         "4": "A,ACC",
         "5": ".",
         "6": ".",
         "7": "RS=1165500808;dbSNPBuildID=151;SSR=0;PSEUDOGENEINFO=DDX11L1:100287102;VC=INDEL;R5;GNO;FREQ=GnomAD:1,.,2.377e-05|dbGaP_PopFreq:1,.,0"
        },
        {
         "0": "NC_000001.11",
         "1": "10224",
         "2": "rs1639551143",
         "3": "A",
         "4": "C,G",
         "5": ".",
         "6": ".",
         "7": "RS=1639551143;SSR=0;PSEUDOGENEINFO=DDX11L1:100287102;VC=SNV;R5;GNO;FREQ=dbGaP_PopFreq:1,0,0"
        },
        {
         "0": "NC_000001.11",
         "1": "10225",
         "2": "rs2100299449",
         "3": "C",
         "4": "A",
         "5": ".",
         "6": ".",
         "7": "RS=2100299449;dbSNPBuildID=156;SSR=0;PSEUDOGENEINFO=DDX11L1:100287102;VC=SNV;R5;GNO;FREQ=TOMMO:0.9999,5.244e-05"
        },
        {
         "0": "NC_000001.11",
         "1": "10227",
         "2": "rs1385944281",
         "3": "C",
         "4": "CT",
         "5": ".",
         "6": ".",
         "7": "RS=1385944281;dbSNPBuildID=151;SSR=0;PSEUDOGENEINFO=DDX11L1:100287102;VC=INDEL;R5;GNO;FREQ=GnomAD:1,1.396e-05"
        },
        {
         "0": "NC_000001.11",
         "1": "10228",
         "2": "rs143255646",
         "3": "TA",
         "4": "T",
         "5": ".",
         "6": ".",
         "7": "RS=143255646;dbSNPBuildID=134;SSR=0;PSEUDOGENEINFO=DDX11L1:100287102;VC=INDEL;R5;GNO;FREQ=dbGaP_PopFreq:1,0"
        },
        {
         "0": "NC_000001.11",
         "1": "10228",
         "2": "rs200462216",
         "3": "TAACCCCTAACCCTAACCCTAAACCCTA",
         "4": "T",
         "5": ".",
         "6": ".",
         "7": "RS=200462216;dbSNPBuildID=137;SSR=0;PSEUDOGENEINFO=DDX11L1:100287102;VC=INDEL;R5"
        },
        {
         "0": "NC_000001.11",
         "1": "10228",
         "2": "rs1429280313",
         "3": "T",
         "4": "A,C,G",
         "5": ".",
         "6": ".",
         "7": "RS=1429280313;dbSNPBuildID=151;SSR=0;PSEUDOGENEINFO=DDX11L1:100287102;VC=SNV;R5;GNO;FREQ=GnomAD:0.9995,.,0.0005143,.|KOREAN:0.9781,.,0.02193,.|dbGaP_PopFreq:0.9999,0,8.43e-05,0"
        },
        {
         "0": "NC_000001.11",
         "1": "10228",
         "2": "rs1639551281",
         "3": "TAACCCC",
         "4": "T",
         "5": ".",
         "6": ".",
         "7": "RS=1639551281;dbSNPBuildID=155;SSR=0;PSEUDOGENEINFO=DDX11L1:100287102;VC=DEL;R5;GNO;FREQ=GnomAD:0.9998,0.0002056"
        },
        {
         "0": "NC_000001.11",
         "1": "10229",
         "2": "rs1167009405",
         "3": "AAC",
         "4": "A",
         "5": ".",
         "6": ".",
         "7": "RS=1167009405;dbSNPBuildID=151;SSR=0;PSEUDOGENEINFO=DDX11L1:100287102;VC=DEL;R5;GNO;FREQ=dbGaP_PopFreq:1,0"
        },
        {
         "0": "NC_000001.11",
         "1": "10229",
         "2": "rs1271733325",
         "3": "A",
         "4": "T",
         "5": ".",
         "6": ".",
         "7": "RS=1271733325;dbSNPBuildID=156;SSR=0;PSEUDOGENEINFO=DDX11L1:100287102;VC=SNV;R5;GNO;FREQ=TOMMO:0.9999,0.0001115|dbGaP_PopFreq:0.9999,8.43e-05"
        },
        {
         "0": "NC_000001.11",
         "1": "10229",
         "2": "rs1639551336",
         "3": "AACCCCTAACCCT",
         "4": "A",
         "5": ".",
         "6": ".",
         "7": "RS=1639551336;dbSNPBuildID=155;SSR=0;PSEUDOGENEINFO=DDX11L1:100287102;VC=INDEL;R5;GNO;FREQ=GnomAD:0.9998,0.0001882"
        },
        {
         "0": "NC_000001.11",
         "1": "10230",
         "2": "rs775928745",
         "3": "AC",
         "4": "A",
         "5": ".",
         "6": ".",
         "7": "RS=775928745;dbSNPBuildID=144;SSR=0;PSEUDOGENEINFO=DDX11L1:100287102;VC=INDEL;R5;GNO;FREQ=GnomAD:0.9028,0.09722|TOMMO:0.9999,0.0001196|dbGaP_PopFreq:0.6048,0.3952;COMMON"
        },
        {
         "0": "NC_000001.11",
         "1": "10231",
         "2": "rs200279319",
         "3": "C",
         "4": "A,G,T",
         "5": ".",
         "6": ".",
         "7": "RS=200279319;dbSNPBuildID=137;SSR=0;PSEUDOGENEINFO=DDX11L1:100287102;VC=SNV;R5;GNO;FREQ=GnomAD:0.9634,0.03659,.,.|SGDP_PRJ:0.5,0.5,.,.|dbGaP_PopFreq:1,0,0,0"
        },
        {
         "0": "NC_000001.11",
         "1": "10231",
         "2": "rs1639551433",
         "3": "C",
         "4": "CCCTAA",
         "5": ".",
         "6": ".",
         "7": "RS=1639551433;dbSNPBuildID=155;SSR=0;PSEUDOGENEINFO=DDX11L1:100287102;VC=INDEL;R5;GNO;FREQ=GnomAD:0.9884,0.01163"
        },
        {
         "0": "NC_000001.11",
         "1": "10231",
         "2": "rs1639551452",
         "3": "CCCCTAA",
         "4": "C",
         "5": ".",
         "6": ".",
         "7": "RS=1639551452;SSR=0;PSEUDOGENEINFO=DDX11L1:100287102;VC=INDEL;R5;GNO;FREQ=dbGaP_PopFreq:1,0"
        },
        {
         "0": "NC_000001.11",
         "1": "10231",
         "2": "rs1639551472",
         "3": "CCCCTAACCCTAACCCTAAACCCTAAACCCTAACCCTAACCCTAACCCTAACCCTAACCCCAACCCCAACCCCAACCCCAACCCCAACCCCAACCCTAACCCCTAACCCTAACCCTAACCCTACCCTAACCCTAACCCTAACCCTAA",
         "4": "C",
         "5": ".",
         "6": ".",
         "7": "RS=1639551472;SSR=0;PSEUDOGENEINFO=DDX11L1:100287102;VC=INDEL;R5;GNO;FREQ=GnomAD:0.9884,0.01163"
        },
        {
         "0": "NC_000001.11",
         "1": "10231",
         "2": "rs1639551489",
         "3": "CCCCTAACCCTAACCCTAAACCCTAAACCCTAACCCTAACCCTAACCCTAACCCTAACCCCAACCCCAACCCCAACCCCAACCCCAACCCCAACCCTAACCCCTAACCCTAACCCTAACCCTACCCTAACCCTAACCCTAACCCTAACCCTAACCCTAACCCCTAACCCCTAACCCTAACCCTAACCCTAACCCTAACCCTAACCCTAACCCCTAA",
         "4": "C",
         "5": ".",
         "6": ".",
         "7": "RS=1639551489;SSR=0;PSEUDOGENEINFO=DDX11L1:100287102;VC=INDEL;R5;GNO;FREQ=GnomAD:0.9884,0.01163"
        },
        {
         "0": "NC_000001.11",
         "1": "10232",
         "2": "rs1639551522",
         "3": "CCCTA",
         "4": "C",
         "5": ".",
         "6": ".",
         "7": "RS=1639551522;SSR=0;PSEUDOGENEINFO=DDX11L1:100287102;VC=DEL;R5;GNO;FREQ=dbGaP_PopFreq:1,0"
        },
        {
         "0": "NC_000001.11",
         "1": "10233",
         "2": "rs1570391954",
         "3": "C",
         "4": "A",
         "5": ".",
         "6": ".",
         "7": "RS=1570391954;dbSNPBuildID=154;SSR=0;PSEUDOGENEINFO=DDX11L1:100287102;VC=SNV;R5;GNO;FREQ=KOREAN:0.9986,0.001372"
        },
        {
         "0": "NC_000001.11",
         "1": "10233",
         "2": "rs1639551584",
         "3": "CCT",
         "4": "C",
         "5": ".",
         "6": ".",
         "7": "RS=1639551584;SSR=0;PSEUDOGENEINFO=DDX11L1:100287102;VC=DEL;R5;GNO;FREQ=dbGaP_PopFreq:1,0"
        },
        {
         "0": "NC_000001.11",
         "1": "10234",
         "2": "rs145599635",
         "3": "C",
         "4": "A,G,T",
         "5": ".",
         "6": ".",
         "7": "RS=145599635;dbSNPBuildID=134;SSR=0;PSEUDOGENEINFO=DDX11L1:100287102;VC=SNV;R5;GNO;FREQ=KOREAN:0.9664,.,0.003086,0.03052|Qatari:0.5278,.,.,0.4722|SGDP_PRJ:0.5,.,0.5,.|Siberian:0.5,.,.,0.5|TOMMO:0.9998,.,.,0.0001793|dbGaP_PopFreq:1,0,0,0"
        },
        {
         "0": "NC_000001.11",
         "1": "10234",
         "2": "rs1639551639",
         "3": "C",
         "4": "CT",
         "5": ".",
         "6": ".",
         "7": "RS=1639551639;SSR=0;PSEUDOGENEINFO=DDX11L1:100287102;VC=INDEL;R5;GNO;FREQ=dbGaP_PopFreq:1,0"
        },
        {
         "0": "NC_000001.11",
         "1": "10234",
         "2": "rs1639551657",
         "3": "CT",
         "4": "C",
         "5": ".",
         "6": ".",
         "7": "RS=1639551657;dbSNPBuildID=155;SSR=0;PSEUDOGENEINFO=DDX11L1:100287102;VC=DEL;R5;GNO;FREQ=GnomAD:0.9999,5.957e-05|dbGaP_PopFreq:1,0"
        },
        {
         "0": "NC_000001.11",
         "1": "10235",
         "2": "rs540431307",
         "3": "TA",
         "4": "T,TAA",
         "5": ".",
         "6": ".",
         "7": "RS=540431307;dbSNPBuildID=142;SSR=0;PSEUDOGENEINFO=DDX11L1:100287102;VC=INDEL;R5;GNO;FREQ=1000Genomes:0.9988,.,0.001198|GnomAD:0.9943,0.005747,.|dbGaP_PopFreq:1,.,0"
        },
        {
         "0": "NC_000001.11",
         "1": "10235",
         "2": "rs1035249121",
         "3": "T",
         "4": "A,C,G",
         "5": ".",
         "6": ".",
         "7": "RS=1035249121;dbSNPBuildID=150;SSR=0;PSEUDOGENEINFO=DDX11L1:100287102;VC=SNV;R5;GNO;FREQ=GnomAD:0.9885,0.01149,.,.|Siberian:0.5,0.25,0.25,.|TOMMO:0.9998,0.0001918,.,.|dbGaP_PopFreq:1,0,0,0"
        },
        {
         "0": "NC_000001.11",
         "1": "10236",
         "2": "rs1639551734",
         "3": "AACCCT",
         "4": "A",
         "5": ".",
         "6": ".",
         "7": "RS=1639551734;SSR=0;PSEUDOGENEINFO=DDX11L1:100287102;VC=INDEL;R5;GNO;FREQ=dbGaP_PopFreq:1,0"
        },
        {
         "0": "NC_000001.11",
         "1": "10237",
         "2": "rs1490526935",
         "3": "A",
         "4": "C,G,T",
         "5": ".",
         "6": ".",
         "7": "RS=1490526935;dbSNPBuildID=154;SSR=0;PSEUDOGENEINFO=DDX11L1:100287102;VC=SNV;R5;GNO;FREQ=GnomAD:0.9997,0.0002752,.,.|KOREAN:0.9671,0.03292,.,.|dbGaP_PopFreq:1,0,0,0"
        },
        {
         "0": "NC_000001.11",
         "1": "10237",
         "2": "rs1639551776",
         "3": "A",
         "4": "AC",
         "5": ".",
         "6": ".",
         "7": "RS=1639551776;SSR=0;PSEUDOGENEINFO=DDX11L1:100287102;VC=INDEL;R5;GNO;FREQ=dbGaP_PopFreq:1,0"
        },
        {
         "0": "NC_000001.11",
         "1": "10237",
         "2": "rs1639551804",
         "3": "ACCCTAACCCTAAACCCTAAACCCTAACCCTAACCCTAACCCTAACCCTAACCCCAACCCCAACCCCAACCCCAACCCCAACCCCAACCCTAACCCCTAACCCTAACCCTAACCCTACCCTAACCCTAACCCTAACCCTAACCCTAACCCTAACCCCTAAC",
         "4": "A",
         "5": ".",
         "6": ".",
         "7": "RS=1639551804;SSR=0;PSEUDOGENEINFO=DDX11L1:100287102;VC=INDEL;R5;GNO;FREQ=GnomAD:0.9997,0.000275"
        },
        {
         "0": "NC_000001.11",
         "1": "10238",
         "2": "rs1557426792",
         "3": "CCCTAACCCTAAACCCTAAA",
         "4": "C",
         "5": ".",
         "6": ".",
         "7": "RS=1557426792;dbSNPBuildID=155;SSR=0;PSEUDOGENEINFO=DDX11L1:100287102;VC=INDEL;R5;GNO;FREQ=GnomAD:0.9999,5.933e-05"
        },
        {
         "0": "NC_000001.11",
         "1": "10238",
         "2": "rs1639551756",
         "3": "C",
         "4": "A",
         "5": ".",
         "6": ".",
         "7": "RS=1639551756;SSR=0;PSEUDOGENEINFO=DDX11L1:100287102;VC=SNV;R5;GNO;FREQ=dbGaP_PopFreq:1,0"
        },
        {
         "0": "NC_000001.11",
         "1": "10238",
         "2": "rs1639551827",
         "3": "CCCTAA",
         "4": "C",
         "5": ".",
         "6": ".",
         "7": "RS=1639551827;SSR=0;PSEUDOGENEINFO=DDX11L1:100287102;VC=INDEL;R5;GNO;FREQ=dbGaP_PopFreq:1,0"
        },
        {
         "0": "NC_000001.11",
         "1": "10240",
         "2": "rs1639551873",
         "3": "C",
         "4": "CCT",
         "5": ".",
         "6": ".",
         "7": "RS=1639551873;SSR=0;PSEUDOGENEINFO=DDX11L1:100287102;VC=INS;R5;GNO;FREQ=dbGaP_PopFreq:1,0"
        },
        {
         "0": "NC_000001.11",
         "1": "10240",
         "2": "rs1639551917",
         "3": "C",
         "4": "CT",
         "5": ".",
         "6": ".",
         "7": "RS=1639551917;dbSNPBuildID=155;SSR=0;PSEUDOGENEINFO=DDX11L1:100287102;VC=INDEL;R5;GNO;FREQ=TOMMO:0.9995,0.0004542"
        },
        {
         "0": "NC_000001.11",
         "1": "10241",
         "2": "rs960927773",
         "3": "T",
         "4": "A,C,G",
         "5": ".",
         "6": ".",
         "7": "RS=960927773;dbSNPBuildID=150;SSR=0;PSEUDOGENEINFO=DDX11L1:100287102;VC=SNV;R5;GNO;FREQ=SGDP_PRJ:0.5,0.5,.,.|Siberian:0.5,.,0.5,.|dbGaP_PopFreq:1,0,0,0"
        },
        {
         "0": "NC_000001.11",
         "1": "10241",
         "2": "rs1557426794",
         "3": "T",
         "4": "TA",
         "5": ".",
         "6": ".",
         "7": "RS=1557426794;SSR=0;PSEUDOGENEINFO=DDX11L1:100287102;VC=INDEL;R5;GNO;FREQ=dbGaP_PopFreq:1,0"
        },
        {
         "0": "NC_000001.11",
         "1": "10241",
         "2": "rs1639551964",
         "3": "TAACCCTAAACCCTA",
         "4": "T",
         "5": ".",
         "6": ".",
         "7": "RS=1639551964;dbSNPBuildID=155;SSR=0;PSEUDOGENEINFO=DDX11L1:100287102;VC=INDEL;R5;GNO;FREQ=TOMMO:0.9998,0.0002443"
        },
        {
         "0": "NC_000001.11",
         "1": "10242",
         "2": "rs2100299543",
         "3": "A",
         "4": "T",
         "5": ".",
         "6": ".",
         "7": "RS=2100299543;dbSNPBuildID=156;SSR=0;PSEUDOGENEINFO=DDX11L1:100287102;VC=SNV;R5"
        },
        {
         "0": "NC_000001.11",
         "1": "10243",
         "2": "rs1570391972",
         "3": "A",
         "4": "C,G",
         "5": ".",
         "6": ".",
         "7": "RS=1570391972;dbSNPBuildID=154;SSR=0;PSEUDOGENEINFO=DDX11L1:100287102;VC=SNV;R5;GNO;FREQ=KOREAN:0.9949,0.004798,0.0003427|dbGaP_PopFreq:1,0,0"
        },
        {
         "0": "NC_000001.11",
         "1": "10243",
         "2": "rs1639552040",
         "3": "A",
         "4": "AC",
         "5": ".",
         "6": ".",
         "7": "RS=1639552040;dbSNPBuildID=155;SSR=0;PSEUDOGENEINFO=DDX11L1:100287102;VC=INDEL;R5;GNO;FREQ=GnomAD:0.9999,9.28e-05|TOMMO:0.9996,0.0003962|dbGaP_PopFreq:1,0"
        },
        {
         "0": "NC_000001.11",
         "1": "10244",
         "2": "rs1302754084",
         "3": "CCCTAAA",
         "4": "C",
         "5": ".",
         "6": ".",
         "7": "RS=1302754084;dbSNPBuildID=151;SSR=0;PSEUDOGENEINFO=DDX11L1:100287102;VC=INDEL;R5;GNO;FREQ=GnomAD:0.9999,0.0001409"
        },
        {
         "0": "NC_000001.11",
         "1": "10244",
         "2": "rs1639552018",
         "3": "C",
         "4": "A",
         "5": ".",
         "6": ".",
         "7": "RS=1639552018;SSR=0;PSEUDOGENEINFO=DDX11L1:100287102;VC=SNV;R5;GNO;FREQ=dbGaP_PopFreq:1,0"
        },
        {
         "0": "NC_000001.11",
         "1": "10244",
         "2": "rs1639552082",
         "3": "CCCTAAACCCTAAA",
         "4": "C",
         "5": ".",
         "6": ".",
         "7": "RS=1639552082;dbSNPBuildID=155;SSR=0;PSEUDOGENEINFO=DDX11L1:100287102;VC=INDEL;R5;GNO;FREQ=GnomAD:1,4.697e-05"
        },
        {
         "0": "NC_000001.11",
         "1": "10246",
         "2": "rs1377559837",
         "3": "CT",
         "4": "C",
         "5": ".",
         "6": ".",
         "7": "RS=1377559837;dbSNPBuildID=151;SSR=0;PSEUDOGENEINFO=DDX11L1:100287102;VC=DEL;R5;GNO;FREQ=dbGaP_PopFreq:1,0"
        },
        {
         "0": "NC_000001.11",
         "1": "10247",
         "2": "rs796996180",
         "3": "T",
         "4": "A,C,G",
         "5": ".",
         "6": ".",
         "7": "RS=796996180;dbSNPBuildID=146;SSR=0;PSEUDOGENEINFO=DDX11L1:100287102;VC=SNV;R5;GNO;FREQ=GnomAD:0.9684,.,0.03165,.|Qatari:0.8056,.,0.1944,.|SGDP_PRJ:0.5,.,0.5,.|TOMMO:0.9989,.,0.001056,.|dbGaP_PopFreq:1,0,0,0"
        },
        {
         "0": "NC_000001.11",
         "1": "10247",
         "2": "rs1267031179",
         "3": "TAA",
         "4": "T,TA,TAAA",
         "5": ".",
         "6": ".",
         "7": "RS=1267031179;dbSNPBuildID=153;SSR=0;PSEUDOGENEINFO=DDX11L1:100287102;VC=INDEL;R5;GNO;FREQ=GnomAD:0.9688,.,0.03125,.|TOMMO:0.9975,.,0.002548,.|dbGaP_PopFreq:1,0,0,0"
        },
        {
         "0": "NC_000001.11",
         "1": "10247",
         "2": "rs1557426798",
         "3": "T",
         "4": "TAACCCC",
         "5": ".",
         "6": ".",
         "7": "RS=1557426798;dbSNPBuildID=153;SSR=0;PSEUDOGENEINFO=DDX11L1:100287102;VC=INDEL;R5"
        },
        {
         "0": "NC_000001.11",
         "1": "10247",
         "2": "rs1557426800",
         "3": "TAAACCCTAA",
         "4": "T,TA",
         "5": ".",
         "6": ".",
         "7": "RS=1557426800;dbSNPBuildID=153;SSR=0;PSEUDOGENEINFO=DDX11L1:100287102;VC=INDEL;R5;GNO;FREQ=GnomAD:0.7911,.,0.2089|Korea1K:0.959,.,0.04098|TOMMO:0.9946,.,0.005379|dbGaP_PopFreq:1,.,0"
        },
        {
         "0": "NC_000001.11",
         "1": "10247",
         "2": "rs1557426801",
         "3": "TAAACCCTAAACCC",
         "4": "T",
         "5": ".",
         "6": ".",
         "7": "RS=1557426801;dbSNPBuildID=153;SSR=0;PSEUDOGENEINFO=DDX11L1:100287102;VC=DEL;R5"
        },
        {
         "0": "NC_000001.11",
         "1": "10247",
         "2": "rs1557426804",
         "3": "TAAACCCTAAACCCTAACCC",
         "4": "T",
         "5": ".",
         "6": ".",
         "7": "RS=1557426804;dbSNPBuildID=153;SSR=0;PSEUDOGENEINFO=DDX11L1:100287102;VC=DEL;R5"
        },
        {
         "0": "NC_000001.11",
         "1": "10248",
         "2": "rs148908337",
         "3": "A",
         "4": "C,G,T",
         "5": ".",
         "6": ".",
         "7": "RS=148908337;dbSNPBuildID=134;SSR=0;PSEUDOGENEINFO=DDX11L1:100287102;VC=SNV;R5;GNO;FREQ=GnomAD:0.9667,.,.,0.03333|SGDP_PRJ:0.5,.,.,0.5|TOMMO:0.9992,.,.,0.0008358|dbGaP_PopFreq:1,0,0,0"
        },
        {
         "0": "NC_000001.11",
         "1": "10248",
         "2": "rs1639552303",
         "3": "A",
         "4": "AACCCT",
         "5": ".",
         "6": ".",
         "7": "RS=1639552303;dbSNPBuildID=155;SSR=0;PSEUDOGENEINFO=DDX11L1:100287102;VC=INDEL;R5;GNO;FREQ=TOMMO:0.9997,0.0002834|dbGaP_PopFreq:1,0"
        },
        {
         "0": "NC_000001.11",
         "1": "10248",
         "2": "rs1639552322",
         "3": "AAACCCT",
         "4": "A",
         "5": ".",
         "6": ".",
         "7": "RS=1639552322;SSR=0;PSEUDOGENEINFO=DDX11L1:100287102;VC=INDEL;R5;GNO;FREQ=dbGaP_PopFreq:1,0"
        },
        {
         "0": "NC_000001.11",
         "1": "10249",
         "2": "rs774211241",
         "3": "AAC",
         "4": "A",
         "5": ".",
         "6": ".",
         "7": "RS=774211241;dbSNPBuildID=144;SSR=0;PSEUDOGENEINFO=DDX11L1:100287102;VC=DEL;R5;GNO;FREQ=dbGaP_PopFreq:1,0"
        },
        {
         "0": "NC_000001.11",
         "1": "10250",
         "2": "rs199706086",
         "3": "A",
         "4": "C,G,T",
         "5": ".",
         "6": ".",
         "7": "RS=199706086;dbSNPBuildID=137;SSR=0;PSEUDOGENEINFO=DDX11L1:100287102;VC=SNV;R5;GNO;FREQ=GnomAD:0.9487,0.05128,.,.|Korea1K:0.9609,0.03906,.,.|Qatari:0.5231,0.4769,.,.|SGDP_PRJ:0.5,0.5,.,.|Siberian:0.5,0.5,.,.|TOMMO:0.9972,0.002783,.,.|dbGaP_PopFreq:0.6091,0.3909,0,0;COMMON"
        },
        {
         "0": "NC_000001.11",
         "1": "10250",
         "2": "rs1639552406",
         "3": "AC",
         "4": "A",
         "5": ".",
         "6": ".",
         "7": "RS=1639552406;SSR=0;PSEUDOGENEINFO=DDX11L1:100287102;VC=INDEL;R5;GNO;FREQ=dbGaP_PopFreq:1,0"
        },
        {
         "0": "NC_000001.11",
         "1": "10253",
         "2": "rs1194272037",
         "3": "CTA",
         "4": "C",
         "5": ".",
         "6": ".",
         "7": "RS=1194272037;dbSNPBuildID=156;SSR=0;PSEUDOGENEINFO=DDX11L1:100287102;VC=DEL;R5;GNO;FREQ=TOMMO:0.9998,0.000173|dbGaP_PopFreq:1,0"
        },
        {
         "0": "NC_000001.11",
         "1": "10253",
         "2": "rs1639552453",
         "3": "CT",
         "4": "C",
         "5": ".",
         "6": ".",
         "7": "RS=1639552453;SSR=0;PSEUDOGENEINFO=DDX11L1:100287102;VC=DEL;R5;GNO;FREQ=dbGaP_PopFreq:1,0"
        },
        {
         "0": "NC_000001.11",
         "1": "10254",
         "2": "rs140194106",
         "3": "TAA",
         "4": "T,TA,TAAA",
         "5": ".",
         "6": ".",
         "7": "RS=140194106;dbSNPBuildID=134;SSR=0;PSEUDOGENEINFO=DDX11L1:100287102;VC=INDEL;R5;GNO;FREQ=GnomAD:0.9054,.,0.09459,.|Korea1K:0.9595,.,0.04054,.|TOMMO:0.9984,.,0.001621,.|dbGaP_PopFreq:1,0,0,0"
        },
        {
         "0": "NC_000001.11",
         "1": "10254",
         "2": "rs1244226766",
         "3": "T",
         "4": "A,C,G",
         "5": ".",
         "6": ".",
         "7": "RS=1244226766;dbSNPBuildID=155;SSR=0;PSEUDOGENEINFO=DDX11L1:100287102;VC=SNV;R5;GNO;FREQ=TOMMO:0.9989,.,0.001132,.|dbGaP_PopFreq:1,0,0,0"
        },
        {
         "0": "NC_000001.11",
         "1": "10254",
         "2": "rs1557426807",
         "3": "T",
         "4": "TAACCC",
         "5": ".",
         "6": ".",
         "7": "RS=1557426807;dbSNPBuildID=153;SSR=0;PSEUDOGENEINFO=DDX11L1:100287102;VC=INDEL;R5"
        },
        {
         "0": "NC_000001.11",
         "1": "10254",
         "2": "rs1557426808",
         "3": "TAAACCC",
         "4": "T",
         "5": ".",
         "6": ".",
         "7": "RS=1557426808;dbSNPBuildID=153;SSR=0;PSEUDOGENEINFO=DDX11L1:100287102;VC=DEL;R5"
        },
        {
         "0": "NC_000001.11",
         "1": "10254",
         "2": "rs1557426811",
         "3": "TAAACCCTA",
         "4": "T",
         "5": ".",
         "6": ".",
         "7": "RS=1557426811;dbSNPBuildID=153;SSR=0;PSEUDOGENEINFO=DDX11L1:100287102;VC=INDEL;R5"
        },
        {
         "0": "NC_000001.11",
         "1": "10254",
         "2": "rs1557426813",
         "3": "TAAACCCTAACCC",
         "4": "T",
         "5": ".",
         "6": ".",
         "7": "RS=1557426813;dbSNPBuildID=153;SSR=0;PSEUDOGENEINFO=DDX11L1:100287102;VC=DEL;R5"
        },
        {
         "0": "NC_000001.11",
         "1": "10255",
         "2": "rs1015259029",
         "3": "A",
         "4": "C,G,T",
         "5": ".",
         "6": ".",
         "7": "RS=1015259029;dbSNPBuildID=150;SSR=0;PSEUDOGENEINFO=DDX11L1:100287102;VC=SNV;R5;GNO;FREQ=SGDP_PRJ:0.5,.,.,0.5|Siberian:0.5,.,.,0.5|TOMMO:0.9996,.,.,0.0004023|dbGaP_PopFreq:1,0,0,0"
        },
        {
         "0": "NC_000001.11",
         "1": "10255",
         "2": "rs1639552603",
         "3": "A",
         "4": "AACCCCT",
         "5": ".",
         "6": ".",
         "7": "RS=1639552603;dbSNPBuildID=155;SSR=0;PSEUDOGENEINFO=DDX11L1:100287102;VC=INDEL;R5;GNO;FREQ=TOMMO:0.9989,0.001128"
        },
        {
         "0": "NC_000001.11",
         "1": "10255",
         "2": "rs1639552623",
         "3": "A",
         "4": "AAACCCG",
         "5": ".",
         "6": ".",
         "7": "RS=1639552623;SSR=0;PSEUDOGENEINFO=DDX11L1:100287102;VC=INDEL;R5;GNO;FREQ=dbGaP_PopFreq:1,0"
        },
        {
         "0": "NC_000001.11",
         "1": "10255",
         "2": "rs1639552642",
         "3": "A",
         "4": "AAACCCTAACCCT",
         "5": ".",
         "6": ".",
         "7": "RS=1639552642;dbSNPBuildID=155;SSR=0;PSEUDOGENEINFO=DDX11L1:100287102;VC=INDEL;R5;GNO;FREQ=TOMMO:0.997,0.003008"
        },
        {
         "0": "NC_000001.11",
         "1": "10255",
         "2": "rs1639552660",
         "3": "AAACCCTAACCCTAACCCTAACCCTAACCCTAACCCCAACCCCAACCCCAACCCCAACCCCAACCCCAACCCTAACCCCTAACCCTAACCCTAACCCT",
         "4": "A",
         "5": ".",
         "6": ".",
         "7": "RS=1639552660;SSR=0;PSEUDOGENEINFO=DDX11L1:100287102;VC=INDEL;R5;GNO;FREQ=GnomAD:0.9868,0.01316"
        },
        {
         "0": "NC_000001.11",
         "1": "10257",
         "2": "rs111200574",
         "3": "A",
         "4": "C,G",
         "5": ".",
         "6": ".",
         "7": "RS=111200574;dbSNPBuildID=132;SSR=0;PSEUDOGENEINFO=DDX11L1:100287102;VC=SNV;R5;GNO;FREQ=GnomAD:0.9447,0.05529,.|KOREAN:0.623,0.377,.|SGDP_PRJ:0.5,0.5,.|TOMMO:0.9985,0.001526,.|dbGaP_PopFreq:0.8629,0.1371,0;COMMON"
        },
        {
         "0": "NC_000001.11",
         "1": "10257",
         "2": "rs2100299617",
         "3": "AC",
         "4": "A",
         "5": ".",
         "6": ".",
         "7": "RS=2100299617;dbSNPBuildID=156;SSR=0;PSEUDOGENEINFO=DDX11L1:100287102;VC=INDEL;R5;GNO;FREQ=TOMMO:0.9999,0.0001387"
        },
        {
         "0": "NC_000001.11",
         "1": "10259",
         "2": "rs200940095",
         "3": "C",
         "4": "A",
         "5": ".",
         "6": ".",
         "7": "RS=200940095;dbSNPBuildID=137;SSR=0;PSEUDOGENEINFO=DDX11L1:100287102;VC=SNV;R5;GNO;FREQ=TOMMO:0.9999,8.068e-05"
        },
        {
         "0": "NC_000001.11",
         "1": "10261",
         "2": "rs1276420485",
         "3": "T",
         "4": "A,C,G",
         "5": ".",
         "6": ".",
         "7": "RS=1276420485;dbSNPBuildID=151;SSR=0;PSEUDOGENEINFO=DDX11L1:100287102;VC=SNV;R5;GNO;FREQ=GnomAD:0.9996,0.0004303,.,.|KOREAN:0.9644,.,0.03221,0.003427|TOMMO:0.9999,.,7.963e-05,.|dbGaP_PopFreq:1,0,0,0"
        },
        {
         "0": "NC_000001.11",
         "1": "10261",
         "2": "rs1639552787",
         "3": "T",
         "4": "TA",
         "5": ".",
         "6": ".",
         "7": "RS=1639552787;dbSNPBuildID=155;SSR=0;PSEUDOGENEINFO=DDX11L1:100287102;VC=INDEL;R5;GNO;FREQ=GnomAD:0.9996,0.0004296|dbGaP_PopFreq:1,0"
        },
        {
         "0": "NC_000001.11",
         "1": "10262",
         "2": "rs962729760",
         "3": "A",
         "4": "C",
         "5": ".",
         "6": ".",
         "7": "RS=962729760;dbSNPBuildID=150;SSR=0;PSEUDOGENEINFO=DDX11L1:100287102;VC=SNV;R5;GNO;FREQ=Siberian:0.5,0.5|dbGaP_PopFreq:1,0"
        },
        {
         "0": "NC_000001.11",
         "1": "10262",
         "2": "rs1307832531",
         "3": "AACCCT",
         "4": "A",
         "5": ".",
         "6": ".",
         "7": "RS=1307832531;dbSNPBuildID=151;SSR=0;PSEUDOGENEINFO=DDX11L1:100287102;VC=INDEL;R5;GNO;FREQ=TOMMO:0.999,0.0009743|dbGaP_PopFreq:1,0"
        },
        {
         "0": "NC_000001.11",
         "1": "10263",
         "2": "rs1570392026",
         "3": "A",
         "4": "C,G",
         "5": ".",
         "6": ".",
         "7": "RS=1570392026;dbSNPBuildID=154;SSR=0;PSEUDOGENEINFO=DDX11L1:100287102;VC=SNV;R5;GNO;FREQ=KOREAN:0.9935,0.006511,.|dbGaP_PopFreq:1,0,0"
        },
        {
         "0": "NC_000001.11",
         "1": "10263",
         "2": "rs1639552906",
         "3": "A",
         "4": "AC",
         "5": ".",
         "6": ".",
         "7": "RS=1639552906;SSR=0;PSEUDOGENEINFO=DDX11L1:100287102;VC=INDEL;R5;GNO;FREQ=dbGaP_PopFreq:1,0"
        },
        {
         "0": "NC_000001.11",
         "1": "10264",
         "2": "rs973808293",
         "3": "C",
         "4": "A",
         "5": ".",
         "6": ".",
         "7": "RS=973808293;dbSNPBuildID=150;SSR=0;PSEUDOGENEINFO=DDX11L1:100287102;VC=SNV;R5;GNO;FREQ=KOREAN:0.9973,0.002742|Siberian:0.5,0.5|TOMMO:0.9998,0.0001689|dbGaP_PopFreq:1,0"
        },
        {
         "0": "NC_000001.11",
         "1": "10266",
         "2": "rs1639552989",
         "3": "CT",
         "4": "C",
         "5": ".",
         "6": ".",
         "7": "RS=1639552989;SSR=0;PSEUDOGENEINFO=DDX11L1:100287102;VC=DEL;R5;GNO;FREQ=dbGaP_PopFreq:1,0"
        },
        {
         "0": "NC_000001.11",
         "1": "10267",
         "2": "rs921020588",
         "3": "T",
         "4": "A,C,G",
         "5": ".",
         "6": ".",
         "7": "RS=921020588;dbSNPBuildID=150;SSR=0;PSEUDOGENEINFO=DDX11L1:100287102;VC=SNV;R5;GNO;FREQ=GnomAD:0.999,.,0.001049,.|KOREAN:0.9352,.,0.05655,0.008225|Siberian:0.5,.,.,0.5|dbGaP_PopFreq:1,0,0,0"
        },
        {
         "0": "NC_000001.11",
         "1": "10267",
         "2": "rs1639553060",
         "3": "T",
         "4": "TA",
         "5": ".",
         "6": ".",
         "7": "RS=1639553060;SSR=0;PSEUDOGENEINFO=DDX11L1:100287102;VC=INDEL;R5;GNO;FREQ=dbGaP_PopFreq:1,0"
        },
        {
         "0": "NC_000001.11",
         "1": "10268",
         "2": "rs1570392032",
         "3": "A",
         "4": "C,G",
         "5": ".",
         "6": ".",
         "7": "RS=1570392032;dbSNPBuildID=154;SSR=0;PSEUDOGENEINFO=DDX11L1:100287102;VC=SNV;R5;GNO;FREQ=KOREAN:0.9955,0.004455,."
        },
        {
         "0": "NC_000001.11",
         "1": "10268",
         "2": "rs1639553107",
         "3": "AACCCT",
         "4": "A",
         "5": ".",
         "6": ".",
         "7": "RS=1639553107;SSR=0;PSEUDOGENEINFO=DDX11L1:100287102;VC=INDEL;R5;GNO;FREQ=dbGaP_PopFreq:1,0"
        },
        {
         "0": "NC_000001.11",
         "1": "10269",
         "2": "rs1570392035",
         "3": "A",
         "4": "C",
         "5": ".",
         "6": ".",
         "7": "RS=1570392035;dbSNPBuildID=154;SSR=0;PSEUDOGENEINFO=DDX11L1:100287102;VC=SNV;R5;GNO;FREQ=KOREAN:0.9935,0.006511"
        },
        {
         "0": "NC_000001.11",
         "1": "10269",
         "2": "rs1639553145",
         "3": "A",
         "4": "AC",
         "5": ".",
         "6": ".",
         "7": "RS=1639553145;SSR=0;PSEUDOGENEINFO=DDX11L1:100287102;VC=INDEL;R5;GNO;FREQ=dbGaP_PopFreq:1,0"
        },
        {
         "0": "NC_000001.11",
         "1": "10270",
         "2": "rs1639553128",
         "3": "C",
         "4": "A",
         "5": ".",
         "6": ".",
         "7": "RS=1639553128;SSR=0;PSEUDOGENEINFO=DDX11L1:100287102;VC=SNV;R5;GNO;FREQ=dbGaP_PopFreq:1,0"
        },
        {
         "0": "NC_000001.11",
         "1": "10270",
         "2": "rs1639553189",
         "3": "CCCTAA",
         "4": "C",
         "5": ".",
         "6": ".",
         "7": "RS=1639553189;SSR=0;PSEUDOGENEINFO=DDX11L1:100287102;VC=INDEL;R5;GNO;FREQ=dbGaP_PopFreq:1,0"
        },
        {
         "0": "NC_000001.11",
         "1": "10271",
         "2": "rs1639553168",
         "3": "C",
         "4": "A",
         "5": ".",
         "6": ".",
         "7": "RS=1639553168;dbSNPBuildID=155;SSR=0;PSEUDOGENEINFO=DDX11L1:100287102;VC=SNV;R5;GNO;FREQ=TOMMO:0.9998,0.0001654"
        },
        {
         "0": "NC_000001.11",
         "1": "10272",
         "2": "rs1254056895",
         "3": "CT",
         "4": "C",
         "5": ".",
         "6": ".",
         "7": "RS=1254056895;dbSNPBuildID=151;SSR=0;PSEUDOGENEINFO=DDX11L1:100287102;VC=DEL;R5;GNO;FREQ=dbGaP_PopFreq:1,0"
        },
        {
         "0": "NC_000001.11",
         "1": "10273",
         "2": "rs932472638",
         "3": "T",
         "4": "A,C,G",
         "5": ".",
         "6": ".",
         "7": "RS=932472638;dbSNPBuildID=150;SSR=0;PSEUDOGENEINFO=DDX11L1:100287102;VC=SNV;R5;GNO;FREQ=KOREAN:0.9027,.,0.08876,0.008568|SGDP_PRJ:0.5,.,.,0.5|Siberian:0.5,.,.,0.5|TOMMO:0.9999,.,0.0001283,.|dbGaP_PopFreq:1,0,0,0"
        },
        {
         "0": "NC_000001.11",
         "1": "10273",
         "2": "rs1639553321",
         "3": "TA",
         "4": "T",
         "5": ".",
         "6": ".",
         "7": "RS=1639553321;dbSNPBuildID=155;SSR=0;PSEUDOGENEINFO=DDX11L1:100287102;VC=INDEL;R5;GNO;FREQ=GnomAD:0.9997,0.00033"
        },
        {
         "0": "NC_000001.11",
         "1": "10274",
         "2": "rs1639553277",
         "3": "A",
         "4": "C,T",
         "5": ".",
         "6": ".",
         "7": "RS=1639553277;dbSNPBuildID=155;SSR=0;PSEUDOGENEINFO=DDX11L1:100287102;VC=SNV;R5;GNO;FREQ=GnomAD:1,1.683e-05,.|dbGaP_PopFreq:1,0,0"
        },
        {
         "0": "NC_000001.11",
         "1": "10275",
         "2": "rs1570392043",
         "3": "A",
         "4": "C",
         "5": ".",
         "6": ".",
         "7": "RS=1570392043;dbSNPBuildID=154;SSR=0;PSEUDOGENEINFO=DDX11L1:100287102;VC=SNV;R5;GNO;FREQ=KOREAN:0.9938,0.006169|dbGaP_PopFreq:1,0"
        },
        {
         "0": "NC_000001.11",
         "1": "10276",
         "2": "rs1484153826",
         "3": "C",
         "4": "A",
         "5": ".",
         "6": ".",
         "7": "RS=1484153826;dbSNPBuildID=151;SSR=0;PSEUDOGENEINFO=DDX11L1:100287102;VC=SNV;R5"
        },
        {
         "0": "NC_000001.11",
         "1": "10279",
         "2": "rs986614705",
         "3": "T",
         "4": "A,C,G",
         "5": ".",
         "6": ".",
         "7": "RS=986614705;dbSNPBuildID=150;SSR=0;PSEUDOGENEINFO=DDX11L1:100287102;VC=SNV;R5;GNO;FREQ=GnomAD:0.9995,.,.,0.0005015|KOREAN:0.8103,.,0.1859,0.003759|Siberian:0.5,0.5,.,.|TOMMO:0.9999,.,6.334e-05,.|dbGaP_PopFreq:1,0,0,0;COMMON"
        },
        {
         "0": "NC_000001.11",
         "1": "10280",
         "2": "rs868542496",
         "3": "A",
         "4": "C,T",
         "5": ".",
         "6": ".",
         "7": "RS=868542496;dbSNPBuildID=147;SSR=0;PSEUDOGENEINFO=DDX11L1:100287102;VC=SNV;R5;GNO;FREQ=KOREAN:0.9976,0.002399,.|Qatari:0.9769,0.02315,.|dbGaP_PopFreq:1,0,0"
        },
        {
         "0": "NC_000001.11",
         "1": "10281",
         "2": "rs1570392052",
         "3": "A",
         "4": "C",
         "5": ".",
         "6": ".",
         "7": "RS=1570392052;dbSNPBuildID=154;SSR=0;PSEUDOGENEINFO=DDX11L1:100287102;VC=SNV;R5;GNO;FREQ=KOREAN:0.9918,0.008225"
        },
        {
         "0": "NC_000001.11",
         "1": "10281",
         "2": "rs1639553538",
         "3": "A",
         "4": "AC",
         "5": ".",
         "6": ".",
         "7": "RS=1639553538;dbSNPBuildID=155;SSR=0;PSEUDOGENEINFO=DDX11L1:100287102;VC=INDEL;R5;GNO;FREQ=TOMMO:0.9999,6.303e-05|dbGaP_PopFreq:1,0"
        },
        {
         "0": "NC_000001.11",
         "1": "10284",
         "2": "rs1184145930",
         "3": "C",
         "4": "CT",
         "5": ".",
         "6": ".",
         "7": "RS=1184145930;dbSNPBuildID=151;SSR=0;PSEUDOGENEINFO=DDX11L1:100287102;VC=INDEL;R5"
        },
        {
         "0": "NC_000001.11",
         "1": "10284",
         "2": "rs1639553601",
         "3": "CT",
         "4": "C",
         "5": ".",
         "6": ".",
         "7": "RS=1639553601;SSR=0;PSEUDOGENEINFO=DDX11L1:100287102;VC=DEL;R5;GNO;FREQ=dbGaP_PopFreq:1,0"
        },
        {
         "0": "NC_000001.11",
         "1": "10284",
         "2": "rs2100299697",
         "3": "CTA",
         "4": "C",
         "5": ".",
         "6": ".",
         "7": "RS=2100299697;dbSNPBuildID=156;SSR=0;PSEUDOGENEINFO=DDX11L1:100287102;VC=DEL;R5;GNO;FREQ=TOMMO:0.9998,0.0001651"
        },
        {
         "0": "NC_000001.11",
         "1": "10285",
         "2": "rs866375379",
         "3": "T",
         "4": "A,C,G",
         "5": ".",
         "6": ".",
         "7": "RS=866375379;dbSNPBuildID=147;SSR=0;PSEUDOGENEINFO=DDX11L1:100287102;VC=SNV;R5;GNO;FREQ=GnomAD:0.9991,.,.,0.0009158|KOREAN:0.6638,0.004446,0.3317,.|Qatari:0.7361,.,0.2639,.|SGDP_PRJ:0.5,.,0.5,.|Siberian:0.5,0.5,.,.|TOMMO:0.9998,0.0001943,.,.|dbGaP_PopFreq:1,0,0,0;COMMON"
        },
        {
         "0": "NC_000001.11",
         "1": "10285",
         "2": "rs1639553646",
         "3": "TA",
         "4": "T",
         "5": ".",
         "6": ".",
         "7": "RS=1639553646;SSR=0;PSEUDOGENEINFO=DDX11L1:100287102;VC=INDEL;R5;GNO;FREQ=dbGaP_PopFreq:1,0"
        },
        {
         "0": "NC_000001.11",
         "1": "10286",
         "2": "rs1570392058",
         "3": "A",
         "4": "C",
         "5": ".",
         "6": ".",
         "7": "RS=1570392058;dbSNPBuildID=154;SSR=0;PSEUDOGENEINFO=DDX11L1:100287102;VC=SNV;R5;GNO;FREQ=KOREAN:0.9969,0.003086|dbGaP_PopFreq:1,0"
        },
        {
         "0": "NC_000001.11",
         "1": "10287",
         "2": "rs1639553669",
         "3": "AC",
         "4": "A,ACC",
         "5": ".",
         "6": ".",
         "7": "RS=1639553669;SSR=0;PSEUDOGENEINFO=DDX11L1:100287102;VC=INDEL;R5;GNO;FREQ=dbGaP_PopFreq:1,0,0"
        },
        {
         "0": "NC_000001.11",
         "1": "10287",
         "2": "rs2100299707",
         "3": "A",
         "4": "C",
         "5": ".",
         "6": ".",
         "7": "RS=2100299707;dbSNPBuildID=156;SSR=0;PSEUDOGENEINFO=DDX11L1:100287102;VC=SNV;R5;GNO;FREQ=TOMMO:0.9999,5.772e-05"
        },
        {
         "0": "NC_000001.11",
         "1": "10288",
         "2": "rs1243807223",
         "3": "CCCCAACCCCAACCCCAACCCCAACCCCAACCCCAA",
         "4": "C",
         "5": ".",
         "6": ".",
         "7": "RS=1243807223;dbSNPBuildID=151;SSR=0;PSEUDOGENEINFO=DDX11L1:100287102;VC=INDEL;R5"
        },
        {
         "0": "NC_000001.11",
         "1": "10290",
         "2": "rs1449008465",
         "3": "C",
         "4": "CTAA",
         "5": ".",
         "6": ".",
         "7": "RS=1449008465;dbSNPBuildID=151;SSR=0;PSEUDOGENEINFO=DDX11L1:100287102;VC=INS;R5;GNO;FREQ=dbGaP_PopFreq:0.9998,0.0002237"
        },
        {
         "0": "NC_000001.11",
         "1": "10290",
         "2": "rs2100299727",
         "3": "CCA",
         "4": "C",
         "5": ".",
         "6": ".",
         "7": "RS=2100299727;dbSNPBuildID=156;SSR=0;PSEUDOGENEINFO=DDX11L1:100287102;VC=DEL;R5;GNO;FREQ=TOMMO:0.9999,5.668e-05"
        },
        {
         "0": "NC_000001.11",
         "1": "10291",
         "2": "rs145427775",
         "3": "C",
         "4": "G,T",
         "5": ".",
         "6": ".",
         "7": "RS=145427775;dbSNPBuildID=134;SSR=0;PSEUDOGENEINFO=DDX11L1:100287102;VC=SNV;R5;GNO;FREQ=KOREAN:0.7227,.,0.2773|Korea1K:0.9937,.,0.006279|Qatari:0.5046,.,0.4954|SGDP_PRJ:0.5,.,0.5|Siberian:0.5,0.25,0.25|TOMMO:0.9959,.,0.004114|dbGaP_PopFreq:0.9994,0,0.0005901;COMMON"
        },
        {
         "0": "NC_000001.11",
         "1": "10291",
         "2": "rs1557426822",
         "3": "C",
         "4": "CCCT,CT",
         "5": ".",
         "6": ".",
         "7": "RS=1557426822;dbSNPBuildID=155;SSR=0;PSEUDOGENEINFO=DDX11L1:100287102;VC=INS;R5;GNO;FREQ=GnomAD:0.9998,.,0.000233|TOMMO:0.9995,.,0.000484|dbGaP_PopFreq:0.9999,6.124e-05,0"
        },
        {
         "0": "NC_000001.11",
         "1": "10292",
         "2": "rs1570392069",
         "3": "A",
         "4": "C,T",
         "5": ".",
         "6": ".",
         "7": "RS=1570392069;dbSNPBuildID=154;SSR=0;PSEUDOGENEINFO=DDX11L1:100287102;VC=SNV;R5;GNO;FREQ=KOREAN:0.9842,.,0.01584|dbGaP_PopFreq:1,0,0"
        },
        {
         "0": "NC_000001.11",
         "1": "10293",
         "2": "rs1053005819",
         "3": "A",
         "4": "C,G",
         "5": ".",
         "6": ".",
         "7": "RS=1053005819;dbSNPBuildID=150;SSR=0;PSEUDOGENEINFO=DDX11L1:100287102;VC=SNV;R5;GNO;FREQ=KOREAN:0.9879,0.01208,.|Siberian:0.5,0.5,.|dbGaP_PopFreq:1,0,0"
        },
        {
         "0": "NC_000001.11",
         "1": "10294",
         "2": "rs1186876197",
         "3": "CCCCAACCCCAACCCCAACCCCAACCCCAA",
         "4": "C",
         "5": ".",
         "6": ".",
         "7": "RS=1186876197;dbSNPBuildID=151;SSR=0;PSEUDOGENEINFO=DDX11L1:100287102;VC=INDEL;R5;GNO;FREQ=GnomAD:1,9.604e-06"
        },
        {
         "0": "NC_000001.11",
         "1": "10294",
         "2": "rs1639553847",
         "3": "C",
         "4": "T",
         "5": ".",
         "6": ".",
         "7": "RS=1639553847;dbSNPBuildID=155;SSR=0;PSEUDOGENEINFO=DDX11L1:100287102;VC=SNV;R5"
        },
        {
         "0": "NC_000001.11",
         "1": "10297",
         "2": "rs868413313",
         "3": "C",
         "4": "G,T",
         "5": ".",
         "6": ".",
         "7": "RS=868413313;dbSNPBuildID=147;SSR=0;PSEUDOGENEINFO=DDX11L1:100287102;VC=SNV;R5;GNO;FREQ=KOREAN:0.9139,0.009649,0.0765|Korea1K:0.9955,.,0.004535|Qatari:0.7222,.,0.2778|SGDP_PRJ:0.5,.,0.5|Siberian:0.5,0.5,.|TOMMO:0.9974,.,0.002582|dbGaP_PopFreq:1,.,0"
        },
        {
         "0": "NC_000001.11",
         "1": "10298",
         "2": "rs1570392082",
         "3": "A",
         "4": "C,T",
         "5": ".",
         "6": ".",
         "7": "RS=1570392082;dbSNPBuildID=154;SSR=0;PSEUDOGENEINFO=DDX11L1:100287102;VC=SNV;R5;GNO;FREQ=KOREAN:0.9962,0.003788,.|dbGaP_PopFreq:1,0,0"
        },
        {
         "0": "NC_000001.11",
         "1": "10299",
         "2": "rs2100299742",
         "3": "A",
         "4": "C",
         "5": ".",
         "6": ".",
         "7": "RS=2100299742;dbSNPBuildID=156;SSR=0;PSEUDOGENEINFO=DDX11L1:100287102;VC=SNV;R5;GNO;FREQ=TOMMO:0.9999,0.0001124"
        },
        {
         "0": "NC_000001.11",
         "1": "10302",
         "2": "rs865871711",
         "3": "C",
         "4": "G",
         "5": ".",
         "6": ".",
         "7": "RS=865871711;dbSNPBuildID=147;SSR=0;PSEUDOGENEINFO=DDX11L1:100287102;VC=SNV;R5;GNO;FREQ=Qatari:0.9444,0.05556|Siberian:0.5,0.5"
        },
        {
         "0": "NC_000001.11",
         "1": "10303",
         "2": "rs1043791617",
         "3": "C",
         "4": "G,T",
         "5": ".",
         "6": ".",
         "7": "RS=1043791617;dbSNPBuildID=150;SSR=0;PSEUDOGENEINFO=DDX11L1:100287102;VC=SNV;R5;GNO;FREQ=GnomAD:0.9998,.,0.0001807|KOREAN:0.9703,0.002069,0.02759|Siberian:0.5,.,0.5|TOMMO:0.9997,.,0.0002856|dbGaP_PopFreq:1,.,0"
        },
        {
         "0": "NC_000001.11",
         "1": "10304",
         "2": "rs1570392088",
         "3": "A",
         "4": "C",
         "5": ".",
         "6": ".",
         "7": "RS=1570392088;dbSNPBuildID=154;SSR=0;PSEUDOGENEINFO=DDX11L1:100287102;VC=SNV;R5;GNO;FREQ=KOREAN:0.9928,0.007246|dbGaP_PopFreq:1,0"
        },
        {
         "0": "NC_000001.11",
         "1": "10305",
         "2": "rs1639554025",
         "3": "A",
         "4": "AC",
         "5": ".",
         "6": ".",
         "7": "RS=1639554025;SSR=0;PSEUDOGENEINFO=DDX11L1:100287102;VC=INDEL;R5;GNO;FREQ=dbGaP_PopFreq:1,0"
        },
        {
         "0": "NC_000001.11",
         "1": "10309",
         "2": "rs905296478",
         "3": "C",
         "4": "G,T",
         "5": ".",
         "6": ".",
         "7": "RS=905296478;dbSNPBuildID=150;SSR=0;PSEUDOGENEINFO=DDX11L1:100287102;VC=SNV;R5;GNO;FREQ=KOREAN:0.9807,.,0.01934|Siberian:0.5,.,0.5|dbGaP_PopFreq:1,0,0"
        },
        {
         "0": "NC_000001.11",
         "1": "10310",
         "2": "rs1570392091",
         "3": "A",
         "4": "C,T",
         "5": ".",
         "6": ".",
         "7": "RS=1570392091;dbSNPBuildID=154;SSR=0;PSEUDOGENEINFO=DDX11L1:100287102;VC=SNV;R5;GNO;FREQ=KOREAN:0.9914,0.008639,.|dbGaP_PopFreq:1,0,0"
        },
        {
         "0": "NC_000001.11",
         "1": "10311",
         "2": "rs1639554104",
         "3": "A",
         "4": "AC",
         "5": ".",
         "6": ".",
         "7": "RS=1639554104;SSR=0;PSEUDOGENEINFO=DDX11L1:100287102;VC=INDEL;R5;GNO;FREQ=dbGaP_PopFreq:1,0"
        },
        {
         "0": "NC_000001.11",
         "1": "10315",
         "2": "rs1570392095",
         "3": "C",
         "4": "A,T",
         "5": ".",
         "6": ".",
         "7": "RS=1570392095;dbSNPBuildID=154;SSR=0;PSEUDOGENEINFO=DDX11L1:100287102;VC=SNV;R5;GNO;FREQ=GnomAD:0.9997,.,0.0002747|KOREAN:0.9617,0.006552,0.03172|SGDP_PRJ:0.5,.,0.5|TOMMO:0.9997,.,0.000336|dbGaP_PopFreq:1,0,0"
        },
        {
         "0": "NC_000001.11",
         "1": "10315",
         "2": "rs1639554153",
         "3": "C",
         "4": "CT",
         "5": ".",
         "6": ".",
         "7": "RS=1639554153;SSR=0;PSEUDOGENEINFO=DDX11L1:100287102;VC=INS;R5;GNO;FREQ=dbGaP_PopFreq:1,0"
        },
        {
         "0": "NC_000001.11",
         "1": "10315",
         "2": "rs1639554203",
         "3": "CAACCCCAACCCT",
         "4": "C",
         "5": ".",
         "6": ".",
         "7": "RS=1639554203;dbSNPBuildID=155;SSR=0;PSEUDOGENEINFO=DDX11L1:100287102;VC=INDEL;R5;GNO;FREQ=TOMMO:0.9997,0.000252"
        },
        {
         "0": "NC_000001.11",
         "1": "10316",
         "2": "rs1570392100",
         "3": "A",
         "4": "C,T",
         "5": ".",
         "6": ".",
         "7": "RS=1570392100;dbSNPBuildID=154;SSR=0;PSEUDOGENEINFO=DDX11L1:100287102;VC=SNV;R5;GNO;FREQ=KOREAN:0.9917,.,0.008276|dbGaP_PopFreq:1,0,0"
        },
        {
         "0": "NC_000001.11",
         "1": "10317",
         "2": "rs1639554231",
         "3": "ACCCCAACCCTAAC",
         "4": "A",
         "5": ".",
         "6": ".",
         "7": "RS=1639554231;dbSNPBuildID=155;SSR=0;PSEUDOGENEINFO=DDX11L1:100287102;VC=INDEL;R5;GNO;FREQ=GnomAD:1,1.684e-05"
        },
        {
         "0": "NC_000001.11",
         "1": "10320",
         "2": "rs1639554250",
         "3": "C",
         "4": "CT",
         "5": ".",
         "6": ".",
         "7": "RS=1639554250;dbSNPBuildID=155;SSR=0;PSEUDOGENEINFO=DDX11L1:100287102;VC=INS;R5;GNO;FREQ=TOMMO:0.9999,0.0001118"
        },
        {
         "0": "NC_000001.11",
         "1": "10321",
         "2": "rs1002315756",
         "3": "C",
         "4": "A,G,T",
         "5": ".",
         "6": ".",
         "7": "RS=1002315756;dbSNPBuildID=150;SSR=0;PSEUDOGENEINFO=DDX11L1:100287102;VC=SNV;R5;GNO;FREQ=GnomAD:0.9953,.,.,0.004704|KOREAN:0.7472,.,.,0.2528|SGDP_PRJ:0.5,.,.,0.5|Siberian:0.5,.,.,0.5|TOMMO:0.9991,.,.,0.0008899|dbGaP_PopFreq:1,0,0,0;COMMON"
        },
        {
         "0": "NC_000001.11",
         "1": "10321",
         "2": "rs1639554303",
         "3": "C",
         "4": "CT",
         "5": ".",
         "6": ".",
         "7": "RS=1639554303;dbSNPBuildID=155;SSR=0;PSEUDOGENEINFO=DDX11L1:100287102;VC=INS;R5;GNO;FREQ=GnomAD:0.9999,0.0001488"
        },
        {
         "0": "NC_000001.11",
         "1": "10321",
         "2": "rs1639554343",
         "3": "CAACCCTAACCCCTAACCCTAACCCTAACCCTACCCTAACCCTAACCCTAACCCTAACCCTAACCCTAACCCCTAACCCCTAACCCTAACCCTAACCCTAACCCTAACCCTAACCCT",
         "4": "C",
         "5": ".",
         "6": ".",
         "7": "RS=1639554343;SSR=0;PSEUDOGENEINFO=DDX11L1:100287102;VC=INDEL;R5;GNO;FREQ=GnomAD:0.9999,7.438e-05"
        },
        {
         "0": "NC_000001.11",
         "1": "10322",
         "2": "rs1639554318",
         "3": "A",
         "4": "C,T",
         "5": ".",
         "6": ".",
         "7": "RS=1639554318;SSR=0;PSEUDOGENEINFO=DDX11L1:100287102;VC=SNV;R5;GNO;FREQ=dbGaP_PopFreq:1,0,0"
        },
        {
         "0": "NC_000001.11",
         "1": "10323",
         "2": "rs1570392104",
         "3": "A",
         "4": "C",
         "5": ".",
         "6": ".",
         "7": "RS=1570392104;dbSNPBuildID=154;SSR=0;PSEUDOGENEINFO=DDX11L1:100287102;VC=SNV;R5;GNO;FREQ=KOREAN:0.9942,0.005838"
        },
        {
         "0": "NC_000001.11",
         "1": "10323",
         "2": "rs1639554374",
         "3": "A",
         "4": "AC,ACCCCAACCCCAACCCTAAC",
         "5": ".",
         "6": ".",
         "7": "RS=1639554374;dbSNPBuildID=155;SSR=0;PSEUDOGENEINFO=DDX11L1:100287102;VC=INDEL;R5;GNO;FREQ=TOMMO:0.9998,0.0001916,.|dbGaP_PopFreq:1,0,."
        },
        {
         "0": "NC_000001.11",
         "1": "10323",
         "2": "rs1639554411",
         "3": "ACCCTAACCCCTAACCCTAACCCTAACCCTACCCTAACCCTAACCCTAACCCTAACCCTAACCCTAACCCCTAAC",
         "4": "A",
         "5": ".",
         "6": ".",
         "7": "RS=1639554411;SSR=0;PSEUDOGENEINFO=DDX11L1:100287102;VC=INDEL;R5;GNO;FREQ=GnomAD:1,4.534e-05"
        },
        {
         "0": "NC_000001.11",
         "1": "10326",
         "2": "rs1639554428",
         "3": "C",
         "4": "A",
         "5": ".",
         "6": ".",
         "7": "RS=1639554428;SSR=0;PSEUDOGENEINFO=DDX11L1:100287102;VC=SNV;R5;GNO;FREQ=dbGaP_PopFreq:1,0"
        },
        {
         "0": "NC_000001.11",
         "1": "10326",
         "2": "rs1639554488",
         "3": "C",
         "4": "CT",
         "5": ".",
         "6": ".",
         "7": "RS=1639554488;SSR=0;PSEUDOGENEINFO=DDX11L1:100287102;VC=INDEL;R5;GNO;FREQ=dbGaP_PopFreq:1,0"
        },
        {
         "0": "NC_000001.11",
         "1": "10326",
         "2": "rs1639554513",
         "3": "CTAA",
         "4": "C",
         "5": ".",
         "6": ".",
         "7": "RS=1639554513;dbSNPBuildID=155;SSR=0;PSEUDOGENEINFO=DDX11L1:100287102;VC=DEL;R5;GNO;FREQ=TOMMO:0.9997,0.0003197"
        },
        {
         "0": "NC_000001.11",
         "1": "10327",
         "2": "rs112750067",
         "3": "T",
         "4": "A,C,G",
         "5": ".",
         "6": ".",
         "7": "RS=112750067;dbSNPBuildID=132;SSR=0;PSEUDOGENEINFO=DDX11L1:100287102;VC=SNV;R5;GNO;FREQ=KOREAN:0.5422,.,0.4578,0|Korea1K:0.928,.,0.07197,.|Qatari:0.5324,.,0.4676,.|SGDP_PRJ:0.5,.,0.5,.|TOMMO:0.9779,.,0.02208,.|dbGaP_PopFreq:1,0,0,0;COMMON"
        },
        {
         "0": "NC_000001.11",
         "1": "10327",
         "2": "rs1639554567",
         "3": "TA",
         "4": "T",
         "5": ".",
         "6": ".",
         "7": "RS=1639554567;SSR=0;PSEUDOGENEINFO=DDX11L1:100287102;VC=INDEL;R5;GNO;FREQ=dbGaP_PopFreq:1,0"
        },
        {
         "0": "NC_000001.11",
         "1": "10327",
         "2": "rs1639554593",
         "3": "TAACCCCTAACCCTAACCCTAACCCTACCCTAACCCTAACCC",
         "4": "T",
         "5": ".",
         "6": ".",
         "7": "RS=1639554593;dbSNPBuildID=155;SSR=0;PSEUDOGENEINFO=DDX11L1:100287102;VC=DEL;R5;GNO;FREQ=GnomAD:0.9995,0.0005365"
        },
        {
         "0": "NC_000001.11",
         "1": "10327",
         "2": "rs2100299800",
         "3": "TAACCCC",
         "4": "T",
         "5": ".",
         "6": ".",
         "7": "RS=2100299800;dbSNPBuildID=156;SSR=0;PSEUDOGENEINFO=DDX11L1:100287102;VC=DEL;R5;GNO;FREQ=TOMMO:0.9997,0.0003345"
        },
        {
         "0": "NC_000001.11",
         "1": "10328",
         "2": "rs201106462",
         "3": "AACCCCTAACCCTAACCCTAACCCT",
         "4": "A",
         "5": ".",
         "6": ".",
         "7": "RS=201106462;dbSNPBuildID=137;SSR=0;PSEUDOGENEINFO=DDX11L1:100287102;VC=INDEL;R5;GNO;FREQ=GnomAD:0.9978,0.002174"
        },
        {
         "0": "NC_000001.11",
         "1": "10328",
         "2": "rs1205967592",
         "3": "A",
         "4": "C,T",
         "5": ".",
         "6": ".",
         "7": "RS=1205967592;dbSNPBuildID=154;SSR=0;PSEUDOGENEINFO=DDX11L1:100287102;VC=SNV;R5;GNO;FREQ=SGDP_PRJ:0.5,.,0.5|TOMMO:0.9999,0.000141,.|dbGaP_PopFreq:1,0,0"
        },
        {
         "0": "NC_000001.11",
         "1": "10328",
         "2": "rs1639554620",
         "3": "AAC",
         "4": "A",
         "5": ".",
         "6": ".",
         "7": "RS=1639554620;SSR=0;PSEUDOGENEINFO=DDX11L1:100287102;VC=DEL;R5;GNO;FREQ=dbGaP_PopFreq:1,0"
        },
        {
         "0": "NC_000001.11",
         "1": "10328",
         "2": "rs2100299807",
         "3": "AACCCCT",
         "4": "A",
         "5": ".",
         "6": ".",
         "7": "RS=2100299807;dbSNPBuildID=156;SSR=0;PSEUDOGENEINFO=DDX11L1:100287102;VC=INDEL;R5;GNO;FREQ=TOMMO:0.9998,0.0002085"
        },
        {
         "0": "NC_000001.11",
         "1": "10329",
         "2": "rs150969722",
         "3": "AC",
         "4": "A",
         "5": ".",
         "6": ".",
         "7": "RS=150969722;dbSNPBuildID=134;SSR=0;PSEUDOGENEINFO=DDX11L1:100287102;VC=INDEL;R5;GNO;FREQ=GnomAD:0.9136,0.08636|TOMMO:0.998,0.002022|dbGaP_PopFreq:0.9202,0.07983;COMMON"
        },
        {
         "0": "NC_000001.11",
         "1": "10330",
         "2": "rs1035171912",
         "3": "C",
         "4": "A",
         "5": ".",
         "6": ".",
         "7": "RS=1035171912;dbSNPBuildID=150;SSR=0;PSEUDOGENEINFO=DDX11L1:100287102;VC=SNV;R5;GNO;FREQ=GnomAD:0.9662,0.03376|SGDP_PRJ:0.5,0.5|Siberian:0.5,0.5|TOMMO:0.9991,0.0009014|dbGaP_PopFreq:1,0"
        },
        {
         "0": "NC_000001.11",
         "1": "10330",
         "2": "rs1639554727",
         "3": "C",
         "4": "CCCTAA",
         "5": ".",
         "6": ".",
         "7": "RS=1639554727;dbSNPBuildID=155;SSR=0;PSEUDOGENEINFO=DDX11L1:100287102;VC=INDEL;R5;GNO;FREQ=GnomAD:0.998,0.002049|TOMMO:0.9997,0.0003005"
        },
        {
         "0": "NC_000001.11",
         "1": "10330",
         "2": "rs1639554740",
         "3": "C",
         "4": "CCCCAA",
         "5": ".",
         "6": ".",
         "7": "RS=1639554740;dbSNPBuildID=155;SSR=0;PSEUDOGENEINFO=DDX11L1:100287102;VC=INDEL;R5;GNO;FREQ=TOMMO:0.9999,7.512e-05"
        },
        {
         "0": "NC_000001.11",
         "1": "10330",
         "2": "rs1639554767",
         "3": "CCCCTAACCCTAACCCTAACCCTA",
         "4": "C",
         "5": ".",
         "6": ".",
         "7": "RS=1639554767;dbSNPBuildID=155;SSR=0;PSEUDOGENEINFO=DDX11L1:100287102;VC=INDEL;R5;GNO;FREQ=GnomAD:0.9959,0.004098"
        },
        {
         "0": "NC_000001.11",
         "1": "10330",
         "2": "rs1639554786",
         "3": "CCCCTAACCCTAACCCTAACCCTACCCTAACCCTAACCCTAACCCTAACCCT",
         "4": "C",
         "5": ".",
         "6": ".",
         "7": "RS=1639554786;SSR=0;PSEUDOGENEINFO=DDX11L1:100287102;VC=DEL;R5;GNO;FREQ=GnomAD:0.998,0.002049"
        },
        {
         "0": "NC_000001.11",
         "1": "10330",
         "2": "rs1639554805",
         "3": "CCCCTAACCCTAACCCTAACCCTACCCTAACCCTAACCCTAACCCTAACCCTAA",
         "4": "C,CCCCTAACCCTAA",
         "5": ".",
         "6": ".",
         "7": "RS=1639554805;dbSNPBuildID=155;SSR=0;PSEUDOGENEINFO=DDX11L1:100287102;VC=INDEL;R5;GNO"
        },
        {
         "0": "NC_000001.11",
         "1": "10330",
         "2": "rs1639554842",
         "3": "CCCCTAACCCTAACCCTAACCCTACCCTAACCCTAACCCTAACCCTAACCCTAACCCTAACCCCTAACCCCTAA",
         "4": "C",
         "5": ".",
         "6": ".",
         "7": "RS=1639554842;SSR=0;PSEUDOGENEINFO=DDX11L1:100287102;VC=INDEL;R5;GNO;FREQ=GnomAD:0.9979,0.002058"
        },
        {
         "0": "NC_000001.11",
         "1": "10330",
         "2": "rs1639554855",
         "3": "CCCCTAACCCTAACCCTAACCCTACCCTAACCCTAACCCTAACCCTAACCCTAACCCTAACCCCTAACCCCTAACCCTAACCCTAACCCTAACCCTAACCCTAACCCTAACCCCTAACCCT",
         "4": "C",
         "5": ".",
         "6": ".",
         "7": "RS=1639554855;SSR=0;PSEUDOGENEINFO=DDX11L1:100287102;VC=DEL;R5;GNO;FREQ=GnomAD:0.9959,0.004098"
        },
        {
         "0": "NC_000001.11",
         "1": "10330",
         "2": "rs2100299823",
         "3": "CCCCTAACCCTAACCCTAACCCTACCCTAA",
         "4": "C",
         "5": ".",
         "6": ".",
         "7": "RS=2100299823;dbSNPBuildID=156;SSR=0;PSEUDOGENEINFO=DDX11L1:100287102;VC=INDEL;R5;GNO;FREQ=TOMMO:0.9998,0.0001502"
        },
        {
         "0": "NC_000001.11",
         "1": "10332",
         "2": "rs1175748383",
         "3": "C",
         "4": "A",
         "5": ".",
         "6": ".",
         "7": "RS=1175748383;dbSNPBuildID=151;SSR=0;PSEUDOGENEINFO=DDX11L1:100287102;VC=SNV;R5;GNO;FREQ=dbGaP_PopFreq:0.9993,0.0006881"
        },
        {
         "0": "NC_000001.11",
         "1": "10333",
         "2": "rs868804735",
         "3": "C",
         "4": "T",
         "5": ".",
         "6": ".",
         "7": "RS=868804735;dbSNPBuildID=147;SSR=0;PSEUDOGENEINFO=DDX11L1:100287102;VC=SNV;R5;GNO;FREQ=GnomAD:0.9968,0.003191|KOREAN:0.9146,0.08545|Qatari:0.9259,0.07407|Siberian:0.5,0.5|TOMMO:0.9988,0.001178|dbGaP_PopFreq:0.9999,8.43e-05"
        },
        {
         "0": "NC_000001.11",
         "1": "10333",
         "2": "rs1351390918",
         "3": "CT",
         "4": "C",
         "5": ".",
         "6": ".",
         "7": "RS=1351390918;dbSNPBuildID=151;SSR=0;PSEUDOGENEINFO=DDX11L1:100287102;VC=DEL;R5;GNO;FREQ=GnomAD:0.9804,0.01956|Korea1K:0.9971,0.00289|TOMMO:0.9971,0.002946|dbGaP_PopFreq:0.9992,0.0008066"
        },
        {
         "0": "NC_000001.11",
         "1": "10333",
         "2": "rs1639554983",
         "3": "CTAACCCT",
         "4": "C",
         "5": ".",
         "6": ".",
         "7": "RS=1639554983;dbSNPBuildID=155;SSR=0;PSEUDOGENEINFO=DDX11L1:100287102;VC=DEL;R5;GNO;FREQ=GnomAD:0.9991,0.0009083"
        },
        {
         "0": "NC_000001.11",
         "1": "10334",
         "2": "rs1357792689",
         "3": "T",
         "4": "A,C,G",
         "5": ".",
         "6": ".",
         "7": "RS=1357792689;dbSNPBuildID=151;SSR=0;PSEUDOGENEINFO=DDX11L1:100287102;VC=SNV;R5;GNO;FREQ=Korea1K:0.9956,0.004412,.,.|TOMMO:0.9986,0.001391,.,.|dbGaP_PopFreq:0.9992,0,0,0"
        },
        {
         "0": "NC_000001.11",
         "1": "10334",
         "2": "rs1639555007",
         "3": "TA",
         "4": "T,TAA",
         "5": ".",
         "6": ".",
         "7": "RS=1639555007;dbSNPBuildID=155;SSR=0;PSEUDOGENEINFO=DDX11L1:100287102;VC=INDEL;R5;GNO;FREQ=TOMMO:0.9998,.,0.0002087"
        },
        {
         "0": "NC_000001.11",
         "1": "10336",
         "2": "rs1193008993",
         "3": "A",
         "4": "C,G",
         "5": ".",
         "6": ".",
         "7": "RS=1193008993;dbSNPBuildID=154;SSR=0;PSEUDOGENEINFO=DDX11L1:100287102;VC=SNV;R5;GNO;FREQ=GnomAD:0.9665,0.03355,.|KOREAN:0.8728,0.1272,.|Korea1K:0.9956,0.004425,.|TOMMO:0.999,0.0009868,.|dbGaP_PopFreq:0.9997,0.0002518,0"
        },
        {
         "0": "NC_000001.11",
         "1": "10336",
         "2": "rs1639555080",
         "3": "A",
         "4": "AC",
         "5": ".",
         "6": ".",
         "7": "RS=1639555080;SSR=0;PSEUDOGENEINFO=DDX11L1:100287102;VC=INDEL;R5;GNO;FREQ=dbGaP_PopFreq:1,0"
        },
        {
         "0": "NC_000001.11",
         "1": "10336",
         "2": "rs1639555095",
         "3": "ACCCTAACCCTAACCCTACCCTAACCCTAACCCTAACCCTAACCCTAACCCTAACCCCTAAC",
         "4": "A",
         "5": ".",
         "6": ".",
         "7": "RS=1639555095;SSR=0;PSEUDOGENEINFO=DDX11L1:100287102;VC=INDEL;R5;GNO;FREQ=GnomAD:0.9968,0.003205"
        },
        {
         "0": "NC_000001.11",
         "1": "10337",
         "2": "rs1557426827",
         "3": "CCCTAA",
         "4": "C",
         "5": ".",
         "6": ".",
         "7": "RS=1557426827;dbSNPBuildID=156;SSR=0;PSEUDOGENEINFO=DDX11L1:100287102;VC=INDEL;R5;GNO;FREQ=TOMMO:0.9994,0.0005774"
        },
        {
         "0": "NC_000001.11",
         "1": "10337",
         "2": "rs1557426828",
         "3": "CCCTAACCCTAACCCTA",
         "4": "C",
         "5": ".",
         "6": ".",
         "7": "RS=1557426828;dbSNPBuildID=156;SSR=0;PSEUDOGENEINFO=DDX11L1:100287102;VC=INDEL;R5;GNO;FREQ=TOMMO:0.9997,0.0002887"
        },
        {
         "0": "NC_000001.11",
         "1": "10337",
         "2": "rs1557426832",
         "3": "CCCTAACCCTAACCCTACCCTAACCCTAACCCTAACCCTAACCCTAA",
         "4": "C",
         "5": ".",
         "6": ".",
         "7": "RS=1557426832;dbSNPBuildID=155;SSR=0;PSEUDOGENEINFO=DDX11L1:100287102;VC=INDEL;R5;GNO;FREQ=GnomAD:1,1.562e-05"
        },
        {
         "0": "NC_000001.11",
         "1": "10337",
         "2": "rs1639555067",
         "3": "C",
         "4": "A",
         "5": ".",
         "6": ".",
         "7": "RS=1639555067;dbSNPBuildID=155;SSR=0;PSEUDOGENEINFO=DDX11L1:100287102;VC=SNV;R5;GNO;FREQ=TOMMO:0.9997,0.0003421"
        },
        {
         "0": "NC_000001.11",
         "1": "10339",
         "2": "rs1639555134",
         "3": "C",
         "4": "G,T",
         "5": ".",
         "6": ".",
         "7": "RS=1639555134;dbSNPBuildID=155;SSR=0;PSEUDOGENEINFO=DDX11L1:100287102;VC=SNV;R5;GNO;FREQ=GnomAD:1,2.186e-05,.|dbGaP_PopFreq:1,.,0"
        },
        {
         "0": "NC_000001.11",
         "1": "10340",
         "2": "rs1471210572",
         "3": "T",
         "4": "A,C,G",
         "5": ".",
         "6": ".",
         "7": "RS=1471210572;dbSNPBuildID=151;SSR=0;PSEUDOGENEINFO=DDX11L1:100287102;VC=SNV;R5;GNO;FREQ=KOREAN:0.8889,.,0.1111,.|Korea1K:0.9969,.,0.003061,.|dbGaP_PopFreq:1,0,0,0;COMMON"
        },
        {
         "0": "NC_000001.11",
         "1": "10340",
         "2": "rs1639555239",
         "3": "TA",
         "4": "T",
         "5": ".",
         "6": ".",
         "7": "RS=1639555239;SSR=0;PSEUDOGENEINFO=DDX11L1:100287102;VC=INDEL;R5;GNO;FREQ=dbGaP_PopFreq:1,0"
        },
        {
         "0": "NC_000001.11",
         "1": "10341",
         "2": "rs1338031819",
         "3": "AACCCTAACCCT",
         "4": "A",
         "5": ".",
         "6": ".",
         "7": "RS=1338031819;dbSNPBuildID=151;SSR=0;PSEUDOGENEINFO=DDX11L1:100287102;VC=INDEL;R5;GNO;FREQ=TOMMO:0.9999,0.0001187"
        },
        {
         "0": "NC_000001.11",
         "1": "10341",
         "2": "rs1446995429",
         "3": "A",
         "4": "C,G,T",
         "5": ".",
         "6": ".",
         "7": "RS=1446995429;dbSNPBuildID=154;SSR=0;PSEUDOGENEINFO=DDX11L1:100287102;VC=SNV;R5;GNO;FREQ=GnomAD:0.9999,0.0001412,.,.|KOREAN:0.9966,0.003429,.,.|dbGaP_PopFreq:1,0,0,0"
        },
        {
         "0": "NC_000001.11",
         "1": "10342",
         "2": "rs1181144652",
         "3": "A",
         "4": "C,G",
         "5": ".",
         "6": ".",
         "7": "RS=1181144652;dbSNPBuildID=154;SSR=0;PSEUDOGENEINFO=DDX11L1:100287102;VC=SNV;R5;GNO;FREQ=KOREAN:0.9235,0.06139,0.01509|dbGaP_PopFreq:1,0,0;COMMON"
        },
        {
         "0": "NC_000001.11",
         "1": "10342",
         "2": "rs1639555313",
         "3": "ACCCTAACCCTACCCTAACCCTAACCCTAACCCTAACCCTAACCCTAACCCCTAAC",
         "4": "A",
         "5": ".",
         "6": ".",
         "7": "RS=1639555313;SSR=0;PSEUDOGENEINFO=DDX11L1:100287102;VC=INDEL;R5;GNO;FREQ=GnomAD:1,0"
        },
        {
         "0": "NC_000001.11",
         "1": "10342",
         "2": "rs2100299879",
         "3": "ACCCTAACCCT",
         "4": "A",
         "5": ".",
         "6": ".",
         "7": "RS=2100299879;dbSNPBuildID=156;SSR=0;PSEUDOGENEINFO=DDX11L1:100287102;VC=DEL;R5;GNO;FREQ=TOMMO:0.9999,5.984e-05"
        },
        {
         "0": "NC_000001.11",
         "1": "10344",
         "2": "rs1639555349",
         "3": "C",
         "4": "A",
         "5": ".",
         "6": ".",
         "7": "RS=1639555349;dbSNPBuildID=155;SSR=0;PSEUDOGENEINFO=DDX11L1:100287102;VC=SNV;R5;GNO;FREQ=TOMMO:0.9998,0.0002335"
        },
        {
         "0": "NC_000001.11",
         "1": "10346",
         "2": "rs1570392145",
         "3": "T",
         "4": "A,C,G",
         "5": ".",
         "6": ".",
         "7": "RS=1570392145;dbSNPBuildID=154;SSR=0;PSEUDOGENEINFO=DDX11L1:100287102;VC=SNV;R5;GNO;FREQ=KOREAN:0.9787,.,0.02128,.|TOMMO:0.9988,.,0.001195,.|dbGaP_PopFreq:1,0,0,0"
        },
        {
         "0": "NC_000001.11",
         "1": "10347",
         "2": "rs1363828207",
         "3": "AACCCT",
         "4": "A",
         "5": ".",
         "6": ".",
         "7": "RS=1363828207;dbSNPBuildID=151;SSR=0;PSEUDOGENEINFO=DDX11L1:100287102;VC=INDEL;R5;GNO;FREQ=GnomAD:0.9911,0.008909|TOMMO:0.9985,0.001535|dbGaP_PopFreq:1,0"
        },
        {
         "0": "NC_000001.11",
         "1": "10347",
         "2": "rs1639555431",
         "3": "A",
         "4": "C,T",
         "5": ".",
         "6": ".",
         "7": "RS=1639555431;SSR=0;PSEUDOGENEINFO=DDX11L1:100287102;VC=SNV;R5;GNO;FREQ=dbGaP_PopFreq:1,0,0"
        },
        {
         "0": "NC_000001.11",
         "1": "10348",
         "2": "rs1384100686",
         "3": "A",
         "4": "C,G,T",
         "5": ".",
         "6": ".",
         "7": "RS=1384100686;dbSNPBuildID=154;SSR=0;PSEUDOGENEINFO=DDX11L1:100287102;VC=SNV;R5;GNO;FREQ=KOREAN:0.9108,0.07447,0.01476,.|dbGaP_PopFreq:1,0,0,0;COMMON"
        },
        {
         "0": "NC_000001.11",
         "1": "10348",
         "2": "rs1639555508",
         "3": "A",
         "4": "AC",
         "5": ".",
         "6": ".",
         "7": "RS=1639555508;SSR=0;PSEUDOGENEINFO=DDX11L1:100287102;VC=INDEL;R5;GNO;FREQ=dbGaP_PopFreq:1,0"
        },
        {
         "0": "NC_000001.11",
         "1": "10349",
         "2": "rs1432316416",
         "3": "CCCTA",
         "4": "C",
         "5": ".",
         "6": ".",
         "7": "RS=1432316416;dbSNPBuildID=151;SSR=0;PSEUDOGENEINFO=DDX11L1:100287102;VC=INDEL;R5;GNO;FREQ=dbGaP_PopFreq:0.9927,0.007334"
        },
        {
         "0": "NC_000001.11",
         "1": "10349",
         "2": "rs1639555544",
         "3": "CCCTACCCTAA",
         "4": "C",
         "5": ".",
         "6": ".",
         "7": "RS=1639555544;SSR=0;PSEUDOGENEINFO=DDX11L1:100287102;VC=INDEL;R5;GNO;FREQ=dbGaP_PopFreq:1,0"
        },
        {
         "0": "NC_000001.11",
         "1": "10351",
         "2": "rs1315926476",
         "3": "C",
         "4": "T",
         "5": ".",
         "6": ".",
         "7": "RS=1315926476;dbSNPBuildID=151;SSR=0;PSEUDOGENEINFO=DDX11L1:100287102;VC=SNV;R5;GNO;FREQ=GnomAD:0.9997,0.000324|dbGaP_PopFreq:1,0"
        },
        {
         "0": "NC_000001.11",
         "1": "10351",
         "2": "rs1639555615",
         "3": "C",
         "4": "CT",
         "5": ".",
         "6": ".",
         "7": "RS=1639555615;dbSNPBuildID=156;SSR=0;PSEUDOGENEINFO=DDX11L1:100287102;VC=INDEL;R5;GNO;FREQ=TOMMO:0.9999,0.0001318|dbGaP_PopFreq:1,0"
        },
        {
         "0": "NC_000001.11",
         "1": "10352",
         "2": "rs555500075",
         "3": "T",
         "4": "TA,TAAACCCTA",
         "5": ".",
         "6": ".",
         "7": "RS=555500075;dbSNPBuildID=142;SSR=0;PSEUDOGENEINFO=DDX11L1:100287102;VC=INDEL;R5;GNO;FREQ=1000Genomes:0.5625,0.4375,.|GnomAD:0.9961,0.003891,.|TOMMO:0.9923,0.007666,.|dbGaP_PopFreq:0.6989,0.3011,.;COMMON"
        },
        {
         "0": "NC_000001.11",
         "1": "10352",
         "2": "rs866100747",
         "3": "T",
         "4": "A,C",
         "5": ".",
         "6": ".",
         "7": "RS=866100747;dbSNPBuildID=147;SSR=0;PSEUDOGENEINFO=DDX11L1:100287102;VC=SNV;R5;GNO;FREQ=Korea1K:0.8889,0.1111,.|Qatari:0.7037,0.2963,.|Siberian:0.5,0.5,.|TOMMO:0.9838,0.01618,.|dbGaP_PopFreq:1,0,0"
        },
        {
         "0": "NC_000001.11",
         "1": "10352",
         "2": "rs1639555626",
         "3": "T",
         "4": "TC,TTA",
         "5": ".",
         "6": ".",
         "7": "RS=1639555626;SSR=0;PSEUDOGENEINFO=DDX11L1:100287102;VC=INS;R5;GNO;FREQ=dbGaP_PopFreq:1,0,0"
        },
        {
         "0": "NC_000001.11",
         "1": "10352",
         "2": "rs1639555687",
         "3": "TACCC",
         "4": "T",
         "5": ".",
         "6": ".",
         "7": "RS=1639555687;dbSNPBuildID=155;SSR=0;PSEUDOGENEINFO=DDX11L1:100287102;VC=DEL;R5;GNO;FREQ=GnomAD:0.9981,0.001946|dbGaP_PopFreq:1,0"
        },
        {
         "0": "NC_000001.11",
         "1": "10352",
         "2": "rs1639555703",
         "3": "TACCCTA",
         "4": "T,TACCCTAACCCTAACCCTA",
         "5": ".",
         "6": ".",
         "7": "RS=1639555703;dbSNPBuildID=155;SSR=0;PSEUDOGENEINFO=DDX11L1:100287102;VC=INDEL;R5;GNO;FREQ=GnomAD:0.9981,0.001946,.|TOMMO:0.9999,.,7.367e-05|dbGaP_PopFreq:1,0,."
        },
        {
         "0": "NC_000001.11",
         "1": "10353",
         "2": "rs145072688",
         "3": "A",
         "4": "AC",
         "5": ".",
         "6": ".",
         "7": "RS=145072688;SSR=0;PSEUDOGENEINFO=DDX11L1:100287102;VC=INDEL;R5;GNO;FREQ=dbGaP_PopFreq:1,0"
        },
        {
         "0": "NC_000001.11",
         "1": "10353",
         "2": "rs1557426837",
         "3": "A",
         "4": "AAC,AG",
         "5": ".",
         "6": ".",
         "7": "RS=1557426837;dbSNPBuildID=156;SSR=0;PSEUDOGENEINFO=DDX11L1:100287102;VC=INS;R5;GNO;FREQ=TOMMO:0.9997,0.0002644,.|dbGaP_PopFreq:1,0,0"
        },
        {
         "0": "NC_000001.11",
         "1": "10353",
         "2": "rs1639555804",
         "3": "ACCCT",
         "4": "A",
         "5": ".",
         "6": ".",
         "7": "RS=1639555804;dbSNPBuildID=155;SSR=0;PSEUDOGENEINFO=DDX11L1:100287102;VC=DEL;R5;GNO;FREQ=TOMMO:0.9991,0.0008881|dbGaP_PopFreq:1,0"
        },
        {
         "0": "NC_000001.11",
         "1": "10354",
         "2": "rs1015856060",
         "3": "C",
         "4": "A,T",
         "5": ".",
         "6": ".",
         "7": "RS=1015856060;dbSNPBuildID=150;SSR=0;PSEUDOGENEINFO=DDX11L1:100287102;VC=SNV;R5;GNO;FREQ=GnomAD:0.9488,0.05118,.|KOREAN:0.9935,0.006511,.|Siberian:0.5,0.5,.|TOMMO:0.9992,0.0008151,.|dbGaP_PopFreq:1,0,0"
        },
        {
         "0": "NC_000001.11",
         "1": "10354",
         "2": "rs1639555841",
         "3": "CCCTAA",
         "4": "C",
         "5": ".",
         "6": ".",
         "7": "RS=1639555841;dbSNPBuildID=155;SSR=0;PSEUDOGENEINFO=DDX11L1:100287102;VC=INDEL;R5;GNO;FREQ=GnomAD:0.999,0.0009615"
        },
        {
         "0": "NC_000001.11",
         "1": "10357",
         "2": "rs962371369",
         "3": "T",
         "4": "C,G",
         "5": ".",
         "6": ".",
         "7": "RS=962371369;dbSNPBuildID=150;SSR=0;PSEUDOGENEINFO=DDX11L1:100287102;VC=SNV;R5;GNO;FREQ=GnomAD:0.9978,0.002246,.|KOREAN:0.9664,0.03358,.|Siberian:0.5,0.25,0.25|TOMMO:0.9999,6.104e-05,.|dbGaP_PopFreq:1,0,0"
        },
        {
         "0": "NC_000001.11",
         "1": "10358",
         "2": "rs974158664",
         "3": "A",
         "4": "C,G,T",
         "5": ".",
         "6": ".",
         "7": "RS=974158664;dbSNPBuildID=150;SSR=0;PSEUDOGENEINFO=DDX11L1:100287102;VC=SNV;R5;GNO;FREQ=GnomAD:0.9999,0.000129,.,.|KOREAN:0.9983,0.001714,.,.|Siberian:0.5,0.5,.,.|TOMMO:0.9995,.,.,0.0005154|dbGaP_PopFreq:1,0,0,0"
        },
        {
         "0": "NC_000001.11",
         "1": "10359",
         "2": "rs1218278942",
         "3": "A",
         "4": "C,G",
         "5": ".",
         "6": ".",
         "7": "RS=1218278942;dbSNPBuildID=151;SSR=0;PSEUDOGENEINFO=DDX11L1:100287102;VC=SNV;R5;GNO;FREQ=GnomAD:0.9999,7.788e-05,.|KOREAN:0.9894,0.01062,.|dbGaP_PopFreq:1,0,0"
        },
        {
         "0": "NC_000001.11",
         "1": "10359",
         "2": "rs1639555980",
         "3": "A",
         "4": "AC",
         "5": ".",
         "6": ".",
         "7": "RS=1639555980;dbSNPBuildID=155;SSR=0;PSEUDOGENEINFO=DDX11L1:100287102;VC=INDEL;R5;GNO;FREQ=TOMMO:0.9999,0.0001088|dbGaP_PopFreq:1,0"
        },
        {
         "0": "NC_000001.11",
         "1": "10360",
         "2": "rs1028048874",
         "3": "C",
         "4": "G",
         "5": ".",
         "6": ".",
         "7": "RS=1028048874;dbSNPBuildID=150;SSR=0;PSEUDOGENEINFO=DDX11L1:100287102;VC=SNV;R5;GNO;FREQ=Siberian:0.5,0.5"
        },
        {
         "0": "NC_000001.11",
         "1": "10362",
         "2": "rs2100299931",
         "3": "CT",
         "4": "C",
         "5": ".",
         "6": ".",
         "7": "RS=2100299931;dbSNPBuildID=156;SSR=0;PSEUDOGENEINFO=DDX11L1:100287102;VC=DEL;R5;GNO;FREQ=TOMMO:0.9999,5.356e-05"
        },
        {
         "0": "NC_000001.11",
         "1": "10363",
         "2": "rs953910623",
         "3": "T",
         "4": "C,G",
         "5": ".",
         "6": ".",
         "7": "RS=953910623;dbSNPBuildID=150;SSR=0;PSEUDOGENEINFO=DDX11L1:100287102;VC=SNV;R5;GNO;FREQ=GnomAD:0.9997,0.000322,.|KOREAN:0.9901,0.009938,.|Siberian:0.5,0.5,.|dbGaP_PopFreq:1,0,0"
        },
        {
         "0": "NC_000001.11",
         "1": "10363",
         "2": "rs1639556121",
         "3": "TA",
         "4": "T",
         "5": ".",
         "6": ".",
         "7": "RS=1639556121;dbSNPBuildID=155;SSR=0;PSEUDOGENEINFO=DDX11L1:100287102;VC=INDEL;R5;GNO;FREQ=TOMMO:0.9999,7.544e-05|dbGaP_PopFreq:1,0"
        },
        {
         "0": "NC_000001.11",
         "1": "10364",
         "2": "rs986547682",
         "3": "A",
         "4": "C,G,T",
         "5": ".",
         "6": ".",
         "7": "RS=986547682;dbSNPBuildID=150;SSR=0;PSEUDOGENEINFO=DDX11L1:100287102;VC=SNV;R5;GNO;FREQ=GnomAD:0.9999,0.0001105,.,.|KOREAN:0.9997,.,0.0003427,.|Siberian:0.5,0.25,0.25,.|TOMMO:0.9999,.,.,0.0001081|dbGaP_PopFreq:1,0,0,0"
        },
        {
         "0": "NC_000001.11",
         "1": "10365",
         "2": "rs1570392174",
         "3": "A",
         "4": "C,G",
         "5": ".",
         "6": ".",
         "7": "RS=1570392174;dbSNPBuildID=154;SSR=0;PSEUDOGENEINFO=DDX11L1:100287102;VC=SNV;R5;GNO;FREQ=GnomAD:0.9999,6.385e-05,.|KOREAN:0.9959,0.004112,.|Korea1K:1,.,0|dbGaP_PopFreq:1,0,0"
        },
        {
         "0": "NC_000001.11",
         "1": "10366",
         "2": "rs2100299948",
         "3": "C",
         "4": "A",
         "5": ".",
         "6": ".",
         "7": "RS=2100299948;dbSNPBuildID=156;SSR=0;PSEUDOGENEINFO=DDX11L1:100287102;VC=SNV;R5"
        },
        {
         "0": "NC_000001.11",
         "1": "10367",
         "2": "rs1298842584",
         "3": "C",
         "4": "T",
         "5": ".",
         "6": ".",
         "7": "RS=1298842584;dbSNPBuildID=151;SSR=0;PSEUDOGENEINFO=DDX11L1:100287102;VC=SNV;R5"
        },
        {
         "0": "NC_000001.11",
         "1": "10369",
         "2": "rs1639556180",
         "3": "T",
         "4": "C,G",
         "5": ".",
         "6": ".",
         "7": "RS=1639556180;SSR=0;PSEUDOGENEINFO=DDX11L1:100287102;VC=SNV;R5;GNO;FREQ=dbGaP_PopFreq:1,0,0"
        },
        {
         "0": "NC_000001.11",
         "1": "10370",
         "2": "rs1334634869",
         "3": "A",
         "4": "C,G,T",
         "5": ".",
         "6": ".",
         "7": "RS=1334634869;dbSNPBuildID=156;SSR=0;PSEUDOGENEINFO=DDX11L1:100287102;VC=SNV;R5;GNO;FREQ=TOMMO:0.9999,.,.,5.242e-05|dbGaP_PopFreq:0.9999,8.43e-05,0,0"
        },
        {
         "0": "NC_000001.11",
         "1": "10371",
         "2": "rs1570392181",
         "3": "A",
         "4": "C",
         "5": ".",
         "6": ".",
         "7": "RS=1570392181;dbSNPBuildID=154;SSR=0;PSEUDOGENEINFO=DDX11L1:100287102;VC=SNV;R5;GNO;FREQ=GnomAD:1,2.254e-05|KOREAN:0.9983,0.001712|dbGaP_PopFreq:1,0"
        },
        {
         "0": "NC_000001.11",
         "1": "10371",
         "2": "rs1639556260",
         "3": "A",
         "4": "AC",
         "5": ".",
         "6": ".",
         "7": "RS=1639556260;SSR=0;PSEUDOGENEINFO=DDX11L1:100287102;VC=INDEL;R5;GNO;FREQ=dbGaP_PopFreq:1,0"
        },
        {
         "0": "NC_000001.11",
         "1": "10371",
         "2": "rs2100299967",
         "3": "ACCCTAACCCTAACCCTAAC",
         "4": "A",
         "5": ".",
         "6": ".",
         "7": "RS=2100299967;dbSNPBuildID=156;SSR=0;PSEUDOGENEINFO=DDX11L1:100287102;VC=INDEL;R5;GNO;FREQ=TOMMO:0.9999,5.219e-05"
        },
        {
         "0": "NC_000001.11",
         "1": "10372",
         "2": "rs1313794340",
         "3": "CCCTAA",
         "4": "C",
         "5": ".",
         "6": ".",
         "7": "RS=1313794340;dbSNPBuildID=151;SSR=0;PSEUDOGENEINFO=DDX11L1:100287102;VC=INDEL;R5;GNO;FREQ=dbGaP_PopFreq:1,0"
        },
        {
         "0": "NC_000001.11",
         "1": "10375",
         "2": "rs1639556297",
         "3": "T",
         "4": "C,G",
         "5": ".",
         "6": ".",
         "7": "RS=1639556297;dbSNPBuildID=155;SSR=0;PSEUDOGENEINFO=DDX11L1:100287102;VC=SNV;R5;GNO;FREQ=GnomAD:0.9999,0.0001288,.|dbGaP_PopFreq:1,0,0"
        },
        {
         "0": "NC_000001.11",
         "1": "10376",
         "2": "rs1639556313",
         "3": "A",
         "4": "C,G,T",
         "5": ".",
         "6": ".",
         "7": "RS=1639556313;dbSNPBuildID=156;SSR=0;PSEUDOGENEINFO=DDX11L1:100287102;VC=SNV;R5;GNO;FREQ=dbGaP_PopFreq:1,0,0,."
        },
        {
         "0": "NC_000001.11",
         "1": "10376",
         "2": "rs2100299977",
         "3": "AACCCTAACCCTAACCCCTAAC",
         "4": "A",
         "5": ".",
         "6": ".",
         "7": "RS=2100299977;dbSNPBuildID=156;SSR=0;PSEUDOGENEINFO=DDX11L1:100287102;VC=DEL;R5;GNO;FREQ=TOMMO:0.9999,0.0001035"
        },
        {
         "0": "NC_000001.11",
         "1": "10377",
         "2": "rs1384831754",
         "3": "A",
         "4": "AC",
         "5": ".",
         "6": ".",
         "7": "RS=1384831754;SSR=0;PSEUDOGENEINFO=DDX11L1:100287102;VC=INDEL;R5;GNO;FREQ=dbGaP_PopFreq:1,0"
        },
        {
         "0": "NC_000001.11",
         "1": "10377",
         "2": "rs1639556341",
         "3": "A",
         "4": "C,G",
         "5": ".",
         "6": ".",
         "7": "RS=1639556341;dbSNPBuildID=155;SSR=0;PSEUDOGENEINFO=DDX11L1:100287102;VC=SNV;R5;GNO;FREQ=GnomAD:1,2.531e-05,.|dbGaP_PopFreq:1,.,0"
        },
        {
         "0": "NC_000001.11",
         "1": "10377",
         "2": "rs1639556377",
         "3": "ACCCTAACCCTAAC",
         "4": "A",
         "5": ".",
         "6": ".",
         "7": "RS=1639556377;dbSNPBuildID=155;SSR=0;PSEUDOGENEINFO=DDX11L1:100287102;VC=INDEL;R5;GNO;FREQ=GnomAD:1,2.531e-05"
        },
        {
         "0": "NC_000001.11",
         "1": "10377",
         "2": "rs1639556403",
         "3": "ACCCTAACCCTAACCCCTAAC",
         "4": "A",
         "5": ".",
         "6": ".",
         "7": "RS=1639556403;dbSNPBuildID=155;SSR=0;PSEUDOGENEINFO=DDX11L1:100287102;VC=INDEL;R5;GNO;FREQ=GnomAD:1,2.531e-05"
        },
        {
         "0": "NC_000001.11",
         "1": "10378",
         "2": "rs1204214557",
         "3": "CCCTAA",
         "4": "C",
         "5": ".",
         "6": ".",
         "7": "RS=1204214557;dbSNPBuildID=151;SSR=0;PSEUDOGENEINFO=DDX11L1:100287102;VC=INDEL;R5;GNO;FREQ=dbGaP_PopFreq:1,0"
        },
        {
         "0": "NC_000001.11",
         "1": "10380",
         "2": "rs1639556479",
         "3": "C",
         "4": "CT",
         "5": ".",
         "6": ".",
         "7": "RS=1639556479;SSR=0;PSEUDOGENEINFO=DDX11L1:100287102;VC=INDEL;R5;GNO;FREQ=dbGaP_PopFreq:1,0"
        },
        {
         "0": "NC_000001.11",
         "1": "10381",
         "2": "rs1570392185",
         "3": "T",
         "4": "A,C,G",
         "5": ".",
         "6": ".",
         "7": "RS=1570392185;dbSNPBuildID=154;SSR=0;PSEUDOGENEINFO=DDX11L1:100287102;VC=SNV;R5;GNO;FREQ=GnomAD:0.9999,.,6.411e-05,.|KOREAN:0.9938,.,0.006164,.|dbGaP_PopFreq:1,0,0,0"
        },
        {
         "0": "NC_000001.11",
         "1": "10382",
         "2": "rs1639556499",
         "3": "A",
         "4": "C",
         "5": ".",
         "6": ".",
         "7": "RS=1639556499;SSR=0;PSEUDOGENEINFO=DDX11L1:100287102;VC=SNV;R5;GNO;FREQ=dbGaP_PopFreq:1,0"
        },
        {
         "0": "NC_000001.11",
         "1": "10383",
         "2": "rs147093981",
         "3": "ACCCTAAC",
         "4": "A,ACCCTAACCCCTAAC",
         "5": ".",
         "6": ".",
         "7": "RS=147093981;dbSNPBuildID=151;SSR=0;PSEUDOGENEINFO=DDX11L1:100287102;VC=INDEL;R5;GNO"
        },
        {
         "0": "NC_000001.11",
         "1": "10383",
         "2": "rs1553119276",
         "3": "A",
         "4": "AC",
         "5": ".",
         "6": ".",
         "7": "RS=1553119276;dbSNPBuildID=152;SSR=0;PSEUDOGENEINFO=DDX11L1:100287102;VC=INDEL;R5;GNO;FREQ=GnomAD:0.9998,0.0002026|dbGaP_PopFreq:1,0"
        },
        {
         "0": "NC_000001.11",
         "1": "10383",
         "2": "rs1570392187",
         "3": "A",
         "4": "C,G",
         "5": ".",
         "6": ".",
         "7": "RS=1570392187;dbSNPBuildID=154;SSR=0;PSEUDOGENEINFO=DDX11L1:100287102;VC=SNV;R5;GNO;FREQ=GnomAD:0.9999,0.0001013,.|KOREAN:0.9884,0.01164,.|dbGaP_PopFreq:1,0,0"
        },
        {
         "0": "NC_000001.11",
         "1": "10387",
         "2": "rs912393906",
         "3": "T",
         "4": "C,G",
         "5": ".",
         "6": ".",
         "7": "RS=912393906;dbSNPBuildID=150;SSR=0;PSEUDOGENEINFO=DDX11L1:100287102;VC=SNV;R5;GNO;FREQ=GnomAD:0.9993,0.0007321,.|KOREAN:0.9781,0.02192,.|SGDP_PRJ:0.5,0.5,.|Siberian:0.5,0.5,.|TOMMO:0.9999,5.234e-05,.|dbGaP_PopFreq:1,0,0"
        },
        {
         "0": "NC_000001.11",
         "1": "10387",
         "2": "rs1639556666",
         "3": "TA",
         "4": "T",
         "5": ".",
         "6": ".",
         "7": "RS=1639556666;SSR=0;PSEUDOGENEINFO=DDX11L1:100287102;VC=INDEL;R5;GNO;FREQ=dbGaP_PopFreq:1,0"
        },
        {
         "0": "NC_000001.11",
         "1": "10387",
         "2": "rs1639556695",
         "3": "TAACCCCTAACCCC",
         "4": "T",
         "5": ".",
         "6": ".",
         "7": "RS=1639556695;dbSNPBuildID=155;SSR=0;PSEUDOGENEINFO=DDX11L1:100287102;VC=DEL;R5;GNO;FREQ=TOMMO:0.9999,6.203e-05"
        },
        {
         "0": "NC_000001.11",
         "1": "10388",
         "2": "rs1557426844",
         "3": "A",
         "4": "G,T",
         "5": ".",
         "6": ".",
         "7": "RS=1557426844;dbSNPBuildID=153;SSR=0;PSEUDOGENEINFO=DDX11L1:100287102;VC=SNV;R5;GNO;FREQ=dbGaP_PopFreq:1,0,0"
        },
        {
         "0": "NC_000001.11",
         "1": "10388",
         "2": "rs1639556723",
         "3": "AACCCCTAAC",
         "4": "A",
         "5": ".",
         "6": ".",
         "7": "RS=1639556723;dbSNPBuildID=155;SSR=0;PSEUDOGENEINFO=DDX11L1:100287102;VC=DEL;R5;GNO;FREQ=GnomAD:1,4.376e-05"
        },
        {
         "0": "NC_000001.11",
         "1": "10389",
         "2": "rs766767872",
         "3": "AC",
         "4": "A",
         "5": ".",
         "6": ".",
         "7": "RS=766767872;dbSNPBuildID=144;SSR=0;PSEUDOGENEINFO=DDX11L1:100287102;VC=INDEL;R5;GNO;FREQ=TOMMO:0.9998,0.0002235|dbGaP_PopFreq:1,0"
        },
        {
         "0": "NC_000001.11",
         "1": "10389",
         "2": "rs1639556804",
         "3": "ACCCCTAACC",
         "4": "A,AC",
         "5": ".",
         "6": ".",
         "7": "RS=1639556804;dbSNPBuildID=155;SSR=0;PSEUDOGENEINFO=DDX11L1:100287102;VC=INDEL;R5;GNO;FREQ=GnomAD:0.9999,0.0001137,.|TOMMO:0.9998,.,0.0002235|dbGaP_PopFreq:1,0,."
        },
        {
         "0": "NC_000001.11",
         "1": "10389",
         "2": "rs1639556824",
         "3": "ACCCCTAACCCCTAACCCTAACCCTAACCCTAACCCTAACCCTAACCCTAAC",
         "4": "A",
         "5": ".",
         "6": ".",
         "7": "RS=1639556824;SSR=0;PSEUDOGENEINFO=DDX11L1:100287102;VC=INDEL;R5;GNO;FREQ=GnomAD:0.9999,0.0001137"
        },
        {
         "0": "NC_000001.11",
         "1": "10390",
         "2": "rs1214126285",
         "3": "C",
         "4": "A,G",
         "5": ".",
         "6": ".",
         "7": "RS=1214126285;dbSNPBuildID=151;SSR=0;PSEUDOGENEINFO=DDX11L1:100287102;VC=SNV;R5;GNO;FREQ=GnomAD:0.9998,0.0002119,.|TOMMO:0.9998,0.0001967,.|dbGaP_PopFreq:1,0,0"
        },
        {
         "0": "NC_000001.11",
         "1": "10390",
         "2": "rs1557426845",
         "3": "CCCCTAACCCCTAACCCTAACCCTAACCCTAACCCTAACCCTAA",
         "4": "C",
         "5": ".",
         "6": ".",
         "7": "RS=1557426845;dbSNPBuildID=153;SSR=0;PSEUDOGENEINFO=DDX11L1:100287102;VC=INDEL;R5;GNO;FREQ=GnomAD:0.9632,0.03682|Korea1K:0.9977,0.002288|NorthernSweden:0.9848,0.0152|TOMMO:0.9986,0.001377"
        },
        {
         "0": "NC_000001.11",
         "1": "10390",
         "2": "rs1639556841",
         "3": "CCCCTAACCCCTAA",
         "4": "C",
         "5": ".",
         "6": ".",
         "7": "RS=1639556841;dbSNPBuildID=155;SSR=0;PSEUDOGENEINFO=DDX11L1:100287102;VC=INDEL;R5;GNO;FREQ=GnomAD:0.9999,0.0001059|dbGaP_PopFreq:1,0"
        },
        {
         "0": "NC_000001.11",
         "1": "10390",
         "2": "rs1639556866",
         "3": "CCCCTAACCCCTAACCCTAA",
         "4": "C",
         "5": ".",
         "6": ".",
         "7": "RS=1639556866;dbSNPBuildID=155;SSR=0;PSEUDOGENEINFO=DDX11L1:100287102;VC=INDEL;R5;GNO;FREQ=GnomAD:0.9999,0.0001059"
        },
        {
         "0": "NC_000001.11",
         "1": "10392",
         "2": "rs1639556939",
         "3": "CCT",
         "4": "C",
         "5": ".",
         "6": ".",
         "7": "RS=1639556939;SSR=0;PSEUDOGENEINFO=DDX11L1:100287102;VC=DEL;R5;GNO;FREQ=dbGaP_PopFreq:1,0"
        },
        {
         "0": "NC_000001.11",
         "1": "10393",
         "2": "rs1287943624",
         "3": "C",
         "4": "T",
         "5": ".",
         "6": ".",
         "7": "RS=1287943624;dbSNPBuildID=151;SSR=0;PSEUDOGENEINFO=DDX11L1:100287102;VC=SNV;R5;GNO;FREQ=KOREAN:0.9928,0.007187|TOMMO:0.9997,0.0003341|dbGaP_PopFreq:1,0"
        },
        {
         "0": "NC_000001.11",
         "1": "10393",
         "2": "rs1639556982",
         "3": "CT",
         "4": "C",
         "5": ".",
         "6": ".",
         "7": "RS=1639556982;SSR=0;PSEUDOGENEINFO=DDX11L1:100287102;VC=DEL;R5;GNO;FREQ=dbGaP_PopFreq:1,0"
        },
        {
         "0": "NC_000001.11",
         "1": "10393",
         "2": "rs1639557004",
         "3": "CTA",
         "4": "C",
         "5": ".",
         "6": ".",
         "7": "RS=1639557004;SSR=0;PSEUDOGENEINFO=DDX11L1:100287102;VC=DEL;R5;GNO;FREQ=dbGaP_PopFreq:1,0"
        },
        {
         "0": "NC_000001.11",
         "1": "10394",
         "2": "rs1639556956",
         "3": "T",
         "4": "A,C,G",
         "5": ".",
         "6": ".",
         "7": "RS=1639556956;dbSNPBuildID=156;SSR=0;PSEUDOGENEINFO=DDX11L1:100287102;VC=SNV;R5;GNO;FREQ=TOMMO:0.9999,0.0001118,.,.|dbGaP_PopFreq:1,0,0,0"
        },
        {
         "0": "NC_000001.11",
         "1": "10394",
         "2": "rs1639557047",
         "3": "TA",
         "4": "T",
         "5": ".",
         "6": ".",
         "7": "RS=1639557047;SSR=0;PSEUDOGENEINFO=DDX11L1:100287102;VC=INDEL;R5;GNO;FREQ=dbGaP_PopFreq:1,0"
        },
        {
         "0": "NC_000001.11",
         "1": "10395",
         "2": "rs1206847539",
         "3": "AAC",
         "4": "A",
         "5": ".",
         "6": ".",
         "7": "RS=1206847539;dbSNPBuildID=151;SSR=0;PSEUDOGENEINFO=DDX11L1:100287102;VC=DEL;R5;GNO;FREQ=dbGaP_PopFreq:1,0"
        },
        {
         "0": "NC_000001.11",
         "1": "10395",
         "2": "rs1639557025",
         "3": "A",
         "4": "G,T",
         "5": ".",
         "6": ".",
         "7": "RS=1639557025;SSR=0;PSEUDOGENEINFO=DDX11L1:100287102;VC=SNV;R5;GNO;FREQ=dbGaP_PopFreq:1,0,0"
        },
        {
         "0": "NC_000001.11",
         "1": "10396",
         "2": "rs1312953559",
         "3": "AC",
         "4": "A",
         "5": ".",
         "6": ".",
         "7": "RS=1312953559;dbSNPBuildID=155;SSR=0;PSEUDOGENEINFO=DDX11L1:100287102;VC=INDEL;R5;GNO;FREQ=TOMMO:0.9998,0.0002208|dbGaP_PopFreq:1,0"
        },
        {
         "0": "NC_000001.11",
         "1": "10397",
         "2": "rs1557426847",
         "3": "C",
         "4": "A,G",
         "5": ".",
         "6": ".",
         "7": "RS=1557426847;dbSNPBuildID=153;SSR=0;PSEUDOGENEINFO=DDX11L1:100287102;VC=SNV;R5;GNO;FREQ=GnomAD:0.9998,0.0001552,.|KOREAN:0.9956,0.004449,.|TOMMO:0.9938,0.006163,.|dbGaP_PopFreq:1,0,0"
        },
        {
         "0": "NC_000001.11",
         "1": "10397",
         "2": "rs1557426849",
         "3": "CCCCTAACCCTAACCCTAA",
         "4": "C,CCCCTAA,CCCCTAACCCTAA,CCCCTAACCCTAACCCTAACCCTAACCCTAACCCTAACCCTAACCCTAAACCCTAACCCTAACCCTAA,CCCCTAACCCTAACCCTAACCCTAA,CCCCTAACCCTAACCCTAACCCTAACCCTAA,CCCCTAACCCTAACCCTAACCCTAACCCTAACCCTAA,CCCCTAACCCTAACCCTAACCCTAACCCTAACCCTAACCCTAA,CCCCTAACCCTAACCCTAACCCTAACCCTAACCCTAACCCTAACCCTAA",
         "5": ".",
         "6": ".",
         "7": "RS=1557426849;dbSNPBuildID=155;SSR=0;PSEUDOGENEINFO=DDX11L1:100287102;VC=INDEL;R5;GNO;FREQ=dbGaP_PopFreq:1,.,.,0,.,.,.,.,.,."
        },
        {
         "0": "NC_000001.11",
         "1": "10397",
         "2": "rs1557426852",
         "3": "CCCCTAACCCTAACCCTAACCCTAACCCTAACCCTAACCCTAACCCCTAA",
         "4": "C",
         "5": ".",
         "6": ".",
         "7": "RS=1557426852;dbSNPBuildID=155;SSR=0;PSEUDOGENEINFO=DDX11L1:100287102;VC=INDEL;R5;GNO;FREQ=GnomAD:0.9996,0.0004036"
        },
        {
         "0": "NC_000001.11",
         "1": "10397",
         "2": "rs1639557153",
         "3": "C",
         "4": "CCCTAA",
         "5": ".",
         "6": ".",
         "7": "RS=1639557153;SSR=0;PSEUDOGENEINFO=DDX11L1:100287102;VC=INDEL;R5;GNO;FREQ=dbGaP_PopFreq:1,0"
        },
        {
         "0": "NC_000001.11",
         "1": "10397",
         "2": "rs1639557178",
         "3": "C",
         "4": "CCCCTAACCCTAACCCTAACCCTAACCCTAACCCTAACCCTAAA",
         "5": ".",
         "6": ".",
         "7": "RS=1639557178;dbSNPBuildID=155;SSR=0;PSEUDOGENEINFO=DDX11L1:100287102;VC=INDEL;R5;GNO;FREQ=GnomAD:1,3.104e-05"
        },
        {
         "0": "NC_000001.11",
         "1": "10398",
         "2": "rs2100300045",
         "3": "C",
         "4": "G",
         "5": ".",
         "6": ".",
         "7": "RS=2100300045;dbSNPBuildID=156;SSR=0;PSEUDOGENEINFO=DDX11L1:100287102;VC=SNV;R5;GNO;FREQ=TOMMO:0.9993,0.0006693"
        },
        {
         "0": "NC_000001.11",
         "1": "10400",
         "2": "rs1486139980",
         "3": "C",
         "4": "T",
         "5": ".",
         "6": ".",
         "7": "RS=1486139980;dbSNPBuildID=151;SSR=0;PSEUDOGENEINFO=DDX11L1:100287102;VC=SNV;R5;GNO;FREQ=GnomAD:0.9998,0.0001558|KOREAN:0.9935,0.006502|TOMMO:0.9993,0.000737|dbGaP_PopFreq:1,0"
        },
        {
         "0": "NC_000001.11",
         "1": "10400",
         "2": "rs1639557358",
         "3": "CT",
         "4": "C",
         "5": ".",
         "6": ".",
         "7": "RS=1639557358;dbSNPBuildID=155;SSR=0;PSEUDOGENEINFO=DDX11L1:100287102;VC=DEL;R5;GNO;FREQ=GnomAD:1,1.946e-05|dbGaP_PopFreq:1,0"
        },
        {
         "0": "NC_000001.11",
         "1": "10400",
         "2": "rs1639557376",
         "3": "CTA",
         "4": "C",
         "5": ".",
         "6": ".",
         "7": "RS=1639557376;dbSNPBuildID=155;SSR=0;PSEUDOGENEINFO=DDX11L1:100287102;VC=DEL;R5;GNO;FREQ=GnomAD:1,3.893e-05"
        },
        {
         "0": "NC_000001.11",
         "1": "10401",
         "2": "rs1243949729",
         "3": "TA",
         "4": "T",
         "5": ".",
         "6": ".",
         "7": "RS=1243949729;dbSNPBuildID=151;SSR=0;PSEUDOGENEINFO=DDX11L1:100287102;VC=INDEL;R5;GNO;FREQ=TOMMO:0.9998,0.0002248|dbGaP_PopFreq:1,0"
        },
        {
         "0": "NC_000001.11",
         "1": "10401",
         "2": "rs1557426855",
         "3": "T",
         "4": "A,G",
         "5": ".",
         "6": ".",
         "7": "RS=1557426855;dbSNPBuildID=153;SSR=0;PSEUDOGENEINFO=DDX11L1:100287102;VC=SNV;R5;GNO;FREQ=GnomAD:1,3.543e-05,.|dbGaP_PopFreq:1,0,0"
        },
        {
         "0": "NC_000001.11",
         "1": "10403",
         "2": "rs1557426857",
         "3": "ACCCTAACCCTAACCCTAACCCTAACCCTAACCCTAAC",
         "4": "A,ACCCTAACCCTAACCCTAACCCTAACCCTAACCCTAACCCCTAACCCTAACCCTAACCCTAACCCTAACCCTAAC",
         "5": ".",
         "6": ".",
         "7": "RS=1557426857;dbSNPBuildID=154;SSR=0;PSEUDOGENEINFO=DDX11L1:100287102;VC=INDEL;R5;GNO;FREQ=Korea1K:0.9962,.,0.003825"
        },
        {
         "0": "NC_000001.11",
         "1": "10403",
         "2": "rs1639557411",
         "3": "A",
         "4": "C,G",
         "5": ".",
         "6": ".",
         "7": "RS=1639557411;dbSNPBuildID=155;SSR=0;PSEUDOGENEINFO=DDX11L1:100287102;VC=SNV;R5;GNO;FREQ=GnomAD:1,4.585e-05,.|dbGaP_PopFreq:1,0,0"
        },
        {
         "0": "NC_000001.11",
         "1": "10403",
         "2": "rs1639557444",
         "3": "A",
         "4": "AC",
         "5": ".",
         "6": ".",
         "7": "RS=1639557444;dbSNPBuildID=155;SSR=0;PSEUDOGENEINFO=DDX11L1:100287102;VC=INDEL;R5;GNO;FREQ=GnomAD:1,4.586e-05|TOMMO:0.9999,0.0001109|dbGaP_PopFreq:1,0"
        },
        {
         "0": "NC_000001.11",
         "1": "10403",
         "2": "rs1639557471",
         "3": "A",
         "4": "ACCCTAACCCTAACCCTACCCTAACCCTAACCCTAACCCTAACCCTAACCCCTAAC",
         "5": ".",
         "6": ".",
         "7": "RS=1639557471;SSR=0;PSEUDOGENEINFO=DDX11L1:100287102;VC=INDEL;R5;GNO;FREQ=GnomAD:1,4.585e-05"
        },
        {
         "0": "NC_000001.11",
         "1": "10403",
         "2": "rs1639557488",
         "3": "A",
         "4": "ACCCTAACCCTAACCCTAACCCTAAC",
         "5": ".",
         "6": ".",
         "7": "RS=1639557488;dbSNPBuildID=155;SSR=0;PSEUDOGENEINFO=DDX11L1:100287102;VC=INDEL;R5;GNO;FREQ=GnomAD:1,4.584e-05"
        },
        {
         "0": "NC_000001.11",
         "1": "10404",
         "2": "rs1475826805",
         "3": "CCCTAA",
         "4": "C",
         "5": ".",
         "6": ".",
         "7": "RS=1475826805;dbSNPBuildID=151;SSR=0;PSEUDOGENEINFO=DDX11L1:100287102;VC=INDEL;R5;GNO;FREQ=TOMMO:0.9997,0.0003189"
        },
        {
         "0": "NC_000001.11",
         "1": "10404",
         "2": "rs1639557556",
         "3": "CCCTAACCCTAACCCTAACCCTAACCCTAACCCTAACCCCTAA",
         "4": "C",
         "5": ".",
         "6": ".",
         "7": "RS=1639557556;dbSNPBuildID=155;SSR=0;PSEUDOGENEINFO=DDX11L1:100287102;VC=INDEL;R5;GNO;FREQ=GnomAD:1,1.279e-05"
        },
        {
         "0": "NC_000001.11",
         "1": "10404",
         "2": "rs2100300081",
         "3": "CCCTAACCCTAACCCTAACCCTAA",
         "4": "C",
         "5": ".",
         "6": ".",
         "7": "RS=2100300081;dbSNPBuildID=156;SSR=0;PSEUDOGENEINFO=DDX11L1:100287102;VC=INDEL;R5;GNO;FREQ=TOMMO:0.9999,0.0001063"
        },
        {
         "0": "NC_000001.11",
         "1": "10406",
         "2": "rs1190844716",
         "3": "CT",
         "4": "C",
         "5": ".",
         "6": ".",
         "7": "RS=1190844716;dbSNPBuildID=151;SSR=0;PSEUDOGENEINFO=DDX11L1:100287102;VC=DEL;R5;GNO;FREQ=GnomAD:1,1.009e-05|dbGaP_PopFreq:1,0"
        },
        {
         "0": "NC_000001.11",
         "1": "10406",
         "2": "rs1639557600",
         "3": "C",
         "4": "CT",
         "5": ".",
         "6": ".",
         "7": "RS=1639557600;SSR=0;PSEUDOGENEINFO=DDX11L1:100287102;VC=INDEL;R5;GNO;FREQ=dbGaP_PopFreq:1,0"
        },
        {
         "0": "NC_000001.11",
         "1": "10407",
         "2": "rs1570392229",
         "3": "T",
         "4": "A,C,G",
         "5": ".",
         "6": ".",
         "7": "RS=1570392229;dbSNPBuildID=154;SSR=0;PSEUDOGENEINFO=DDX11L1:100287102;VC=SNV;R5;GNO;FREQ=GnomAD:0.9998,.,0.0001596,.|KOREAN:0.9805,.,0.01951,.|TOMMO:0.9998,.,0.0001617,.|dbGaP_PopFreq:1,0,0,0"
        },
        {
         "0": "NC_000001.11",
         "1": "10407",
         "2": "rs1639557645",
         "3": "TA",
         "4": "T",
         "5": ".",
         "6": ".",
         "7": "RS=1639557645;dbSNPBuildID=155;SSR=0;PSEUDOGENEINFO=DDX11L1:100287102;VC=INDEL;R5;GNO;FREQ=TOMMO:0.9999,5.389e-05|dbGaP_PopFreq:1,0"
        },
        {
         "0": "NC_000001.11",
         "1": "10407",
         "2": "rs1639557660",
         "3": "TAACCC",
         "4": "T",
         "5": ".",
         "6": ".",
         "7": "RS=1639557660;dbSNPBuildID=155;SSR=0;PSEUDOGENEINFO=DDX11L1:100287102;VC=DEL;R5;GNO;FREQ=TOMMO:0.9999,0.0001225"
        },
        {
         "0": "NC_000001.11",
         "1": "10408",
         "2": "rs2100300092",
         "3": "A",
         "4": "T",
         "5": ".",
         "6": ".",
         "7": "RS=2100300092;dbSNPBuildID=156;SSR=0;PSEUDOGENEINFO=DDX11L1:100287102;VC=SNV;R5;GNO;FREQ=TOMMO:0.9999,0.0001059"
        },
        {
         "0": "NC_000001.11",
         "1": "10409",
         "2": "rs1423489992",
         "3": "ACCCTAACCCTAACCCTAACCCTAACCCTAAC",
         "4": "A,ACCCTAACCCTAACCCTAACCCTAACCCTAACCCCTAACCCTAACCCTAACCCTAACCCTAAC",
         "5": ".",
         "6": ".",
         "7": "RS=1423489992;dbSNPBuildID=151;SSR=0;PSEUDOGENEINFO=DDX11L1:100287102;VC=INDEL;R5;GNO;FREQ=TOMMO:0.9987,.,0.001275"
        },
        {
         "0": "NC_000001.11",
         "1": "10409",
         "2": "rs1639557677",
         "3": "A",
         "4": "C,G",
         "5": ".",
         "6": ".",
         "7": "RS=1639557677;dbSNPBuildID=156;SSR=0;PSEUDOGENEINFO=DDX11L1:100287102;VC=SNV;R5;GNO;FREQ=dbGaP_PopFreq:1,0,0"
        },
        {
         "0": "NC_000001.11",
         "1": "10409",
         "2": "rs1639557703",
         "3": "A",
         "4": "AC",
         "5": ".",
         "6": ".",
         "7": "RS=1639557703;dbSNPBuildID=155;SSR=0;PSEUDOGENEINFO=DDX11L1:100287102;VC=INDEL;R5;GNO;FREQ=GnomAD:1,3.195e-05|TOMMO:0.9999,0.0001062|dbGaP_PopFreq:1,0"
        },
        {
         "0": "NC_000001.11",
         "1": "10410",
         "2": "rs1639557753",
         "3": "CCCTAA",
         "4": "C",
         "5": ".",
         "6": ".",
         "7": "RS=1639557753;dbSNPBuildID=155;SSR=0;PSEUDOGENEINFO=DDX11L1:100287102;VC=INDEL;R5;GNO;FREQ=GnomAD:1,2.005e-05|TOMMO:0.9997,0.0002603"
        },
        {
         "0": "NC_000001.11",
         "1": "10410",
         "2": "rs2100300109",
         "3": "CCCTAACCCTAA",
         "4": "C",
         "5": ".",
         "6": ".",
         "7": "RS=2100300109;dbSNPBuildID=156;SSR=0;PSEUDOGENEINFO=DDX11L1:100287102;VC=INDEL;R5;GNO;FREQ=TOMMO:0.9999,0.0001041"
        },
        {
         "0": "NC_000001.11",
         "1": "10412",
         "2": "rs1481664201",
         "3": "C",
         "4": "CCTAACCCTAACCCTAACCCTAACCCTTAACCCTAACCCTAACCCT",
         "5": ".",
         "6": ".",
         "7": "RS=1481664201;dbSNPBuildID=151;SSR=0;PSEUDOGENEINFO=DDX11L1:100287102;VC=INS;R5"
        },
        {
         "0": "NC_000001.11",
         "1": "10412",
         "2": "rs1639557821",
         "3": "C",
         "4": "CT",
         "5": ".",
         "6": ".",
         "7": "RS=1639557821;SSR=0;PSEUDOGENEINFO=DDX11L1:100287102;VC=INDEL;R5;GNO;FREQ=dbGaP_PopFreq:1,0"
        },
        {
         "0": "NC_000001.11",
         "1": "10413",
         "2": "rs1570392236",
         "3": "T",
         "4": "A,C,G",
         "5": ".",
         "6": ".",
         "7": "RS=1570392236;dbSNPBuildID=154;SSR=0;PSEUDOGENEINFO=DDX11L1:100287102;VC=SNV;R5;GNO;FREQ=GnomAD:0.9999,.,7.589e-05,.|KOREAN:0.9966,.,0.003422,.|dbGaP_PopFreq:1,0,0,0"
        },
        {
         "0": "NC_000001.11",
         "1": "10413",
         "2": "rs1639557866",
         "3": "TA",
         "4": "T",
         "5": ".",
         "6": ".",
         "7": "RS=1639557866;dbSNPBuildID=156;SSR=0;PSEUDOGENEINFO=DDX11L1:100287102;VC=INDEL;R5;GNO;FREQ=TOMMO:0.9999,0.0001046|dbGaP_PopFreq:1,0"
        },
        {
         "0": "NC_000001.11",
         "1": "10413",
         "2": "rs1639557881",
         "3": "TAACCC",
         "4": "T",
         "5": ".",
         "6": ".",
         "7": "RS=1639557881;dbSNPBuildID=155;SSR=0;PSEUDOGENEINFO=DDX11L1:100287102;VC=DEL;R5;GNO;FREQ=TOMMO:0.9999,6.096e-05"
        },
        {
         "0": "NC_000001.11",
         "1": "10414",
         "2": "rs1639557838",
         "3": "A",
         "4": "C,G",
         "5": ".",
         "6": ".",
         "7": "RS=1639557838;dbSNPBuildID=155;SSR=0;PSEUDOGENEINFO=DDX11L1:100287102;VC=SNV;R5;GNO;FREQ=GnomAD:1,.,1.093e-05|TOMMO:0.9999,5.185e-05,.|dbGaP_PopFreq:1,0,0"
        },
        {
         "0": "NC_000001.11",
         "1": "10415",
         "2": "rs1557426863",
         "3": "ACCCTAACCCTAACCCTAACCCTAAC",
         "4": "A,ACCCTAACCCTAACCCTAACCCTAACCCCTAACCCTAACCCTAACCCTAAC",
         "5": ".",
         "6": ".",
         "7": "RS=1557426863;dbSNPBuildID=155;SSR=0;PSEUDOGENEINFO=DDX11L1:100287102;VC=INDEL;R5;GNO;FREQ=GnomAD:0.9999,0.0001323,."
        },
        {
         "0": "NC_000001.11",
         "1": "10415",
         "2": "rs1639557897",
         "3": "A",
         "4": "G",
         "5": ".",
         "6": ".",
         "7": "RS=1639557897;SSR=0;PSEUDOGENEINFO=DDX11L1:100287102;VC=SNV;R5;GNO;FREQ=dbGaP_PopFreq:1,0"
        },
        {
         "0": "NC_000001.11",
         "1": "10415",
         "2": "rs1639557928",
         "3": "A",
         "4": "AC",
         "5": ".",
         "6": ".",
         "7": "RS=1639557928;SSR=0;PSEUDOGENEINFO=DDX11L1:100287102;VC=INDEL;R5;GNO;FREQ=dbGaP_PopFreq:1,0"
        },
        {
         "0": "NC_000001.11",
         "1": "10415",
         "2": "rs1639557948",
         "3": "A",
         "4": "ACCCTAAC",
         "5": ".",
         "6": ".",
         "7": "RS=1639557948;dbSNPBuildID=155;SSR=0;PSEUDOGENEINFO=DDX11L1:100287102;VC=INDEL;R5;GNO;FREQ=GnomAD:1,1.202e-05"
        },
        {
         "0": "NC_000001.11",
         "1": "10416",
         "2": "rs1177748701",
         "3": "CCCTAA",
         "4": "C",
         "5": ".",
         "6": ".",
         "7": "RS=1177748701;dbSNPBuildID=151;SSR=0;PSEUDOGENEINFO=DDX11L1:100287102;VC=INDEL;R5;GNO;FREQ=dbGaP_PopFreq:1,0"
        },
        {
         "0": "NC_000001.11",
         "1": "10417",
         "2": "rs1639558008",
         "3": "C",
         "4": "G",
         "5": ".",
         "6": ".",
         "7": "RS=1639558008;SSR=0;PSEUDOGENEINFO=DDX11L1:100287102;VC=SNV;R5;GNO;FREQ=dbGaP_PopFreq:1,0"
        },
        {
         "0": "NC_000001.11",
         "1": "10419",
         "2": "rs1639558062",
         "3": "T",
         "4": "C,G",
         "5": ".",
         "6": ".",
         "7": "RS=1639558062;dbSNPBuildID=155;SSR=0;PSEUDOGENEINFO=DDX11L1:100287102;VC=SNV;R5;GNO;FREQ=GnomAD:1,.,3.18e-05|dbGaP_PopFreq:1,0,0"
        },
        {
         "0": "NC_000001.11",
         "1": "10419",
         "2": "rs1639558139",
         "3": "TA",
         "4": "T",
         "5": ".",
         "6": ".",
         "7": "RS=1639558139;dbSNPBuildID=155;SSR=0;PSEUDOGENEINFO=DDX11L1:100287102;VC=INDEL;R5;GNO;FREQ=GnomAD:1,3.18e-05"
        },
        {
         "0": "NC_000001.11",
         "1": "10420",
         "2": "rs1639558100",
         "3": "A",
         "4": "C,G,T",
         "5": ".",
         "6": ".",
         "7": "RS=1639558100;dbSNPBuildID=155;SSR=0;PSEUDOGENEINFO=DDX11L1:100287102;VC=SNV;R5;GNO;FREQ=dbGaP_PopFreq:1,0,0,0"
        },
        {
         "0": "NC_000001.11",
         "1": "10421",
         "2": "rs1557426865",
         "3": "ACCCTAACCCTAACCCTAAC",
         "4": "A,ACCCTAACCCTAACCCTAACCCCTAACCCTAACCCTAACCCCTAACCCTAACCCTAAC",
         "5": ".",
         "6": ".",
         "7": "RS=1557426865;dbSNPBuildID=154;SSR=0;PSEUDOGENEINFO=DDX11L1:100287102;VC=INDEL;R5;GNO;FREQ=GnomAD:0.9997,0.0003243,.|Korea1K:0.9989,.,0.001096|TOMMO:0.9999,5.17e-05,."
        },
        {
         "0": "NC_000001.11",
         "1": "10421",
         "2": "rs1639558162",
         "3": "A",
         "4": "C,G",
         "5": ".",
         "6": ".",
         "7": "RS=1639558162;dbSNPBuildID=155;SSR=0;PSEUDOGENEINFO=DDX11L1:100287102;VC=SNV;R5;GNO;FREQ=GnomAD:1,.,1.41e-05|dbGaP_PopFreq:1,.,0"
        },
        {
         "0": "NC_000001.11",
         "1": "10421",
         "2": "rs1639558193",
         "3": "A",
         "4": "AC",
         "5": ".",
         "6": ".",
         "7": "RS=1639558193;dbSNPBuildID=155;SSR=0;PSEUDOGENEINFO=DDX11L1:100287102;VC=INDEL;R5;GNO;FREQ=GnomAD:1,4.23e-05|dbGaP_PopFreq:1,0"
        },
        {
         "0": "NC_000001.11",
         "1": "10421",
         "2": "rs1639558265",
         "3": "A",
         "4": "ACCCTAACCCTAACCCTAACCCCTAACCCTAACCCTAACCCTAAC",
         "5": ".",
         "6": ".",
         "7": "RS=1639558265;dbSNPBuildID=155;SSR=0;PSEUDOGENEINFO=DDX11L1:100287102;VC=INDEL;R5;GNO;FREQ=TOMMO:0.9999,6.235e-05"
        },
        {
         "0": "NC_000001.11",
         "1": "10422",
         "2": "rs1639558313",
         "3": "CCCTAA",
         "4": "C",
         "5": ".",
         "6": ".",
         "7": "RS=1639558313;dbSNPBuildID=155;SSR=0;PSEUDOGENEINFO=DDX11L1:100287102;VC=INDEL;R5;GNO;FREQ=GnomAD:0.9998,0.0002092|TOMMO:0.9997,0.0002522"
        },
        {
         "0": "NC_000001.11",
         "1": "10422",
         "2": "rs1639558332",
         "3": "CCCTAACCCTAA",
         "4": "C",
         "5": ".",
         "6": ".",
         "7": "RS=1639558332;dbSNPBuildID=155;SSR=0;PSEUDOGENEINFO=DDX11L1:100287102;VC=INDEL;R5;GNO;FREQ=GnomAD:1,2.201e-05|TOMMO:0.9998,0.0002017"
        },
        {
         "0": "NC_000001.11",
         "1": "10422",
         "2": "rs2100300147",
         "3": "C",
         "4": "A",
         "5": ".",
         "6": ".",
         "7": "RS=2100300147;dbSNPBuildID=156;SSR=0;PSEUDOGENEINFO=DDX11L1:100287102;VC=SNV;R5;GNO;FREQ=TOMMO:0.9999,5.043e-05"
        },
        {
         "0": "NC_000001.11",
         "1": "10423",
         "2": "rs934499063",
         "3": "C",
         "4": "G,T",
         "5": ".",
         "6": ".",
         "7": "RS=934499063;dbSNPBuildID=150;SSR=0;PSEUDOGENEINFO=DDX11L1:100287102;VC=SNV;R5;GNO;FREQ=Siberian:0.5,0.5,.|TOMMO:0.9998,.,0.0001517|dbGaP_PopFreq:1,0,."
        },
        {
         "0": "NC_000001.11",
         "1": "10423",
         "2": "rs1639558371",
         "3": "C",
         "4": "CCCTAACG",
         "5": ".",
         "6": ".",
         "7": "RS=1639558371;SSR=0;PSEUDOGENEINFO=DDX11L1:100287102;VC=INDEL;R5;GNO;FREQ=dbGaP_PopFreq:1,0"
        },
        {
         "0": "NC_000001.11",
         "1": "10424",
         "2": "rs1639558410",
         "3": "C",
         "4": "CT",
         "5": ".",
         "6": ".",
         "7": "RS=1639558410;dbSNPBuildID=155;SSR=0;PSEUDOGENEINFO=DDX11L1:100287102;VC=INDEL;R5;GNO;FREQ=GnomAD:1,8.657e-06"
        },
        {
         "0": "NC_000001.11",
         "1": "10425",
         "2": "rs1456136931",
         "3": "T",
         "4": "A,C,G",
         "5": ".",
         "6": ".",
         "7": "RS=1456136931;dbSNPBuildID=151;SSR=0;PSEUDOGENEINFO=DDX11L1:100287102;VC=SNV;R5;GNO;FREQ=GnomAD:0.9999,.,7.506e-05,.|KOREAN:0.9983,.,.,0.001711|dbGaP_PopFreq:1,0,0,."
        },
        {
         "0": "NC_000001.11",
         "1": "10425",
         "2": "rs1639558446",
         "3": "T",
         "4": "TTA",
         "5": ".",
         "6": ".",
         "7": "RS=1639558446;SSR=0;PSEUDOGENEINFO=DDX11L1:100287102;VC=INS;R5;GNO;FREQ=dbGaP_PopFreq:1,0"
        },
        {
         "0": "NC_000001.11",
         "1": "10425",
         "2": "rs1639558513",
         "3": "TA",
         "4": "T,TAA",
         "5": ".",
         "6": ".",
         "7": "RS=1639558513;dbSNPBuildID=155;SSR=0;PSEUDOGENEINFO=DDX11L1:100287102;VC=INDEL;R5;GNO;FREQ=TOMMO:0.9999,.,5.117e-05|dbGaP_PopFreq:1,0,."
        },
        {
         "0": "NC_000001.11",
         "1": "10425",
         "2": "rs1639558563",
         "3": "T",
         "4": "TAACCCC",
         "5": ".",
         "6": ".",
         "7": "RS=1639558563;dbSNPBuildID=155;SSR=0;PSEUDOGENEINFO=DDX11L1:100287102;VC=INDEL;R5;GNO;FREQ=GnomAD:1,1.251e-05"
        },
        {
         "0": "NC_000001.11",
         "1": "10425",
         "2": "rs1639558588",
         "3": "TAACCC",
         "4": "T",
         "5": ".",
         "6": ".",
         "7": "RS=1639558588;dbSNPBuildID=155;SSR=0;PSEUDOGENEINFO=DDX11L1:100287102;VC=DEL;R5;GNO;FREQ=GnomAD:1,1.251e-05|TOMMO:0.9999,5.117e-05"
        },
        {
         "0": "NC_000001.11",
         "1": "10426",
         "2": "rs1639558475",
         "3": "A",
         "4": "C,G,T",
         "5": ".",
         "6": ".",
         "7": "RS=1639558475;dbSNPBuildID=155;SSR=0;PSEUDOGENEINFO=DDX11L1:100287102;VC=SNV;R5;GNO;FREQ=GnomAD:1,.,2.07e-05,.|dbGaP_PopFreq:1,0,0,."
        },
        {
         "0": "NC_000001.11",
         "1": "10427",
         "2": "rs1557426870",
         "3": "ACC",
         "4": "A,AC,ACCC,ACCCCTAACCC",
         "5": ".",
         "6": ".",
         "7": "RS=1557426870;dbSNPBuildID=155;SSR=0;PSEUDOGENEINFO=DDX11L1:100287102;VC=INDEL;R5;GNO;FREQ=TOMMO:0.9997,.,.,0.0003033,.|dbGaP_PopFreq:1,.,.,0,."
        },
        {
         "0": "NC_000001.11",
         "1": "10427",
         "2": "rs1557426871",
         "3": "A",
         "4": "ACCCTAAC",
         "5": ".",
         "6": ".",
         "7": "RS=1557426871;dbSNPBuildID=155;SSR=0;PSEUDOGENEINFO=DDX11L1:100287102;VC=INDEL;R5;GNO;FREQ=GnomAD:1,2.438e-05"
        },
        {
         "0": "NC_000001.11",
         "1": "10427",
         "2": "rs1557426873",
         "3": "ACCCT",
         "4": "A",
         "5": ".",
         "6": ".",
         "7": "RS=1557426873;dbSNPBuildID=156;SSR=0;PSEUDOGENEINFO=DDX11L1:100287102;VC=DEL;R5;GNO;FREQ=dbGaP_PopFreq:1,0"
        },
        {
         "0": "NC_000001.11",
         "1": "10427",
         "2": "rs1557426874",
         "3": "ACCCTAACCCTAAC",
         "4": "A,ACCCTAACCCTAACCCCTAACCCTAAC",
         "5": ".",
         "6": ".",
         "7": "RS=1557426874;dbSNPBuildID=155;SSR=0;PSEUDOGENEINFO=DDX11L1:100287102;VC=INDEL;R5;GNO;FREQ=GnomAD:0.9998,0.0002438,.|TOMMO:0.9999,5.055e-05,."
        },
        {
         "0": "NC_000001.11",
         "1": "10427",
         "2": "rs1639558635",
         "3": "A",
         "4": "C,G",
         "5": ".",
         "6": ".",
         "7": "RS=1639558635;dbSNPBuildID=155;SSR=0;PSEUDOGENEINFO=DDX11L1:100287102;VC=SNV;R5;GNO;FREQ=GnomAD:1,.,0|TOMMO:0.9996,0.0004249,.|dbGaP_PopFreq:1,0,0"
        },
        {
         "0": "NC_000001.11",
         "1": "10428",
         "2": "rs988655463",
         "3": "C",
         "4": "A",
         "5": ".",
         "6": ".",
         "7": "RS=988655463;dbSNPBuildID=150;SSR=0;PSEUDOGENEINFO=DDX11L1:100287102;VC=SNV;R5;GNO;FREQ=GnomAD:1,3.089e-05|Siberian:0.5,0.5|TOMMO:0.9997,0.0002518"
        },
        {
         "0": "NC_000001.11",
         "1": "10428",
         "2": "rs1319638998",
         "3": "CCCTAA",
         "4": "C",
         "5": ".",
         "6": ".",
         "7": "RS=1319638998;dbSNPBuildID=151;SSR=0;PSEUDOGENEINFO=DDX11L1:100287102;VC=INDEL;R5;GNO;FREQ=GnomAD:0.9995,0.0005459|TOMMO:0.9994,0.0006043|dbGaP_PopFreq:1,0"
        },
        {
         "0": "NC_000001.11",
         "1": "10428",
         "2": "rs1639558860",
         "3": "CCCTAACCCTAACCCCTAA",
         "4": "C",
         "5": ".",
         "6": ".",
         "7": "RS=1639558860;dbSNPBuildID=155;SSR=0;PSEUDOGENEINFO=DDX11L1:100287102;VC=INDEL;R5;GNO;FREQ=GnomAD:1,1.03e-05"
        },
        {
         "0": "NC_000001.11",
         "1": "10429",
         "2": "rs914488949",
         "3": "C",
         "4": "A,G",
         "5": ".",
         "6": ".",
         "7": "RS=914488949;dbSNPBuildID=150;SSR=0;PSEUDOGENEINFO=DDX11L1:100287102;VC=SNV;R5;GNO;FREQ=GnomAD:1,.,4.507e-05|Siberian:0.5,.,0.5|TOMMO:0.9999,5.051e-05,.|dbGaP_PopFreq:1,.,0"
        },
        {
         "0": "NC_000001.11",
         "1": "10429",
         "2": "rs1639558902",
         "3": "CCTAA",
         "4": "C",
         "5": ".",
         "6": ".",
         "7": "RS=1639558902;dbSNPBuildID=155;SSR=0;PSEUDOGENEINFO=DDX11L1:100287102;VC=INDEL;R5;GNO;FREQ=GnomAD:1,9.012e-06"
        },
        {
         "0": "NC_000001.11",
         "1": "10430",
         "2": "rs1345279876",
         "3": "C",
         "4": "CT",
         "5": ".",
         "6": ".",
         "7": "RS=1345279876;dbSNPBuildID=151;SSR=0;PSEUDOGENEINFO=DDX11L1:100287102;VC=INDEL;R5;GNO;FREQ=GnomAD:0.9999,8.767e-05"
        },
        {
         "0": "NC_000001.11",
         "1": "10430",
         "2": "rs1639558883",
         "3": "C",
         "4": "G,T",
         "5": ".",
         "6": ".",
         "7": "RS=1639558883;dbSNPBuildID=155;SSR=0;PSEUDOGENEINFO=DDX11L1:100287102;VC=SNV;R5;GNO;FREQ=GnomAD:1,.,9.735e-06"
        },
        {
         "0": "NC_000001.11",
         "1": "10430",
         "2": "rs1639558957",
         "3": "CT",
         "4": "C",
         "5": ".",
         "6": ".",
         "7": "RS=1639558957;dbSNPBuildID=155;SSR=0;PSEUDOGENEINFO=DDX11L1:100287102;VC=DEL;R5;GNO;FREQ=GnomAD:1,9.735e-06|dbGaP_PopFreq:1,0"
        },
        {
         "0": "NC_000001.11",
         "1": "10430",
         "2": "rs2100300221",
         "3": "CTAACCCTAACCCCT",
         "4": "C",
         "5": ".",
         "6": ".",
         "7": "RS=2100300221;dbSNPBuildID=156;SSR=0;PSEUDOGENEINFO=DDX11L1:100287102;VC=DEL;R5;GNO;FREQ=TOMMO:0.9999,0.0001011"
        },
        {
         "0": "NC_000001.11",
         "1": "10431",
         "2": "rs1557426879",
         "3": "T",
         "4": "A,C,G",
         "5": ".",
         "6": ".",
         "7": "RS=1557426879;dbSNPBuildID=155;SSR=0;PSEUDOGENEINFO=DDX11L1:100287102;VC=SNV;R5;GNO;FREQ=TOMMO:0.9994,.,0.0005672,.|dbGaP_PopFreq:1,0,0,0"
        },
        {
         "0": "NC_000001.11",
         "1": "10431",
         "2": "rs1557426882",
         "3": "TAA",
         "4": "T",
         "5": ".",
         "6": ".",
         "7": "RS=1557426882;dbSNPBuildID=155;SSR=0;PSEUDOGENEINFO=DDX11L1:100287102;VC=DEL;R5;GNO;FREQ=GnomAD:1,1.786e-05"
        },
        {
         "0": "NC_000001.11",
         "1": "10431",
         "2": "rs1557426883",
         "3": "TAACCC",
         "4": "T",
         "5": ".",
         "6": ".",
         "7": "RS=1557426883;dbSNPBuildID=155;SSR=0;PSEUDOGENEINFO=DDX11L1:100287102;VC=DEL;R5;GNO;FREQ=GnomAD:1,1.787e-05|TOMMO:0.9998,0.0001547"
        },
        {
         "0": "NC_000001.11",
         "1": "10431",
         "2": "rs1639558988",
         "3": "T",
         "4": "TTAACCCCTA",
         "5": ".",
         "6": ".",
         "7": "RS=1639558988;SSR=0;PSEUDOGENEINFO=DDX11L1:100287102;VC=INS;R5;GNO;FREQ=dbGaP_PopFreq:1,0"
        },
        {
         "0": "NC_000001.11",
         "1": "10431",
         "2": "rs1639559033",
         "3": "TA",
         "4": "T,TAA",
         "5": ".",
         "6": ".",
         "7": "RS=1639559033;dbSNPBuildID=155;SSR=0;PSEUDOGENEINFO=DDX11L1:100287102;VC=INDEL;R5;GNO;FREQ=TOMMO:0.9998,.,0.0001547|dbGaP_PopFreq:1,.,0"
        },
        {
         "0": "NC_000001.11",
         "1": "10431",
         "2": "rs1639559103",
         "3": "TAACCCTA",
         "4": "T",
         "5": ".",
         "6": ".",
         "7": "RS=1639559103;dbSNPBuildID=155;SSR=0;PSEUDOGENEINFO=DDX11L1:100287102;VC=INDEL;R5;GNO;FREQ=GnomAD:1,1.787e-05"
        },
        {
         "0": "NC_000001.11",
         "1": "10431",
         "2": "rs1639559141",
         "3": "TAACCCTAACCCC",
         "4": "T",
         "5": ".",
         "6": ".",
         "7": "RS=1639559141;dbSNPBuildID=155;SSR=0;PSEUDOGENEINFO=DDX11L1:100287102;VC=DEL;R5;GNO;FREQ=GnomAD:1,1.787e-05"
        },
        {
         "0": "NC_000001.11",
         "1": "10432",
         "2": "rs1435289278",
         "3": "A",
         "4": "C,G,T",
         "5": ".",
         "6": ".",
         "7": "RS=1435289278;dbSNPBuildID=151;SSR=0;PSEUDOGENEINFO=DDX11L1:100287102;VC=SNV;R5;GNO;FREQ=dbGaP_PopFreq:1,0,0,."
        },
        {
         "0": "NC_000001.11",
         "1": "10432",
         "2": "rs1639559203",
         "3": "AACCCT",
         "4": "A",
         "5": ".",
         "6": ".",
         "7": "RS=1639559203;SSR=0;PSEUDOGENEINFO=DDX11L1:100287102;VC=INDEL;R5;GNO;FREQ=dbGaP_PopFreq:1,0"
        },
        {
         "0": "NC_000001.11",
         "1": "10432",
         "2": "rs1639559225",
         "3": "AACCCTAAC",
         "4": "A",
         "5": ".",
         "6": ".",
         "7": "RS=1639559225;dbSNPBuildID=155;SSR=0;PSEUDOGENEINFO=DDX11L1:100287102;VC=DEL;R5;GNO;FREQ=GnomAD:1,4.01e-05"
        },
        {
         "0": "NC_000001.11",
         "1": "10433",
         "2": "rs56289060",
         "3": "A",
         "4": "AC,ACC,ACCCCTAAC",
         "5": ".",
         "6": ".",
         "7": "RS=56289060;dbSNPBuildID=129;SSR=0;PSEUDOGENEINFO=DDX11L1:100287102;VC=INDEL;R5;GNO;FREQ=GnomAD:0.9997,0.000294,.,.|TOMMO:0.9998,0.0002073,.,.|dbGaP_PopFreq:1,0,0,."
        },
        {
         "0": "NC_000001.11",
         "1": "10433",
         "2": "rs1557426884",
         "3": "A",
         "4": "C,G,T",
         "5": ".",
         "6": ".",
         "7": "RS=1557426884;dbSNPBuildID=154;SSR=0;PSEUDOGENEINFO=DDX11L1:100287102;VC=SNV;R5;GNO;FREQ=KOREAN:0.999,0.001027,.,.|dbGaP_PopFreq:1,0,0,."
        },
        {
         "0": "NC_000001.11",
         "1": "10433",
         "2": "rs1557426886",
         "3": "A",
         "4": "ACCCTTAAC,ACCCTTAACCCCTAAC",
         "5": ".",
         "6": ".",
         "7": "RS=1557426886;dbSNPBuildID=155;SSR=0;PSEUDOGENEINFO=DDX11L1:100287102;VC=INDEL;R5;GNO;FREQ=TOMMO:0.9994,.,0.00057|dbGaP_PopFreq:1,0,."
        },
        {
         "0": "NC_000001.11",
         "1": "10433",
         "2": "rs1557426888",
         "3": "ACCCTAAC",
         "4": "A",
         "5": ".",
         "6": ".",
         "7": "RS=1557426888;dbSNPBuildID=155;SSR=0;PSEUDOGENEINFO=DDX11L1:100287102;VC=INDEL;R5;GNO;FREQ=GnomAD:0.9996,0.0003919|TOMMO:0.9998,0.0001555|dbGaP_PopFreq:1,0"
        },
        {
         "0": "NC_000001.11",
         "1": "10433",
         "2": "rs1639559363",
         "3": "A",
         "4": "ACCCTAACCCTAACCCCTAACCCCAACCCTAACGCTAACCCTAAC,ACCCTAACCCTACCCTAACCCTAACCCTAACCCTAACCCCTAAC,ACCCTAACCCTTAACCCCTAAC",
         "5": ".",
         "6": ".",
         "7": "RS=1639559363;dbSNPBuildID=155;SSR=0;PSEUDOGENEINFO=DDX11L1:100287102;VC=INDEL;R5;GNO"
        },
        {
         "0": "NC_000001.11",
         "1": "10434",
         "2": "rs946716631",
         "3": "C",
         "4": "A,T",
         "5": ".",
         "6": ".",
         "7": "RS=946716631;dbSNPBuildID=150;SSR=0;PSEUDOGENEINFO=DDX11L1:100287102;VC=SNV;R5;GNO;FREQ=Siberian:0.5,0.5,."
        },
        {
         "0": "NC_000001.11",
         "1": "10434",
         "2": "rs1291494374",
         "3": "CCCTAACCCCTA",
         "4": "C",
         "5": ".",
         "6": ".",
         "7": "RS=1291494374;dbSNPBuildID=151;SSR=0;PSEUDOGENEINFO=DDX11L1:100287102;VC=DEL;R5;GNO;FREQ=GnomAD:1,1.48e-05"
        },
        {
         "0": "NC_000001.11",
         "1": "10434",
         "2": "rs1639559441",
         "3": "CCCTAA",
         "4": "C",
         "5": ".",
         "6": ".",
         "7": "RS=1639559441;dbSNPBuildID=155;SSR=0;PSEUDOGENEINFO=DDX11L1:100287102;VC=INDEL;R5;GNO;FREQ=TOMMO:0.9999,5.11e-05"
        },
        {
         "0": "NC_000001.11",
         "1": "10434",
         "2": "rs1639559482",
         "3": "CCCTAACCCCTAA",
         "4": "C",
         "5": ".",
         "6": ".",
         "7": "RS=1639559482;SSR=0;PSEUDOGENEINFO=DDX11L1:100287102;VC=INDEL;R5;GNO;FREQ=dbGaP_PopFreq:1,0"
        },
        {
         "0": "NC_000001.11",
         "1": "10435",
         "2": "rs1639559421",
         "3": "C",
         "4": "G",
         "5": ".",
         "6": ".",
         "7": "RS=1639559421;dbSNPBuildID=155;SSR=0;PSEUDOGENEINFO=DDX11L1:100287102;VC=SNV;R5;GNO;FREQ=GnomAD:1,8.392e-06|TOMMO:0.9998,0.0001527"
        },
        {
         "0": "NC_000001.11",
         "1": "10435",
         "2": "rs2100300288",
         "3": "CCT",
         "4": "C",
         "5": ".",
         "6": ".",
         "7": "RS=2100300288;dbSNPBuildID=156;SSR=0;PSEUDOGENEINFO=DDX11L1:100287102;VC=DEL;R5;GNO;FREQ=TOMMO:0.9999,5.09e-05"
        },
        {
         "0": "NC_000001.11",
         "1": "10436",
         "2": "rs1570392279",
         "3": "C",
         "4": "CT",
         "5": ".",
         "6": ".",
         "7": "RS=1570392279;dbSNPBuildID=154;SSR=0;PSEUDOGENEINFO=DDX11L1:100287102;VC=INDEL;R5;GNO;FREQ=GnomAD:0.9999,8.646e-05|Korea1K:0.9984,0.001645|TOMMO:0.9996,0.000407|dbGaP_PopFreq:1,0"
        },
        {
         "0": "NC_000001.11",
         "1": "10436",
         "2": "rs1639559498",
         "3": "C",
         "4": "G,T",
         "5": ".",
         "6": ".",
         "7": "RS=1639559498;dbSNPBuildID=155;SSR=0;PSEUDOGENEINFO=DDX11L1:100287102;VC=SNV;R5;GNO;FREQ=TOMMO:0.9997,.,0.0002544|dbGaP_PopFreq:1,.,0"
        },
        {
         "0": "NC_000001.11",
         "1": "10436",
         "2": "rs1639559578",
         "3": "CT",
         "4": "C",
         "5": ".",
         "6": ".",
         "7": "RS=1639559578;dbSNPBuildID=155;SSR=0;PSEUDOGENEINFO=DDX11L1:100287102;VC=DEL;R5;GNO;FREQ=GnomAD:1,1.729e-05|TOMMO:0.9999,0.0001018"
        },
        {
         "0": "NC_000001.11",
         "1": "10436",
         "2": "rs1639559599",
         "3": "CTA",
         "4": "C",
         "5": ".",
         "6": ".",
         "7": "RS=1639559599;SSR=0;PSEUDOGENEINFO=DDX11L1:100287102;VC=DEL;R5;GNO;FREQ=dbGaP_PopFreq:1,0"
        },
        {
         "0": "NC_000001.11",
         "1": "10437",
         "2": "rs1044101731",
         "3": "T",
         "4": "C,G",
         "5": ".",
         "6": ".",
         "7": "RS=1044101731;dbSNPBuildID=150;SSR=0;PSEUDOGENEINFO=DDX11L1:100287102;VC=SNV;R5;GNO;FREQ=KOREAN:0.9331,0.06416,0.00273|Siberian:0.5,0.5,.|TOMMO:0.9992,0.0007916,.|dbGaP_PopFreq:1,0,0"
        },
        {
         "0": "NC_000001.11",
         "1": "10437",
         "2": "rs1557426890",
         "3": "TA",
         "4": "T,TAA",
         "5": ".",
         "6": ".",
         "7": "RS=1557426890;dbSNPBuildID=155;SSR=0;PSEUDOGENEINFO=DDX11L1:100287102;VC=INDEL;R5;GNO;FREQ=GnomAD:0.9997,0.0002507,.|TOMMO:0.9997,0.0002639,.|dbGaP_PopFreq:1,.,0"
        },
        {
         "0": "NC_000001.11",
         "1": "10437",
         "2": "rs1639559674",
         "3": "TAACCC",
         "4": "T",
         "5": ".",
         "6": ".",
         "7": "RS=1639559674;dbSNPBuildID=155;SSR=0;PSEUDOGENEINFO=DDX11L1:100287102;VC=DEL;R5;GNO;FREQ=GnomAD:1,3.58e-05|TOMMO:0.9998,0.0002111"
        },
        {
         "0": "NC_000001.11",
         "1": "10437",
         "2": "rs1639559699",
         "3": "TAACCCC",
         "4": "T",
         "5": ".",
         "6": ".",
         "7": "RS=1639559699;dbSNPBuildID=155;SSR=0;PSEUDOGENEINFO=DDX11L1:100287102;VC=DEL;R5;GNO;FREQ=GnomAD:0.9998,0.0001612|TOMMO:0.9996,0.0003694"
        },
        {
         "0": "NC_000001.11",
         "1": "10438",
         "2": "rs1570392284",
         "3": "A",
         "4": "C,G,T",
         "5": ".",
         "6": ".",
         "7": "RS=1570392284;dbSNPBuildID=154;SSR=0;PSEUDOGENEINFO=DDX11L1:100287102;VC=SNV;R5;GNO;FREQ=KOREAN:0.9481,.,.,0.05188|dbGaP_PopFreq:1,0,0,0;COMMON"
        },
        {
         "0": "NC_000001.11",
         "1": "10438",
         "2": "rs1639559745",
         "3": "AAC",
         "4": "A",
         "5": ".",
         "6": ".",
         "7": "RS=1639559745;dbSNPBuildID=155;SSR=0;PSEUDOGENEINFO=DDX11L1:100287102;VC=DEL;R5;GNO;FREQ=GnomAD:0.9998,0.0001645|TOMMO:0.9998,0.0001601|dbGaP_PopFreq:1,0"
        },
        {
         "0": "NC_000001.11",
         "1": "10438",
         "2": "rs2100300315",
         "3": "AACCCCT",
         "4": "A",
         "5": ".",
         "6": ".",
         "7": "RS=2100300315;dbSNPBuildID=156;SSR=0;PSEUDOGENEINFO=DDX11L1:100287102;VC=INDEL;R5;GNO;FREQ=TOMMO:0.9999,0.0001067"
        },
        {
         "0": "NC_000001.11",
         "1": "10438",
         "2": "rs2100300317",
         "3": "A",
         "4": "AACCCCTAACCCTAACCCTAACCCTAACCCTAACCCTAACCCTC",
         "5": ".",
         "6": ".",
         "7": "RS=2100300317;dbSNPBuildID=156;SSR=0;PSEUDOGENEINFO=DDX11L1:100287102;VC=INDEL;R5;GNO;FREQ=TOMMO:0.9999,5.335e-05"
        },
        {
         "0": "NC_000001.11",
         "1": "10439",
         "2": "rs112766696",
         "3": "ACC",
         "4": "A,AC,ACCC",
         "5": ".",
         "6": ".",
         "7": "RS=112766696;dbSNPBuildID=132;SSR=0;PSEUDOGENEINFO=DDX11L1:100287102;VC=INDEL;R5;GNO;FREQ=NorthernSweden:0.9627,.,0.03729,.|TOMMO:0.9478,.,0.05221,.|dbGaP_PopFreq:1,0,0,0;COMMON"
        },
        {
         "0": "NC_000001.11",
         "1": "10439",
         "2": "rs1639559726",
         "3": "A",
         "4": "C",
         "5": ".",
         "6": ".",
         "7": "RS=1639559726;SSR=0;PSEUDOGENEINFO=DDX11L1:100287102;VC=SNV;R5;GNO;FREQ=dbGaP_PopFreq:1,0"
        },
        {
         "0": "NC_000001.11",
         "1": "10439",
         "2": "rs1639559843",
         "3": "ACCCCT",
         "4": "A",
         "5": ".",
         "6": ".",
         "7": "RS=1639559843;dbSNPBuildID=155;SSR=0;PSEUDOGENEINFO=DDX11L1:100287102;VC=DEL;R5;GNO;FREQ=GnomAD:0.9998,0.0001595|TOMMO:0.9998,0.0001695"
        },
        {
         "0": "NC_000001.11",
         "1": "10440",
         "2": "rs112155239",
         "3": "C",
         "4": "A,G,T",
         "5": ".",
         "6": ".",
         "7": "RS=112155239;dbSNPBuildID=132;SSR=0;PSEUDOGENEINFO=DDX11L1:100287102;VC=SNV;R5;GNO;FREQ=Siberian:0.5,0.5,.,.|TOMMO:0.9975,0.002457,.,.|dbGaP_PopFreq:1,0,0,0"
        },
        {
         "0": "NC_000001.11",
         "1": "10440",
         "2": "rs1239913884",
         "3": "CCCCTAACCCTAA",
         "4": "C,CCCCTAA,CCCCTAACCCTAACCCTAA,CCCCTAACCCTAACCCTAACCCTAA,CCCCTAACCCTAACCCTAACCCTAACCCTAACCCTAACCCTAA,CCCCTAACCCTAACCCTAACCCTAACCCTAACCCTAACCCTAACCCTAA",
         "5": ".",
         "6": ".",
         "7": "RS=1239913884;dbSNPBuildID=155;SSR=0;PSEUDOGENEINFO=DDX11L1:100287102;VC=INDEL;R5;GNO;FREQ=TOMMO:0.9993,.,.,0.0006539,.,.,.|dbGaP_PopFreq:0.9999,0,8.469e-05,.,.,.,."
        },
        {
         "0": "NC_000001.11",
         "1": "10440",
         "2": "rs1639559874",
         "3": "C",
         "4": "CA,CAA",
         "5": ".",
         "6": ".",
         "7": "RS=1639559874;SSR=0;PSEUDOGENEINFO=DDX11L1:100287102;VC=INS;R5;GNO;FREQ=dbGaP_PopFreq:1,0,0"
        },
        {
         "0": "NC_000001.11",
         "1": "10440",
         "2": "rs1639559918",
         "3": "C",
         "4": "CCCAA,CCCAACCCTAA,CCCTAA,CCCTAACCCAA,CCCTAACCCAACCCTAA,CCCTAACCCCAACCCCAACCCCAACCCCAA,CCCTAACCCTAA,CCCTAACCCTAACCCTAACCCTAACCCTAACCCTAACCCTAA,CCCTAACCCTAACCCTAACCCTTAACCCTTAACCCTAACCCTAACCCTAACCCTAA,CCCTA,CCCTCA,CCCTTAA",
         "5": ".",
         "6": ".",
         "7": "RS=1639559918;dbSNPBuildID=155;SSR=0;PSEUDOGENEINFO=DDX11L1:100287102;VC=INDEL;R5;GNO;FREQ=TOMMO:0.9999,.,.,.,.,.,.,.,6.539e-05,.,.,.,.|dbGaP_PopFreq:1,0,.,.,0,.,.,.,.,.,.,0,."
        },
        {
         "0": "NC_000001.11",
         "1": "10440",
         "2": "rs1639560006",
         "3": "C",
         "4": "CCCCAA,CCCCAACCCCAA,CCCCCAACCCCAACCCTCACCCTCACCCTCACCCTCA",
         "5": ".",
         "6": ".",
         "7": "RS=1639560006;dbSNPBuildID=155;SSR=0;PSEUDOGENEINFO=DDX11L1:100287102;VC=INDEL;R5;GNO"
        },
        {
         "0": "NC_000001.11",
         "1": "10440",
         "2": "rs1639560032",
         "3": "CCCCT",
         "4": "C",
         "5": ".",
         "6": ".",
         "7": "RS=1639560032;dbSNPBuildID=155;SSR=0;PSEUDOGENEINFO=DDX11L1:100287102;VC=DEL;R5;GNO;FREQ=GnomAD:0.999,0.001001|TOMMO:0.9995,0.0004577"
        },
        {
         "0": "NC_000001.11",
         "1": "10440",
         "2": "rs1639560056",
         "3": "CCCCTA",
         "4": "C",
         "5": ".",
         "6": ".",
         "7": "RS=1639560056;dbSNPBuildID=155;SSR=0;PSEUDOGENEINFO=DDX11L1:100287102;VC=DEL;R5;GNO;FREQ=GnomAD:0.9996,0.0003998"
        },
        {
         "0": "NC_000001.11",
         "1": "10440",
         "2": "rs1639560081",
         "3": "C",
         "4": "CCCCTAACCCCTAACCCCTAACCCTAA",
         "5": ".",
         "6": ".",
         "7": "RS=1639560081;dbSNPBuildID=155;SSR=0;PSEUDOGENEINFO=DDX11L1:100287102;VC=INDEL;R5;GNO;FREQ=GnomAD:0.9998,0.0001994"
        },
        {
         "0": "NC_000001.11",
         "1": "10441",
         "2": "rs1639559897",
         "3": "C",
         "4": "A,G",
         "5": ".",
         "6": ".",
         "7": "RS=1639559897;dbSNPBuildID=155;SSR=0;PSEUDOGENEINFO=DDX11L1:100287102;VC=SNV;R5;GNO;FREQ=TOMMO:0.9999,0.0001273,."
        },
        {
         "0": "NC_000001.11",
         "1": "10441",
         "2": "rs1639560175",
         "3": "CCCTA",
         "4": "C",
         "5": ".",
         "6": ".",
         "7": "RS=1639560175;dbSNPBuildID=155;SSR=0;PSEUDOGENEINFO=DDX11L1:100287102;VC=DEL;R5;GNO;FREQ=GnomAD:0.9998,0.0002283|TOMMO:0.9996,0.0003818"
        },
        {
         "0": "NC_000001.11",
         "1": "10441",
         "2": "rs1639560196",
         "3": "CCCTAA",
         "4": "C",
         "5": ".",
         "6": ".",
         "7": "RS=1639560196;dbSNPBuildID=155;SSR=0;PSEUDOGENEINFO=DDX11L1:100287102;VC=INDEL;R5;GNO;FREQ=GnomAD:0.9998,0.0002284"
        },
        {
         "0": "NC_000001.11",
         "1": "10441",
         "2": "rs2100300361",
         "3": "C",
         "4": "CCTAA,CCTTAA",
         "5": ".",
         "6": ".",
         "7": "RS=2100300361;dbSNPBuildID=156;SSR=0;PSEUDOGENEINFO=DDX11L1:100287102;VC=INDEL;R5;GNO"
        },
        {
         "0": "NC_000001.11",
         "1": "10441",
         "2": "rs2100300367",
         "3": "CCCT",
         "4": "C",
         "5": ".",
         "6": ".",
         "7": "RS=2100300367;dbSNPBuildID=156;SSR=0;PSEUDOGENEINFO=DDX11L1:100287102;VC=DEL;R5;GNO;FREQ=TOMMO:0.9999,0.0001273"
        },
        {
         "0": "NC_000001.11",
         "1": "10442",
         "2": "rs1639560146",
         "3": "C",
         "4": "A,G,T",
         "5": ".",
         "6": ".",
         "7": "RS=1639560146;dbSNPBuildID=155;SSR=0;PSEUDOGENEINFO=DDX11L1:100287102;VC=SNV;R5;GNO;FREQ=dbGaP_PopFreq:1,.,0,."
        },
        {
         "0": "NC_000001.11",
         "1": "10442",
         "2": "rs1639560215",
         "3": "C",
         "4": "CT,CTAA,CTAGGT",
         "5": ".",
         "6": ".",
         "7": "RS=1639560215;dbSNPBuildID=155;SSR=0;PSEUDOGENEINFO=DDX11L1:100287102;VC=INS;R5;GNO;FREQ=TOMMO:0.9999,.,6.425e-05,.|dbGaP_PopFreq:1,0,.,0"
        },
        {
         "0": "NC_000001.11",
         "1": "10442",
         "2": "rs1639560289",
         "3": "CCT",
         "4": "C",
         "5": ".",
         "6": ".",
         "7": "RS=1639560289;dbSNPBuildID=155;SSR=0;PSEUDOGENEINFO=DDX11L1:100287102;VC=DEL;R5;GNO;FREQ=GnomAD:0.9994,0.0005602|TOMMO:0.9997,0.0003143|dbGaP_PopFreq:1,0"
        },
        {
         "0": "NC_000001.11",
         "1": "10443",
         "2": "rs938067034",
         "3": "C",
         "4": "A,G,T",
         "5": ".",
         "6": ".",
         "7": "RS=938067034;dbSNPBuildID=150;SSR=0;PSEUDOGENEINFO=DDX11L1:100287102;VC=SNV;R5;GNO;FREQ=KOREAN:0.8255,.,.,0.1745|SGDP_PRJ:0.5,.,.,0.5|Siberian:0.5,.,.,0.5|TOMMO:0.9941,.,.,0.00592|dbGaP_PopFreq:1,0,0,0;COMMON"
        },
        {
         "0": "NC_000001.11",
         "1": "10443",
         "2": "rs1639560376",
         "3": "CT",
         "4": "C",
         "5": ".",
         "6": ".",
         "7": "RS=1639560376;dbSNPBuildID=155;SSR=0;PSEUDOGENEINFO=DDX11L1:100287102;VC=DEL;R5;GNO;FREQ=GnomAD:0.9952,0.004826|TOMMO:0.999,0.001008|dbGaP_PopFreq:1,0"
        },
        {
         "0": "NC_000001.11",
         "1": "10444",
         "2": "rs1570392300",
         "3": "T",
         "4": "A,C,G",
         "5": ".",
         "6": ".",
         "7": "RS=1570392300;dbSNPBuildID=154;SSR=0;PSEUDOGENEINFO=DDX11L1:100287102;VC=SNV;R5;GNO;FREQ=KOREAN:0.9928,0.007187,.,.|dbGaP_PopFreq:1,0,0,0"
        },
        {
         "0": "NC_000001.11",
         "1": "10444",
         "2": "rs1639560450",
         "3": "TA",
         "4": "T,TAA",
         "5": ".",
         "6": ".",
         "7": "RS=1639560450;dbSNPBuildID=155;SSR=0;PSEUDOGENEINFO=DDX11L1:100287102;VC=INDEL;R5;GNO;FREQ=dbGaP_PopFreq:1,0,0"
        },
        {
         "0": "NC_000001.11",
         "1": "10444",
         "2": "rs1639560493",
         "3": "TAACCC",
         "4": "T",
         "5": ".",
         "6": ".",
         "7": "RS=1639560493;dbSNPBuildID=155;SSR=0;PSEUDOGENEINFO=DDX11L1:100287102;VC=DEL;R5;GNO;FREQ=GnomAD:0.9999,6.74e-05"
        },
        {
         "0": "NC_000001.11",
         "1": "10445",
         "2": "rs1639560406",
         "3": "A",
         "4": "C,G,T",
         "5": ".",
         "6": ".",
         "7": "RS=1639560406;dbSNPBuildID=155;SSR=0;PSEUDOGENEINFO=DDX11L1:100287102;VC=SNV;R5;GNO;FREQ=dbGaP_PopFreq:1,0,0,0"
        },
        {
         "0": "NC_000001.11",
         "1": "10445",
         "2": "rs1639560563",
         "3": "AACCCT",
         "4": "A",
         "5": ".",
         "6": ".",
         "7": "RS=1639560563;dbSNPBuildID=155;SSR=0;PSEUDOGENEINFO=DDX11L1:100287102;VC=INDEL;R5;GNO;FREQ=GnomAD:0.9999,8.854e-05|TOMMO:0.9999,0.0001241"
        },
        {
         "0": "NC_000001.11",
         "1": "10445",
         "2": "rs1639560586",
         "3": "AACCCTAACCCTAACCCTAACCCTCGCGGT",
         "4": "A",
         "5": ".",
         "6": ".",
         "7": "RS=1639560586;dbSNPBuildID=155;SSR=0;PSEUDOGENEINFO=DDX11L1:100287102;VC=INDEL;R5;GNO;FREQ=GnomAD:1,2.212e-05"
        },
        {
         "0": "NC_000001.11",
         "1": "10446",
         "2": "rs1570392308",
         "3": "A",
         "4": "C,G",
         "5": ".",
         "6": ".",
         "7": "RS=1570392308;dbSNPBuildID=154;SSR=0;PSEUDOGENEINFO=DDX11L1:100287102;VC=SNV;R5;GNO;FREQ=KOREAN:0.9925,0.007529,.|TOMMO:0.9996,0.0004487,.|dbGaP_PopFreq:1,0,0"
        },
        {
         "0": "NC_000001.11",
         "1": "10446",
         "2": "rs1639560636",
         "3": "AC",
         "4": "A,ACC,ACCCCTAACC",
         "5": ".",
         "6": ".",
         "7": "RS=1639560636;dbSNPBuildID=155;SSR=0;PSEUDOGENEINFO=DDX11L1:100287102;VC=INDEL;R5;GNO;FREQ=TOMMO:0.9996,.,0.0003846,.|dbGaP_PopFreq:0.9999,.,8.43e-05,."
        },
        {
         "0": "NC_000001.11",
         "1": "10446",
         "2": "rs1639560665",
         "3": "A",
         "4": "ACCCTAACCCTAACCCTAACCCTAACCCTAAC",
         "5": ".",
         "6": ".",
         "7": "RS=1639560665;dbSNPBuildID=155;SSR=0;PSEUDOGENEINFO=DDX11L1:100287102;VC=INDEL;R5;GNO;FREQ=GnomAD:1,2.87e-05"
        },
        {
         "0": "NC_000001.11",
         "1": "10447",
         "2": "rs1223940370",
         "3": "CCCTAA",
         "4": "C",
         "5": ".",
         "6": ".",
         "7": "RS=1223940370;dbSNPBuildID=151;SSR=0;PSEUDOGENEINFO=DDX11L1:100287102;VC=INDEL;R5;GNO;FREQ=GnomAD:0.9984,0.001551|Korea1K:0.9978,0.002196|TOMMO:0.9992,0.0007904|dbGaP_PopFreq:1,0"
        },
        {
         "0": "NC_000001.11",
         "1": "10447",
         "2": "rs1639560605",
         "3": "C",
         "4": "A,G,T",
         "5": ".",
         "6": ".",
         "7": "RS=1639560605;dbSNPBuildID=155;SSR=0;PSEUDOGENEINFO=DDX11L1:100287102;VC=SNV;R5;GNO;FREQ=TOMMO:0.9998,0.0002432,.,.|dbGaP_PopFreq:1,0,0,."
        },
        {
         "0": "NC_000001.11",
         "1": "10448",
         "2": "rs1639560690",
         "3": "C",
         "4": "A,G,T",
         "5": ".",
         "6": ".",
         "7": "RS=1639560690;dbSNPBuildID=155;SSR=0;PSEUDOGENEINFO=DDX11L1:100287102;VC=SNV;R5;GNO;FREQ=dbGaP_PopFreq:1,0,0,0"
        },
        {
         "0": "NC_000001.11",
         "1": "10448",
         "2": "rs1639560761",
         "3": "C",
         "4": "CCCAACCCCAACCCCAACGCTAACG",
         "5": ".",
         "6": ".",
         "7": "RS=1639560761;dbSNPBuildID=155;SSR=0;PSEUDOGENEINFO=DDX11L1:100287102;VC=INDEL;R5;GNO;FREQ=GnomAD:1,4.723e-05"
        },
        {
         "0": "NC_000001.11",
         "1": "10449",
         "2": "rs1287513526",
         "3": "C",
         "4": "CT",
         "5": ".",
         "6": ".",
         "7": "RS=1287513526;dbSNPBuildID=151;SSR=0;PSEUDOGENEINFO=DDX11L1:100287102;VC=INDEL;R5;GNO;FREQ=GnomAD:0.9999,9.565e-05|TOMMO:0.9996,0.0003615|dbGaP_PopFreq:1,0"
        },
        {
         "0": "NC_000001.11",
         "1": "10449",
         "2": "rs1639560742",
         "3": "C",
         "4": "G,T",
         "5": ".",
         "6": ".",
         "7": "RS=1639560742;dbSNPBuildID=155;SSR=0;PSEUDOGENEINFO=DDX11L1:100287102;VC=SNV;R5;GNO;FREQ=TOMMO:0.9997,.,0.0003012|dbGaP_PopFreq:1,.,0"
        },
        {
         "0": "NC_000001.11",
         "1": "10449",
         "2": "rs1639560781",
         "3": "C",
         "4": "CG",
         "5": ".",
         "6": ".",
         "7": "RS=1639560781;SSR=0;PSEUDOGENEINFO=DDX11L1:100287102;VC=INS;R5;GNO;FREQ=dbGaP_PopFreq:1,0"
        },
        {
         "0": "NC_000001.11",
         "1": "10449",
         "2": "rs2100300424",
         "3": "CT",
         "4": "C",
         "5": ".",
         "6": ".",
         "7": "RS=2100300424;dbSNPBuildID=156;SSR=0;PSEUDOGENEINFO=DDX11L1:100287102;VC=DEL;R5;GNO;FREQ=TOMMO:0.9999,6.025e-05"
        },
        {
         "0": "NC_000001.11",
         "1": "10450",
         "2": "rs1348884716",
         "3": "T",
         "4": "A,C,G",
         "5": ".",
         "6": ".",
         "7": "RS=1348884716;dbSNPBuildID=154;SSR=0;PSEUDOGENEINFO=DDX11L1:100287102;VC=SNV;R5;GNO;FREQ=KOREAN:0.9733,.,0.013,0.01369|Korea1K:0.9985,.,0.001475,.|dbGaP_PopFreq:1,0,0,0"
        },
        {
         "0": "NC_000001.11",
         "1": "10450",
         "2": "rs1639560887",
         "3": "TA",
         "4": "T,TAA",
         "5": ".",
         "6": ".",
         "7": "RS=1639560887;dbSNPBuildID=155;SSR=0;PSEUDOGENEINFO=DDX11L1:100287102;VC=INDEL;R5;GNO;FREQ=dbGaP_PopFreq:1,0,0"
        },
        {
         "0": "NC_000001.11",
         "1": "10450",
         "2": "rs1639560919",
         "3": "TAACCC",
         "4": "T",
         "5": ".",
         "6": ".",
         "7": "RS=1639560919;dbSNPBuildID=155;SSR=0;PSEUDOGENEINFO=DDX11L1:100287102;VC=DEL;R5;GNO;FREQ=GnomAD:0.9998,0.0002134|TOMMO:0.9997,0.0003076"
        },
        {
         "0": "NC_000001.11",
         "1": "10451",
         "2": "rs1326942851",
         "3": "A",
         "4": "C,G,T",
         "5": ".",
         "6": ".",
         "7": "RS=1326942851;dbSNPBuildID=151;SSR=0;PSEUDOGENEINFO=DDX11L1:100287102;VC=SNV;R5;GNO;FREQ=TOMMO:0.9996,.,.,0.0004483|dbGaP_PopFreq:1,0,0,0"
        },
        {
         "0": "NC_000001.11",
         "1": "10451",
         "2": "rs1639560963",
         "3": "AACCCT",
         "4": "A",
         "5": ".",
         "6": ".",
         "7": "RS=1639560963;dbSNPBuildID=155;SSR=0;PSEUDOGENEINFO=DDX11L1:100287102;VC=INDEL;R5;GNO;FREQ=GnomAD:1,4.154e-05|TOMMO:0.9999,0.0001199"
        },
        {
         "0": "NC_000001.11",
         "1": "10452",
         "2": "rs1230155846",
         "3": "A",
         "4": "C,G,T",
         "5": ".",
         "6": ".",
         "7": "RS=1230155846;dbSNPBuildID=151;SSR=0;PSEUDOGENEINFO=DDX11L1:100287102;VC=SNV;R5;GNO;FREQ=KOREAN:0.9914,0.008556,.,.|TOMMO:0.9998,.,0.000192,.|dbGaP_PopFreq:1,0,0,."
        },
        {
         "0": "NC_000001.11",
         "1": "10452",
         "2": "rs1264152563",
         "3": "A",
         "4": "AC",
         "5": ".",
         "6": ".",
         "7": "RS=1264152563;SSR=0;PSEUDOGENEINFO=DDX11L1:100287102;VC=INDEL;R5;GNO;FREQ=dbGaP_PopFreq:1,0"
        },
        {
         "0": "NC_000001.11",
         "1": "10452",
         "2": "rs1639560989",
         "3": "A",
         "4": "AAC,AG",
         "5": ".",
         "6": ".",
         "7": "RS=1639560989;dbSNPBuildID=155;SSR=0;PSEUDOGENEINFO=DDX11L1:100287102;VC=INS;R5;GNO;FREQ=GnomAD:1,1.782e-05,.|TOMMO:0.9999,.,5.944e-05"
        },
        {
         "0": "NC_000001.11",
         "1": "10452",
         "2": "rs1639561059",
         "3": "A",
         "4": "ACCCTAACCCTAACCCTAACCCTAAC",
         "5": ".",
         "6": ".",
         "7": "RS=1639561059;dbSNPBuildID=155;SSR=0;PSEUDOGENEINFO=DDX11L1:100287102;VC=INDEL;R5;GNO;FREQ=TOMMO:0.9998,0.000192"
        },
        {
         "0": "NC_000001.11",
         "1": "10453",
         "2": "rs1286363400",
         "3": "CCCTAACCCTAACCCTCGCGGTACCCTCAG",
         "4": "C",
         "5": ".",
         "6": ".",
         "7": "RS=1286363400;dbSNPBuildID=151;SSR=0;PSEUDOGENEINFO=DDX11L1:100287102;VC=INDEL;R5"
        },
        {
         "0": "NC_000001.11",
         "1": "10453",
         "2": "rs1570392319",
         "3": "C",
         "4": "A,G,T",
         "5": ".",
         "6": ".",
         "7": "RS=1570392319;dbSNPBuildID=154;SSR=0;PSEUDOGENEINFO=DDX11L1:100287102;VC=SNV;R5;GNO;FREQ=KOREAN:0.9986,0.001369,.,.|Korea1K:0.9985,0.001479,.,.|TOMMO:0.9996,0.0003529,.,.|dbGaP_PopFreq:1,0,0,."
        },
        {
         "0": "NC_000001.11",
         "1": "10453",
         "2": "rs1639561093",
         "3": "CCCTAA",
         "4": "C",
         "5": ".",
         "6": ".",
         "7": "RS=1639561093;dbSNPBuildID=155;SSR=0;PSEUDOGENEINFO=DDX11L1:100287102;VC=INDEL;R5;GNO;FREQ=GnomAD:0.9999,8.086e-05|TOMMO:0.9997,0.0002941|dbGaP_PopFreq:1,0"
        },
        {
         "0": "NC_000001.11",
         "1": "10454",
         "2": "rs1463012642",
         "3": "C",
         "4": "G,T",
         "5": ".",
         "6": ".",
         "7": "RS=1463012642;dbSNPBuildID=155;SSR=0;PSEUDOGENEINFO=DDX11L1:100287102;VC=SNV;R5;GNO;FREQ=GnomAD:1,2.293e-05,.|TOMMO:0.9999,0.0001167,.|dbGaP_PopFreq:0.9998,.,0.0001686"
        },
        {
         "0": "NC_000001.11",
         "1": "10454",
         "2": "rs1557426900",
         "3": "C",
         "4": "CCTAACCCTAACCCTAACCCTAACCCTAACCCTAACT",
         "5": ".",
         "6": ".",
         "7": "RS=1557426900;dbSNPBuildID=155;SSR=0;PSEUDOGENEINFO=DDX11L1:100287102;VC=INDEL;R5;GNO;FREQ=GnomAD:1,1.146e-05"
        },
        {
         "0": "NC_000001.11",
         "1": "10455",
         "2": "rs1639561128",
         "3": "C",
         "4": "G,T",
         "5": ".",
         "6": ".",
         "7": "RS=1639561128;dbSNPBuildID=155;SSR=0;PSEUDOGENEINFO=DDX11L1:100287102;VC=SNV;R5;GNO;FREQ=dbGaP_PopFreq:1,0,."
        },
        {
         "0": "NC_000001.11",
         "1": "10455",
         "2": "rs1639561205",
         "3": "C",
         "4": "CT",
         "5": ".",
         "6": ".",
         "7": "RS=1639561205;dbSNPBuildID=155;SSR=0;PSEUDOGENEINFO=DDX11L1:100287102;VC=INDEL;R5;GNO;FREQ=GnomAD:1,2.429e-05|dbGaP_PopFreq:1,0"
        },
        {
         "0": "NC_000001.11",
         "1": "10455",
         "2": "rs2100300467",
         "3": "CT",
         "4": "C",
         "5": ".",
         "6": ".",
         "7": "RS=2100300467;dbSNPBuildID=156;SSR=0;PSEUDOGENEINFO=DDX11L1:100287102;VC=DEL;R5;GNO;FREQ=TOMMO:0.9999,5.816e-05"
        },
        {
         "0": "NC_000001.11",
         "1": "10456",
         "2": "rs1447714920",
         "3": "T",
         "4": "A,C,G",
         "5": ".",
         "6": ".",
         "7": "RS=1447714920;dbSNPBuildID=151;SSR=0;PSEUDOGENEINFO=DDX11L1:100287102;VC=SNV;R5;GNO;FREQ=KOREAN:0.9853,.,0.01473,.|Korea1K:0.9978,.,0.002232,.|TOMMO:0.9993,.,0.0007066,.|dbGaP_PopFreq:1,0,0,0"
        },
        {
         "0": "NC_000001.11",
         "1": "10456",
         "2": "rs1639561230",
         "3": "T",
         "4": "TTG,TTGACCCCGACCCCG,TTGACCCCGACCCCGACCCCG",
         "5": ".",
         "6": ".",
         "7": "RS=1639561230;dbSNPBuildID=155;SSR=0;PSEUDOGENEINFO=DDX11L1:100287102;VC=INS;R5;GNO"
        },
        {
         "0": "NC_000001.11",
         "1": "10456",
         "2": "rs1639561295",
         "3": "T",
         "4": "TA",
         "5": ".",
         "6": ".",
         "7": "RS=1639561295;dbSNPBuildID=156;SSR=0;PSEUDOGENEINFO=DDX11L1:100287102;VC=INDEL;R5;GNO;FREQ=TOMMO:0.9999,5.85e-05|dbGaP_PopFreq:1,0"
        },
        {
         "0": "NC_000001.11",
         "1": "10456",
         "2": "rs2100300477",
         "3": "TAACCC",
         "4": "T",
         "5": ".",
         "6": ".",
         "7": "RS=2100300477;dbSNPBuildID=156;SSR=0;PSEUDOGENEINFO=DDX11L1:100287102;VC=DEL;R5;GNO;FREQ=TOMMO:0.9999,5.85e-05"
        },
        {
         "0": "NC_000001.11",
         "1": "10457",
         "2": "rs1243118670",
         "3": "A",
         "4": "C,G,T",
         "5": ".",
         "6": ".",
         "7": "RS=1243118670;dbSNPBuildID=154;SSR=0;PSEUDOGENEINFO=DDX11L1:100287102;VC=SNV;R5;GNO;FREQ=1000Genomes:0.9978,0.001249,0.0009369,.|KOREAN:0.9983,.,0.001712,.|Korea1K:0.9985,.,.,0.001488|dbGaP_PopFreq:1,0,0,0"
        },
        {
         "0": "NC_000001.11",
         "1": "10457",
         "2": "rs1639561312",
         "3": "A",
         "4": "ACCCCGACCCCG",
         "5": ".",
         "6": ".",
         "7": "RS=1639561312;dbSNPBuildID=155;SSR=0;PSEUDOGENEINFO=DDX11L1:100287102;VC=INS;R5;GNO;FREQ=GnomAD:1,1.969e-05"
        },
        {
         "0": "NC_000001.11",
         "1": "10458",
         "2": "rs796546892",
         "3": "A",
         "4": "AC",
         "5": ".",
         "6": ".",
         "7": "RS=796546892;dbSNPBuildID=146;SSR=0;PSEUDOGENEINFO=DDX11L1:100287102;VC=INDEL;R5;GNO;FREQ=GnomAD:1,3.915e-05|dbGaP_PopFreq:1,0"
        },
        {
         "0": "NC_000001.11",
         "1": "10458",
         "2": "rs1221109143",
         "3": "A",
         "4": "C,G",
         "5": ".",
         "6": ".",
         "7": "RS=1221109143;dbSNPBuildID=151;SSR=0;PSEUDOGENEINFO=DDX11L1:100287102;VC=SNV;R5;GNO;FREQ=GnomAD:0.9999,7.832e-05,.|dbGaP_PopFreq:1,0,0"
        },
        {
         "0": "NC_000001.11",
         "1": "10458",
         "2": "rs1639561359",
         "3": "A",
         "4": "AACCTCACCCCCACCCCCACCCCCACCCCCACCCCAACCCCAACCCTAAC",
         "5": ".",
         "6": ".",
         "7": "RS=1639561359;dbSNPBuildID=155;SSR=0;PSEUDOGENEINFO=DDX11L1:100287102;VC=INS;R5;GNO;FREQ=GnomAD:1,1.957e-05"
        },
        {
         "0": "NC_000001.11",
         "1": "10459",
         "2": "rs1245244873",
         "3": "CCCTAACCCT",
         "4": "C",
         "5": ".",
         "6": ".",
         "7": "RS=1245244873;dbSNPBuildID=151;SSR=0;PSEUDOGENEINFO=DDX11L1:100287102;VC=INDEL;R5"
        },
        {
         "0": "NC_000001.11",
         "1": "10459",
         "2": "rs1639561378",
         "3": "C",
         "4": "A,G",
         "5": ".",
         "6": ".",
         "7": "RS=1639561378;dbSNPBuildID=155;SSR=0;PSEUDOGENEINFO=DDX11L1:100287102;VC=SNV;R5;GNO;FREQ=GnomAD:1,4.527e-05,.|TOMMO:0.9997,0.0003447,.|dbGaP_PopFreq:1,.,0"
        },
        {
         "0": "NC_000001.11",
         "1": "10459",
         "2": "rs1639561452",
         "3": "CCCTAACCCTCGCGGTACCCTCAG",
         "4": "C",
         "5": ".",
         "6": ".",
         "7": "RS=1639561452;dbSNPBuildID=155;SSR=0;PSEUDOGENEINFO=DDX11L1:100287102;VC=INDEL;R5;GNO;FREQ=GnomAD:1,1.509e-05"
        },
        {
         "0": "NC_000001.11",
         "1": "10460",
         "2": "rs1639561419",
         "3": "C",
         "4": "G",
         "5": ".",
         "6": ".",
         "7": "RS=1639561419;dbSNPBuildID=155;SSR=0;PSEUDOGENEINFO=DDX11L1:100287102;VC=SNV;R5;GNO;FREQ=GnomAD:1,1.113e-05"
        },
        {
         "0": "NC_000001.11",
         "1": "10460",
         "2": "rs1639561539",
         "3": "C",
         "4": "CCCAACG",
         "5": ".",
         "6": ".",
         "7": "RS=1639561539;dbSNPBuildID=155;SSR=0;PSEUDOGENEINFO=DDX11L1:100287102;VC=INDEL;R5;GNO;FREQ=GnomAD:1,1.113e-05"
        },
        {
         "0": "NC_000001.11",
         "1": "10461",
         "2": "rs1490937832",
         "3": "C",
         "4": "A,G,T",
         "5": ".",
         "6": ".",
         "7": "RS=1490937832;dbSNPBuildID=151;SSR=0;PSEUDOGENEINFO=DDX11L1:100287102;VC=SNV;R5;GNO;FREQ=1000Genomes:0.9986,.,0.001405,.|TOMMO:0.9999,.,.,0.000114|dbGaP_PopFreq:1,0,0,0"
        },
        {
         "0": "NC_000001.11",
         "1": "10461",
         "2": "rs1639561623",
         "3": "CT",
         "4": "C",
         "5": ".",
         "6": ".",
         "7": "RS=1639561623;dbSNPBuildID=156;SSR=0;PSEUDOGENEINFO=DDX11L1:100287102;VC=DEL;R5;GNO;FREQ=GnomAD:1,1.143e-05|TOMMO:0.9999,0.000114"
        },
        {
         "0": "NC_000001.11",
         "1": "10461",
         "2": "rs1639561654",
         "3": "CTAACCCT",
         "4": "C",
         "5": ".",
         "6": ".",
         "7": "RS=1639561654;dbSNPBuildID=155;SSR=0;PSEUDOGENEINFO=DDX11L1:100287102;VC=DEL;R5;GNO;FREQ=GnomAD:1,1.143e-05"
        },
        {
         "0": "NC_000001.11",
         "1": "10462",
         "2": "rs1200541360",
         "3": "T",
         "4": "A,C,G",
         "5": ".",
         "6": ".",
         "7": "RS=1200541360;dbSNPBuildID=151;SSR=0;PSEUDOGENEINFO=DDX11L1:100287102;VC=SNV;R5;GNO;FREQ=1000Genomes:0.9977,.,0.001562,0.0007808|KOREAN:0.9627,.,0.02295,0.01438|Korea1K:0.9984,.,0.001575,.|TOMMO:0.9995,.,0.000524,.|dbGaP_PopFreq:1,0,0,0"
        },
        {
         "0": "NC_000001.11",
         "1": "10463",
         "2": "rs1176802610",
         "3": "A",
         "4": "C,G,T",
         "5": ".",
         "6": ".",
         "7": "RS=1176802610;dbSNPBuildID=154;SSR=0;PSEUDOGENEINFO=DDX11L1:100287102;VC=SNV;R5;GNO;FREQ=GnomAD:0.9999,9.502e-05,.,.|KOREAN:0.9894,0.01062,.,.|SGDP_PRJ:0.5,0.5,.,.|TOMMO:0.9997,0.0002884,.,.|dbGaP_PopFreq:1,0,0,0"
        },
        {
         "0": "NC_000001.11",
         "1": "10463",
         "2": "rs1639561756",
         "3": "AACCCTCGCGGT",
         "4": "A",
         "5": ".",
         "6": ".",
         "7": "RS=1639561756;SSR=0;PSEUDOGENEINFO=DDX11L1:100287102;VC=INDEL;R5;GNO;FREQ=dbGaP_PopFreq:1,0"
        },
        {
         "0": "NC_000001.11",
         "1": "10464",
         "2": "rs1570392348",
         "3": "A",
         "4": "C,G,T",
         "5": ".",
         "6": ".",
         "7": "RS=1570392348;dbSNPBuildID=154;SSR=0;PSEUDOGENEINFO=DDX11L1:100287102;VC=SNV;R5;GNO;FREQ=Korea1K:0.9984,0.00157,.,.|TOMMO:0.9997,.,0.0002859,.|TOPMED:1,.,.,3.778e-06|dbGaP_PopFreq:1,0,0,0"
        },
        {
         "0": "NC_000001.11",
         "1": "10465",
         "2": "rs2100300516",
         "3": "C",
         "4": "T",
         "5": ".",
         "6": ".",
         "7": "RS=2100300516;dbSNPBuildID=156;SSR=0;PSEUDOGENEINFO=DDX11L1:100287102;VC=SNV;R5;GNO;FREQ=TOMMO:0.9999,0.0001134"
        },
        {
         "0": "NC_000001.11",
         "1": "10466",
         "2": "rs1411691290",
         "3": "C",
         "4": "A,G,T",
         "5": ".",
         "6": ".",
         "7": "RS=1411691290;dbSNPBuildID=151;SSR=0;PSEUDOGENEINFO=DDX11L1:100287102;VC=SNV;R5;GNO;FREQ=dbGaP_PopFreq:1,0,0,0"
        },
        {
         "0": "NC_000001.11",
         "1": "10467",
         "2": "rs1471861314",
         "3": "CTCGCGG",
         "4": "C",
         "5": ".",
         "6": ".",
         "7": "RS=1471861314;dbSNPBuildID=151;SSR=0;PSEUDOGENEINFO=DDX11L1:100287102;VC=INDEL;R5;GNO;FREQ=Korea1K:0.9991,0.0008636"
        },
        {
         "0": "NC_000001.11",
         "1": "10467",
         "2": "rs1639561825",
         "3": "C",
         "4": "G,T",
         "5": ".",
         "6": ".",
         "7": "RS=1639561825;dbSNPBuildID=155;SSR=0;PSEUDOGENEINFO=DDX11L1:100287102;VC=SNV;R5;GNO;FREQ=dbGaP_PopFreq:1,.,0"
        },
        {
         "0": "NC_000001.11",
         "1": "10467",
         "2": "rs1639561893",
         "3": "C",
         "4": "CTAACTT",
         "5": ".",
         "6": ".",
         "7": "RS=1639561893;SSR=0;PSEUDOGENEINFO=DDX11L1:100287102;VC=INDEL;R5;GNO;FREQ=dbGaP_PopFreq:1,0"
        },
        {
         "0": "NC_000001.11",
         "1": "10468",
         "2": "rs1408056964",
         "3": "T",
         "4": "C,G",
         "5": ".",
         "6": ".",
         "7": "RS=1408056964;dbSNPBuildID=154;SSR=0;PSEUDOGENEINFO=DDX11L1:100287102;VC=SNV;R5;GNO;FREQ=KOREAN:0.989,0.01103,.|SGDP_PRJ:0.5,0.5,.|dbGaP_PopFreq:1,0,0"
        },
        {
         "0": "NC_000001.11",
         "1": "10468",
         "2": "rs1468083453",
         "3": "TCGCGG",
         "4": "T",
         "5": ".",
         "6": ".",
         "7": "RS=1468083453;dbSNPBuildID=154;SSR=0;PSEUDOGENEINFO=DDX11L1:100287102;VC=DEL;R5;GNO;FREQ=GnomAD:0.992,0.008032|Korea1K:0.9692,0.03085|TOMMO:0.9981,0.001912|dbGaP_PopFreq:0.9996,0.0004215"
        },
        {
         "0": "NC_000001.11",
         "1": "10468",
         "2": "rs1639561934",
         "3": "T",
         "4": "TAA,TAAACCCTAAACCCTAAACCCGAAC,TAAC,TAACCC,TAACCCCAACC,TAACCCCAACCCCAACCCCAACCCCAACC,TAACCCTAACCCTAA,TAACCCTAACCCTAAACCCTAAC,TAACCCTAACCCTAAC,TAACCCTAACCCTAACCC,TAACCCTAACCCTAACCCAA,TAACCCTAACCCTAACCCCAACC,TAACCCTAACCCTAACCCCAACCCCAACC,TAACCCTAACCCTAACCCCTAA,TAACCCTAACCCTAACCCCTAAC,TAACCCTAACCCTAACCCCTAACCC,TAACCCTAACCCTAACCCCTACCC,TAACCCTAACCCTAACCCCTACCCCTAACCCGAACC,TAACCCTAACCCTAACCCTAAC,TAACCCTAACCCTAACCCTAACCC,TAACCCTAACCCTAACCCTAACCCCTAACCC,TAACCCTAACCCTAACCCTAACCCTAA,TAACCCTAACCCTAACCCTAACCCTAACCC,TAACCCTAACCCTAACCCTAACCCTAACCCTAAC,TAACCCTAACCCTAACCCTAACCCTAACCCTAACCCTAA,TAACCCTAACCCTAACCCTAACCCTAACCCTAACCCTAAC,TAACCCTAACCCTAACCCTAC,TAACCCTAACCCTTAACCCTTAACCCTAACCCTAACCCTAA,TTAA",
         "5": ".",
         "6": ".",
         "7": "RS=1639561934;dbSNPBuildID=155;SSR=0;PSEUDOGENEINFO=DDX11L1:100287102;VC=INS;R5;GNO"
        },
        {
         "0": "NC_000001.11",
         "1": "10469",
         "2": "rs370233998",
         "3": "C",
         "4": "A,G,T",
         "5": ".",
         "6": ".",
         "7": "RS=370233998;dbSNPBuildID=138;SSR=0;PSEUDOGENEINFO=DDX11L1:100287102;VC=SNV;R5;GNO;FREQ=GnomAD:0.9907,.,0.009334,.|KOREAN:0.7976,0.1663,0.03611,.|Korea1K:0.9985,.,0.001524,.|SGDP_PRJ:0.5,0.3333,0.1667,.|TOMMO:0.9988,.,0.001171,.|dbGaP_PopFreq:1,0,0,0;COMMON"
        },
        {
         "0": "NC_000001.11",
         "1": "10469",
         "2": "rs1557426908",
         "3": "C",
         "4": "CCCCCTAACCCCCTAACCCTAACCCTAACCCTAACCCTAACCCTG",
         "5": ".",
         "6": ".",
         "7": "RS=1557426908;dbSNPBuildID=156;SSR=0;PSEUDOGENEINFO=DDX11L1:100287102;VC=INS;R5;GNO;FREQ=TOMMO:0.9999,6.182e-05"
        },
        {
         "0": "NC_000001.11",
         "1": "10469",
         "2": "rs1639562173",
         "3": "CGCGG",
         "4": "C",
         "5": ".",
         "6": ".",
         "7": "RS=1639562173;dbSNPBuildID=155;SSR=0;PSEUDOGENEINFO=DDX11L1:100287102;VC=DEL;R5;GNO;FREQ=GnomAD:0.9998,0.0001715"
        },
        {
         "0": "NC_000001.11",
         "1": "10469",
         "2": "rs1639562193",
         "3": "CGCGGT",
         "4": "C",
         "5": ".",
         "6": ".",
         "7": "RS=1639562193;dbSNPBuildID=155;SSR=0;PSEUDOGENEINFO=DDX11L1:100287102;VC=DEL;R5;GNO;FREQ=GnomAD:0.9998,0.0001715"
        },
        {
         "0": "NC_000001.11",
         "1": "10470",
         "2": "rs1424986436",
         "3": "G",
         "4": "A,C,T",
         "5": ".",
         "6": ".",
         "7": "RS=1424986436;dbSNPBuildID=151;SSR=0;PSEUDOGENEINFO=DDX11L1:100287102;VC=SNV;R5;GNO;FREQ=KOREAN:0.9899,0.01008,.,.|TOMMO:0.9956,.,0.004444,.|dbGaP_PopFreq:1,0,0,0"
        },
        {
         "0": "NC_000001.11",
         "1": "10471",
         "2": "rs1309260800",
         "3": "C",
         "4": "A,G",
         "5": ".",
         "6": ".",
         "7": "RS=1309260800;dbSNPBuildID=154;SSR=0;PSEUDOGENEINFO=DDX11L1:100287102;VC=SNV;R5;GNO;FREQ=GnomAD:1,4.729e-05,.|SGDP_PRJ:0.5,.,0.5|dbGaP_PopFreq:1,0,0"
        },
        {
         "0": "NC_000001.11",
         "1": "10471",
         "2": "rs1570392362",
         "3": "CGG",
         "4": "C",
         "5": ".",
         "6": ".",
         "7": "RS=1570392362;dbSNPBuildID=154;SSR=0;PSEUDOGENEINFO=DDX11L1:100287102;VC=DEL;R5;GNO;FREQ=Korea1K:0.9741,0.02588|TOMMO:0.9995,0.0004632"
        },
        {
         "0": "NC_000001.11",
         "1": "10472",
         "2": "rs1238646298",
         "3": "G",
         "4": "T",
         "5": ".",
         "6": ".",
         "7": "RS=1238646298;dbSNPBuildID=155;SSR=0;PSEUDOGENEINFO=DDX11L1:100287102;VC=SNV;R5;GNO;FREQ=GnomAD:0.9999,0.0001059|dbGaP_PopFreq:1,0"
        },
        {
         "0": "NC_000001.11",
         "1": "10473",
         "2": "rs1408062762",
         "3": "G",
         "4": "A",
         "5": ".",
         "6": ".",
         "7": "RS=1408062762;dbSNPBuildID=151;SSR=0;PSEUDOGENEINFO=DDX11L1:100287102;VC=SNV;R5;GNO;FREQ=GnomAD:0.9643,0.0357|dbGaP_PopFreq:0.9947,0.00533;COMMON"
        },
        {
         "0": "NC_000001.11",
         "1": "10474",
         "2": "rs1326069208",
         "3": "T",
         "4": "A,G",
         "5": ".",
         "6": ".",
         "7": "RS=1326069208;dbSNPBuildID=154;SSR=0;PSEUDOGENEINFO=DDX11L1:100287102;VC=SNV;R5;GNO;FREQ=Korea1K:0.9687,0.03133,.|TOMMO:0.9986,0.001351,.|dbGaP_PopFreq:0.9999,8.436e-05,0"
        },
        {
         "0": "NC_000001.11",
         "1": "10474",
         "2": "rs1570392369",
         "3": "T",
         "4": "TA,TAACCCCAACCCCTAACCCCTAACCCTA,TAACCCTA,TAACCCTAACCCCTA,TAACCCTAACCCCTAACCCTAACCCTAACCCTAACCCTA,TAACCCTAACCCTA,TAACCCTAACCCTAACCCCTA,TAACCCTAACCCTAACCCCTAACCCTAACCCTA,TAACCCTAACCCTAACCCTAACCCCAACCTCAACCCCA,TAACCCTAACCCTTAACCCTAACCCTAACCCTA,TAACCCTTA",
         "5": ".",
         "6": ".",
         "7": "RS=1570392369;dbSNPBuildID=154;SSR=0;PSEUDOGENEINFO=DDX11L1:100287102;VC=INDEL;R5;GNO;FREQ=Korea1K:0.9925,.,.,0.007519,.,.,.,.,.,.,.,."
        },
        {
         "0": "NC_000001.11",
         "1": "10475",
         "2": "rs1404283754",
         "3": "A",
         "4": "T",
         "5": ".",
         "6": ".",
         "7": "RS=1404283754;dbSNPBuildID=151;SSR=0;PSEUDOGENEINFO=DDX11L1:100287102;VC=SNV;R5;GNO;FREQ=GnomAD:0.9998,0.0001931|dbGaP_PopFreq:0.9999,8.43e-05"
        },
        {
         "0": "NC_000001.11",
         "1": "10475",
         "2": "rs1570392371",
         "3": "A",
         "4": "AACCCTAACCCCTAAC",
         "5": ".",
         "6": ".",
         "7": "RS=1570392371;dbSNPBuildID=154;SSR=0;PSEUDOGENEINFO=DDX11L1:100287102;VC=INS;R5;GNO;FREQ=Korea1K:0.9976,0.002427"
        },
        {
         "0": "NC_000001.11",
         "1": "10476",
         "2": "rs1321149898",
         "3": "C",
         "4": "A,T",
         "5": ".",
         "6": ".",
         "7": "RS=1321149898;dbSNPBuildID=151;SSR=0;PSEUDOGENEINFO=DDX11L1:100287102;VC=SNV;R5;GNO;FREQ=dbGaP_PopFreq:1,0,0"
        },
        {
         "0": "NC_000001.11",
         "1": "10477",
         "2": "rs1263055247",
         "3": "C",
         "4": "T",
         "5": ".",
         "6": ".",
         "7": "RS=1263055247;dbSNPBuildID=155;SSR=0;PSEUDOGENEINFO=DDX11L1:100287102;VC=SNV;R5;GNO;FREQ=GnomAD:0.9999,9.116e-05|dbGaP_PopFreq:0.9999,8.43e-05"
        },
        {
         "0": "NC_000001.11",
         "1": "10478",
         "2": "rs528916756",
         "3": "C",
         "4": "G",
         "5": ".",
         "6": ".",
         "7": "RS=528916756;dbSNPBuildID=142;SSR=0;PSEUDOGENEINFO=DDX11L1:100287102;VC=SNV;R5;GNO;FREQ=GnomAD:1,1.437e-05|dbGaP_PopFreq:0.9998,0.0001837"
        },
        {
         "0": "NC_000001.11",
         "1": "10479",
         "2": "rs1639562478",
         "3": "T",
         "4": "A",
         "5": ".",
         "6": ".",
         "7": "RS=1639562478;SSR=0;PSEUDOGENEINFO=DDX11L1:100287102;VC=SNV;R5;GNO;FREQ=dbGaP_PopFreq:1,0"
        },
        {
         "0": "NC_000001.11",
         "1": "10480",
         "2": "rs1229407220",
         "3": "C",
         "4": "CA",
         "5": ".",
         "6": ".",
         "7": "RS=1229407220;dbSNPBuildID=151;SSR=0;PSEUDOGENEINFO=DDX11L1:100287102;VC=INDEL;R5"
        },
        {
         "0": "NC_000001.11",
         "1": "10480",
         "2": "rs1405212621",
         "3": "C",
         "4": "A,G",
         "5": ".",
         "6": ".",
         "7": "RS=1405212621;dbSNPBuildID=151;SSR=0;PSEUDOGENEINFO=DDX11L1:100287102;VC=SNV;R5;GNO;FREQ=Korea1K:0.9712,0.02878,.|TOMMO:0.9991,0.0008968,.|dbGaP_PopFreq:1,.,0"
        },
        {
         "0": "NC_000001.11",
         "1": "10481",
         "2": "rs1639562521",
         "3": "A",
         "4": "G,T",
         "5": ".",
         "6": ".",
         "7": "RS=1639562521;dbSNPBuildID=155;SSR=0;PSEUDOGENEINFO=DDX11L1:100287102;VC=SNV;R5;GNO;FREQ=TOPMED:1,1.133e-05,.|dbGaP_PopFreq:1,0,0"
        },
        {
         "0": "NC_000001.11",
         "1": "10481",
         "2": "rs1639562608",
         "3": "AGCCG",
         "4": "A",
         "5": ".",
         "6": ".",
         "7": "RS=1639562608;SSR=0;PSEUDOGENEINFO=DDX11L1:100287102;VC=INDEL;R5;GNO;FREQ=dbGaP_PopFreq:1,0"
        },
        {
         "0": "NC_000001.11",
         "1": "10482",
         "2": "rs1307108837",
         "3": "G",
         "4": "A,C",
         "5": ".",
         "6": ".",
         "7": "RS=1307108837;dbSNPBuildID=151;SSR=0;PSEUDOGENEINFO=DDX11L1:100287102;VC=SNV;R5;GNO;FREQ=GnomAD:1,2.46e-05,.|Korea1K:0.9813,.,0.01873|TOMMO:0.9996,.,0.0003963|dbGaP_PopFreq:1,0,0"
        },
        {
         "0": "NC_000001.11",
         "1": "10483",
         "2": "rs547662686",
         "3": "C",
         "4": "A,G,T",
         "5": ".",
         "6": ".",
         "7": "RS=547662686;dbSNPBuildID=142;SSR=0;PSEUDOGENEINFO=DDX11L1:100287102;VC=SNV;R5;GNO;FREQ=KOREAN:0.9992,.,0.000771,.|dbGaP_PopFreq:1,0,0,."
        },
        {
         "0": "NC_000001.11",
         "1": "10484",
         "2": "rs1431027596",
         "3": "C",
         "4": "A,G",
         "5": ".",
         "6": ".",
         "7": "RS=1431027596;dbSNPBuildID=155;SSR=0;PSEUDOGENEINFO=DDX11L1:100287102;VC=SNV;R5;GNO;FREQ=GnomAD:0.9999,5.432e-05,.|dbGaP_PopFreq:1,0,0"
        },
        {
         "0": "NC_000001.11",
         "1": "10485",
         "2": "rs1175515557",
         "3": "GGCCC",
         "4": "G",
         "5": ".",
         "6": ".",
         "7": "RS=1175515557;SSR=0;PSEUDOGENEINFO=DDX11L1:100287102;VC=INDEL;R5;GNO;FREQ=dbGaP_PopFreq:1,0"
        },
        {
         "0": "NC_000001.11",
         "1": "10485",
         "2": "rs1444281458",
         "3": "G",
         "4": "A,C",
         "5": ".",
         "6": ".",
         "7": "RS=1444281458;dbSNPBuildID=151;SSR=0;PSEUDOGENEINFO=DDX11L1:100287102;VC=SNV;R5;GNO;FREQ=GnomAD:1,2.338e-05,.|SGDP_PRJ:0.5,0.5,.|TOPMED:1,.,3.778e-06|dbGaP_PopFreq:1,0,0"
        },
        {
         "0": "NC_000001.11",
         "1": "10486",
         "2": "rs1280136053",
         "3": "G",
         "4": "A,C",
         "5": ".",
         "6": ".",
         "7": "RS=1280136053;dbSNPBuildID=151;SSR=0;PSEUDOGENEINFO=DDX11L1:100287102;VC=SNV;R5;GNO;FREQ=SGDP_PRJ:0.5,0.5,.|dbGaP_PopFreq:1,0,0"
        },
        {
         "0": "NC_000001.11",
         "1": "10487",
         "2": "rs1351457990",
         "3": "C",
         "4": "G",
         "5": ".",
         "6": ".",
         "7": "RS=1351457990;dbSNPBuildID=151;SSR=0;PSEUDOGENEINFO=DDX11L1:100287102;VC=SNV;R5;GNO;FREQ=dbGaP_PopFreq:1,0"
        },
        {
         "0": "NC_000001.11",
         "1": "10488",
         "2": "rs1570392409",
         "3": "C",
         "4": "T",
         "5": ".",
         "6": ".",
         "7": "RS=1570392409;dbSNPBuildID=154;SSR=0;PSEUDOGENEINFO=DDX11L1:100287102;VC=SNV;R5;GNO;FREQ=SGDP_PRJ:0.5,0.5|dbGaP_PopFreq:1,0"
        },
        {
         "0": "NC_000001.11",
         "1": "10489",
         "2": "rs1227863484",
         "3": "C",
         "4": "T",
         "5": ".",
         "6": ".",
         "7": "RS=1227863484;dbSNPBuildID=151;SSR=0;PSEUDOGENEINFO=DDX11L1:100287102;VC=SNV;R5;GNO;FREQ=GnomAD:1,4.292e-05|dbGaP_PopFreq:1,0"
        },
        {
         "0": "NC_000001.11",
         "1": "10490",
         "2": "rs565971701",
         "3": "G",
         "4": "A,C,T",
         "5": ".",
         "6": ".",
         "7": "RS=565971701;dbSNPBuildID=142;SSR=0;PSEUDOGENEINFO=DDX11L1:100287102;VC=SNV;R5;GNO;FREQ=dbGaP_PopFreq:1,0,0,0"
        },
        {
         "0": "NC_000001.11",
         "1": "10491",
         "2": "rs1303950177",
         "3": "C",
         "4": "G,T",
         "5": ".",
         "6": ".",
         "7": "RS=1303950177;dbSNPBuildID=155;SSR=0;PSEUDOGENEINFO=DDX11L1:100287102;VC=SNV;R5;GNO;FREQ=GnomAD:1,1.275e-05,.|dbGaP_PopFreq:1,0,0"
        },
        {
         "0": "NC_000001.11",
         "1": "10492",
         "2": "rs55998931",
         "3": "C",
         "4": "T",
         "5": ".",
         "6": ".",
         "7": "RS=55998931;dbSNPBuildID=129;SSR=0;PSEUDOGENEINFO=DDX11L1:100287102;VC=SNV;R5;GNO;FREQ=1000Genomes:0.9279,0.07214|GnomAD:0.9721,0.02789|KOREAN:0.706,0.294|Korea1K:0.9815,0.01852|Qatari:0.7685,0.2315|SGDP_PRJ:0.462,0.538|Siberian:0.5,0.5|TOMMO:0.9516,0.04837|dbGaP_PopFreq:0.9061,0.09393;COMMON"
        },
        {
         "0": "NC_000001.11",
         "1": "10493",
         "2": "rs199606420",
         "3": "C",
         "4": "A,G",
         "5": ".",
         "6": ".",
         "7": "RS=199606420;dbSNPBuildID=137;SSR=0;PSEUDOGENEINFO=DDX11L1:100287102;VC=SNV;R5;GNO;FREQ=GnomAD:0.9992,.,0.0007981|KOREAN:0.9877,0.01234,.|NorthernSweden:0.995,.,0.005|dbGaP_PopFreq:0.9992,0,0.0007974"
        },
        {
         "0": "NC_000001.11",
         "1": "10494",
         "2": "rs1251524062",
         "3": "G",
         "4": "A",
         "5": ".",
         "6": ".",
         "7": "RS=1251524062;dbSNPBuildID=151;SSR=0;PSEUDOGENEINFO=DDX11L1:100287102;VC=SNV;R5;GNO;FREQ=GnomAD:1,3.429e-05|SGDP_PRJ:0.5,0.5|dbGaP_PopFreq:0.9963,0.003709"
        },
        {
         "0": "NC_000001.11",
         "1": "10495",
         "2": "rs1639562983",
         "3": "C",
         "4": "G",
         "5": ".",
         "6": ".",
         "7": "RS=1639562983;SSR=0;PSEUDOGENEINFO=DDX11L1:100287102;VC=SNV;R5;GNO;FREQ=dbGaP_PopFreq:0.9999,9.363e-05"
        },
        {
         "0": "NC_000001.11",
         "1": "10497",
         "2": "rs1250176627",
         "3": "CG",
         "4": "C",
         "5": ".",
         "6": ".",
         "7": "RS=1250176627;dbSNPBuildID=155;SSR=0;PSEUDOGENEINFO=DDX11L1:100287102;VC=INDEL;R5;GNO;FREQ=GnomAD:1,2.665e-05|dbGaP_PopFreq:1,0"
        },
        {
         "0": "NC_000001.11",
         "1": "10497",
         "2": "rs1482315965",
         "3": "C",
         "4": "A,G,T",
         "5": ".",
         "6": ".",
         "7": "RS=1482315965;dbSNPBuildID=151;SSR=0;PSEUDOGENEINFO=DDX11L1:100287102;VC=SNV;R5;GNO;FREQ=GnomAD:1,.,.,3.998e-05|KOREAN:0.9996,.,0.000387,.|TOMMO:0.9998,.,0.0001953,.|dbGaP_PopFreq:1,0,0,0"
        },
        {
         "0": "NC_000001.11",
         "1": "10498",
         "2": "rs1338146081",
         "3": "G",
         "4": "A,C,T",
         "5": ".",
         "6": ".",
         "7": "RS=1338146081;dbSNPBuildID=155;SSR=0;PSEUDOGENEINFO=DDX11L1:100287102;VC=SNV;R5;GNO;FREQ=GnomAD:1,.,.,4.793e-05|dbGaP_PopFreq:1,0,0,0"
        },
        {
         "0": "NC_000001.11",
         "1": "10499",
         "2": "rs1270581191",
         "3": "G",
         "4": "A",
         "5": ".",
         "6": ".",
         "7": "RS=1270581191;SSR=0;PSEUDOGENEINFO=DDX11L1:100287102;VC=SNV;R5;GNO;FREQ=dbGaP_PopFreq:1,0"
        },
        {
         "0": "NC_000001.11",
         "1": "10500",
         "2": "rs1184558895",
         "3": "G",
         "4": "A,C,T",
         "5": ".",
         "6": ".",
         "7": "RS=1184558895;dbSNPBuildID=151;SSR=0;PSEUDOGENEINFO=DDX11L1:100287102;VC=SNV;R5;GNO;FREQ=SGDP_PRJ:0.5,0.5,.,.|TOPMED:1,.,.,7.556e-06|dbGaP_PopFreq:1,0,0,0"
        },
        {
         "0": "NC_000001.11",
         "1": "10503",
         "2": "rs1234015777",
         "3": "T",
         "4": "C",
         "5": ".",
         "6": ".",
         "7": "RS=1234015777;dbSNPBuildID=151;SSR=0;PSEUDOGENEINFO=DDX11L1:100287102;VC=SNV;R5;GNO;FREQ=SGDP_PRJ:0.5,0.5|dbGaP_PopFreq:0.9997,0.0002529"
        },
        {
         "0": "NC_000001.11",
         "1": "10504",
         "2": "rs1472769893",
         "3": "G",
         "4": "C,T",
         "5": ".",
         "6": ".",
         "7": "RS=1472769893;dbSNPBuildID=151;SSR=0;PSEUDOGENEINFO=DDX11L1:100287102;VC=SNV;R5;GNO;FREQ=1000Genomes:0.9992,0.0007808,.|GnomAD:0.9993,0.0006764,.|SGDP_PRJ:0.5,0.5,.|TOMMO:0.9998,.,0.0001636|dbGaP_PopFreq:0.9987,0.001349,."
        },
        {
         "0": "NC_000001.11",
         "1": "10505",
         "2": "rs548419688",
         "3": "A",
         "4": "T",
         "5": ".",
         "6": ".",
         "7": "RS=548419688;dbSNPBuildID=142;SSR=0;PSEUDOGENEINFO=DDX11L1:100287102;VC=SNV;R5;GNO;FREQ=1000Genomes:0.9998,0.0001997"
        },
        {
         "0": "NC_000001.11",
         "1": "10506",
         "2": "rs568405545",
         "3": "C",
         "4": "G,T",
         "5": ".",
         "6": ".",
         "7": "RS=568405545;dbSNPBuildID=142;SSR=0;PSEUDOGENEINFO=DDX11L1:100287102;VC=SNV;R5;GNO;FREQ=1000Genomes:0.9998,0.0001997,.|dbGaP_PopFreq:0.9998,.,0.0002237"
        },
        {
         "0": "NC_000001.11",
         "1": "10507",
         "2": "rs1639563318",
         "3": "C",
         "4": "A",
         "5": ".",
         "6": ".",
         "7": "RS=1639563318;SSR=0;PSEUDOGENEINFO=DDX11L1:100287102;VC=SNV;R5;GNO;FREQ=dbGaP_PopFreq:1,0"
        },
        {
         "0": "NC_000001.11",
         "1": "10508",
         "2": "rs1639563378",
         "3": "TGAG",
         "4": "T",
         "5": ".",
         "6": ".",
         "7": "RS=1639563378;SSR=0;PSEUDOGENEINFO=DDX11L1:100287102;VC=INDEL;R5;GNO;FREQ=dbGaP_PopFreq:1,0"
        },
        {
         "0": "NC_000001.11",
         "1": "10509",
         "2": "rs1262211809",
         "3": "G",
         "4": "A,C",
         "5": ".",
         "6": ".",
         "7": "RS=1262211809;dbSNPBuildID=156;SSR=0;PSEUDOGENEINFO=DDX11L1:100287102;VC=SNV;R5;GNO;FREQ=TOMMO:0.9999,5.46e-05,.|dbGaP_PopFreq:1,0,0"
        },
        {
         "0": "NC_000001.11",
         "1": "10511",
         "2": "rs534229142",
         "3": "G",
         "4": "A,C",
         "5": ".",
         "6": ".",
         "7": "RS=534229142;dbSNPBuildID=142;SSR=0;PSEUDOGENEINFO=DDX11L1:100287102;VC=SNV;R5;GNO;FREQ=1000Genomes:0.9998,0.0001997,.|GnomAD:1,.,2.875e-05|dbGaP_PopFreq:1,0,0"
        },
        {
         "0": "NC_000001.11",
         "1": "10512",
         "2": "rs1424840445",
         "3": "G",
         "4": "A,C",
         "5": ".",
         "6": ".",
         "7": "RS=1424840445;dbSNPBuildID=151;SSR=0;PSEUDOGENEINFO=DDX11L1:100287102;VC=SNV;R5;GNO;FREQ=dbGaP_PopFreq:1,0,0"
        },
        {
         "0": "NC_000001.11",
         "1": "10513",
         "2": "rs1167640463",
         "3": "A",
         "4": "C,G,T",
         "5": ".",
         "6": ".",
         "7": "RS=1167640463;dbSNPBuildID=151;SSR=0;PSEUDOGENEINFO=DDX11L1:100287102;VC=SNV;R5;GNO;FREQ=GnomAD:1,.,.,1.396e-05|TOPMED:1,3.778e-06,.,.|dbGaP_PopFreq:1,0,0,0"
        },
        {
         "0": "NC_000001.11",
         "1": "10514",
         "2": "rs1429178608",
         "3": "G",
         "4": "A,C",
         "5": ".",
         "6": ".",
         "7": "RS=1429178608;dbSNPBuildID=155;SSR=0;PSEUDOGENEINFO=DDX11L1:100287102;VC=SNV;R5;GNO;FREQ=GnomAD:1,.,1.413e-05|dbGaP_PopFreq:1,0,0"
        },
        {
         "0": "NC_000001.11",
         "1": "10515",
         "2": "rs1164357285",
         "3": "A",
         "4": "C,G",
         "5": ".",
         "6": ".",
         "7": "RS=1164357285;dbSNPBuildID=155;SSR=0;PSEUDOGENEINFO=DDX11L1:100287102;VC=SNV;R5;GNO;FREQ=TOMMO:0.9999,.,6.487e-05|TOPMED:1,.,3.778e-06|dbGaP_PopFreq:0.9999,8.43e-05,0"
        },
        {
         "0": "NC_000001.11",
         "1": "10517",
         "2": "rs1367619635",
         "3": "C",
         "4": "G",
         "5": ".",
         "6": ".",
         "7": "RS=1367619635;SSR=0;PSEUDOGENEINFO=DDX11L1:100287102;VC=SNV;R5;GNO;FREQ=dbGaP_PopFreq:1,0"
        },
        {
         "0": "NC_000001.11",
         "1": "10518",
         "2": "rs1368469100",
         "3": "T",
         "4": "A,C",
         "5": ".",
         "6": ".",
         "7": "RS=1368469100;dbSNPBuildID=151;SSR=0;PSEUDOGENEINFO=DDX11L1:100287102;VC=SNV;R5;GNO;FREQ=GnomAD:1,.,2.881e-05|TOPMED:1,.,1.133e-05|dbGaP_PopFreq:1,0,0"
        },
        {
         "0": "NC_000001.11",
         "1": "10519",
         "2": "rs62636508",
         "3": "G",
         "4": "A,C",
         "5": ".",
         "6": ".",
         "7": "RS=62636508;dbSNPBuildID=129;SSR=0;PSEUDOGENEINFO=DDX11L1:100287102;VC=SNV;R5;GNO;FREQ=1000Genomes:0.9997,0.0003123,.|GoNL:0.997,.,0.003006|KOREAN:0.9775,.,0.02253|TOMMO:0.9998,.,0.000225|dbGaP_PopFreq:1,0,0"
        },
        {
         "0": "NC_000001.11",
         "1": "10520",
         "2": "rs1639563639",
         "3": "T",
         "4": "C",
         "5": ".",
         "6": ".",
         "7": "RS=1639563639;SSR=0;PSEUDOGENEINFO=DDX11L1:100287102;VC=SNV;R5;GNO;FREQ=dbGaP_PopFreq:1,0"
        },
        {
         "0": "NC_000001.11",
         "1": "10521",
         "2": "rs1384315640",
         "3": "G",
         "4": "A,C",
         "5": ".",
         "6": ".",
         "7": "RS=1384315640;dbSNPBuildID=156;SSR=0;PSEUDOGENEINFO=DDX11L1:100287102;VC=SNV;R5;GNO;FREQ=dbGaP_PopFreq:1,0,."
        },
        {
         "0": "NC_000001.11",
         "1": "10522",
         "2": "rs1329434426",
         "3": "C",
         "4": "T",
         "5": ".",
         "6": ".",
         "7": "RS=1329434426;dbSNPBuildID=151;SSR=0;PSEUDOGENEINFO=DDX11L1:100287102;VC=SNV;R5;GNO;FREQ=GnomAD:1,1.411e-05|dbGaP_PopFreq:1,0"
        },
        {
         "0": "NC_000001.11",
         "1": "10523",
         "2": "rs1339758319",
         "3": "TCCG",
         "4": "T",
         "5": ".",
         "6": ".",
         "7": "RS=1339758319;dbSNPBuildID=151;SSR=0;PSEUDOGENEINFO=DDX11L1:100287102;VC=INDEL;R5;GNO;FREQ=1000Genomes:0.9973,0.002655|GnomAD:0.9991,0.0009017|dbGaP_PopFreq:0.9997,0.0003372"
        },
        {
         "0": "NC_000001.11",
         "1": "10523",
         "2": "rs1639563719",
         "3": "T",
         "4": "A,C",
         "5": ".",
         "6": ".",
         "7": "RS=1639563719;dbSNPBuildID=155;SSR=0;PSEUDOGENEINFO=DDX11L1:100287102;VC=SNV;R5;GNO;FREQ=TOMMO:0.9999,6.44e-05,.|dbGaP_PopFreq:1,.,0"
        },
        {
         "0": "NC_000001.11",
         "1": "10525",
         "2": "rs1639563777",
         "3": "C",
         "4": "T",
         "5": ".",
         "6": ".",
         "7": "RS=1639563777;SSR=0;PSEUDOGENEINFO=DDX11L1:100287102;VC=SNV;R5;GNO;FREQ=dbGaP_PopFreq:1,0"
        },
        {
         "0": "NC_000001.11",
         "1": "10526",
         "2": "rs1365181171",
         "3": "G",
         "4": "A,C",
         "5": ".",
         "6": ".",
         "7": "RS=1365181171;dbSNPBuildID=155;SSR=0;PSEUDOGENEINFO=DDX11L1:100287102;VC=SNV;R5;GNO;FREQ=TOPMED:1,.,3.778e-06|dbGaP_PopFreq:1,0,0"
        },
        {
         "0": "NC_000001.11",
         "1": "10527",
         "2": "rs1246002416",
         "3": "C",
         "4": "A,T",
         "5": ".",
         "6": ".",
         "7": "RS=1246002416;dbSNPBuildID=155;SSR=0;PSEUDOGENEINFO=DDX11L1:100287102;VC=SNV;R5;GNO;FREQ=TOPMED:1,.,3.778e-06|dbGaP_PopFreq:1,0,0"
        },
        {
         "0": "NC_000001.11",
         "1": "10531",
         "2": "rs1293328578",
         "3": "C",
         "4": "G",
         "5": ".",
         "6": ".",
         "7": "RS=1293328578;dbSNPBuildID=155;SSR=0;PSEUDOGENEINFO=DDX11L1:100287102;VC=SNV;R5;GNO;FREQ=TOPMED:1,7.556e-06|dbGaP_PopFreq:1,0"
        },
        {
         "0": "NC_000001.11",
         "1": "10532",
         "2": "rs1356778175",
         "3": "A",
         "4": "G",
         "5": ".",
         "6": ".",
         "7": "RS=1356778175;SSR=0;PSEUDOGENEINFO=DDX11L1:100287102;VC=SNV;R5;GNO;FREQ=dbGaP_PopFreq:0.9997,0.0002529"
        },
        {
         "0": "NC_000001.11",
         "1": "10533",
         "2": "rs1445779412",
         "3": "G",
         "4": "A,C",
         "5": ".",
         "6": ".",
         "7": "RS=1445779412;dbSNPBuildID=151;SSR=0;PSEUDOGENEINFO=DDX11L1:100287102;VC=SNV;R5;GNO;FREQ=GnomAD:0.9995,.,0.0004939|KOREAN:0.9882,.,0.01183|dbGaP_PopFreq:1,0,0"
        },
        {
         "0": "NC_000001.11",
         "1": "10534",
         "2": "rs1486704209",
         "3": "A",
         "4": "G",
         "5": ".",
         "6": ".",
         "7": "RS=1486704209;dbSNPBuildID=155;SSR=0;PSEUDOGENEINFO=DDX11L1:100287102;VC=SNV;R5;GNO;FREQ=TOPMED:1,3.778e-06|dbGaP_PopFreq:1,0"
        },
        {
         "0": "NC_000001.11",
         "1": "10535",
         "2": "rs1184627952",
         "3": "G",
         "4": "C",
         "5": ".",
         "6": ".",
         "7": "RS=1184627952;SSR=0;PSEUDOGENEINFO=DDX11L1:100287102;VC=SNV;R5;GNO;FREQ=dbGaP_PopFreq:1,0"
        },
        {
         "0": "NC_000001.11",
         "1": "10536",
         "2": "rs1260939575",
         "3": "T",
         "4": "A,C,G",
         "5": ".",
         "6": ".",
         "7": "RS=1260939575;dbSNPBuildID=155;SSR=0;PSEUDOGENEINFO=DDX11L1:100287102;VC=SNV;R5;GNO;FREQ=TOPMED:1,.,.,3.778e-06|dbGaP_PopFreq:1,.,0,0"
        },
        {
         "0": "NC_000001.11",
         "1": "10539",
         "2": "rs537182016",
         "3": "C",
         "4": "A",
         "5": ".",
         "6": ".",
         "7": "RS=537182016;dbSNPBuildID=142;SSR=0;PSEUDOGENEINFO=DDX11L1:100287102;VC=SNV;R5;GNO;FREQ=1000Genomes:0.9997,0.0003123|GnomAD:1,4.393e-05|GoNL:0.998,0.002004|SGDP_PRJ:0.5,0.5|dbGaP_PopFreq:0.9996,0.0003674"
        },
        {
         "0": "NC_000001.11",
         "1": "10539",
         "2": "rs1639563974",
         "3": "C",
         "4": "CT",
         "5": ".",
         "6": ".",
         "7": "RS=1639563974;SSR=0;PSEUDOGENEINFO=DDX11L1:100287102;VC=INS;R5;GNO;FREQ=dbGaP_PopFreq:1,0"
        },
        {
         "0": "NC_000001.11",
         "1": "10541",
         "2": "rs1639563993",
         "3": "C",
         "4": "A",
         "5": ".",
         "6": ".",
         "7": "RS=1639563993;dbSNPBuildID=155;SSR=0;PSEUDOGENEINFO=DDX11L1:100287102;VC=SNV;R5;GNO;FREQ=TOPMED:1,3.778e-06|dbGaP_PopFreq:1,0"
        },
        {
         "0": "NC_000001.11",
         "1": "10542",
         "2": "rs572818783",
         "3": "C",
         "4": "G,T",
         "5": ".",
         "6": ".",
         "7": "RS=572818783;dbSNPBuildID=142;SSR=0;PSEUDOGENEINFO=DDX11L1:100287102;VC=SNV;R5;GNO;FREQ=1000Genomes:0.9998,.,0.0001997|TOMMO:0.999,.,0.001037|dbGaP_PopFreq:0.9999,0,8.446e-05"
        },
        {
         "0": "NC_000001.11",
         "1": "10543",
         "2": "rs1385151677",
         "3": "G",
         "4": "A,C,T",
         "5": ".",
         "6": ".",
         "7": "RS=1385151677;dbSNPBuildID=151;SSR=0;PSEUDOGENEINFO=DDX11L1:100287102;VC=SNV;R5;GNO;FREQ=1000Genomes:0.9998,.,.,0.0001562|GnomAD:1,4.428e-05,.,.|SGDP_PRJ:0.5,0.5,.,.|dbGaP_PopFreq:1,0,0,."
        },
        {
         "0": "NC_000001.11",
         "1": "10548",
         "2": "rs1164309384",
         "3": "C",
         "4": "T",
         "5": ".",
         "6": ".",
         "7": "RS=1164309384;SSR=0;PSEUDOGENEINFO=DDX11L1:100287102;VC=SNV;R5;GNO;FREQ=dbGaP_PopFreq:1,0"
        },
        {
         "0": "NC_000001.11",
         "1": "10548",
         "2": "rs1346084642",
         "3": "CTG",
         "4": "C",
         "5": ".",
         "6": ".",
         "7": "RS=1346084642;SSR=0;PSEUDOGENEINFO=DDX11L1:100287102;VC=INDEL;R5;GNO;FREQ=dbGaP_PopFreq:1,0"
        },
        {
         "0": "NC_000001.11",
         "1": "10550",
         "2": "rs1455661624",
         "3": "G",
         "4": "A,C,T",
         "5": ".",
         "6": ".",
         "7": "RS=1455661624;dbSNPBuildID=153;SSR=0;PSEUDOGENEINFO=DDX11L1:100287102;VC=SNV;R5;GNO;FREQ=GnomAD:1,1.493e-05,.,.|NorthernSweden:0.9983,.,.,0.001667|dbGaP_PopFreq:1,0,0,."
        },
        {
         "0": "NC_000001.11",
         "1": "10552",
         "2": "rs1287503569",
         "3": "G",
         "4": "A,C",
         "5": ".",
         "6": ".",
         "7": "RS=1287503569;dbSNPBuildID=155;SSR=0;PSEUDOGENEINFO=DDX11L1:100287102;VC=SNV;R5;GNO;FREQ=TOPMED:1,.,3.778e-06|dbGaP_PopFreq:1,0,0"
        },
        {
         "0": "NC_000001.11",
         "1": "10554",
         "2": "rs1639564171",
         "3": "A",
         "4": "G",
         "5": ".",
         "6": ".",
         "7": "RS=1639564171;dbSNPBuildID=155;SSR=0;PSEUDOGENEINFO=DDX11L1:100287102;VC=SNV;R5"
        },
        {
         "0": "NC_000001.11",
         "1": "10555",
         "2": "rs1246979956",
         "3": "G",
         "4": "A,C",
         "5": ".",
         "6": ".",
         "7": "RS=1246979956;dbSNPBuildID=151;SSR=0;PSEUDOGENEINFO=DDX11L1:100287102;VC=SNV;R5;GNO;FREQ=GnomAD:0.9999,.,6.097e-05|dbGaP_PopFreq:1,0,0"
        },
        {
         "0": "NC_000001.11",
         "1": "10557",
         "2": "rs1274238879",
         "3": "G",
         "4": "A",
         "5": ".",
         "6": ".",
         "7": "RS=1274238879;dbSNPBuildID=151;SSR=0;PSEUDOGENEINFO=DDX11L1:100287102;VC=SNV;R5;GNO;FREQ=dbGaP_PopFreq:1,0"
        },
        {
         "0": "NC_000001.11",
         "1": "10558",
         "2": "rs1337827140",
         "3": "G",
         "4": "A,C",
         "5": ".",
         "6": ".",
         "7": "RS=1337827140;dbSNPBuildID=151;SSR=0;PSEUDOGENEINFO=DDX11L1:100287102;VC=SNV;R5;GNO;FREQ=GnomAD:1,.,1.566e-05|dbGaP_PopFreq:0.9999,0,6.123e-05"
        },
        {
         "0": "NC_000001.11",
         "1": "10560",
         "2": "rs1379919052",
         "3": "C",
         "4": "A,G",
         "5": ".",
         "6": ".",
         "7": "RS=1379919052;dbSNPBuildID=154;SSR=0;PSEUDOGENEINFO=DDX11L1:100287102;VC=SNV;R5;GNO;FREQ=KOREAN:0.977,.,0.02298|TOMMO:0.9998,.,0.0002167|dbGaP_PopFreq:1,0,0"
        },
        {
         "0": "NC_000001.11",
         "1": "10561",
         "2": "rs1639564288",
         "3": "A",
         "4": "C",
         "5": ".",
         "6": ".",
         "7": "RS=1639564288;SSR=0;PSEUDOGENEINFO=DDX11L1:100287102;VC=SNV;R5;GNO;FREQ=dbGaP_PopFreq:1,0"
        },
        {
         "0": "NC_000001.11",
         "1": "10562",
         "2": "rs2100300741",
         "3": "A",
         "4": "G",
         "5": ".",
         "6": ".",
         "7": "RS=2100300741;dbSNPBuildID=156;SSR=0;PSEUDOGENEINFO=DDX11L1:100287102;VC=SNV;R5;GNO;FREQ=1000Genomes:0.9998,0.0001562"
        },
        {
         "0": "NC_000001.11",
         "1": "10563",
         "2": "rs1197872659",
         "3": "C",
         "4": "A,G,T",
         "5": ".",
         "6": ".",
         "7": "RS=1197872659;dbSNPBuildID=151;SSR=0;PSEUDOGENEINFO=DDX11L1:100287102;VC=SNV;R5;GNO;FREQ=1000Genomes:0.9997,0.0003123,.,.|GnomAD:1,.,.,3.174e-05|dbGaP_PopFreq:0.9999,0,6.126e-05,0"
        },
        {
         "0": "NC_000001.11",
         "1": "10564",
         "2": "rs1639564342",
         "3": "G",
         "4": "A,T",
         "5": ".",
         "6": ".",
         "7": "RS=1639564342;dbSNPBuildID=155;SSR=0;PSEUDOGENEINFO=DDX11L1:100287102;VC=SNV;R5;GNO;FREQ=dbGaP_PopFreq:1,.,0"
        },
        {
         "0": "NC_000001.11",
         "1": "10565",
         "2": "rs1274186157",
         "3": "C",
         "4": "A,T",
         "5": ".",
         "6": ".",
         "7": "RS=1274186157;dbSNPBuildID=151;SSR=0;PSEUDOGENEINFO=DDX11L1:100287102;VC=SNV;R5;GNO;FREQ=dbGaP_PopFreq:1,0,0"
        },
        {
         "0": "NC_000001.11",
         "1": "10566",
         "2": "rs868145672",
         "3": "A",
         "4": "G",
         "5": ".",
         "6": ".",
         "7": "RS=868145672;dbSNPBuildID=147;SSR=0;PSEUDOGENEINFO=DDX11L1:100287102;VC=SNV;R5;GNO;FREQ=Qatari:0.9954,0.00463"
        },
        {
         "0": "NC_000001.11",
         "1": "10567",
         "2": "rs940697307",
         "3": "G",
         "4": "A",
         "5": ".",
         "6": ".",
         "7": "RS=940697307;dbSNPBuildID=154;SSR=0;PSEUDOGENEINFO=DDX11L1:100287102;VC=SNV;R5;GNO;FREQ=1000Genomes:0.9998,0.0001562|SGDP_PRJ:0.5,0.5|dbGaP_PopFreq:0.9999,8.43e-05"
        },
        {
         "0": "NC_000001.11",
         "1": "10568",
         "2": "rs1639564430",
         "3": "C",
         "4": "T",
         "5": ".",
         "6": ".",
         "7": "RS=1639564430;dbSNPBuildID=155;SSR=0;PSEUDOGENEINFO=DDX11L1:100287102;VC=SNV;R5;GNO;FREQ=TOMMO:0.9997,0.00025"
        },
        {
         "0": "NC_000001.11",
         "1": "10570",
         "2": "rs1442282513",
         "3": "C",
         "4": "G",
         "5": ".",
         "6": ".",
         "7": "RS=1442282513;dbSNPBuildID=151;SSR=0;PSEUDOGENEINFO=DDX11L1:100287102;VC=SNV;R5;GNO;FREQ=dbGaP_PopFreq:1,0"
        },
        {
         "0": "NC_000001.11",
         "1": "10571",
         "2": "rs1186067446",
         "3": "C",
         "4": "T",
         "5": ".",
         "6": ".",
         "7": "RS=1186067446;dbSNPBuildID=151;SSR=0;PSEUDOGENEINFO=DDX11L1:100287102;VC=SNV;R5;GNO;FREQ=GnomAD:1,1.671e-05|dbGaP_PopFreq:1,0"
        },
        {
         "0": "NC_000001.11",
         "1": "10572",
         "2": "rs1047520034",
         "3": "G",
         "4": "A",
         "5": ".",
         "6": ".",
         "7": "RS=1047520034;SSR=0;PSEUDOGENEINFO=DDX11L1:100287102;VC=SNV;R5;GNO;FREQ=dbGaP_PopFreq:1,0"
        },
        {
         "0": "NC_000001.11",
         "1": "10574",
         "2": "rs1639564502",
         "3": "C",
         "4": "A,T",
         "5": ".",
         "6": ".",
         "7": "RS=1639564502;SSR=0;PSEUDOGENEINFO=DDX11L1:100287102;VC=SNV;R5;GNO;FREQ=dbGaP_PopFreq:1,0,0"
        },
        {
         "0": "NC_000001.11",
         "1": "10575",
         "2": "rs1244432302",
         "3": "C",
         "4": "G,T",
         "5": ".",
         "6": ".",
         "7": "RS=1244432302;dbSNPBuildID=151;SSR=0;PSEUDOGENEINFO=DDX11L1:100287102;VC=SNV;R5;GNO;FREQ=1000Genomes:0.9995,0.0004685,.|KOREAN:0.9934,0.006633,.|Korea1K:0.9981,0.001883,.|SGDP_PRJ:0.5,0.5,.|TOMMO:0.9999,0.0001214,.|dbGaP_PopFreq:1,0,0"
        },
        {
         "0": "NC_000001.11",
         "1": "10576",
         "2": "rs1639564560",
         "3": "T",
         "4": "G",
         "5": ".",
         "6": ".",
         "7": "RS=1639564560;dbSNPBuildID=155;SSR=0;PSEUDOGENEINFO=DDX11L1:100287102;VC=SNV;R5;GNO;FREQ=TOMMO:0.9999,6.239e-05"
        },
        {
         "0": "NC_000001.11",
         "1": "10578",
         "2": "rs887616066",
         "3": "G",
         "4": "A,C",
         "5": ".",
         "6": ".",
         "7": "RS=887616066;dbSNPBuildID=151;SSR=0;PSEUDOGENEINFO=DDX11L1:100287102;VC=SNV;R5;GNO;FREQ=1000Genomes:0.9998,.,0.0001562|GnomAD:1,.,2.128e-05|dbGaP_PopFreq:1,0,0"
        },
        {
         "0": "NC_000001.11",
         "1": "10579",
         "2": "rs538322974",
         "3": "C",
         "4": "A",
         "5": ".",
         "6": ".",
         "7": "RS=538322974;dbSNPBuildID=142;SSR=0;PSEUDOGENEINFO=DDX11L1:100287102;VC=SNV;R5;GNO;FREQ=1000Genomes:0.9998,0.0001997|dbGaP_PopFreq:0.9998,0.0001686"
        },
        {
         "0": "NC_000001.11",
         "1": "10580",
         "2": "rs1387993806",
         "3": "G",
         "4": "C,T",
         "5": ".",
         "6": ".",
         "7": "RS=1387993806;dbSNPBuildID=151;SSR=0;PSEUDOGENEINFO=DDX11L1:100287102;VC=SNV;R5;GNO;FREQ=dbGaP_PopFreq:1,0,0"
        },
        {
         "0": "NC_000001.11",
         "1": "10581",
         "2": "rs1442853137",
         "3": "G",
         "4": "A,T",
         "5": ".",
         "6": ".",
         "7": "RS=1442853137;dbSNPBuildID=154;SSR=0;PSEUDOGENEINFO=DDX11L1:100287102;VC=SNV;R5;GNO;FREQ=KOREAN:0.9911,0.008853,.|TOPMED:1,.,3.778e-06|dbGaP_PopFreq:1,0,0"
        },
        {
         "0": "NC_000001.11",
         "1": "10582",
         "2": "rs1463224626",
         "3": "T",
         "4": "C",
         "5": ".",
         "6": ".",
         "7": "RS=1463224626;dbSNPBuildID=151;SSR=0;PSEUDOGENEINFO=DDX11L1:100287102;VC=SNV;R5;GNO;FREQ=1000Genomes:0.9995,0.0004685|dbGaP_PopFreq:1,0"
        },
        {
         "0": "NC_000001.11",
         "1": "10583",
         "2": "rs58108140",
         "3": "G",
         "4": "A",
         "5": ".",
         "6": ".",
         "7": "RS=58108140;dbSNPBuildID=129;SSR=0;PSEUDOGENEINFO=DDX11L1:100287102;VC=SNV;R5;GNO;FREQ=1000Genomes:0.9653,0.03467|GnomAD:0.9931,0.006909|KOREAN:0.7399,0.2601|Korea1K:0.9979,0.002119|Qatari:0.6852,0.3148|SGDP_PRJ:0.4795,0.5205|Siberian:0.5,0.5|TOMMO:0.9952,0.004841|dbGaP_PopFreq:0.9299,0.07005;COMMON"
        },
        {
         "0": "NC_000001.11",
         "1": "10584",
         "2": "rs1639564762",
         "3": "C",
         "4": "A,T",
         "5": ".",
         "6": ".",
         "7": "RS=1639564762;dbSNPBuildID=155;SSR=0;PSEUDOGENEINFO=DDX11L1:100287102;VC=SNV;R5;GNO;FREQ=GnomAD:1,2.026e-05,.|dbGaP_PopFreq:1,.,0"
        },
        {
         "0": "NC_000001.11",
         "1": "10585",
         "2": "rs1639564781",
         "3": "T",
         "4": "A",
         "5": ".",
         "6": ".",
         "7": "RS=1639564781;SSR=0;PSEUDOGENEINFO=DDX11L1:100287102;VC=SNV;R5;GNO;FREQ=dbGaP_PopFreq:1,0"
        },
        {
         "0": "NC_000001.11",
         "1": "10586",
         "2": "rs1639564800",
         "3": "C",
         "4": "T",
         "5": ".",
         "6": ".",
         "7": "RS=1639564800;SSR=0;PSEUDOGENEINFO=DDX11L1:100287102;VC=SNV;R5;GNO;FREQ=dbGaP_PopFreq:1,0"
        },
        {
         "0": "NC_000001.11",
         "1": "10588",
         "2": "rs1401244958",
         "3": "C",
         "4": "A,G,T",
         "5": ".",
         "6": ".",
         "7": "RS=1401244958;dbSNPBuildID=151;SSR=0;PSEUDOGENEINFO=DDX11L1:100287102;VC=SNV;R5;GNO;FREQ=dbGaP_PopFreq:1,.,0,."
        },
        {
         "0": "NC_000001.11",
         "1": "10589",
         "2": "rs1639564866",
         "3": "C",
         "4": "CG",
         "5": ".",
         "6": ".",
         "7": "RS=1639564866;dbSNPBuildID=155;SSR=0;PSEUDOGENEINFO=DDX11L1:100287102;VC=INDEL;R5;GNO;FREQ=TOPMED:1,3.778e-06|dbGaP_PopFreq:1,0"
        },
        {
         "0": "NC_000001.11",
         "1": "10590",
         "2": "rs1421114991",
         "3": "G",
         "4": "A,C",
         "5": ".",
         "6": ".",
         "7": "RS=1421114991;dbSNPBuildID=156;SSR=0;PSEUDOGENEINFO=DDX11L1:100287102;VC=SNV;R5;GNO;FREQ=1000Genomes:0.9997,.,0.0003123|dbGaP_PopFreq:1,0,0"
        },
        {
         "0": "NC_000001.11",
         "1": "10591",
         "2": "rs1412669807",
         "3": "G",
         "4": "A,C",
         "5": ".",
         "6": ".",
         "7": "RS=1412669807;dbSNPBuildID=151;SSR=0;PSEUDOGENEINFO=DDX11L1:100287102;VC=SNV;R5;GNO;FREQ=dbGaP_PopFreq:1,0,0"
        },
        {
         "0": "NC_000001.11",
         "1": "10592",
         "2": "rs1470537563",
         "3": "G",
         "4": "A,C",
         "5": ".",
         "6": ".",
         "7": "RS=1470537563;dbSNPBuildID=156;SSR=0;PSEUDOGENEINFO=DDX11L1:100287102;VC=SNV;R5;GNO;FREQ=1000Genomes:0.9995,0.0004685,.|dbGaP_PopFreq:1,0,0"
        },
        {
         "0": "NC_000001.11",
         "1": "10593",
         "2": "rs1338690120",
         "3": "T",
         "4": "C",
         "5": ".",
         "6": ".",
         "7": "RS=1338690120;dbSNPBuildID=151;SSR=0;PSEUDOGENEINFO=DDX11L1:100287102;VC=SNV;R5;GNO;FREQ=GnomAD:0.9998,0.0001807|dbGaP_PopFreq:0.9995,0.0004898"
        },
        {
         "0": "NC_000001.11",
         "1": "10594",
         "2": "rs1408345670",
         "3": "C",
         "4": "G",
         "5": ".",
         "6": ".",
         "7": "RS=1408345670;dbSNPBuildID=151;SSR=0;PSEUDOGENEINFO=DDX11L1:100287102;VC=SNV;R5;GNO;FREQ=dbGaP_PopFreq:0.9999,8.43e-05"
        },
        {
         "0": "NC_000001.11",
         "1": "10595",
         "2": "rs1639564980",
         "3": "T",
         "4": "A,C",
         "5": ".",
         "6": ".",
         "7": "RS=1639564980;dbSNPBuildID=155;SSR=0;PSEUDOGENEINFO=DDX11L1:100287102;VC=SNV;R5;GNO;FREQ=TOPMED:1,3.778e-06,.|dbGaP_PopFreq:1,0,0"
        },
        {
         "0": "NC_000001.11",
         "1": "10596",
         "2": "rs1446632268",
         "3": "G",
         "4": "C,T",
         "5": ".",
         "6": ".",
         "7": "RS=1446632268;dbSNPBuildID=155;SSR=0;PSEUDOGENEINFO=DDX11L1:100287102;VC=SNV;R5;GNO;FREQ=GnomAD:1,2.28e-05,.|TOMMO:0.9999,.,0.0001248|dbGaP_PopFreq:1,0,."
        },
        {
         "0": "NC_000001.11",
         "1": "10597",
         "2": "rs1453531367",
         "3": "T",
         "4": "G",
         "5": ".",
         "6": ".",
         "7": "RS=1453531367;dbSNPBuildID=151;SSR=0;PSEUDOGENEINFO=DDX11L1:100287102;VC=SNV;R5;GNO;FREQ=dbGaP_PopFreq:1,0"
        },
        {
         "0": "NC_000001.11",
         "1": "10598",
         "2": "rs1639565053",
         "3": "G",
         "4": "A,C",
         "5": ".",
         "6": ".",
         "7": "RS=1639565053;dbSNPBuildID=155;SSR=0;PSEUDOGENEINFO=DDX11L1:100287102;VC=SNV;R5;GNO;FREQ=GnomAD:1,2.318e-05,.|TOPMED:1,3.778e-06,.|dbGaP_PopFreq:1,0,0"
        },
        {
         "0": "NC_000001.11",
         "1": "10599",
         "2": "rs1639565075",
         "3": "C",
         "4": "G",
         "5": ".",
         "6": ".",
         "7": "RS=1639565075;dbSNPBuildID=155;SSR=0;PSEUDOGENEINFO=DDX11L1:100287102;VC=SNV;R5;GNO;FREQ=TOPMED:1,3.778e-06|dbGaP_PopFreq:1,0"
        },
        {
         "0": "NC_000001.11",
         "1": "10600",
         "2": "rs1298261751",
         "3": "T",
         "4": "A",
         "5": ".",
         "6": ".",
         "7": "RS=1298261751;SSR=0;PSEUDOGENEINFO=DDX11L1:100287102;VC=SNV;R5;GNO;FREQ=dbGaP_PopFreq:0.9999,8.43e-05"
        },
        {
         "0": "NC_000001.11",
         "1": "10601",
         "2": "rs1296991184",
         "3": "G",
         "4": "A,C",
         "5": ".",
         "6": ".",
         "7": "RS=1296991184;dbSNPBuildID=151;SSR=0;PSEUDOGENEINFO=DDX11L1:100287102;VC=SNV;R5;GNO;FREQ=GnomAD:1,2.496e-05,.|KOREAN:0.988,0.01204,.|SGDP_PRJ:0.5,0.5,.|TOPMED:1,.,1.133e-05|dbGaP_PopFreq:1,0,0"
        },
        {
         "0": "NC_000001.11",
         "1": "10603",
         "2": "rs200782791",
         "3": "G",
         "4": "A",
         "5": ".",
         "6": ".",
         "7": "RS=200782791;dbSNPBuildID=137;SSR=0;PSEUDOGENEINFO=DDX11L1:100287102;VC=SNV;R5"
        },
        {
         "0": "NC_000001.11",
         "1": "10604",
         "2": "rs1324867574",
         "3": "G",
         "4": "A,C",
         "5": ".",
         "6": ".",
         "7": "RS=1324867574;dbSNPBuildID=151;SSR=0;PSEUDOGENEINFO=DDX11L1:100287102;VC=SNV;R5;GNO;FREQ=TOPMED:1,.,1.133e-05|dbGaP_PopFreq:1,0,0"
        },
        {
         "0": "NC_000001.11",
         "1": "10605",
         "2": "rs1639565211",
         "3": "A",
         "4": "C",
         "5": ".",
         "6": ".",
         "7": "RS=1639565211;SSR=0;PSEUDOGENEINFO=DDX11L1:100287102;VC=SNV;R5;GNO;FREQ=dbGaP_PopFreq:1,0"
        },
        {
         "0": "NC_000001.11",
         "1": "10606",
         "2": "rs1639565230",
         "3": "G",
         "4": "C",
         "5": ".",
         "6": ".",
         "7": "RS=1639565230;SSR=0;PSEUDOGENEINFO=DDX11L1:100287102;VC=SNV;R5;GNO;FREQ=dbGaP_PopFreq:1,0"
        },
        {
         "0": "NC_000001.11",
         "1": "10609",
         "2": "rs1229891299",
         "3": "C",
         "4": "A,G,T",
         "5": ".",
         "6": ".",
         "7": "RS=1229891299;dbSNPBuildID=151;SSR=0;PSEUDOGENEINFO=DDX11L1:100287102;VC=SNV;R5;GNO;FREQ=SGDP_PRJ:0.5,.,.,0.5|dbGaP_PopFreq:1,0,0,0"
        },
        {
         "0": "NC_000001.11",
         "1": "10610",
         "2": "rs1639565283",
         "3": "G",
         "4": "A,C",
         "5": ".",
         "6": ".",
         "7": "RS=1639565283;dbSNPBuildID=155;SSR=0;PSEUDOGENEINFO=DDX11L1:100287102;VC=SNV;R5;GNO;FREQ=TOMMO:0.9999,.,6.498e-05|dbGaP_PopFreq:1,0,0"
        },
        {
         "0": "NC_000001.11",
         "1": "10611",
         "2": "rs189107123",
         "3": "C",
         "4": "A,G,T",
         "5": ".",
         "6": ".",
         "7": "RS=189107123;dbSNPBuildID=135;SSR=0;PSEUDOGENEINFO=DDX11L1:100287102;VC=SNV;R5;GNO;FREQ=KOREAN:0.9952,.,0.004771,.|Qatari:0.8785,.,0.1215,.|SGDP_PRJ:0.5,.,0.4375,0.0625|TOMMO:0.7436,.,0.2564,.|dbGaP_PopFreq:0.9994,0,0.0006349,0;COMMON"
        },
        {
         "0": "NC_000001.11",
         "1": "10612",
         "2": "rs1441784962",
         "3": "A",
         "4": "C",
         "5": ".",
         "6": ".",
         "7": "RS=1441784962;dbSNPBuildID=155;SSR=0;PSEUDOGENEINFO=DDX11L1:100287102;VC=SNV;R5;GNO;FREQ=TOPMED:1,3.778e-06|dbGaP_PopFreq:1,0"
        },
        {
         "0": "NC_000001.11",
         "1": "10612",
         "2": "rs1557426951",
         "3": "AACTCCGCCGTTGCAAAGGCGC",
         "4": "A",
         "5": ".",
         "6": ".",
         "7": "RS=1557426951;dbSNPBuildID=153;SSR=0;PSEUDOGENEINFO=DDX11L1:100287102;VC=DEL;R5"
        },
        {
         "0": "NC_000001.11",
         "1": "10613",
         "2": "rs1209429057",
         "3": "A",
         "4": "C,G",
         "5": ".",
         "6": ".",
         "7": "RS=1209429057;SSR=0;PSEUDOGENEINFO=DDX11L1:100287102;VC=SNV;R5;GNO;FREQ=dbGaP_PopFreq:1,0,0"
        },
        {
         "0": "NC_000001.11",
         "1": "10613",
         "2": "rs1557426954",
         "3": "ACTCCGCCGTTGCAAAGGCGCG",
         "4": "A",
         "5": ".",
         "6": ".",
         "7": "RS=1557426954;dbSNPBuildID=153;SSR=0;PSEUDOGENEINFO=DDX11L1:100287102;VC=INDEL;R5"
        },
        {
         "0": "NC_000001.11",
         "1": "10615",
         "2": "rs1481714525",
         "3": "T",
         "4": "A",
         "5": ".",
         "6": ".",
         "7": "RS=1481714525;SSR=0;PSEUDOGENEINFO=DDX11L1:100287102;VC=SNV;R5;GNO;FREQ=dbGaP_PopFreq:0.9992,0.000843"
        },
        {
         "0": "NC_000001.11",
         "1": "10615",
         "2": "rs1557426956",
         "3": "TCCGCCGTTGCAAAGGCGCGCC",
         "4": "T",
         "5": ".",
         "6": ".",
         "7": "RS=1557426956;dbSNPBuildID=153;SSR=0;PSEUDOGENEINFO=DDX11L1:100287102;VC=DEL;R5;GNO;FREQ=dbGaP_PopFreq:1,0"
        },
        {
         "0": "NC_000001.11",
         "1": "10616",
         "2": "rs376342519",
         "3": "CCGCCGTTGCAAAGGCGCGCCG",
         "4": "C",
         "5": ".",
         "6": ".",
         "7": "RS=376342519;dbSNPBuildID=142;SSR=0;PSEUDOGENEINFO=DDX11L1:100287102;VC=INDEL;R5;GNO;FREQ=1000Genomes:0.006989,0.993|GENOME_DK:0,1|Korea1K:0.8689,0.1311|TOMMO:0.9971,0.002885;COMMON"
        },
        {
         "0": "NC_000001.11",
         "1": "10617",
         "2": "rs1175682953",
         "3": "C",
         "4": "A,T",
         "5": ".",
         "6": ".",
         "7": "RS=1175682953;SSR=0;PSEUDOGENEINFO=DDX11L1:100287102;VC=SNV;R5;GNO;FREQ=dbGaP_PopFreq:1,0,0"
        },
        {
         "0": "NC_000001.11",
         "1": "10617",
         "2": "rs1202326223",
         "3": "CGCCG",
         "4": "C",
         "5": ".",
         "6": ".",
         "7": "RS=1202326223;dbSNPBuildID=151;SSR=0;PSEUDOGENEINFO=DDX11L1:100287102;VC=DEL;R5"
        },
        {
         "0": "NC_000001.11",
         "1": "10618",
         "2": "rs1265585816",
         "3": "GCC",
         "4": "G",
         "5": ".",
         "6": ".",
         "7": "RS=1265585816;dbSNPBuildID=151;SSR=0;PSEUDOGENEINFO=DDX11L1:100287102;VC=DEL;R5;GNO;FREQ=TOMMO:0.9997,0.0002677"
        },
        {
         "0": "NC_000001.11",
         "1": "10618",
         "2": "rs1411560884",
         "3": "G",
         "4": "A",
         "5": ".",
         "6": ".",
         "7": "RS=1411560884;SSR=0;PSEUDOGENEINFO=DDX11L1:100287102;VC=SNV;R5;GNO;FREQ=dbGaP_PopFreq:1,0"
        },
        {
         "0": "NC_000001.11",
         "1": "10619",
         "2": "rs1461361648",
         "3": "CCGTTG",
         "4": "C",
         "5": ".",
         "6": ".",
         "7": "RS=1461361648;dbSNPBuildID=151;SSR=0;PSEUDOGENEINFO=DDX11L1:100287102;VC=INDEL;R5"
        },
        {
         "0": "NC_000001.11",
         "1": "10619",
         "2": "rs1639565648",
         "3": "CCGTTGCAAAGGCG",
         "4": "C",
         "5": ".",
         "6": ".",
         "7": "RS=1639565648;SSR=0;PSEUDOGENEINFO=DDX11L1:100287102;VC=INDEL;R5;GNO;FREQ=dbGaP_PopFreq:0.9997,0.0002809"
        },
        {
         "0": "NC_000001.11",
         "1": "10620",
         "2": "rs1480963373",
         "3": "CGTTGCAAA",
         "4": "C",
         "5": ".",
         "6": ".",
         "7": "RS=1480963373;SSR=0;PSEUDOGENEINFO=DDX11L1:100287102;VC=INDEL;R5;GNO;FREQ=dbGaP_PopFreq:1,0"
        },
        {
         "0": "NC_000001.11",
         "1": "10620",
         "2": "rs1639565610",
         "3": "C",
         "4": "T",
         "5": ".",
         "6": ".",
         "7": "RS=1639565610;SSR=0;PSEUDOGENEINFO=DDX11L1:100287102;VC=SNV;R5;GNO;FREQ=dbGaP_PopFreq:1,0"
        },
        {
         "0": "NC_000001.11",
         "1": "10621",
         "2": "rs1179100859",
         "3": "G",
         "4": "A,C",
         "5": ".",
         "6": ".",
         "7": "RS=1179100859;dbSNPBuildID=154;SSR=0;PSEUDOGENEINFO=DDX11L1:100287102;VC=SNV;R5;GNO;FREQ=SGDP_PRJ:0,.,1|dbGaP_PopFreq:0.9999,0,8.43e-05"
        },
        {
         "0": "NC_000001.11",
         "1": "10621",
         "2": "rs1570392569",
         "3": "GTT",
         "4": "G",
         "5": ".",
         "6": ".",
         "7": "RS=1570392569;dbSNPBuildID=154;SSR=0;PSEUDOGENEINFO=DDX11L1:100287102;VC=DEL;R5;GNO;FREQ=TOMMO:0.9911,0.008864"
        },
        {
         "0": "NC_000001.11",
         "1": "10621",
         "2": "rs1639565747",
         "3": "GTTGCAAAGGCGCGCC",
         "4": "G",
         "5": ".",
         "6": ".",
         "7": "RS=1639565747;SSR=0;PSEUDOGENEINFO=DDX11L1:100287102;VC=DEL;R5;GNO;FREQ=dbGaP_PopFreq:1,0"
        },
        {
         "0": "NC_000001.11",
         "1": "10621",
         "2": "rs1639565762",
         "3": "GTTGCAAAGGCGCGCCGCGC",
         "4": "G",
         "5": ".",
         "6": ".",
         "7": "RS=1639565762;dbSNPBuildID=155;SSR=0;PSEUDOGENEINFO=DDX11L1:100287102;VC=DEL;R5;GNO;FREQ=TOMMO:0.9997,0.000277"
        },
        {
         "0": "NC_000001.11",
         "1": "10622",
         "2": "rs1427740722",
         "3": "T",
         "4": "C,G",
         "5": ".",
         "6": ".",
         "7": "RS=1427740722;dbSNPBuildID=154;SSR=0;PSEUDOGENEINFO=DDX11L1:100287102;VC=SNV;R5;GNO;FREQ=Korea1K:0.9412,.,0.05882|SGDP_PRJ:0.0125,.,0.9875|TOMMO:0.9943,.,0.005737|dbGaP_PopFreq:1,0,0;COMMON"
        },
        {
         "0": "NC_000001.11",
         "1": "10623",
         "2": "rs1207502826",
         "3": "T",
         "4": "C,G",
         "5": ".",
         "6": ".",
         "7": "RS=1207502826;dbSNPBuildID=151;SSR=0;PSEUDOGENEINFO=DDX11L1:100287102;VC=SNV;R5;GNO;FREQ=Korea1K:0.7273,0.2727,.|SGDP_PRJ:0,1,.|TOMMO:0.1557,0.8443,.|dbGaP_PopFreq:1,0,0;COMMON"
        },
        {
         "0": "NC_000001.11",
         "1": "10624",
         "2": "rs1439453463",
         "3": "G",
         "4": "A,T",
         "5": ".",
         "6": ".",
         "7": "RS=1439453463;SSR=0;PSEUDOGENEINFO=DDX11L1:100287102;VC=SNV;R5;GNO;FREQ=dbGaP_PopFreq:1,0,0"
        },
        {
         "0": "NC_000001.11",
         "1": "10626",
         "2": "rs1639565836",
         "3": "A",
         "4": "G",
         "5": ".",
         "6": ".",
         "7": "RS=1639565836;dbSNPBuildID=155;SSR=0;PSEUDOGENEINFO=DDX11L1:100287102;VC=SNV;R5;GNO;FREQ=TOMMO:0.9991,0.000903"
        },
        {
         "0": "NC_000001.11",
         "1": "10626",
         "2": "rs1639565881",
         "3": "AAAGGCGCGCCGCGCCGGCG",
         "4": "A",
         "5": ".",
         "6": ".",
         "7": "RS=1639565881;dbSNPBuildID=155;SSR=0;PSEUDOGENEINFO=DDX11L1:100287102;VC=DEL;R5;GNO;FREQ=TOMMO:0.9999,8.209e-05"
        },
        {
         "0": "NC_000001.11",
         "1": "10627",
         "2": "rs1345816708",
         "3": "A",
         "4": "AAG",
         "5": ".",
         "6": ".",
         "7": "RS=1345816708;SSR=0;PSEUDOGENEINFO=DDX11L1:100287102;VC=INDEL;R5;GNO;FREQ=dbGaP_PopFreq:1,0"
        },
        {
         "0": "NC_000001.11",
         "1": "10627",
         "2": "rs1406482235",
         "3": "A",
         "4": "C,G",
         "5": ".",
         "6": ".",
         "7": "RS=1406482235;dbSNPBuildID=155;SSR=0;PSEUDOGENEINFO=DDX11L1:100287102;VC=SNV;R5;GNO;FREQ=TOMMO:0.9989,0.001052,.|dbGaP_PopFreq:0.9997,.,0.0003372"
        },
        {
         "0": "NC_000001.11",
         "1": "10627",
         "2": "rs1639565946",
         "3": "A",
         "4": "AAGGCAG",
         "5": ".",
         "6": ".",
         "7": "RS=1639565946;SSR=0;PSEUDOGENEINFO=DDX11L1:100287102;VC=INDEL;R5;GNO;FREQ=dbGaP_PopFreq:1,0"
        },
        {
         "0": "NC_000001.11",
         "1": "10628",
         "2": "rs1281149672",
         "3": "A",
         "4": "AGG",
         "5": ".",
         "6": ".",
         "7": "RS=1281149672;SSR=0;PSEUDOGENEINFO=DDX11L1:100287102;VC=INDEL;R5;GNO;FREQ=dbGaP_PopFreq:1,0"
        },
        {
         "0": "NC_000001.11",
         "1": "10628",
         "2": "rs1639565905",
         "3": "A",
         "4": "C",
         "5": ".",
         "6": ".",
         "7": "RS=1639565905;SSR=0;PSEUDOGENEINFO=DDX11L1:100287102;VC=SNV;R5;GNO;FREQ=dbGaP_PopFreq:1,0"
        },
        {
         "0": "NC_000001.11",
         "1": "10628",
         "2": "rs1639566004",
         "3": "A",
         "4": "AGGCGC",
         "5": ".",
         "6": ".",
         "7": "RS=1639566004;SSR=0;PSEUDOGENEINFO=DDX11L1:100287102;VC=INDEL;R5;GNO;FREQ=dbGaP_PopFreq:1,0"
        },
        {
         "0": "NC_000001.11",
         "1": "10629",
         "2": "rs1215112722",
         "3": "GGC",
         "4": "G,GGCGC",
         "5": ".",
         "6": ".",
         "7": "RS=1215112722;dbSNPBuildID=153;SSR=0;PSEUDOGENEINFO=DDX11L1:100287102;VC=INDEL;R5;GNO;FREQ=dbGaP_PopFreq:1,0,0"
        },
        {
         "0": "NC_000001.11",
         "1": "10629",
         "2": "rs1344169749",
         "3": "G",
         "4": "A,C",
         "5": ".",
         "6": ".",
         "7": "RS=1344169749;SSR=0;PSEUDOGENEINFO=DDX11L1:100287102;VC=SNV;R5;GNO;FREQ=dbGaP_PopFreq:0.9997,0.0003412,0"
        },
        {
         "0": "NC_000001.11",
         "1": "10630",
         "2": "rs1491354133",
         "3": "GCGCGC",
         "4": "G,GCGCGCCGCGC",
         "5": ".",
         "6": ".",
         "7": "RS=1491354133;SSR=0;PSEUDOGENEINFO=DDX11L1:100287102;VC=INDEL;R5;GNO;FREQ=dbGaP_PopFreq:1,0,0"
        },
        {
         "0": "NC_000001.11",
         "1": "10630",
         "2": "rs1639566024",
         "3": "G",
         "4": "C",
         "5": ".",
         "6": ".",
         "7": "RS=1639566024;SSR=0;PSEUDOGENEINFO=DDX11L1:100287102;VC=SNV;R5;GNO;FREQ=dbGaP_PopFreq:0.9999,9.363e-05"
        },
        {
         "0": "NC_000001.11",
         "1": "10630",
         "2": "rs1639566087",
         "3": "G",
         "4": "GCGC",
         "5": ".",
         "6": ".",
         "7": "RS=1639566087;SSR=0;PSEUDOGENEINFO=DDX11L1:100287102;VC=INDEL;R5;GNO;FREQ=dbGaP_PopFreq:1,0"
        },
        {
         "0": "NC_000001.11",
         "1": "10631",
         "2": "rs1639566072",
         "3": "C",
         "4": "T",
         "5": ".",
         "6": ".",
         "7": "RS=1639566072;SSR=0;PSEUDOGENEINFO=DDX11L1:100287102;VC=SNV;R5;GNO;FREQ=dbGaP_PopFreq:1,0"
        },
        {
         "0": "NC_000001.11",
         "1": "10632",
         "2": "rs1639566127",
         "3": "G",
         "4": "A",
         "5": ".",
         "6": ".",
         "7": "RS=1639566127;SSR=0;PSEUDOGENEINFO=DDX11L1:100287102;VC=SNV;R5;GNO;FREQ=dbGaP_PopFreq:1,0"
        },
        {
         "0": "NC_000001.11",
         "1": "10633",
         "2": "rs1203196586",
         "3": "C",
         "4": "T",
         "5": ".",
         "6": ".",
         "7": "RS=1203196586;SSR=0;PSEUDOGENEINFO=DDX11L1:100287102;VC=SNV;R5;GNO;FREQ=dbGaP_PopFreq:1,0"
        },
        {
         "0": "NC_000001.11",
         "1": "10634",
         "2": "rs1251338860",
         "3": "G",
         "4": "C",
         "5": ".",
         "6": ".",
         "7": "RS=1251338860;SSR=0;PSEUDOGENEINFO=DDX11L1:100287102;VC=SNV;R5;GNO;FREQ=dbGaP_PopFreq:0.9993,0.0006744"
        },
        {
         "0": "NC_000001.11",
         "1": "10635",
         "2": "rs1570392588",
         "3": "C",
         "4": "G",
         "5": ".",
         "6": ".",
         "7": "RS=1570392588;dbSNPBuildID=154;SSR=0;PSEUDOGENEINFO=DDX11L1:100287102;VC=SNV;R5;GNO;FREQ=SGDP_PRJ:0.0625,0.9375"
        },
        {
         "0": "NC_000001.11",
         "1": "10636",
         "2": "rs1201957060",
         "3": "CGCGCCGGCGCA",
         "4": "C",
         "5": ".",
         "6": ".",
         "7": "RS=1201957060;SSR=0;PSEUDOGENEINFO=DDX11L1:100287102;VC=INDEL;R5;GNO;FREQ=dbGaP_PopFreq:1,0"
        },
        {
         "0": "NC_000001.11",
         "1": "10636",
         "2": "rs1490577829",
         "3": "C",
         "4": "G",
         "5": ".",
         "6": ".",
         "7": "RS=1490577829;dbSNPBuildID=154;SSR=0;PSEUDOGENEINFO=DDX11L1:100287102;VC=SNV;R5;GNO;FREQ=SGDP_PRJ:0,1|dbGaP_PopFreq:1,0"
        },
        {
         "0": "NC_000001.11",
         "1": "10636",
         "2": "rs1639566244",
         "3": "CGCGCCG",
         "4": "C",
         "5": ".",
         "6": ".",
         "7": "RS=1639566244;SSR=0;PSEUDOGENEINFO=DDX11L1:100287102;VC=INDEL;R5;GNO;FREQ=dbGaP_PopFreq:1,0"
        },
        {
         "0": "NC_000001.11",
         "1": "10636",
         "2": "rs1639566278",
         "3": "CGCGCCGGCGCAG",
         "4": "C",
         "5": ".",
         "6": ".",
         "7": "RS=1639566278;SSR=0;PSEUDOGENEINFO=DDX11L1:100287102;VC=INDEL;R5;GNO;FREQ=dbGaP_PopFreq:1,0"
        },
        {
         "0": "NC_000001.11",
         "1": "10637",
         "2": "rs1639566226",
         "3": "G",
         "4": "A",
         "5": ".",
         "6": ".",
         "7": "RS=1639566226;SSR=0;PSEUDOGENEINFO=DDX11L1:100287102;VC=SNV;R5;GNO;FREQ=dbGaP_PopFreq:1,0"
        },
        {
         "0": "NC_000001.11",
         "1": "10639",
         "2": "rs1245373687",
         "3": "G",
         "4": "A,C",
         "5": ".",
         "6": ".",
         "7": "RS=1245373687;SSR=0;PSEUDOGENEINFO=DDX11L1:100287102;VC=SNV;R5;GNO;FREQ=dbGaP_PopFreq:1,0,0"
        },
        {
         "0": "NC_000001.11",
         "1": "10641",
         "2": "rs1006094974",
         "3": "C",
         "4": "A,T",
         "5": ".",
         "6": ".",
         "7": "RS=1006094974;dbSNPBuildID=151;SSR=0;PSEUDOGENEINFO=DDX11L1:100287102;VC=SNV;R5;GNO;FREQ=dbGaP_PopFreq:1,.,0"
        },
        {
         "0": "NC_000001.11",
         "1": "10641",
         "2": "rs1477959359",
         "3": "CGGCGCA",
         "4": "C,CGGCGCAGGCGCA",
         "5": ".",
         "6": ".",
         "7": "RS=1477959359;dbSNPBuildID=155;SSR=0;PSEUDOGENEINFO=DDX11L1:100287102;VC=INDEL;R5;GNO;FREQ=TOPMED:1,.,3.778e-06|dbGaP_PopFreq:1,0,0"
        },
        {
         "0": "NC_000001.11",
         "1": "10642",
         "2": "rs558604819",
         "3": "G",
         "4": "A,C",
         "5": ".",
         "6": ".",
         "7": "RS=558604819;dbSNPBuildID=142;SSR=0;PSEUDOGENEINFO=DDX11L1:100287102;VC=SNV;R5;GNO;FREQ=1000Genomes:0.9958,0.004193,.|KOREAN:0.9931,.,0.006928|SGDP_PRJ:0.06,.,0.94|dbGaP_PopFreq:1,0,0"
        },
        {
         "0": "NC_000001.11",
         "1": "10646",
         "2": "rs1570392597",
         "3": "C",
         "4": "G",
         "5": ".",
         "6": ".",
         "7": "RS=1570392597;dbSNPBuildID=154;SSR=0;PSEUDOGENEINFO=DDX11L1:100287102;VC=SNV;R5;GNO;FREQ=SGDP_PRJ:0,1"
        },
        {
         "0": "NC_000001.11",
         "1": "10647",
         "2": "rs1168976375",
         "3": "A",
         "4": "C,G",
         "5": ".",
         "6": ".",
         "7": "RS=1168976375;SSR=0;PSEUDOGENEINFO=DDX11L1:100287102;VC=SNV;R5;GNO;FREQ=dbGaP_PopFreq:1,0,0"
        },
        {
         "0": "NC_000001.11",
         "1": "10648",
         "2": "rs1639566464",
         "3": "G",
         "4": "C",
         "5": ".",
         "6": ".",
         "7": "RS=1639566464;SSR=0;PSEUDOGENEINFO=DDX11L1:100287102;VC=SNV;R5;GNO;FREQ=dbGaP_PopFreq:1,0"
        },
        {
         "0": "NC_000001.11",
         "1": "10649",
         "2": "rs1407701663",
         "3": "G",
         "4": "A",
         "5": ".",
         "6": ".",
         "7": "RS=1407701663;dbSNPBuildID=154;SSR=0;PSEUDOGENEINFO=DDX11L1:100287102;VC=SNV;R5;GNO;FREQ=KOREAN:0.9388,0.0612|dbGaP_PopFreq:0.9966,0.003372"
        },
        {
         "0": "NC_000001.11",
         "1": "10653",
         "2": "rs1429861185",
         "3": "A",
         "4": "G,T",
         "5": ".",
         "6": ".",
         "7": "RS=1429861185;dbSNPBuildID=151;SSR=0;PSEUDOGENEINFO=DDX11L1:100287102;VC=SNV;R5;GNO;FREQ=SGDP_PRJ:0,0.5,0.5|TOMMO:1,3.622e-05,.|dbGaP_PopFreq:0.9997,0.0002529,."
        },
        {
         "0": "NC_000001.11",
         "1": "10654",
         "2": "rs1193520547",
         "3": "G",
         "4": "C",
         "5": ".",
         "6": ".",
         "7": "RS=1193520547;dbSNPBuildID=151;SSR=0;PSEUDOGENEINFO=DDX11L1:100287102;VC=SNV;R5;GNO;FREQ=SGDP_PRJ:0.05556,0.9444"
        },
        {
         "0": "NC_000001.11",
         "1": "10655",
         "2": "rs1365739475",
         "3": "A",
         "4": "G",
         "5": ".",
         "6": ".",
         "7": "RS=1365739475;dbSNPBuildID=156;SSR=0;PSEUDOGENEINFO=DDX11L1:100287102;VC=SNV;R5;GNO;FREQ=dbGaP_PopFreq:0.9993,0.0006744"
        },
        {
         "0": "NC_000001.11",
         "1": "10656",
         "2": "rs1426195087",
         "3": "G",
         "4": "C",
         "5": ".",
         "6": ".",
         "7": "RS=1426195087;SSR=0;PSEUDOGENEINFO=DDX11L1:100287102;VC=SNV;R5;GNO;FREQ=dbGaP_PopFreq:0.9985,0.001517"
        },
        {
         "0": "NC_000001.11",
         "1": "10657",
         "2": "rs1376848026",
         "3": "A",
         "4": "C,G",
         "5": ".",
         "6": ".",
         "7": "RS=1376848026;dbSNPBuildID=151;SSR=0;PSEUDOGENEINFO=DDX11L1:100287102;VC=SNV;R5;GNO;FREQ=dbGaP_PopFreq:1,0,0"
        },
        {
         "0": "NC_000001.11",
         "1": "10658",
         "2": "rs1476940143",
         "3": "G",
         "4": "A,C",
         "5": ".",
         "6": ".",
         "7": "RS=1476940143;dbSNPBuildID=151;SSR=0;PSEUDOGENEINFO=DDX11L1:100287102;VC=SNV;R5;GNO;FREQ=dbGaP_PopFreq:1,0,0"
        },
        {
         "0": "NC_000001.11",
         "1": "10659",
         "2": "rs1178470607",
         "3": "G",
         "4": "A,C",
         "5": ".",
         "6": ".",
         "7": "RS=1178470607;dbSNPBuildID=151;SSR=0;PSEUDOGENEINFO=DDX11L1:100287102;VC=SNV;R5;GNO;FREQ=TOMMO:0.9999,5.994e-05,.|dbGaP_PopFreq:0.9997,0.000265,0"
        },
        {
         "0": "NC_000001.11",
         "1": "10663",
         "2": "rs1330273854",
         "3": "G",
         "4": "A,C",
         "5": ".",
         "6": ".",
         "7": "RS=1330273854;SSR=0;PSEUDOGENEINFO=DDX11L1:100287102;VC=SNV;R5;GNO;FREQ=dbGaP_PopFreq:1,0,0"
        },
        {
         "0": "NC_000001.11",
         "1": "10664",
         "2": "rs868575726",
         "3": "C",
         "4": "G",
         "5": ".",
         "6": ".",
         "7": "RS=868575726;dbSNPBuildID=147;SSR=0;PSEUDOGENEINFO=DDX11L1:100287102;VC=SNV;R5;GNO;FREQ=KOREAN:0.978,0.02199|Qatari:0.8636,0.1364|SGDP_PRJ:0.07333,0.9267|dbGaP_PopFreq:1,0;COMMON"
        },
        {
         "0": "NC_000001.11",
         "1": "10665",
         "2": "rs1570392618",
         "3": "C",
         "4": "A,G",
         "5": ".",
         "6": ".",
         "7": "RS=1570392618;dbSNPBuildID=154;SSR=0;PSEUDOGENEINFO=DDX11L1:100287102;VC=SNV;R5;GNO;FREQ=SGDP_PRJ:0.1667,.,0.8333|dbGaP_PopFreq:1,0,."
        },
        {
         "0": "NC_000001.11",
         "1": "10666",
         "2": "rs1429848064",
         "3": "G",
         "4": "A,C,T",
         "5": ".",
         "6": ".",
         "7": "RS=1429848064;dbSNPBuildID=151;SSR=0;PSEUDOGENEINFO=DDX11L1:100287102;VC=SNV;R5;GNO;FREQ=SGDP_PRJ:0,.,.,1|dbGaP_PopFreq:1,0,0,0"
        },
        {
         "0": "NC_000001.11",
         "1": "10667",
         "2": "rs1456667724",
         "3": "C",
         "4": "G,T",
         "5": ".",
         "6": ".",
         "7": "RS=1456667724;dbSNPBuildID=151;SSR=0;PSEUDOGENEINFO=DDX11L1:100287102;VC=SNV;R5;GNO;FREQ=dbGaP_PopFreq:1,0,."
        },
        {
         "0": "NC_000001.11",
         "1": "10668",
         "2": "rs1639567316",
         "3": "G",
         "4": "C",
         "5": ".",
         "6": ".",
         "7": "RS=1639567316;SSR=0;PSEUDOGENEINFO=DDX11L1:100287102;VC=SNV;R5;GNO;FREQ=dbGaP_PopFreq:1,0"
        },
        {
         "0": "NC_000001.11",
         "1": "10669",
         "2": "rs1359858289",
         "3": "C",
         "4": "G",
         "5": ".",
         "6": ".",
         "7": "RS=1359858289;SSR=0;PSEUDOGENEINFO=DDX11L1:100287102;VC=SNV;R5;GNO;FREQ=dbGaP_PopFreq:0.9999,8.43e-05"
        },
        {
         "0": "NC_000001.11",
         "1": "10670",
         "2": "rs1319893063",
         "3": "C",
         "4": "A",
         "5": ".",
         "6": ".",
         "7": "RS=1319893063;dbSNPBuildID=151;SSR=0;PSEUDOGENEINFO=DDX11L1:100287102;VC=SNV;R5"
        },
        {
         "0": "NC_000001.11",
         "1": "10670",
         "2": "rs1639567379",
         "3": "C",
         "4": "CGGCGCA",
         "5": ".",
         "6": ".",
         "7": "RS=1639567379;SSR=0;PSEUDOGENEINFO=DDX11L1:100287102;VC=INDEL;R5;GNO;FREQ=dbGaP_PopFreq:1,0"
        },
        {
         "0": "NC_000001.11",
         "1": "10671",
         "2": "rs1226204851",
         "3": "G",
         "4": "C",
         "5": ".",
         "6": ".",
         "7": "RS=1226204851;dbSNPBuildID=154;SSR=0;PSEUDOGENEINFO=DDX11L1:100287102;VC=SNV;R5;GNO;FREQ=KOREAN:0.9724,0.02761|SGDP_PRJ:0.07237,0.9276|dbGaP_PopFreq:1,0;COMMON"
        },
        {
         "0": "NC_000001.11",
         "1": "10672",
         "2": "rs1639567400",
         "3": "G",
         "4": "C",
         "5": ".",
         "6": ".",
         "7": "RS=1639567400;dbSNPBuildID=155;SSR=0;PSEUDOGENEINFO=DDX11L1:100287102;VC=SNV;R5;GNO;FREQ=TOPMED:1,3.778e-06|dbGaP_PopFreq:1,0"
        },
        {
         "0": "NC_000001.11",
         "1": "10674",
         "2": "rs1274023480",
         "3": "G",
         "4": "C",
         "5": ".",
         "6": ".",
         "7": "RS=1274023480;SSR=0;PSEUDOGENEINFO=DDX11L1:100287102;VC=SNV;R5;GNO;FREQ=dbGaP_PopFreq:1,0"
        },
        {
         "0": "NC_000001.11",
         "1": "10675",
         "2": "rs1382900338",
         "3": "C",
         "4": "G",
         "5": ".",
         "6": ".",
         "7": "RS=1382900338;dbSNPBuildID=151;SSR=0;PSEUDOGENEINFO=DDX11L1:100287102;VC=SNV;R5;GNO;FREQ=dbGaP_PopFreq:1,0"
        },
        {
         "0": "NC_000001.11",
         "1": "10676",
         "2": "rs1384121517",
         "3": "A",
         "4": "C,G",
         "5": ".",
         "6": ".",
         "7": "RS=1384121517;dbSNPBuildID=151;SSR=0;PSEUDOGENEINFO=DDX11L1:100287102;VC=SNV;R5;GNO;FREQ=dbGaP_PopFreq:1,0,0"
        },
        {
         "0": "NC_000001.11",
         "1": "10676",
         "2": "rs1639567474",
         "3": "AG",
         "4": "A",
         "5": ".",
         "6": ".",
         "7": "RS=1639567474;SSR=0;PSEUDOGENEINFO=DDX11L1:100287102;VC=INDEL;R5;GNO;FREQ=dbGaP_PopFreq:1,0"
        },
        {
         "0": "NC_000001.11",
         "1": "10678",
         "2": "rs1288054092",
         "3": "G",
         "4": "A,T",
         "5": ".",
         "6": ".",
         "7": "RS=1288054092;SSR=0;PSEUDOGENEINFO=DDX11L1:100287102;VC=SNV;R5;GNO;FREQ=dbGaP_PopFreq:0.9998,0.0001691,0"
        },
        {
         "0": "NC_000001.11",
         "1": "10681",
         "2": "rs1319305927",
         "3": "C",
         "4": "G",
         "5": ".",
         "6": ".",
         "7": "RS=1319305927;dbSNPBuildID=151;SSR=0;PSEUDOGENEINFO=DDX11L1:100287102;VC=SNV;R5"
        },
        {
         "0": "NC_000001.11",
         "1": "10682",
         "2": "rs1451362710",
         "3": "A",
         "4": "G",
         "5": ".",
         "6": ".",
         "7": "RS=1451362710;dbSNPBuildID=155;SSR=0;PSEUDOGENEINFO=DDX11L1:100287102;VC=SNV;R5;GNO;FREQ=TOMMO:0.9997,0.0002997|dbGaP_PopFreq:0.9997,0.0003372"
        },
        {
         "0": "NC_000001.11",
         "1": "10683",
         "2": "rs1570392648",
         "3": "G",
         "4": "C",
         "5": ".",
         "6": ".",
         "7": "RS=1570392648;dbSNPBuildID=154;SSR=0;PSEUDOGENEINFO=DDX11L1:100287102;VC=SNV;R5;GNO;FREQ=KOREAN:0.9614,0.03865|SGDP_PRJ:0.08,0.92|dbGaP_PopFreq:1,0;COMMON"
        },
        {
         "0": "NC_000001.11",
         "1": "10684",
         "2": "rs1194425761",
         "3": "A",
         "4": "G",
         "5": ".",
         "6": ".",
         "7": "RS=1194425761;dbSNPBuildID=156;SSR=0;PSEUDOGENEINFO=DDX11L1:100287102;VC=SNV;R5;GNO;FREQ=dbGaP_PopFreq:0.9997,0.0002529"
        },
        {
         "0": "NC_000001.11",
         "1": "10685",
         "2": "rs1639567565",
         "3": "G",
         "4": "C",
         "5": ".",
         "6": ".",
         "7": "RS=1639567565;SSR=0;PSEUDOGENEINFO=DDX11L1:100287102;VC=SNV;R5;GNO;FREQ=dbGaP_PopFreq:1,0"
        },
        {
         "0": "NC_000001.11",
         "1": "10686",
         "2": "rs1244278434",
         "3": "A",
         "4": "G",
         "5": ".",
         "6": ".",
         "7": "RS=1244278434;SSR=0;PSEUDOGENEINFO=DDX11L1:100287102;VC=SNV;R5;GNO;FREQ=dbGaP_PopFreq:0.9855,0.0145;COMMON"
        },
        {
         "0": "NC_000001.11",
         "1": "10686",
         "2": "rs1639567668",
         "3": "A",
         "4": "ACGCGC",
         "5": ".",
         "6": ".",
         "7": "RS=1639567668;SSR=0;PSEUDOGENEINFO=DDX11L1:100287102;VC=INS;R5;GNO;FREQ=dbGaP_PopFreq:1,0"
        },
        {
         "0": "NC_000001.11",
         "1": "10686",
         "2": "rs1639567874",
         "3": "AGGCGCGCCGCGCC",
         "4": "A",
         "5": ".",
         "6": ".",
         "7": "RS=1639567874;SSR=0;PSEUDOGENEINFO=DDX11L1:100287102;VC=INDEL;R5;GNO;FREQ=dbGaP_PopFreq:1,0"
        },
        {
         "0": "NC_000001.11",
         "1": "10687",
         "2": "rs1448208177",
         "3": "G",
         "4": "C",
         "5": ".",
         "6": ".",
         "7": "RS=1448208177;SSR=0;PSEUDOGENEINFO=DDX11L1:100287102;VC=SNV;R5;GNO;FREQ=dbGaP_PopFreq:0.9954,0.004637"
        },
        {
         "0": "NC_000001.11",
         "1": "10687",
         "2": "rs1639567921",
         "3": "GGCGCGCC",
         "4": "G",
         "5": ".",
         "6": ".",
         "7": "RS=1639567921;dbSNPBuildID=155;SSR=0;PSEUDOGENEINFO=DDX11L1:100287102;VC=INDEL;R5;GNO;FREQ=TOPMED:1,3.778e-06|dbGaP_PopFreq:1,0"
        },
        {
         "0": "NC_000001.11",
         "1": "10688",
         "2": "rs1639567900",
         "3": "G",
         "4": "C",
         "5": ".",
         "6": ".",
         "7": "RS=1639567900;SSR=0;PSEUDOGENEINFO=DDX11L1:100287102;VC=SNV;R5;GNO;FREQ=dbGaP_PopFreq:1,0"
        },
        {
         "0": "NC_000001.11",
         "1": "10688",
         "2": "rs1639567942",
         "3": "GCGCGC",
         "4": "G,GCGCGCCGCGC",
         "5": ".",
         "6": ".",
         "7": "RS=1639567942;SSR=0;PSEUDOGENEINFO=DDX11L1:100287102;VC=INDEL;R5;GNO;FREQ=dbGaP_PopFreq:1,0,0"
        },
        {
         "0": "NC_000001.11",
         "1": "10690",
         "2": "rs1639567961",
         "3": "G",
         "4": "C",
         "5": ".",
         "6": ".",
         "7": "RS=1639567961;SSR=0;PSEUDOGENEINFO=DDX11L1:100287102;VC=SNV;R5;GNO;FREQ=dbGaP_PopFreq:0.9999,8.43e-05"
        },
        {
         "0": "NC_000001.11",
         "1": "10691",
         "2": "rs1570392658",
         "3": "C",
         "4": "G",
         "5": ".",
         "6": ".",
         "7": "RS=1570392658;dbSNPBuildID=154;SSR=0;PSEUDOGENEINFO=DDX11L1:100287102;VC=SNV;R5;GNO;FREQ=SGDP_PRJ:0.5,0.5|dbGaP_PopFreq:1,0"
        },
        {
         "0": "NC_000001.11",
         "1": "10692",
         "2": "rs1187339664",
         "3": "G",
         "4": "A,C",
         "5": ".",
         "6": ".",
         "7": "RS=1187339664;SSR=0;PSEUDOGENEINFO=DDX11L1:100287102;VC=SNV;R5;GNO;FREQ=dbGaP_PopFreq:1,0,0"
        },
        {
         "0": "NC_000001.11",
         "1": "10693",
         "2": "rs867059168",
         "3": "C",
         "4": "G",
         "5": ".",
         "6": ".",
         "7": "RS=867059168;dbSNPBuildID=147;SSR=0;PSEUDOGENEINFO=DDX11L1:100287102;VC=SNV;R5;GNO;FREQ=KOREAN:0.9053,0.09474|Qatari:0.9673,0.03271|SGDP_PRJ:0.0679,0.9321|dbGaP_PopFreq:1,0;COMMON"
        },
        {
         "0": "NC_000001.11",
         "1": "10694",
         "2": "rs1570392671",
         "3": "C",
         "4": "A,G",
         "5": ".",
         "6": ".",
         "7": "RS=1570392671;dbSNPBuildID=154;SSR=0;PSEUDOGENEINFO=DDX11L1:100287102;VC=SNV;R5;GNO;FREQ=KOREAN:0.907,.,0.09302|SGDP_PRJ:0.1667,.,0.8333|dbGaP_PopFreq:1,0,."
        },
        {
         "0": "NC_000001.11",
         "1": "10694",
         "2": "rs1639568106",
         "3": "CGCGCCG",
         "4": "C",
         "5": ".",
         "6": ".",
         "7": "RS=1639568106;dbSNPBuildID=155;SSR=0;PSEUDOGENEINFO=DDX11L1:100287102;VC=INDEL;R5;GNO;FREQ=TOPMED:1,3.778e-06|dbGaP_PopFreq:1,0"
        },
        {
         "0": "NC_000001.11",
         "1": "10695",
         "2": "rs1330855897",
         "3": "G",
         "4": "A,C",
         "5": ".",
         "6": ".",
         "7": "RS=1330855897;dbSNPBuildID=151;SSR=0;PSEUDOGENEINFO=DDX11L1:100287102;VC=SNV;R5;GNO;FREQ=dbGaP_PopFreq:1,0,0"
        },
        {
         "0": "NC_000001.11",
         "1": "10695",
         "2": "rs1639568136",
         "3": "G",
         "4": "GC",
         "5": ".",
         "6": ".",
         "7": "RS=1639568136;SSR=0;PSEUDOGENEINFO=DDX11L1:100287102;VC=INDEL;R5;GNO;FREQ=dbGaP_PopFreq:1,0"
        },
        {
         "0": "NC_000001.11",
         "1": "10696",
         "2": "rs1222121318",
         "3": "C",
         "4": "G",
         "5": ".",
         "6": ".",
         "7": "RS=1222121318;dbSNPBuildID=151;SSR=0;PSEUDOGENEINFO=DDX11L1:100287102;VC=SNV;R5;GNO;FREQ=dbGaP_PopFreq:1,0"
        },
        {
         "0": "NC_000001.11",
         "1": "10697",
         "2": "rs1639568154",
         "3": "G",
         "4": "A,C",
         "5": ".",
         "6": ".",
         "7": "RS=1639568154;SSR=0;PSEUDOGENEINFO=DDX11L1:100287102;VC=SNV;R5;GNO;FREQ=dbGaP_PopFreq:1,0,0"
        },
        {
         "0": "NC_000001.11",
         "1": "10698",
         "2": "rs1161245656",
         "3": "C",
         "4": "G",
         "5": ".",
         "6": ".",
         "7": "RS=1161245656;SSR=0;PSEUDOGENEINFO=DDX11L1:100287102;VC=SNV;R5;GNO;FREQ=dbGaP_PopFreq:1,0"
        },
        {
         "0": "NC_000001.11",
         "1": "10699",
         "2": "rs1570392685",
         "3": "C",
         "4": "T",
         "5": ".",
         "6": ".",
         "7": "RS=1570392685;dbSNPBuildID=154;SSR=0;PSEUDOGENEINFO=DDX11L1:100287102;VC=SNV;R5;GNO;FREQ=KOREAN:0.9744,0.02564"
        },
        {
         "0": "NC_000001.11",
         "1": "10699",
         "2": "rs1639568230",
         "3": "CGGCGCA",
         "4": "C,CGGCGCAGGCGCA",
         "5": ".",
         "6": ".",
         "7": "RS=1639568230;SSR=0;PSEUDOGENEINFO=DDX11L1:100287102;VC=INDEL;R5;GNO;FREQ=dbGaP_PopFreq:1,0,0"
        },
        {
         "0": "NC_000001.11",
         "1": "10700",
         "2": "rs1389647536",
         "3": "G",
         "4": "C,T",
         "5": ".",
         "6": ".",
         "7": "RS=1389647536;dbSNPBuildID=154;SSR=0;PSEUDOGENEINFO=DDX11L1:100287102;VC=SNV;R5;GNO;FREQ=KOREAN:0.8684,0.1316,.|SGDP_PRJ:0.09877,0.9012,.|dbGaP_PopFreq:1,0,0;COMMON"
        },
        {
         "0": "NC_000001.11",
         "1": "10703",
         "2": "rs1639568249",
         "3": "G",
         "4": "A",
         "5": ".",
         "6": ".",
         "7": "RS=1639568249;SSR=0;PSEUDOGENEINFO=DDX11L1:100287102;VC=SNV;R5;GNO;FREQ=dbGaP_PopFreq:1,0"
        },
        {
         "0": "NC_000001.11",
         "1": "10704",
         "2": "rs1570392692",
         "3": "C",
         "4": "G",
         "5": ".",
         "6": ".",
         "7": "RS=1570392692;dbSNPBuildID=154;SSR=0;PSEUDOGENEINFO=DDX11L1:100287102;VC=SNV;R5;GNO;FREQ=SGDP_PRJ:0,1"
        },
        {
         "0": "NC_000001.11",
         "1": "10705",
         "2": "rs1401057884",
         "3": "A",
         "4": "C,G",
         "5": ".",
         "6": ".",
         "7": "RS=1401057884;SSR=0;PSEUDOGENEINFO=DDX11L1:100287102;VC=SNV;R5;GNO;FREQ=dbGaP_PopFreq:1,0,0"
        },
        {
         "0": "NC_000001.11",
         "1": "10707",
         "2": "rs1343296943",
         "3": "G",
         "4": "A",
         "5": ".",
         "6": ".",
         "7": "RS=1343296943;dbSNPBuildID=154;SSR=0;PSEUDOGENEINFO=DDX11L1:100287102;VC=SNV;R5;GNO;FREQ=KOREAN:0.9833,0.01667|dbGaP_PopFreq:0.9985,0.001517"
        },
        {
         "0": "NC_000001.11",
         "1": "10711",
         "2": "rs1434325972",
         "3": "A",
         "4": "G",
         "5": ".",
         "6": ".",
         "7": "RS=1434325972;SSR=0;PSEUDOGENEINFO=DDX11L1:100287102;VC=SNV;R5;GNO;FREQ=dbGaP_PopFreq:0.9997,0.0003372"
        },
        {
         "0": "NC_000001.11",
         "1": "10712",
         "2": "rs1570392700",
         "3": "G",
         "4": "C",
         "5": ".",
         "6": ".",
         "7": "RS=1570392700;dbSNPBuildID=154;SSR=0;PSEUDOGENEINFO=DDX11L1:100287102;VC=SNV;R5;GNO;FREQ=KOREAN:0.9278,0.07216|SGDP_PRJ:0.08929,0.9107|dbGaP_PopFreq:1,0;COMMON"
        },
        {
         "0": "NC_000001.11",
         "1": "10713",
         "2": "rs1296908542",
         "3": "A",
         "4": "G",
         "5": ".",
         "6": ".",
         "7": "RS=1296908542;SSR=0;PSEUDOGENEINFO=DDX11L1:100287102;VC=SNV;R5;GNO;FREQ=dbGaP_PopFreq:0.9997,0.0003372"
        },
        {
         "0": "NC_000001.11",
         "1": "10715",
         "2": "rs1383589256",
         "3": "A",
         "4": "G",
         "5": ".",
         "6": ".",
         "7": "RS=1383589256;SSR=0;PSEUDOGENEINFO=DDX11L1:100287102;VC=SNV;R5;GNO;FREQ=dbGaP_PopFreq:0.992,0.008009"
        },
        {
         "0": "NC_000001.11",
         "1": "10715",
         "2": "rs2100301036",
         "3": "A",
         "4": "AC",
         "5": ".",
         "6": ".",
         "7": "RS=2100301036;dbSNPBuildID=156;SSR=0;PSEUDOGENEINFO=DDX11L1:100287102;VC=INS;R5;GNO;FREQ=TOMMO:1,3.6e-05"
        },
        {
         "0": "NC_000001.11",
         "1": "10715",
         "2": "rs2100301040",
         "3": "AGG",
         "4": "A",
         "5": ".",
         "6": ".",
         "7": "RS=2100301040;dbSNPBuildID=156;SSR=0;PSEUDOGENEINFO=DDX11L1:100287102;VC=DEL;R5;GNO;FREQ=TOMMO:0.9999,7.199e-05"
        },
        {
         "0": "NC_000001.11",
         "1": "10716",
         "2": "rs1285610967",
         "3": "G",
         "4": "C",
         "5": ".",
         "6": ".",
         "7": "RS=1285610967;dbSNPBuildID=151;SSR=0;PSEUDOGENEINFO=DDX11L1:100287102;VC=SNV;R5;GNO;FREQ=GnomAD:0.9989,0.001125|KOREAN:0.9362,0.06383|TOMMO:0.9967,0.003345|dbGaP_PopFreq:0.973,0.02698"
        },
        {
         "0": "NC_000001.11",
         "1": "10716",
         "2": "rs2100301041",
         "3": "G",
         "4": "GCGCGCCGCGCCGGCGCAGGCGCAGAGAC",
         "5": ".",
         "6": ".",
         "7": "RS=2100301041;dbSNPBuildID=156;SSR=0;PSEUDOGENEINFO=DDX11L1:100287102;VC=INS;R5;GNO;FREQ=TOMMO:1,3.676e-05"
        },
        {
         "0": "NC_000001.11",
         "1": "10717",
         "2": "rs1639568449",
         "3": "G",
         "4": "C",
         "5": ".",
         "6": ".",
         "7": "RS=1639568449;SSR=0;PSEUDOGENEINFO=DDX11L1:100287102;VC=SNV;R5;GNO;FREQ=dbGaP_PopFreq:1,0"
        },
        {
         "0": "NC_000001.11",
         "1": "10717",
         "2": "rs1639568468",
         "3": "GCGCGC",
         "4": "G",
         "5": ".",
         "6": ".",
         "7": "RS=1639568468;SSR=0;PSEUDOGENEINFO=DDX11L1:100287102;VC=INDEL;R5;GNO;FREQ=dbGaP_PopFreq:1,0"
        },
        {
         "0": "NC_000001.11",
         "1": "10718",
         "2": "rs2100301051",
         "3": "CGCGCCGCGCCGGCGCAGGCGCAGAGAG",
         "4": "C",
         "5": ".",
         "6": ".",
         "7": "RS=2100301051;dbSNPBuildID=156;SSR=0;PSEUDOGENEINFO=DDX11L1:100287102;VC=INDEL;R5;GNO;FREQ=TOMMO:0.9999,7.182e-05"
        },
        {
         "0": "NC_000001.11",
         "1": "10719",
         "2": "rs1324850045",
         "3": "G",
         "4": "C",
         "5": ".",
         "6": ".",
         "7": "RS=1324850045;dbSNPBuildID=151;SSR=0;PSEUDOGENEINFO=DDX11L1:100287102;VC=SNV;R5;GNO;FREQ=GnomAD:0.9958,0.004199|KOREAN:0.9681,0.03191|TOMMO:0.9999,0.0001437|dbGaP_PopFreq:0.989,0.01096"
        },
        {
         "0": "NC_000001.11",
         "1": "10719",
         "2": "rs1639568534",
         "3": "GC",
         "4": "G",
         "5": ".",
         "6": ".",
         "7": "RS=1639568534;SSR=0;PSEUDOGENEINFO=DDX11L1:100287102;VC=DEL;R5;GNO;FREQ=dbGaP_PopFreq:1,0"
        },
        {
         "0": "NC_000001.11",
         "1": "10719",
         "2": "rs1639568551",
         "3": "G",
         "4": "GCGCCGCGCCGGCGCAGGCGCAGAGAGGCC",
         "5": ".",
         "6": ".",
         "7": "RS=1639568551;dbSNPBuildID=155;SSR=0;PSEUDOGENEINFO=DDX11L1:100287102;VC=INDEL;R5;GNO;FREQ=GnomAD:0.9999,7.267e-05"
        },
        {
         "0": "NC_000001.11",
         "1": "10720",
         "2": "rs1639568510",
         "3": "C",
         "4": "G",
         "5": ".",
         "6": ".",
         "7": "RS=1639568510;SSR=0;PSEUDOGENEINFO=DDX11L1:100287102;VC=SNV;R5;GNO;FREQ=dbGaP_PopFreq:1,0"
        },
        {
         "0": "NC_000001.11",
         "1": "10721",
         "2": "rs1355929350",
         "3": "G",
         "4": "A,C",
         "5": ".",
         "6": ".",
         "7": "RS=1355929350;SSR=0;PSEUDOGENEINFO=DDX11L1:100287102;VC=SNV;R5;GNO;FREQ=dbGaP_PopFreq:1,0,0"
        },
        {
         "0": "NC_000001.11",
         "1": "10722",
         "2": "rs1286818138",
         "3": "C",
         "4": "G",
         "5": ".",
         "6": ".",
         "7": "RS=1286818138;dbSNPBuildID=154;SSR=0;PSEUDOGENEINFO=DDX11L1:100287102;VC=SNV;R5;GNO;FREQ=KOREAN:0.913,0.08696|SGDP_PRJ:0.1186,0.8814|dbGaP_PopFreq:1,0"
        },
        {
         "0": "NC_000001.11",
         "1": "10723",
         "2": "rs1570392711",
         "3": "C",
         "4": "A,G,T",
         "5": ".",
         "6": ".",
         "7": "RS=1570392711;dbSNPBuildID=154;SSR=0;PSEUDOGENEINFO=DDX11L1:100287102;VC=SNV;R5;GNO;FREQ=KOREAN:0.9261,.,0.07386,.|SGDP_PRJ:0.2188,.,0.75,0.03125|TOPMED:1,3.778e-06,.,.|dbGaP_PopFreq:1,0,.,."
        },
        {
         "0": "NC_000001.11",
         "1": "10724",
         "2": "rs1570392715",
         "3": "G",
         "4": "A,C",
         "5": ".",
         "6": ".",
         "7": "RS=1570392715;dbSNPBuildID=154;SSR=0;PSEUDOGENEINFO=DDX11L1:100287102;VC=SNV;R5;GNO;FREQ=SGDP_PRJ:0,.,1|dbGaP_PopFreq:1,0,0"
        },
        {
         "0": "NC_000001.11",
         "1": "10724",
         "2": "rs1639568953",
         "3": "G",
         "4": "GC",
         "5": ".",
         "6": ".",
         "7": "RS=1639568953;SSR=0;PSEUDOGENEINFO=DDX11L1:100287102;VC=INDEL;R5;GNO;FREQ=dbGaP_PopFreq:1,0"
        },
        {
         "0": "NC_000001.11",
         "1": "10725",
         "2": "rs1570392718",
         "3": "C",
         "4": "G",
         "5": ".",
         "6": ".",
         "7": "RS=1570392718;dbSNPBuildID=154;SSR=0;PSEUDOGENEINFO=DDX11L1:100287102;VC=SNV;R5;GNO;FREQ=SGDP_PRJ:0.1667,0.8333|dbGaP_PopFreq:1,0"
        },
        {
         "0": "NC_000001.11",
         "1": "10727",
         "2": "rs1463894888",
         "3": "C",
         "4": "G",
         "5": ".",
         "6": ".",
         "7": "RS=1463894888;SSR=0;PSEUDOGENEINFO=DDX11L1:100287102;VC=SNV;R5;GNO;FREQ=dbGaP_PopFreq:1,0"
        },
        {
         "0": "NC_000001.11",
         "1": "10727",
         "2": "rs1639568995",
         "3": "CCGGCGCAGGCGCAGAGAGG",
         "4": "C",
         "5": ".",
         "6": ".",
         "7": "RS=1639568995;SSR=0;PSEUDOGENEINFO=DDX11L1:100287102;VC=INDEL;R5;GNO;FREQ=dbGaP_PopFreq:1,0"
        },
        {
         "0": "NC_000001.11",
         "1": "10728",
         "2": "rs1639568978",
         "3": "C",
         "4": "A,T",
         "5": ".",
         "6": ".",
         "7": "RS=1639568978;SSR=0;PSEUDOGENEINFO=DDX11L1:100287102;VC=SNV;R5;GNO;FREQ=dbGaP_PopFreq:1,0,0"
        },
        {
         "0": "NC_000001.11",
         "1": "10728",
         "2": "rs1639569034",
         "3": "CGGCGCA",
         "4": "C",
         "5": ".",
         "6": ".",
         "7": "RS=1639569034;SSR=0;PSEUDOGENEINFO=DDX11L1:100287102;VC=INDEL;R5;GNO;FREQ=dbGaP_PopFreq:0.9998,0.0001686"
        },
        {
         "0": "NC_000001.11",
         "1": "10729",
         "2": "rs1570392727",
         "3": "G",
         "4": "C",
         "5": ".",
         "6": ".",
         "7": "RS=1570392727;dbSNPBuildID=154;SSR=0;PSEUDOGENEINFO=DDX11L1:100287102;VC=SNV;R5;GNO;FREQ=KOREAN:0.9205,0.07955|SGDP_PRJ:0.09649,0.9035|dbGaP_PopFreq:1,0"
        },
        {
         "0": "NC_000001.11",
         "1": "10731",
         "2": "rs1639569050",
         "3": "CGCAGGCGCAGAG",
         "4": "C",
         "5": ".",
         "6": ".",
         "7": "RS=1639569050;SSR=0;PSEUDOGENEINFO=DDX11L1:100287102;VC=DEL;R5;GNO;FREQ=dbGaP_PopFreq:1,0"
        },
        {
         "0": "NC_000001.11",
         "1": "10734",
         "2": "rs1208624040",
         "3": "A",
         "4": "C,G",
         "5": ".",
         "6": ".",
         "7": "RS=1208624040;dbSNPBuildID=154;SSR=0;PSEUDOGENEINFO=DDX11L1:100287102;VC=SNV;R5;GNO;FREQ=SGDP_PRJ:0.5,0.5,.|dbGaP_PopFreq:1,0,0"
        },
        {
         "0": "NC_000001.11",
         "1": "10735",
         "2": "rs1639569087",
         "3": "G",
         "4": "A",
         "5": ".",
         "6": ".",
         "7": "RS=1639569087;SSR=0;PSEUDOGENEINFO=DDX11L1:100287102;VC=SNV;R5;GNO;FREQ=dbGaP_PopFreq:1,0"
        }
       ],
       "schema": [
        {
         "key": "0",
         "name": "CHROM",
         "type": "string"
        },
        {
         "key": "1",
         "name": "POS",
         "type": "string"
        },
        {
         "key": "2",
         "name": "ID",
         "type": "string"
        },
        {
         "key": "3",
         "name": "REF",
         "type": "string"
        },
        {
         "key": "4",
         "name": "ALT",
         "type": "string"
        },
        {
         "key": "5",
         "name": "QUAL",
         "type": "string"
        },
        {
         "key": "6",
         "name": "FILTER",
         "type": "string"
        },
        {
         "key": "7",
         "name": "INFO",
         "type": "string"
        }
       ],
       "truncated": false
      }
     },
     "type": "Synapse.DataFrame"
    }
   },
   "version": "0.1"
  }
 },
 "nbformat": 4,
 "nbformat_minor": 4
}
